{
  "nbformat": 4,
  "nbformat_minor": 0,
  "metadata": {
    "colab": {
      "provenance": []
    },
    "kernelspec": {
      "name": "python3",
      "display_name": "Python 3"
    },
    "language_info": {
      "name": "python"
    }
  },
  "cells": [
    {
      "cell_type": "code",
      "execution_count": 1,
      "metadata": {
        "id": "Rr8nGXQgGhiV"
      },
      "outputs": [],
      "source": [
        "import os\n",
        "import re\n",
        "import gc\n",
        "import json\n",
        "import pickle\n",
        "import numpy as np\n",
        "import pandas as pd\n",
        "from tqdm import tqdm\n",
        "from scipy.sparse import coo_matrix\n",
        "from sklearn.decomposition import TruncatedSVD\n",
        "from scipy.sparse.linalg import svds\n",
        "\n",
        "np.random.seed(42)"
      ]
    },
    {
      "cell_type": "code",
      "source": [
        "# @title Download dataset snippet at https://www.kaggle.com/datasets/himanshuwagh/spotify-million\n",
        "import kagglehub\n",
        "\n",
        "path = \"/root/.cache/kagglehub/datasets/himanshuwagh/spotify-million/versions/1\"\n",
        "if not os.path.exists(path):\n",
        "  # Download latest version\n",
        "  path = kagglehub.dataset_download(\"himanshuwagh/spotify-million\")\n",
        "\n",
        "# contiene le slices del dataset: 1000 slice das 1000 playlist ciascuna\n",
        "data: str = os.path.join(path, \"data\")"
      ],
      "metadata": {
        "id": "7qxXTE6xGska"
      },
      "execution_count": 2,
      "outputs": []
    },
    {
      "cell_type": "code",
      "source": [
        "# @title New: shuffle slices in a list and pick from them\n",
        "shuffled_slices = np.array(os.listdir(data))\n",
        "np.random.shuffle(shuffled_slices)"
      ],
      "metadata": {
        "id": "KZl7WOvAOQaj"
      },
      "execution_count": 3,
      "outputs": []
    },
    {
      "cell_type": "code",
      "source": [
        "shuffled_slices[:3]"
      ],
      "metadata": {
        "colab": {
          "base_uri": "https://localhost:8080/"
        },
        "id": "cYvh7DdkeDjg",
        "outputId": "9359e50c-040c-470e-9bd5-a891c1d5f81b"
      },
      "execution_count": 4,
      "outputs": [
        {
          "output_type": "execute_result",
          "data": {
            "text/plain": [
              "array(['mpd.slice.528000-528999.json', 'mpd.slice.920000-920999.json',\n",
              "       'mpd.slice.730000-730999.json'], dtype='<U28')"
            ]
          },
          "metadata": {},
          "execution_count": 4
        }
      ]
    },
    {
      "cell_type": "code",
      "source": [
        "# @title Metriche\n",
        "# def precision_at_k(predicted_matrix, ground_truth_matrix, k):\n",
        "#     precision_scores = []\n",
        "\n",
        "#     # Per ogni playlist (riga della matrice)\n",
        "#     for pred_row, true_row in zip(predicted_matrix, ground_truth_matrix):\n",
        "#         # Ottieni gli indici delle prime k predizioni ordinate per punteggio\n",
        "#         top_k_indices = np.argsort(pred_row)[::-1][:k]\n",
        "\n",
        "#         # Trova se queste predizioni sono nella ground truth\n",
        "#         relevant_items = true_row[top_k_indices]  # Valori nella ground truth per i top-k\n",
        "\n",
        "#         # Precision è il numero di rilevanti tra i top-k diviso k\n",
        "#         precision_scores.append(np.sum(relevant_items) / k)\n",
        "\n",
        "#     return np.mean(precision_scores)\n",
        "\n",
        "\n",
        "def precision_at_k(predicted_matrix, ground_truth_matrix, k):\n",
        "  # Usa argsort per ottenere i top k indici in modo efficiente\n",
        "  top_k_indices = np.argsort(predicted_matrix, axis=1)[:, ::-1][:, :k]\n",
        "\n",
        "  # Estrai gli elementi rilevanti nelle prime k raccomandazioni\n",
        "  relevant_items = ground_truth_matrix[np.arange(ground_truth_matrix.shape[0])[:, None], top_k_indices]\n",
        "\n",
        "  # Calcola la precisione come il numero di elementi rilevanti diviso k\n",
        "  precision_scores = np.sum(relevant_items, axis=1) / k\n",
        "\n",
        "  # Restituisci la precisione media\n",
        "  return np.mean(precision_scores)\n",
        "\n",
        "import numpy as np\n",
        "\n",
        "\n",
        "\n",
        "\n",
        "\n",
        "# def recall_at_k(predicted_matrix, ground_truth_matrix, k):\n",
        "#     recall_scores = []\n",
        "\n",
        "#     # Per ogni playlist (riga della matrice)\n",
        "#     for pred_row, true_row in zip(predicted_matrix, ground_truth_matrix):\n",
        "#         # Ottieni gli indici delle prime k predizioni ordinate per punteggio\n",
        "#         top_k_indices = np.argsort(pred_row)[::-1][:k]\n",
        "\n",
        "#         # Trova se queste predizioni sono nella ground truth\n",
        "#         relevant_items = true_row[top_k_indices]  # Valori nella ground truth per i top-k\n",
        "\n",
        "#         # Recall è il numero di rilevanti trovati diviso i rilevanti totali\n",
        "#         total_relevant = np.sum(true_row)  # Rilevanti totali nella ground truth\n",
        "#         recall_scores.append(np.sum(relevant_items) / total_relevant if total_relevant > 0 else 0)\n",
        "\n",
        "#     return np.mean(recall_scores)\n",
        "\n",
        "\n",
        "# def recall_at_k(predicted_matrix, ground_truth_matrix, k):\n",
        "#   # Usa argsort per ottenere i top k indici\n",
        "#   top_k_indices = np.argsort(predicted_matrix, axis=1)[:, ::-1][:, :k]\n",
        "\n",
        "#   # Per ogni playlist, calcola quanti elementi rilevanti sono nelle prime k predizioni\n",
        "#   relevant_items = ground_truth_matrix[np.arange(ground_truth_matrix.shape[0])[:, None], top_k_indices]\n",
        "\n",
        "#   # Calcola il recall per ogni playlist\n",
        "#   total_relevant = np.sum(ground_truth_matrix, axis=1)  # Numero totale di rilevanti per playlist\n",
        "\n",
        "#   # Evita divisione per zero\n",
        "#   recall_scores = np.sum(relevant_items, axis=1) / total_relevant\n",
        "#   recall_scores[total_relevant == 0] = 0  # Imposta il recall a 0 per le playlist senza tracce rilevanti\n",
        "\n",
        "#   # Restituisci la media del recall\n",
        "#   return np.mean(recall_scores)\n",
        "\n",
        "def recall_at_k(predicted_matrix, ground_truth_matrix, k):\n",
        "    # Get the indices of the top k predictions for each row\n",
        "    top_k_indices = np.argsort(predicted_matrix, axis=1)[:, -k:][:, ::-1]\n",
        "\n",
        "    # Gather the relevant items in ground truth corresponding to top k predictions\n",
        "    relevant_items = ground_truth_matrix[np.arange(ground_truth_matrix.shape[0])[:, None], top_k_indices]\n",
        "\n",
        "    # Calculate the recall for each playlist\n",
        "    total_relevant = np.sum(ground_truth_matrix, axis=1)  # Total relevant items per playlist\n",
        "\n",
        "    # Avoid division by zero: mask rows with no relevant items\n",
        "    recall_scores = np.sum(relevant_items, axis=1) / np.maximum(total_relevant, 1)\n",
        "\n",
        "    # Return the mean recall, ignoring rows with no relevant items\n",
        "    return np.mean(recall_scores[total_relevant > 0])\n",
        "\n",
        "\n",
        "# def mean_reciprocal_rank(predicted_matrix, ground_truth_matrix):\n",
        "#     reciprocal_ranks = []\n",
        "\n",
        "#     # Per ogni playlist (riga della matrice)\n",
        "#     for pred_row, true_row in zip(predicted_matrix, ground_truth_matrix):\n",
        "#         # Ottieni gli indici ordinati in base al punteggio predetto\n",
        "#         sorted_indices = np.argsort(pred_row)[::-1]\n",
        "\n",
        "#         # Trova i rank della prima traccia rilevante\n",
        "#         for rank, index in enumerate(sorted_indices, start=1):\n",
        "#             if true_row[index] == 1:  # Se l'indice predetto è nella ground truth\n",
        "#                 reciprocal_ranks.append(1 / rank)\n",
        "#                 break\n",
        "#         else:\n",
        "#             reciprocal_ranks.append(0)  # Nessun elemento rilevante trovato\n",
        "\n",
        "#     return np.mean(reciprocal_ranks)\n",
        "def mean_reciprocal_rank(predicted_matrix, ground_truth_matrix):\n",
        "    reciprocal_ranks = []\n",
        "\n",
        "    # Iterate over each playlist (row in the matrix)\n",
        "    for pred_row, true_row in zip(predicted_matrix, ground_truth_matrix):\n",
        "        # Get the indices sorted by predicted scores in descending order\n",
        "        sorted_indices = np.argsort(pred_row)[::-1]\n",
        "\n",
        "        # Find the rank of the first relevant item\n",
        "        found_relevant = False\n",
        "        for rank, index in enumerate(sorted_indices, start=1):\n",
        "            if true_row[index] == 1:  # If the item is relevant in the ground truth\n",
        "                reciprocal_ranks.append(1 / rank)\n",
        "                found_relevant = True\n",
        "                break\n",
        "\n",
        "        # If no relevant items were found, append 0\n",
        "        if not found_relevant:\n",
        "            reciprocal_ranks.append(0)\n",
        "\n",
        "    # Return the mean of the reciprocal ranks\n",
        "    return np.mean(reciprocal_ranks)\n"
      ],
      "metadata": {
        "id": "X_DF2313G_f3"
      },
      "execution_count": 5,
      "outputs": []
    },
    {
      "cell_type": "markdown",
      "source": [
        "# dataset"
      ],
      "metadata": {
        "id": "5BqlPLiGHGQ9"
      }
    },
    {
      "cell_type": "code",
      "source": [
        "million_df = pd.DataFrame()\n",
        "num_training_files = 500\n",
        "\n",
        "# Create an empty list to hold all rows as dictionaries\n",
        "data_list = []\n",
        "\n",
        "#for i, filename in tqdm(enumerate(sorted(os.listdir(data), key=extract_starting_number)[:num_training_files]), desc=\"Processing Slices\"):\n",
        "for i, filename in tqdm(enumerate(shuffled_slices[:num_training_files]), desc=\"Processing Slices\"):\n",
        "    if filename.startswith(\"mpd.slice.\") and filename.endswith(\".json\"):\n",
        "        filepath = os.path.join(data, filename)\n",
        "\n",
        "        with open(filepath, \"r\", encoding=\"utf-8\") as jsonfile:\n",
        "            cur_slice = json.load(jsonfile)\n",
        "\n",
        "        # for playlist in tqdm(cur_slice[\"playlists\"], desc=\"Processing playlist...\"):\n",
        "        for playlist in cur_slice[\"playlists\"]:\n",
        "            playlist_id = playlist[\"pid\"]\n",
        "            # num_tracks = playlist[\"num_tracks\"]\n",
        "\n",
        "            # Collect data for the playlist\n",
        "            for track in playlist[\"tracks\"]:\n",
        "                data_list.append({\n",
        "                    \"playlist\": playlist_id,\n",
        "                    \"track\": track[\"track_uri\"][14:]  # remove 'spotify:track:'\n",
        "                })\n",
        "    # update every 30 files for speedup\n",
        "    if i%30 == 0:\n",
        "        new_data = pd.DataFrame(data_list)\n",
        "        data_list.clear()\n",
        "        million_df = pd.concat([million_df, new_data], ignore_index=True)\n",
        "\n",
        "# Convert the list of dictionaries into a DataFrame in one go\n",
        "# dumb_dataset = pd.DataFrame(data_list)\n",
        "new_data = pd.DataFrame(data_list)\n",
        "data_list = []\n",
        "million_df = pd.concat([million_df, new_data], ignore_index=True)\n",
        "\n",
        "million_df[\"playlist\"] = million_df[\"playlist\"].astype(\"int32\")"
      ],
      "metadata": {
        "colab": {
          "base_uri": "https://localhost:8080/"
        },
        "id": "ix4fSvZPHIjN",
        "outputId": "b48ff863-d524-4121-d405-d8a4798ad24a"
      },
      "execution_count": 6,
      "outputs": [
        {
          "output_type": "stream",
          "name": "stderr",
          "text": [
            "Processing Slices: 500it [04:27,  1.87it/s]\n"
          ]
        }
      ]
    },
    {
      "cell_type": "code",
      "execution_count": 7,
      "metadata": {
        "colab": {
          "base_uri": "https://localhost:8080/"
        },
        "id": "7QpCHcYCnVQ-",
        "outputId": "70204c29-cc50-4e50-9972-7184ca81428e"
      },
      "outputs": [
        {
          "output_type": "execute_result",
          "data": {
            "text/plain": [
              "(33170567, 2)"
            ]
          },
          "metadata": {},
          "execution_count": 7
        }
      ],
      "source": [
        "million_df.shape"
      ]
    },
    {
      "cell_type": "code",
      "execution_count": 8,
      "metadata": {
        "colab": {
          "base_uri": "https://localhost:8080/"
        },
        "id": "x8m7kd91dICA",
        "outputId": "301a621f-aebc-4fff-a26a-3b6f696b326d"
      },
      "outputs": [
        {
          "output_type": "stream",
          "name": "stdout",
          "text": [
            "<class 'pandas.core.frame.DataFrame'>\n",
            "RangeIndex: 33170567 entries, 0 to 33170566\n",
            "Data columns (total 2 columns):\n",
            " #   Column    Dtype \n",
            "---  ------    ----- \n",
            " 0   playlist  int32 \n",
            " 1   track     object\n",
            "dtypes: int32(1), object(1)\n",
            "memory usage: 379.6+ MB\n"
          ]
        }
      ],
      "source": [
        "million_df.info()"
      ]
    },
    {
      "cell_type": "code",
      "execution_count": 9,
      "metadata": {
        "colab": {
          "base_uri": "https://localhost:8080/",
          "height": 206
        },
        "id": "YHOwOJbOdI0j",
        "outputId": "2f52e3e1-9272-4a1d-a012-f6dfada8a587"
      },
      "outputs": [
        {
          "output_type": "execute_result",
          "data": {
            "text/plain": [
              "   playlist                   track\n",
              "0    528000  5mmgfPAMIFIhlP2VneJc0G\n",
              "1    528000  40riOy7x9W7GXjyGp4pjAv\n",
              "2    528000  4efoEY8iDBzUqitjmNDhpN\n",
              "3    528000  0NqQmmLEN9rlnkh2JW0UIs\n",
              "4    528000  1MQCTOWVfy4PcuBXkBsHVB"
            ],
            "text/html": [
              "\n",
              "  <div id=\"df-11b54088-0de6-47ea-85c0-fe6e5d294da7\" class=\"colab-df-container\">\n",
              "    <div>\n",
              "<style scoped>\n",
              "    .dataframe tbody tr th:only-of-type {\n",
              "        vertical-align: middle;\n",
              "    }\n",
              "\n",
              "    .dataframe tbody tr th {\n",
              "        vertical-align: top;\n",
              "    }\n",
              "\n",
              "    .dataframe thead th {\n",
              "        text-align: right;\n",
              "    }\n",
              "</style>\n",
              "<table border=\"1\" class=\"dataframe\">\n",
              "  <thead>\n",
              "    <tr style=\"text-align: right;\">\n",
              "      <th></th>\n",
              "      <th>playlist</th>\n",
              "      <th>track</th>\n",
              "    </tr>\n",
              "  </thead>\n",
              "  <tbody>\n",
              "    <tr>\n",
              "      <th>0</th>\n",
              "      <td>528000</td>\n",
              "      <td>5mmgfPAMIFIhlP2VneJc0G</td>\n",
              "    </tr>\n",
              "    <tr>\n",
              "      <th>1</th>\n",
              "      <td>528000</td>\n",
              "      <td>40riOy7x9W7GXjyGp4pjAv</td>\n",
              "    </tr>\n",
              "    <tr>\n",
              "      <th>2</th>\n",
              "      <td>528000</td>\n",
              "      <td>4efoEY8iDBzUqitjmNDhpN</td>\n",
              "    </tr>\n",
              "    <tr>\n",
              "      <th>3</th>\n",
              "      <td>528000</td>\n",
              "      <td>0NqQmmLEN9rlnkh2JW0UIs</td>\n",
              "    </tr>\n",
              "    <tr>\n",
              "      <th>4</th>\n",
              "      <td>528000</td>\n",
              "      <td>1MQCTOWVfy4PcuBXkBsHVB</td>\n",
              "    </tr>\n",
              "  </tbody>\n",
              "</table>\n",
              "</div>\n",
              "    <div class=\"colab-df-buttons\">\n",
              "\n",
              "  <div class=\"colab-df-container\">\n",
              "    <button class=\"colab-df-convert\" onclick=\"convertToInteractive('df-11b54088-0de6-47ea-85c0-fe6e5d294da7')\"\n",
              "            title=\"Convert this dataframe to an interactive table.\"\n",
              "            style=\"display:none;\">\n",
              "\n",
              "  <svg xmlns=\"http://www.w3.org/2000/svg\" height=\"24px\" viewBox=\"0 -960 960 960\">\n",
              "    <path d=\"M120-120v-720h720v720H120Zm60-500h600v-160H180v160Zm220 220h160v-160H400v160Zm0 220h160v-160H400v160ZM180-400h160v-160H180v160Zm440 0h160v-160H620v160ZM180-180h160v-160H180v160Zm440 0h160v-160H620v160Z\"/>\n",
              "  </svg>\n",
              "    </button>\n",
              "\n",
              "  <style>\n",
              "    .colab-df-container {\n",
              "      display:flex;\n",
              "      gap: 12px;\n",
              "    }\n",
              "\n",
              "    .colab-df-convert {\n",
              "      background-color: #E8F0FE;\n",
              "      border: none;\n",
              "      border-radius: 50%;\n",
              "      cursor: pointer;\n",
              "      display: none;\n",
              "      fill: #1967D2;\n",
              "      height: 32px;\n",
              "      padding: 0 0 0 0;\n",
              "      width: 32px;\n",
              "    }\n",
              "\n",
              "    .colab-df-convert:hover {\n",
              "      background-color: #E2EBFA;\n",
              "      box-shadow: 0px 1px 2px rgba(60, 64, 67, 0.3), 0px 1px 3px 1px rgba(60, 64, 67, 0.15);\n",
              "      fill: #174EA6;\n",
              "    }\n",
              "\n",
              "    .colab-df-buttons div {\n",
              "      margin-bottom: 4px;\n",
              "    }\n",
              "\n",
              "    [theme=dark] .colab-df-convert {\n",
              "      background-color: #3B4455;\n",
              "      fill: #D2E3FC;\n",
              "    }\n",
              "\n",
              "    [theme=dark] .colab-df-convert:hover {\n",
              "      background-color: #434B5C;\n",
              "      box-shadow: 0px 1px 3px 1px rgba(0, 0, 0, 0.15);\n",
              "      filter: drop-shadow(0px 1px 2px rgba(0, 0, 0, 0.3));\n",
              "      fill: #FFFFFF;\n",
              "    }\n",
              "  </style>\n",
              "\n",
              "    <script>\n",
              "      const buttonEl =\n",
              "        document.querySelector('#df-11b54088-0de6-47ea-85c0-fe6e5d294da7 button.colab-df-convert');\n",
              "      buttonEl.style.display =\n",
              "        google.colab.kernel.accessAllowed ? 'block' : 'none';\n",
              "\n",
              "      async function convertToInteractive(key) {\n",
              "        const element = document.querySelector('#df-11b54088-0de6-47ea-85c0-fe6e5d294da7');\n",
              "        const dataTable =\n",
              "          await google.colab.kernel.invokeFunction('convertToInteractive',\n",
              "                                                    [key], {});\n",
              "        if (!dataTable) return;\n",
              "\n",
              "        const docLinkHtml = 'Like what you see? Visit the ' +\n",
              "          '<a target=\"_blank\" href=https://colab.research.google.com/notebooks/data_table.ipynb>data table notebook</a>'\n",
              "          + ' to learn more about interactive tables.';\n",
              "        element.innerHTML = '';\n",
              "        dataTable['output_type'] = 'display_data';\n",
              "        await google.colab.output.renderOutput(dataTable, element);\n",
              "        const docLink = document.createElement('div');\n",
              "        docLink.innerHTML = docLinkHtml;\n",
              "        element.appendChild(docLink);\n",
              "      }\n",
              "    </script>\n",
              "  </div>\n",
              "\n",
              "\n",
              "<div id=\"df-e72a25d6-013a-44b7-a067-2e686e73252b\">\n",
              "  <button class=\"colab-df-quickchart\" onclick=\"quickchart('df-e72a25d6-013a-44b7-a067-2e686e73252b')\"\n",
              "            title=\"Suggest charts\"\n",
              "            style=\"display:none;\">\n",
              "\n",
              "<svg xmlns=\"http://www.w3.org/2000/svg\" height=\"24px\"viewBox=\"0 0 24 24\"\n",
              "     width=\"24px\">\n",
              "    <g>\n",
              "        <path d=\"M19 3H5c-1.1 0-2 .9-2 2v14c0 1.1.9 2 2 2h14c1.1 0 2-.9 2-2V5c0-1.1-.9-2-2-2zM9 17H7v-7h2v7zm4 0h-2V7h2v10zm4 0h-2v-4h2v4z\"/>\n",
              "    </g>\n",
              "</svg>\n",
              "  </button>\n",
              "\n",
              "<style>\n",
              "  .colab-df-quickchart {\n",
              "      --bg-color: #E8F0FE;\n",
              "      --fill-color: #1967D2;\n",
              "      --hover-bg-color: #E2EBFA;\n",
              "      --hover-fill-color: #174EA6;\n",
              "      --disabled-fill-color: #AAA;\n",
              "      --disabled-bg-color: #DDD;\n",
              "  }\n",
              "\n",
              "  [theme=dark] .colab-df-quickchart {\n",
              "      --bg-color: #3B4455;\n",
              "      --fill-color: #D2E3FC;\n",
              "      --hover-bg-color: #434B5C;\n",
              "      --hover-fill-color: #FFFFFF;\n",
              "      --disabled-bg-color: #3B4455;\n",
              "      --disabled-fill-color: #666;\n",
              "  }\n",
              "\n",
              "  .colab-df-quickchart {\n",
              "    background-color: var(--bg-color);\n",
              "    border: none;\n",
              "    border-radius: 50%;\n",
              "    cursor: pointer;\n",
              "    display: none;\n",
              "    fill: var(--fill-color);\n",
              "    height: 32px;\n",
              "    padding: 0;\n",
              "    width: 32px;\n",
              "  }\n",
              "\n",
              "  .colab-df-quickchart:hover {\n",
              "    background-color: var(--hover-bg-color);\n",
              "    box-shadow: 0 1px 2px rgba(60, 64, 67, 0.3), 0 1px 3px 1px rgba(60, 64, 67, 0.15);\n",
              "    fill: var(--button-hover-fill-color);\n",
              "  }\n",
              "\n",
              "  .colab-df-quickchart-complete:disabled,\n",
              "  .colab-df-quickchart-complete:disabled:hover {\n",
              "    background-color: var(--disabled-bg-color);\n",
              "    fill: var(--disabled-fill-color);\n",
              "    box-shadow: none;\n",
              "  }\n",
              "\n",
              "  .colab-df-spinner {\n",
              "    border: 2px solid var(--fill-color);\n",
              "    border-color: transparent;\n",
              "    border-bottom-color: var(--fill-color);\n",
              "    animation:\n",
              "      spin 1s steps(1) infinite;\n",
              "  }\n",
              "\n",
              "  @keyframes spin {\n",
              "    0% {\n",
              "      border-color: transparent;\n",
              "      border-bottom-color: var(--fill-color);\n",
              "      border-left-color: var(--fill-color);\n",
              "    }\n",
              "    20% {\n",
              "      border-color: transparent;\n",
              "      border-left-color: var(--fill-color);\n",
              "      border-top-color: var(--fill-color);\n",
              "    }\n",
              "    30% {\n",
              "      border-color: transparent;\n",
              "      border-left-color: var(--fill-color);\n",
              "      border-top-color: var(--fill-color);\n",
              "      border-right-color: var(--fill-color);\n",
              "    }\n",
              "    40% {\n",
              "      border-color: transparent;\n",
              "      border-right-color: var(--fill-color);\n",
              "      border-top-color: var(--fill-color);\n",
              "    }\n",
              "    60% {\n",
              "      border-color: transparent;\n",
              "      border-right-color: var(--fill-color);\n",
              "    }\n",
              "    80% {\n",
              "      border-color: transparent;\n",
              "      border-right-color: var(--fill-color);\n",
              "      border-bottom-color: var(--fill-color);\n",
              "    }\n",
              "    90% {\n",
              "      border-color: transparent;\n",
              "      border-bottom-color: var(--fill-color);\n",
              "    }\n",
              "  }\n",
              "</style>\n",
              "\n",
              "  <script>\n",
              "    async function quickchart(key) {\n",
              "      const quickchartButtonEl =\n",
              "        document.querySelector('#' + key + ' button');\n",
              "      quickchartButtonEl.disabled = true;  // To prevent multiple clicks.\n",
              "      quickchartButtonEl.classList.add('colab-df-spinner');\n",
              "      try {\n",
              "        const charts = await google.colab.kernel.invokeFunction(\n",
              "            'suggestCharts', [key], {});\n",
              "      } catch (error) {\n",
              "        console.error('Error during call to suggestCharts:', error);\n",
              "      }\n",
              "      quickchartButtonEl.classList.remove('colab-df-spinner');\n",
              "      quickchartButtonEl.classList.add('colab-df-quickchart-complete');\n",
              "    }\n",
              "    (() => {\n",
              "      let quickchartButtonEl =\n",
              "        document.querySelector('#df-e72a25d6-013a-44b7-a067-2e686e73252b button');\n",
              "      quickchartButtonEl.style.display =\n",
              "        google.colab.kernel.accessAllowed ? 'block' : 'none';\n",
              "    })();\n",
              "  </script>\n",
              "</div>\n",
              "\n",
              "    </div>\n",
              "  </div>\n"
            ],
            "application/vnd.google.colaboratory.intrinsic+json": {
              "type": "dataframe",
              "variable_name": "million_df"
            }
          },
          "metadata": {},
          "execution_count": 9
        }
      ],
      "source": [
        "million_df.head()"
      ]
    },
    {
      "cell_type": "code",
      "execution_count": 10,
      "metadata": {
        "id": "Y8SuQT-iS5yS"
      },
      "outputs": [],
      "source": [
        "# Count how many playlists each track appears in\n",
        "track_frequency = million_df.groupby(\"track\")[\"playlist\"].nunique()\n",
        "\n",
        "# Convert to a DataFrame for easier handling\n",
        "track_frequency_df = track_frequency.reset_index().rename(columns={\"playlist\": \"playlist_count\"})\n",
        "\n",
        "# Total number of playlists\n",
        "# total_playlists = million_df[\"playlist_id\"].nunique()\n",
        "total_playlists = 1000*num_training_files\n",
        "\n",
        "# threshold\n",
        "threshold = total_playlists * 0.00005\n",
        "\n",
        "# Filter tracks that appear in at least 25% of playlists\n",
        "popular_tracks = track_frequency_df[track_frequency_df[\"playlist_count\"] >= threshold]\n",
        "\n",
        "# Extract popular track IDs\n",
        "popular_track_ids = popular_tracks[\"track\"].tolist()\n",
        "\n",
        "# Filter the original dataset\n",
        "filtered_df = million_df[million_df[\"track\"].isin(popular_track_ids)]\n"
      ]
    },
    {
      "cell_type": "code",
      "execution_count": 11,
      "metadata": {
        "colab": {
          "base_uri": "https://localhost:8080/",
          "height": 147
        },
        "id": "7VYzCBoOmW6e",
        "outputId": "ddb9d8b6-1598-4472-8164-2257e7c27fcd"
      },
      "outputs": [
        {
          "output_type": "execute_result",
          "data": {
            "text/plain": [
              "track             7zzyrYnZIfvYAGwl7lRb7X\n",
              "playlist_count                     22593\n",
              "dtype: object"
            ],
            "text/html": [
              "<div>\n",
              "<style scoped>\n",
              "    .dataframe tbody tr th:only-of-type {\n",
              "        vertical-align: middle;\n",
              "    }\n",
              "\n",
              "    .dataframe tbody tr th {\n",
              "        vertical-align: top;\n",
              "    }\n",
              "\n",
              "    .dataframe thead th {\n",
              "        text-align: right;\n",
              "    }\n",
              "</style>\n",
              "<table border=\"1\" class=\"dataframe\">\n",
              "  <thead>\n",
              "    <tr style=\"text-align: right;\">\n",
              "      <th></th>\n",
              "      <th>0</th>\n",
              "    </tr>\n",
              "  </thead>\n",
              "  <tbody>\n",
              "    <tr>\n",
              "      <th>track</th>\n",
              "      <td>7zzyrYnZIfvYAGwl7lRb7X</td>\n",
              "    </tr>\n",
              "    <tr>\n",
              "      <th>playlist_count</th>\n",
              "      <td>22593</td>\n",
              "    </tr>\n",
              "  </tbody>\n",
              "</table>\n",
              "</div><br><label><b>dtype:</b> object</label>"
            ]
          },
          "metadata": {},
          "execution_count": 11
        }
      ],
      "source": [
        "track_frequency_df.max()"
      ]
    },
    {
      "cell_type": "code",
      "execution_count": 12,
      "metadata": {
        "colab": {
          "base_uri": "https://localhost:8080/"
        },
        "id": "DxbI3CjQnNll",
        "outputId": "518b9663-6bc6-4fe1-fec4-8e60beff547b"
      },
      "outputs": [
        {
          "output_type": "execute_result",
          "data": {
            "text/plain": [
              "(1608601,)"
            ]
          },
          "metadata": {},
          "execution_count": 12
        }
      ],
      "source": [
        "track_frequency.shape"
      ]
    },
    {
      "cell_type": "code",
      "execution_count": 13,
      "metadata": {
        "colab": {
          "base_uri": "https://localhost:8080/"
        },
        "id": "SeVcOGmhdj3_",
        "outputId": "6886df40-803f-4770-a41a-94e3f3422815"
      },
      "outputs": [
        {
          "output_type": "stream",
          "name": "stdout",
          "text": [
            "<class 'pandas.core.frame.DataFrame'>\n",
            "Index: 28469745 entries, 1 to 33170566\n",
            "Data columns (total 2 columns):\n",
            " #   Column    Dtype \n",
            "---  ------    ----- \n",
            " 0   playlist  int32 \n",
            " 1   track     object\n",
            "dtypes: int32(1), object(1)\n",
            "memory usage: 543.0+ MB\n"
          ]
        }
      ],
      "source": [
        "filtered_df.info()"
      ]
    },
    {
      "cell_type": "code",
      "execution_count": 14,
      "metadata": {
        "colab": {
          "base_uri": "https://localhost:8080/",
          "height": 206
        },
        "id": "9Z1tXHEQdlrW",
        "outputId": "8f23124b-c7bc-4785-82b7-3ea7fabcf95f"
      },
      "outputs": [
        {
          "output_type": "execute_result",
          "data": {
            "text/plain": [
              "   playlist                   track\n",
              "1    528000  40riOy7x9W7GXjyGp4pjAv\n",
              "2    528000  4efoEY8iDBzUqitjmNDhpN\n",
              "3    528000  0NqQmmLEN9rlnkh2JW0UIs\n",
              "4    528000  1MQCTOWVfy4PcuBXkBsHVB\n",
              "5    528000  1hGy2eLcmC8eKx7qr1tOqx"
            ],
            "text/html": [
              "\n",
              "  <div id=\"df-b21c7895-7d03-45e7-9922-807d456d76f3\" class=\"colab-df-container\">\n",
              "    <div>\n",
              "<style scoped>\n",
              "    .dataframe tbody tr th:only-of-type {\n",
              "        vertical-align: middle;\n",
              "    }\n",
              "\n",
              "    .dataframe tbody tr th {\n",
              "        vertical-align: top;\n",
              "    }\n",
              "\n",
              "    .dataframe thead th {\n",
              "        text-align: right;\n",
              "    }\n",
              "</style>\n",
              "<table border=\"1\" class=\"dataframe\">\n",
              "  <thead>\n",
              "    <tr style=\"text-align: right;\">\n",
              "      <th></th>\n",
              "      <th>playlist</th>\n",
              "      <th>track</th>\n",
              "    </tr>\n",
              "  </thead>\n",
              "  <tbody>\n",
              "    <tr>\n",
              "      <th>1</th>\n",
              "      <td>528000</td>\n",
              "      <td>40riOy7x9W7GXjyGp4pjAv</td>\n",
              "    </tr>\n",
              "    <tr>\n",
              "      <th>2</th>\n",
              "      <td>528000</td>\n",
              "      <td>4efoEY8iDBzUqitjmNDhpN</td>\n",
              "    </tr>\n",
              "    <tr>\n",
              "      <th>3</th>\n",
              "      <td>528000</td>\n",
              "      <td>0NqQmmLEN9rlnkh2JW0UIs</td>\n",
              "    </tr>\n",
              "    <tr>\n",
              "      <th>4</th>\n",
              "      <td>528000</td>\n",
              "      <td>1MQCTOWVfy4PcuBXkBsHVB</td>\n",
              "    </tr>\n",
              "    <tr>\n",
              "      <th>5</th>\n",
              "      <td>528000</td>\n",
              "      <td>1hGy2eLcmC8eKx7qr1tOqx</td>\n",
              "    </tr>\n",
              "  </tbody>\n",
              "</table>\n",
              "</div>\n",
              "    <div class=\"colab-df-buttons\">\n",
              "\n",
              "  <div class=\"colab-df-container\">\n",
              "    <button class=\"colab-df-convert\" onclick=\"convertToInteractive('df-b21c7895-7d03-45e7-9922-807d456d76f3')\"\n",
              "            title=\"Convert this dataframe to an interactive table.\"\n",
              "            style=\"display:none;\">\n",
              "\n",
              "  <svg xmlns=\"http://www.w3.org/2000/svg\" height=\"24px\" viewBox=\"0 -960 960 960\">\n",
              "    <path d=\"M120-120v-720h720v720H120Zm60-500h600v-160H180v160Zm220 220h160v-160H400v160Zm0 220h160v-160H400v160ZM180-400h160v-160H180v160Zm440 0h160v-160H620v160ZM180-180h160v-160H180v160Zm440 0h160v-160H620v160Z\"/>\n",
              "  </svg>\n",
              "    </button>\n",
              "\n",
              "  <style>\n",
              "    .colab-df-container {\n",
              "      display:flex;\n",
              "      gap: 12px;\n",
              "    }\n",
              "\n",
              "    .colab-df-convert {\n",
              "      background-color: #E8F0FE;\n",
              "      border: none;\n",
              "      border-radius: 50%;\n",
              "      cursor: pointer;\n",
              "      display: none;\n",
              "      fill: #1967D2;\n",
              "      height: 32px;\n",
              "      padding: 0 0 0 0;\n",
              "      width: 32px;\n",
              "    }\n",
              "\n",
              "    .colab-df-convert:hover {\n",
              "      background-color: #E2EBFA;\n",
              "      box-shadow: 0px 1px 2px rgba(60, 64, 67, 0.3), 0px 1px 3px 1px rgba(60, 64, 67, 0.15);\n",
              "      fill: #174EA6;\n",
              "    }\n",
              "\n",
              "    .colab-df-buttons div {\n",
              "      margin-bottom: 4px;\n",
              "    }\n",
              "\n",
              "    [theme=dark] .colab-df-convert {\n",
              "      background-color: #3B4455;\n",
              "      fill: #D2E3FC;\n",
              "    }\n",
              "\n",
              "    [theme=dark] .colab-df-convert:hover {\n",
              "      background-color: #434B5C;\n",
              "      box-shadow: 0px 1px 3px 1px rgba(0, 0, 0, 0.15);\n",
              "      filter: drop-shadow(0px 1px 2px rgba(0, 0, 0, 0.3));\n",
              "      fill: #FFFFFF;\n",
              "    }\n",
              "  </style>\n",
              "\n",
              "    <script>\n",
              "      const buttonEl =\n",
              "        document.querySelector('#df-b21c7895-7d03-45e7-9922-807d456d76f3 button.colab-df-convert');\n",
              "      buttonEl.style.display =\n",
              "        google.colab.kernel.accessAllowed ? 'block' : 'none';\n",
              "\n",
              "      async function convertToInteractive(key) {\n",
              "        const element = document.querySelector('#df-b21c7895-7d03-45e7-9922-807d456d76f3');\n",
              "        const dataTable =\n",
              "          await google.colab.kernel.invokeFunction('convertToInteractive',\n",
              "                                                    [key], {});\n",
              "        if (!dataTable) return;\n",
              "\n",
              "        const docLinkHtml = 'Like what you see? Visit the ' +\n",
              "          '<a target=\"_blank\" href=https://colab.research.google.com/notebooks/data_table.ipynb>data table notebook</a>'\n",
              "          + ' to learn more about interactive tables.';\n",
              "        element.innerHTML = '';\n",
              "        dataTable['output_type'] = 'display_data';\n",
              "        await google.colab.output.renderOutput(dataTable, element);\n",
              "        const docLink = document.createElement('div');\n",
              "        docLink.innerHTML = docLinkHtml;\n",
              "        element.appendChild(docLink);\n",
              "      }\n",
              "    </script>\n",
              "  </div>\n",
              "\n",
              "\n",
              "<div id=\"df-898af998-5e9a-4d6e-b6ab-1d0218ffdad0\">\n",
              "  <button class=\"colab-df-quickchart\" onclick=\"quickchart('df-898af998-5e9a-4d6e-b6ab-1d0218ffdad0')\"\n",
              "            title=\"Suggest charts\"\n",
              "            style=\"display:none;\">\n",
              "\n",
              "<svg xmlns=\"http://www.w3.org/2000/svg\" height=\"24px\"viewBox=\"0 0 24 24\"\n",
              "     width=\"24px\">\n",
              "    <g>\n",
              "        <path d=\"M19 3H5c-1.1 0-2 .9-2 2v14c0 1.1.9 2 2 2h14c1.1 0 2-.9 2-2V5c0-1.1-.9-2-2-2zM9 17H7v-7h2v7zm4 0h-2V7h2v10zm4 0h-2v-4h2v4z\"/>\n",
              "    </g>\n",
              "</svg>\n",
              "  </button>\n",
              "\n",
              "<style>\n",
              "  .colab-df-quickchart {\n",
              "      --bg-color: #E8F0FE;\n",
              "      --fill-color: #1967D2;\n",
              "      --hover-bg-color: #E2EBFA;\n",
              "      --hover-fill-color: #174EA6;\n",
              "      --disabled-fill-color: #AAA;\n",
              "      --disabled-bg-color: #DDD;\n",
              "  }\n",
              "\n",
              "  [theme=dark] .colab-df-quickchart {\n",
              "      --bg-color: #3B4455;\n",
              "      --fill-color: #D2E3FC;\n",
              "      --hover-bg-color: #434B5C;\n",
              "      --hover-fill-color: #FFFFFF;\n",
              "      --disabled-bg-color: #3B4455;\n",
              "      --disabled-fill-color: #666;\n",
              "  }\n",
              "\n",
              "  .colab-df-quickchart {\n",
              "    background-color: var(--bg-color);\n",
              "    border: none;\n",
              "    border-radius: 50%;\n",
              "    cursor: pointer;\n",
              "    display: none;\n",
              "    fill: var(--fill-color);\n",
              "    height: 32px;\n",
              "    padding: 0;\n",
              "    width: 32px;\n",
              "  }\n",
              "\n",
              "  .colab-df-quickchart:hover {\n",
              "    background-color: var(--hover-bg-color);\n",
              "    box-shadow: 0 1px 2px rgba(60, 64, 67, 0.3), 0 1px 3px 1px rgba(60, 64, 67, 0.15);\n",
              "    fill: var(--button-hover-fill-color);\n",
              "  }\n",
              "\n",
              "  .colab-df-quickchart-complete:disabled,\n",
              "  .colab-df-quickchart-complete:disabled:hover {\n",
              "    background-color: var(--disabled-bg-color);\n",
              "    fill: var(--disabled-fill-color);\n",
              "    box-shadow: none;\n",
              "  }\n",
              "\n",
              "  .colab-df-spinner {\n",
              "    border: 2px solid var(--fill-color);\n",
              "    border-color: transparent;\n",
              "    border-bottom-color: var(--fill-color);\n",
              "    animation:\n",
              "      spin 1s steps(1) infinite;\n",
              "  }\n",
              "\n",
              "  @keyframes spin {\n",
              "    0% {\n",
              "      border-color: transparent;\n",
              "      border-bottom-color: var(--fill-color);\n",
              "      border-left-color: var(--fill-color);\n",
              "    }\n",
              "    20% {\n",
              "      border-color: transparent;\n",
              "      border-left-color: var(--fill-color);\n",
              "      border-top-color: var(--fill-color);\n",
              "    }\n",
              "    30% {\n",
              "      border-color: transparent;\n",
              "      border-left-color: var(--fill-color);\n",
              "      border-top-color: var(--fill-color);\n",
              "      border-right-color: var(--fill-color);\n",
              "    }\n",
              "    40% {\n",
              "      border-color: transparent;\n",
              "      border-right-color: var(--fill-color);\n",
              "      border-top-color: var(--fill-color);\n",
              "    }\n",
              "    60% {\n",
              "      border-color: transparent;\n",
              "      border-right-color: var(--fill-color);\n",
              "    }\n",
              "    80% {\n",
              "      border-color: transparent;\n",
              "      border-right-color: var(--fill-color);\n",
              "      border-bottom-color: var(--fill-color);\n",
              "    }\n",
              "    90% {\n",
              "      border-color: transparent;\n",
              "      border-bottom-color: var(--fill-color);\n",
              "    }\n",
              "  }\n",
              "</style>\n",
              "\n",
              "  <script>\n",
              "    async function quickchart(key) {\n",
              "      const quickchartButtonEl =\n",
              "        document.querySelector('#' + key + ' button');\n",
              "      quickchartButtonEl.disabled = true;  // To prevent multiple clicks.\n",
              "      quickchartButtonEl.classList.add('colab-df-spinner');\n",
              "      try {\n",
              "        const charts = await google.colab.kernel.invokeFunction(\n",
              "            'suggestCharts', [key], {});\n",
              "      } catch (error) {\n",
              "        console.error('Error during call to suggestCharts:', error);\n",
              "      }\n",
              "      quickchartButtonEl.classList.remove('colab-df-spinner');\n",
              "      quickchartButtonEl.classList.add('colab-df-quickchart-complete');\n",
              "    }\n",
              "    (() => {\n",
              "      let quickchartButtonEl =\n",
              "        document.querySelector('#df-898af998-5e9a-4d6e-b6ab-1d0218ffdad0 button');\n",
              "      quickchartButtonEl.style.display =\n",
              "        google.colab.kernel.accessAllowed ? 'block' : 'none';\n",
              "    })();\n",
              "  </script>\n",
              "</div>\n",
              "\n",
              "    </div>\n",
              "  </div>\n"
            ],
            "application/vnd.google.colaboratory.intrinsic+json": {
              "type": "dataframe",
              "variable_name": "filtered_df"
            }
          },
          "metadata": {},
          "execution_count": 14
        }
      ],
      "source": [
        "filtered_df.head()"
      ]
    },
    {
      "cell_type": "code",
      "execution_count": 15,
      "metadata": {
        "colab": {
          "base_uri": "https://localhost:8080/"
        },
        "id": "lUFqR4g2pAcb",
        "outputId": "d85a7b93-34e3-4bb0-b6c7-6497ba3f8934"
      },
      "outputs": [
        {
          "output_type": "execute_result",
          "data": {
            "text/plain": [
              "(28469745, 2)"
            ]
          },
          "metadata": {},
          "execution_count": 15
        }
      ],
      "source": [
        "filtered_df.shape"
      ]
    },
    {
      "cell_type": "code",
      "execution_count": 16,
      "metadata": {
        "colab": {
          "base_uri": "https://localhost:8080/"
        },
        "id": "s8DGS_xXnc7e",
        "outputId": "db1bc0ad-441c-4d15-d01f-76aff4822f32"
      },
      "outputs": [
        {
          "output_type": "stream",
          "name": "stdout",
          "text": [
            "(497138, 119003)\n"
          ]
        }
      ],
      "source": [
        "# # Map playlist_id and track_id to numerical indices\n",
        "# playlist_map = {id_: idx for idx, id_ in enumerate(filtered_df[\"playlist\"].unique())}\n",
        "# track_uri_to_idx = {id_: idx for idx, id_ in enumerate(filtered_df[\"track\"].unique())}\n",
        "\n",
        "# filtered_df[\"playlist_idx\"] = filtered_df[\"playlist\"].map(playlist_map)\n",
        "# filtered_df[\"track_idx\"] = filtered_df[\"track\"].map(track_uri_to_idx)\n",
        "\n",
        "# # Create COO matrix\n",
        "# rows = filtered_df[\"playlist_idx\"]\n",
        "# cols = filtered_df[\"track_idx\"]\n",
        "# data_list = np.ones(len(filtered_df))  # All entries are 1 since a track belongs to a playlist\n",
        "\n",
        "# coo_rating_matrix = coo_matrix((data_list, (rows, cols)), shape=(len(playlist_map), len(track_uri_to_idx)))\n",
        "# coo_rating_matrix.shape\n",
        "\n",
        "# --- warning\n",
        "\n",
        "# Make an explicit copy of filtered_df\n",
        "filtered_df = filtered_df.copy()\n",
        "\n",
        "# Map playlist_id and track_id to numerical indices\n",
        "playlist_id_to_idx = {id: idx for idx, id in enumerate(filtered_df[\"playlist\"].unique())}\n",
        "track_uri_to_idx = {uri: idx for idx, uri in enumerate(filtered_df[\"track\"].unique())}\n",
        "\n",
        "filtered_df[\"playlist_idx\"] = filtered_df[\"playlist\"].map(playlist_id_to_idx)\n",
        "filtered_df[\"track_idx\"] = filtered_df[\"track\"].map(track_uri_to_idx)\n",
        "\n",
        "# Create COO matrix\n",
        "rows = filtered_df[\"playlist_idx\"]\n",
        "cols = filtered_df[\"track_idx\"]\n",
        "data_list = np.ones(len(filtered_df))  # All entries are 1 since a track belongs to a playlist\n",
        "\n",
        "coo_rating_matrix = coo_matrix((data_list, (rows, cols)), shape=(len(playlist_id_to_idx), len(track_uri_to_idx)))\n",
        "print(coo_rating_matrix.shape)  # Output: (485376, 18857)\n"
      ]
    },
    {
      "cell_type": "code",
      "execution_count": 17,
      "metadata": {
        "colab": {
          "base_uri": "https://localhost:8080/"
        },
        "id": "EwEeziTxoiIP",
        "outputId": "fc4a536a-7afd-453b-8430-8d84b581b172"
      },
      "outputs": [
        {
          "output_type": "execute_result",
          "data": {
            "text/plain": [
              "(497138, 119003)"
            ]
          },
          "metadata": {},
          "execution_count": 17
        }
      ],
      "source": [
        "coo_rating_matrix.shape"
      ]
    },
    {
      "cell_type": "code",
      "source": [
        "# per rendere il codice della funzione di valutazione come quello sopra\n",
        "num_tracks = coo_rating_matrix.shape[1]\n",
        "tracks = set(track_uri_to_idx.keys())"
      ],
      "metadata": {
        "id": "TWW_TB_ySr1U"
      },
      "execution_count": 18,
      "outputs": []
    },
    {
      "cell_type": "code",
      "source": [
        "del(million_df, track_frequency_df, filtered_df)\n",
        "del(rows, cols, data_list, new_data)\n",
        "del(popular_tracks, popular_track_ids)\n",
        "del(playlist_id_to_idx, track_frequency)\n",
        "\n",
        "gc.collect()"
      ],
      "metadata": {
        "colab": {
          "base_uri": "https://localhost:8080/"
        },
        "id": "mLB0fidEHut9",
        "outputId": "fc6e718f-42d8-4e2f-c08f-1eca9e7cc39f"
      },
      "execution_count": 19,
      "outputs": [
        {
          "output_type": "execute_result",
          "data": {
            "text/plain": [
              "0"
            ]
          },
          "metadata": {},
          "execution_count": 19
        }
      ]
    },
    {
      "cell_type": "code",
      "source": [
        "gc.collect()"
      ],
      "metadata": {
        "colab": {
          "base_uri": "https://localhost:8080/"
        },
        "id": "mHO4kakPH24z",
        "outputId": "a4c4cd0a-e3cf-48a8-d4b8-b9a0bf0ce4c1"
      },
      "execution_count": 20,
      "outputs": [
        {
          "output_type": "execute_result",
          "data": {
            "text/plain": [
              "0"
            ]
          },
          "metadata": {},
          "execution_count": 20
        }
      ]
    },
    {
      "cell_type": "markdown",
      "source": [
        "# Training"
      ],
      "metadata": {
        "id": "wJW3mVilLoJJ"
      }
    },
    {
      "cell_type": "code",
      "source": [
        "class ScipySVD():\n",
        "  def __init__(self, n_components, **kwargs):\n",
        "    self.n_components = n_components\n",
        "    self.kwargs = kwargs\n",
        "\n",
        "\n",
        "  def fit(self, X):\n",
        "    _, _, components_ = svds(X, self.n_components, **self.kwargs)\n",
        "    self.components_ = components_\n",
        "\n",
        "\n",
        "  def transform(self ,X):\n",
        "    return X @ self.components_.T"
      ],
      "metadata": {
        "id": "TXin71eMIPvV"
      },
      "execution_count": 21,
      "outputs": []
    },
    {
      "cell_type": "code",
      "source": [
        "svd_model = ScipySVD(600, random_state=42)\n",
        "\n",
        "svd_model.fit(coo_rating_matrix)"
      ],
      "metadata": {
        "id": "_5zwJS1cKbrf"
      },
      "execution_count": 22,
      "outputs": []
    },
    {
      "cell_type": "markdown",
      "source": [
        "# Validation"
      ],
      "metadata": {
        "id": "Hg5WR4cdLOQm"
      }
    },
    {
      "cell_type": "code",
      "source": [
        "def evaluate_model_k_tracks_removed_df(model, k, num_valid_files=10):\n",
        "  \"\"\"\n",
        "  evaluate model processing a slice of playlists, 200 playlist at time to avoid\n",
        "  colab cpu overflow\n",
        "  \"\"\"\n",
        "\n",
        "  # num_valid_files = 1000 - num_training_files\n",
        "  precision_at_10 = np.zeros(num_valid_files)\n",
        "  precision_at_5 = np.zeros(num_valid_files)\n",
        "  precision_at_2 = np.zeros(num_valid_files)\n",
        "  precision_at_1 = np.zeros(num_valid_files)\n",
        "\n",
        "  recall_at_10 = np.zeros(num_valid_files)\n",
        "  recall_at_5 = np.zeros(num_valid_files)\n",
        "  recall_at_2 = np.zeros(num_valid_files)\n",
        "  recall_at_1 = np.zeros(num_valid_files)\n",
        "\n",
        "  mrr = np.zeros(num_valid_files)\n",
        "\n",
        "  # for file_idx, filename in tqdm(enumerate(sorted(os.listdir(data), key=extract_starting_number)[num_training_files:num_training_files+num_valid_files]), desc=\"Processing Slices\"):\n",
        "  for file_idx, filename in tqdm(enumerate(shuffled_slices[num_training_files:num_training_files+num_valid_files]), desc=\"Processing Slices\"):\n",
        "    correct_playlists = np.zeros((1000, num_tracks))\n",
        "    # print(filename)\n",
        "    p_counter = -1\n",
        "    if filename.startswith(\"mpd.slice.\") and filename.endswith(\".json\"):\n",
        "      filepath = os.path.join(data, filename)\n",
        "\n",
        "      with open(filepath, \"r\", encoding=\"utf-8\") as jsonfile:\n",
        "        cur_slice = json.load(jsonfile)\n",
        "\n",
        "      for playlist in cur_slice[\"playlists\"]:\n",
        "        p_counter += 1\n",
        "\n",
        "        for track in playlist[\"tracks\"]:\n",
        "          track_uri = track[\"track_uri\"][14:]\n",
        "\n",
        "          if track_uri in tracks:\n",
        "            t_idx = track_uri_to_idx[track_uri]\n",
        "\n",
        "            correct_playlists[p_counter, t_idx] = 1\n",
        "\n",
        "\n",
        "    incomplete_playlists = np.copy(correct_playlists)\n",
        "\n",
        "    # Turn exactly k ones to zeros per row\n",
        "    for row in incomplete_playlists:\n",
        "      # Get the indices of `1`s in the current row\n",
        "      one_indices = np.where(row == 1)[0]\n",
        "\n",
        "      # If there are at least k ones, randomly choose 2 of them\n",
        "      if len(one_indices) >= k:\n",
        "        indices_to_zero = np.random.choice(one_indices, size=k, replace=False)\n",
        "        row[indices_to_zero] = 0\n",
        "\n",
        "\n",
        "    cur_precision_at_10 = [0 for _ in range(5)]\n",
        "    cur_precision_at_5 = [0 for _ in range(5)]\n",
        "    cur_precision_at_2 = [0 for _ in range(5)]\n",
        "    cur_precision_at_1 = [0 for _ in range(5)]\n",
        "\n",
        "    cur_recall_at_10 = [0 for _ in range(5)]\n",
        "    cur_recall_at_5 = [0 for _ in range(5)]\n",
        "    cur_recall_at_2 = [0 for _ in range(5)]\n",
        "    cur_recall_at_1 = [0 for _ in range(5)]\n",
        "\n",
        "    cur_mrr = [0 for _ in range(5)]\n",
        "\n",
        "\n",
        "    for iter in tqdm(range(5), desc=\"Iterations\"):\n",
        "      P_new = model.transform(incomplete_playlists[200*iter:200*(iter+1), :])\n",
        "\n",
        "      # Predici la matrice ricostruita per le nuove playlist\n",
        "      predicted_matrix = np.dot(P_new, model.components_)\n",
        "\n",
        "      cur_precision_at_10[iter] = precision_at_k(predicted_matrix, correct_playlists[200*iter:200*(iter+1), :], 10)\n",
        "      cur_precision_at_5[iter] = precision_at_k(predicted_matrix, correct_playlists[200*iter:200*(iter+1), :], 5)\n",
        "      cur_precision_at_2[iter] = precision_at_k(predicted_matrix, correct_playlists[200*iter:200*(iter+1), :], 2)\n",
        "      cur_precision_at_1[iter] = precision_at_k(predicted_matrix, correct_playlists[200*iter:200*(iter+1), :], 1)\n",
        "\n",
        "      cur_recall_at_10[iter] = recall_at_k(predicted_matrix, correct_playlists[200*iter:200*(iter+1), :], 10)\n",
        "      cur_recall_at_5[iter] = recall_at_k(predicted_matrix, correct_playlists[200*iter:200*(iter+1), :], 5)\n",
        "      cur_recall_at_2[iter] = recall_at_k(predicted_matrix, correct_playlists[200*iter:200*(iter+1), :], 2)\n",
        "      cur_recall_at_1[iter] = recall_at_k(predicted_matrix, correct_playlists[200*iter:200*(iter+1), :], 1)\n",
        "\n",
        "      cur_mrr[iter] = mean_reciprocal_rank(predicted_matrix, correct_playlists[200*iter:200*(iter+1), :])\n",
        "\n",
        "    precision_at_10[file_idx] = np.mean(cur_precision_at_10)\n",
        "    precision_at_5[file_idx] = np.mean(cur_precision_at_5)\n",
        "    precision_at_2[file_idx] = np.mean(cur_precision_at_2)\n",
        "    precision_at_1[file_idx] = np.mean(cur_precision_at_1)\n",
        "    recall_at_10[file_idx] = np.mean(cur_recall_at_10)\n",
        "    recall_at_5[file_idx] = np.mean(cur_recall_at_5)\n",
        "    recall_at_2[file_idx] = np.mean(cur_recall_at_2)\n",
        "    recall_at_1[file_idx] = np.mean(cur_recall_at_1)\n",
        "    mrr[file_idx] = np.mean(cur_mrr)\n",
        "\n",
        "  print(\"\\nPrecision@10 = \",np.mean(precision_at_10))\n",
        "  print(\"Precision@5 = \",np.mean(precision_at_5))\n",
        "  print(\"Precision@2 = \",np.mean(precision_at_2))\n",
        "  print(\"Precision@1 = \",np.mean(precision_at_1))\n",
        "\n",
        "  print(\"Recall@10 = \",np.mean(recall_at_10))\n",
        "  print(\"Recall@5 = \",np.mean(recall_at_5))\n",
        "  print(\"Recall@2 = \",np.mean(recall_at_2))\n",
        "  print(\"Recall@1 = \",np.mean(recall_at_1))\n",
        "\n",
        "  print(\"MRR = \", np.mean(mrr))"
      ],
      "metadata": {
        "id": "EApnpa-aLSX2"
      },
      "execution_count": 23,
      "outputs": []
    },
    {
      "cell_type": "code",
      "source": [
        "evaluate_model_k_tracks_removed_df(svd_model, 0, 2)"
      ],
      "metadata": {
        "colab": {
          "base_uri": "https://localhost:8080/"
        },
        "id": "eHRRAbaIvkVd",
        "outputId": "5f8a7e99-67c1-48b7-c16e-44d2b1437937"
      },
      "execution_count": 24,
      "outputs": [
        {
          "output_type": "stream",
          "name": "stderr",
          "text": [
            "Processing Slices: 0it [00:00, ?it/s]\n",
            "Iterations:   0%|          | 0/5 [00:00<?, ?it/s]\u001b[A\n",
            "Iterations:  20%|██        | 1/5 [00:27<01:48, 27.08s/it]\u001b[A\n",
            "Iterations:  40%|████      | 2/5 [00:53<01:19, 26.40s/it]\u001b[A\n",
            "Iterations:  60%|██████    | 3/5 [01:18<00:52, 26.16s/it]\u001b[A\n",
            "Iterations:  80%|████████  | 4/5 [01:44<00:25, 25.95s/it]\u001b[A\n",
            "Iterations: 100%|██████████| 5/5 [02:10<00:00, 26.05s/it]\n",
            "Processing Slices: 1it [02:11, 131.48s/it]\n",
            "Iterations:   0%|          | 0/5 [00:00<?, ?it/s]\u001b[A\n",
            "Iterations:  20%|██        | 1/5 [00:25<01:42, 25.58s/it]\u001b[A\n",
            "Iterations:  40%|████      | 2/5 [00:51<01:18, 26.03s/it]\u001b[A\n",
            "Iterations:  60%|██████    | 3/5 [01:18<00:52, 26.31s/it]\u001b[A\n",
            "Iterations:  80%|████████  | 4/5 [01:44<00:26, 26.29s/it]\u001b[A\n",
            "Iterations: 100%|██████████| 5/5 [02:10<00:00, 26.13s/it]\n",
            "Processing Slices: 2it [04:23, 131.99s/it]"
          ]
        },
        {
          "output_type": "stream",
          "name": "stdout",
          "text": [
            "\n",
            "Precision@10 =  0.6504000000000001\n",
            "Precision@5 =  0.7381\n",
            "Precision@2 =  0.80625\n",
            "Precision@1 =  0.8345\n",
            "Recall@10 =  0.16578967688636206\n",
            "Recall@5 =  0.10287013313138296\n",
            "Recall@2 =  0.04839857990842572\n",
            "Recall@1 =  0.026231653970486817\n",
            "MRR =  0.8686302694638846\n"
          ]
        },
        {
          "output_type": "stream",
          "name": "stderr",
          "text": [
            "\n"
          ]
        }
      ]
    },
    {
      "cell_type": "code",
      "source": [
        "evaluate_model_k_tracks_removed_df(svd_model, 2)"
      ],
      "metadata": {
        "colab": {
          "base_uri": "https://localhost:8080/"
        },
        "id": "us0rwbMdLXFo",
        "outputId": "36cbc7aa-521d-45d1-89be-9bcdfd862bf3"
      },
      "execution_count": 25,
      "outputs": [
        {
          "output_type": "stream",
          "name": "stderr",
          "text": [
            "Processing Slices: 0it [00:00, ?it/s]\n",
            "Iterations:   0%|          | 0/5 [00:00<?, ?it/s]\u001b[A\n",
            "Iterations:  20%|██        | 1/5 [00:26<01:46, 26.62s/it]\u001b[A\n",
            "Iterations:  40%|████      | 2/5 [00:52<01:18, 26.08s/it]\u001b[A\n",
            "Iterations:  60%|██████    | 3/5 [01:18<00:51, 25.95s/it]\u001b[A\n",
            "Iterations:  80%|████████  | 4/5 [01:44<00:25, 25.93s/it]\u001b[A\n",
            "Iterations: 100%|██████████| 5/5 [02:09<00:00, 25.97s/it]\n",
            "Processing Slices: 1it [02:10, 130.87s/it]\n",
            "Iterations:   0%|          | 0/5 [00:00<?, ?it/s]\u001b[A\n",
            "Iterations:  20%|██        | 1/5 [00:25<01:42, 25.69s/it]\u001b[A\n",
            "Iterations:  40%|████      | 2/5 [00:51<01:17, 25.75s/it]\u001b[A\n",
            "Iterations:  60%|██████    | 3/5 [01:16<00:51, 25.61s/it]\u001b[A\n",
            "Iterations:  80%|████████  | 4/5 [01:43<00:25, 25.90s/it]\u001b[A\n",
            "Iterations: 100%|██████████| 5/5 [02:10<00:00, 26.14s/it]\n",
            "Processing Slices: 2it [04:22, 131.45s/it]\n",
            "Iterations:   0%|          | 0/5 [00:00<?, ?it/s]\u001b[A\n",
            "Iterations:  20%|██        | 1/5 [00:26<01:45, 26.38s/it]\u001b[A\n",
            "Iterations:  40%|████      | 2/5 [00:52<01:19, 26.41s/it]\u001b[A\n",
            "Iterations:  60%|██████    | 3/5 [01:26<00:59, 29.70s/it]\u001b[A\n",
            "Iterations:  80%|████████  | 4/5 [01:52<00:28, 28.25s/it]\u001b[A\n",
            "Iterations: 100%|██████████| 5/5 [02:18<00:00, 27.65s/it]\n",
            "Processing Slices: 3it [06:42, 135.39s/it]\n",
            "Iterations:   0%|          | 0/5 [00:00<?, ?it/s]\u001b[A\n",
            "Iterations:  20%|██        | 1/5 [00:25<01:42, 25.74s/it]\u001b[A\n",
            "Iterations:  40%|████      | 2/5 [00:51<01:17, 25.83s/it]\u001b[A\n",
            "Iterations:  60%|██████    | 3/5 [01:17<00:51, 25.85s/it]\u001b[A\n",
            "Iterations:  80%|████████  | 4/5 [01:43<00:25, 25.91s/it]\u001b[A\n",
            "Iterations: 100%|██████████| 5/5 [02:09<00:00, 25.83s/it]\n",
            "Processing Slices: 4it [08:53, 133.62s/it]\n",
            "Iterations:   0%|          | 0/5 [00:00<?, ?it/s]\u001b[A\n",
            "Iterations:  20%|██        | 1/5 [00:25<01:43, 25.79s/it]\u001b[A\n",
            "Iterations:  40%|████      | 2/5 [00:51<01:16, 25.65s/it]\u001b[A\n",
            "Iterations:  60%|██████    | 3/5 [01:17<00:51, 25.81s/it]\u001b[A\n",
            "Iterations:  80%|████████  | 4/5 [01:43<00:25, 26.00s/it]\u001b[A\n",
            "Iterations: 100%|██████████| 5/5 [02:09<00:00, 25.90s/it]\n",
            "Processing Slices: 5it [11:04, 132.56s/it]\n",
            "Iterations:   0%|          | 0/5 [00:00<?, ?it/s]\u001b[A\n",
            "Iterations:  20%|██        | 1/5 [00:25<01:42, 25.73s/it]\u001b[A\n",
            "Iterations:  40%|████      | 2/5 [00:51<01:17, 25.78s/it]\u001b[A\n",
            "Iterations:  60%|██████    | 3/5 [01:17<00:51, 25.86s/it]\u001b[A\n",
            "Iterations:  80%|████████  | 4/5 [01:43<00:25, 25.78s/it]\u001b[A\n",
            "Iterations: 100%|██████████| 5/5 [02:08<00:00, 25.78s/it]\n",
            "Processing Slices: 6it [13:14, 131.71s/it]\n",
            "Iterations:   0%|          | 0/5 [00:00<?, ?it/s]\u001b[A\n",
            "Iterations:  20%|██        | 1/5 [00:25<01:43, 25.82s/it]\u001b[A\n",
            "Iterations:  40%|████      | 2/5 [00:51<01:16, 25.65s/it]\u001b[A\n",
            "Iterations:  60%|██████    | 3/5 [01:17<00:51, 25.72s/it]\u001b[A\n",
            "Iterations:  80%|████████  | 4/5 [01:43<00:25, 25.95s/it]\u001b[A\n",
            "Iterations: 100%|██████████| 5/5 [02:09<00:00, 25.98s/it]\n",
            "Processing Slices: 7it [15:25, 131.51s/it]\n",
            "Iterations:   0%|          | 0/5 [00:00<?, ?it/s]\u001b[A\n",
            "Iterations:  20%|██        | 1/5 [00:26<01:45, 26.44s/it]\u001b[A\n",
            "Iterations:  40%|████      | 2/5 [00:52<01:18, 26.21s/it]\u001b[A\n",
            "Iterations:  60%|██████    | 3/5 [01:18<00:51, 25.96s/it]\u001b[A\n",
            "Iterations:  80%|████████  | 4/5 [01:43<00:25, 25.81s/it]\u001b[A\n",
            "Iterations: 100%|██████████| 5/5 [02:09<00:00, 25.91s/it]\n",
            "Processing Slices: 8it [17:36, 131.25s/it]\n",
            "Iterations:   0%|          | 0/5 [00:00<?, ?it/s]\u001b[A\n",
            "Iterations:  20%|██        | 1/5 [00:25<01:42, 25.53s/it]\u001b[A\n",
            "Iterations:  40%|████      | 2/5 [00:51<01:16, 25.60s/it]\u001b[A\n",
            "Iterations:  60%|██████    | 3/5 [01:16<00:51, 25.58s/it]\u001b[A\n",
            "Iterations:  80%|████████  | 4/5 [01:42<00:25, 25.70s/it]\u001b[A\n",
            "Iterations: 100%|██████████| 5/5 [02:08<00:00, 25.79s/it]\n",
            "Processing Slices: 9it [19:46, 130.89s/it]\n",
            "Iterations:   0%|          | 0/5 [00:00<?, ?it/s]\u001b[A\n",
            "Iterations:  20%|██        | 1/5 [00:26<01:45, 26.29s/it]\u001b[A\n",
            "Iterations:  40%|████      | 2/5 [00:53<01:20, 26.73s/it]\u001b[A\n",
            "Iterations:  60%|██████    | 3/5 [01:19<00:52, 26.36s/it]\u001b[A\n",
            "Iterations:  80%|████████  | 4/5 [01:44<00:26, 26.12s/it]\u001b[A\n",
            "Iterations: 100%|██████████| 5/5 [02:10<00:00, 26.14s/it]\n",
            "Processing Slices: 10it [21:58, 131.84s/it]"
          ]
        },
        {
          "output_type": "stream",
          "name": "stdout",
          "text": [
            "\n",
            "Precision@10 =  0.63328\n",
            "Precision@5 =  0.71974\n",
            "Precision@2 =  0.79305\n",
            "Precision@1 =  0.8263999999999999\n",
            "Recall@10 =  0.155088336966349\n",
            "Recall@5 =  0.09651787593702348\n",
            "Recall@2 =  0.045897550484940694\n",
            "Recall@1 =  0.02482018484788886\n",
            "MRR =  0.859879498163914\n"
          ]
        },
        {
          "output_type": "stream",
          "name": "stderr",
          "text": [
            "\n"
          ]
        }
      ]
    },
    {
      "cell_type": "code",
      "source": [
        "evaluate_model_k_tracks_removed_df(svd_model, 15, num_valid_files=2)"
      ],
      "metadata": {
        "id": "N_QdFh3lLfVP"
      },
      "execution_count": null,
      "outputs": []
    },
    {
      "cell_type": "code",
      "source": [
        "evaluate_model_k_tracks_removed_df(svd_model, 20, num_valid_files=2)"
      ],
      "metadata": {
        "id": "rDaxbXUQLgh6"
      },
      "execution_count": null,
      "outputs": []
    },
    {
      "cell_type": "code",
      "source": [
        "evaluate_model_k_tracks_removed_df(svd_model, 30, 2)"
      ],
      "metadata": {
        "id": "qgk81u72r2s-"
      },
      "execution_count": null,
      "outputs": []
    },
    {
      "cell_type": "code",
      "source": [
        "def evaluate_model_k_tracks_per_playlist(model, k, num_valid_files=10):\n",
        "  \"\"\"\n",
        "  evaluate model processing a slice of playlists, 200 playlist at time to avoid\n",
        "  colab cpu overflow\n",
        "  \"\"\"\n",
        "\n",
        "  # num_valid_files = 1000 - num_training_files\n",
        "  precision_at_10 = np.zeros(num_valid_files)\n",
        "  precision_at_5 = np.zeros(num_valid_files)\n",
        "  precision_at_2 = np.zeros(num_valid_files)\n",
        "  precision_at_1 = np.zeros(num_valid_files)\n",
        "\n",
        "  recall_at_10 = np.zeros(num_valid_files)\n",
        "  recall_at_5 = np.zeros(num_valid_files)\n",
        "  recall_at_2 = np.zeros(num_valid_files)\n",
        "  recall_at_1 = np.zeros(num_valid_files)\n",
        "\n",
        "  mrr = np.zeros(num_valid_files)\n",
        "\n",
        "  # for file_idx, filename in tqdm(enumerate(sorted(os.listdir(data), key=extract_starting_number)[num_training_files:num_training_files+num_valid_files]), desc=\"Processing Slices\"):\n",
        "  for file_idx, filename in tqdm(enumerate(shuffled_slices[num_training_files:num_training_files+num_valid_files]), desc=\"Processing Slices\"):\n",
        "    correct_playlists = np.zeros((1000, num_tracks))\n",
        "    # print(filename)\n",
        "    p_counter = -1\n",
        "    if filename.startswith(\"mpd.slice.\") and filename.endswith(\".json\"):\n",
        "      filepath = os.path.join(data, filename)\n",
        "\n",
        "      with open(filepath, \"r\", encoding=\"utf-8\") as jsonfile:\n",
        "        cur_slice = json.load(jsonfile)\n",
        "\n",
        "      for playlist in cur_slice[\"playlists\"]:\n",
        "        p_counter += 1\n",
        "\n",
        "        for track in playlist[\"tracks\"]:\n",
        "          track_uri = track[\"track_uri\"][14:]\n",
        "\n",
        "          if track_uri in tracks:\n",
        "            t_idx = track_uri_to_idx[track_uri]\n",
        "\n",
        "            correct_playlists[p_counter, t_idx] = 1\n",
        "\n",
        "\n",
        "    incomplete_playlists = np.copy(correct_playlists)\n",
        "\n",
        "    for row in incomplete_playlists:\n",
        "      one_indexes = np.where(row == 1)[0]\n",
        "\n",
        "      if len(one_indexes) >= k:\n",
        "        indices_to_zero = np.random.choice(one_indexes, size=(len(one_indexes)-k), replace=False)\n",
        "        row[indices_to_zero] = 0\n",
        "\n",
        "\n",
        "    cur_precision_at_10 = [0 for _ in range(5)]\n",
        "    cur_precision_at_5 = [0 for _ in range(5)]\n",
        "    cur_precision_at_2 = [0 for _ in range(5)]\n",
        "    cur_precision_at_1 = [0 for _ in range(5)]\n",
        "\n",
        "    cur_recall_at_10 = [0 for _ in range(5)]\n",
        "    cur_recall_at_5 = [0 for _ in range(5)]\n",
        "    cur_recall_at_2 = [0 for _ in range(5)]\n",
        "    cur_recall_at_1 = [0 for _ in range(5)]\n",
        "\n",
        "    cur_mrr = [0 for _ in range(5)]\n",
        "\n",
        "\n",
        "    for iter in tqdm(range(5), desc=\"Iterations\"):\n",
        "      P_new = model.transform(incomplete_playlists[200*iter:200*(iter+1), :])\n",
        "\n",
        "      # Predici la matrice ricostruita per le nuove playlist\n",
        "      predicted_matrix = np.dot(P_new, model.components_)\n",
        "\n",
        "      cur_precision_at_10[iter] = precision_at_k(predicted_matrix, correct_playlists[200*iter:200*(iter+1), :], 10)\n",
        "      cur_precision_at_5[iter] = precision_at_k(predicted_matrix, correct_playlists[200*iter:200*(iter+1), :], 5)\n",
        "      cur_precision_at_2[iter] = precision_at_k(predicted_matrix, correct_playlists[200*iter:200*(iter+1), :], 2)\n",
        "      cur_precision_at_1[iter] = precision_at_k(predicted_matrix, correct_playlists[200*iter:200*(iter+1), :], 1)\n",
        "\n",
        "      cur_recall_at_10[iter] = recall_at_k(predicted_matrix, correct_playlists[200*iter:200*(iter+1), :], 10)\n",
        "      cur_recall_at_5[iter] = recall_at_k(predicted_matrix, correct_playlists[200*iter:200*(iter+1), :], 5)\n",
        "      cur_recall_at_2[iter] = recall_at_k(predicted_matrix, correct_playlists[200*iter:200*(iter+1), :], 2)\n",
        "      cur_recall_at_1[iter] = recall_at_k(predicted_matrix, correct_playlists[200*iter:200*(iter+1), :], 1)\n",
        "\n",
        "      cur_mrr[iter] = mean_reciprocal_rank(predicted_matrix, correct_playlists[200*iter:200*(iter+1), :])\n",
        "\n",
        "    precision_at_10[file_idx] = np.mean(cur_precision_at_10)\n",
        "    precision_at_5[file_idx] = np.mean(cur_precision_at_5)\n",
        "    precision_at_2[file_idx] = np.mean(cur_precision_at_2)\n",
        "    precision_at_1[file_idx] = np.mean(cur_precision_at_1)\n",
        "    recall_at_10[file_idx] = np.mean(cur_recall_at_10)\n",
        "    recall_at_5[file_idx] = np.mean(cur_recall_at_5)\n",
        "    recall_at_2[file_idx] = np.mean(cur_recall_at_2)\n",
        "    recall_at_1[file_idx] = np.mean(cur_recall_at_1)\n",
        "    mrr[file_idx] = np.mean(cur_mrr)\n",
        "\n",
        "  print(\"\\nPrecision@10 = \",np.mean(precision_at_10))\n",
        "  print(\"Precision@5 = \",np.mean(precision_at_5))\n",
        "  print(\"Precision@2 = \",np.mean(precision_at_2))\n",
        "  print(\"Precision@1 = \",np.mean(precision_at_1))\n",
        "\n",
        "  print(\"Recall@10 = \",np.mean(recall_at_10))\n",
        "  print(\"Recall@5 = \",np.mean(recall_at_5))\n",
        "  print(\"Recall@2 = \",np.mean(recall_at_2))\n",
        "  print(\"Recall@1 = \",np.mean(recall_at_1))\n",
        "\n",
        "  print(\"MRR = \", np.mean(mrr))"
      ],
      "metadata": {
        "id": "Yh7zu7IDtAwI"
      },
      "execution_count": 28,
      "outputs": []
    },
    {
      "cell_type": "code",
      "source": [
        "evaluate_model_k_tracks_per_playlist(svd_model, 0, 2)"
      ],
      "metadata": {
        "colab": {
          "base_uri": "https://localhost:8080/"
        },
        "id": "HJ4cy2UsvdFs",
        "outputId": "f05fa148-5334-4836-980f-f2b89c8eb348"
      },
      "execution_count": 29,
      "outputs": [
        {
          "output_type": "stream",
          "name": "stderr",
          "text": [
            "Processing Slices: 0it [00:00, ?it/s]\n",
            "Iterations:   0%|          | 0/5 [00:00<?, ?it/s]\u001b[A\n",
            "Iterations:  20%|██        | 1/5 [00:09<00:39,  9.89s/it]\u001b[A\n",
            "Iterations:  40%|████      | 2/5 [00:17<00:25,  8.57s/it]\u001b[A\n",
            "Iterations:  60%|██████    | 3/5 [00:26<00:17,  8.64s/it]\u001b[A\n",
            "Iterations:  80%|████████  | 4/5 [00:34<00:08,  8.46s/it]\u001b[A\n",
            "Iterations: 100%|██████████| 5/5 [00:41<00:00,  8.34s/it]\n",
            "Processing Slices: 1it [00:42, 42.81s/it]\n",
            "Iterations:   0%|          | 0/5 [00:00<?, ?it/s]\u001b[A\n",
            "Iterations:  20%|██        | 1/5 [00:08<00:33,  8.31s/it]\u001b[A\n",
            "Iterations:  40%|████      | 2/5 [00:15<00:23,  7.70s/it]\u001b[A\n",
            "Iterations:  60%|██████    | 3/5 [00:23<00:15,  7.99s/it]\u001b[A\n",
            "Iterations:  80%|████████  | 4/5 [00:32<00:08,  8.20s/it]\u001b[A\n",
            "Iterations: 100%|██████████| 5/5 [00:39<00:00,  7.91s/it]\n",
            "Processing Slices: 2it [01:23, 41.97s/it]"
          ]
        },
        {
          "output_type": "stream",
          "name": "stdout",
          "text": [
            "\n",
            "Precision@10 =  0.00030000000000000003\n",
            "Precision@5 =  0.0004\n",
            "Precision@2 =  0.00025\n",
            "Precision@1 =  0.0\n",
            "Recall@10 =  6.264474196662435e-05\n",
            "Recall@5 =  4.081209387769486e-05\n",
            "Recall@2 =  3.2168821977739177e-06\n",
            "Recall@1 =  0.0\n",
            "MRR =  0.001848336071373832\n"
          ]
        },
        {
          "output_type": "stream",
          "name": "stderr",
          "text": [
            "\n"
          ]
        }
      ]
    },
    {
      "cell_type": "code",
      "source": [
        "evaluate_model_k_tracks_per_playlist(svd_model, 2, 4)"
      ],
      "metadata": {
        "colab": {
          "base_uri": "https://localhost:8080/"
        },
        "id": "Fn64MLgUtrLF",
        "outputId": "79a78ef2-0d7f-43a1-dbd0-7a940d7cb09e"
      },
      "execution_count": 30,
      "outputs": [
        {
          "output_type": "stream",
          "name": "stderr",
          "text": [
            "Processing Slices: 0it [00:00, ?it/s]\n",
            "Iterations:   0%|          | 0/5 [00:00<?, ?it/s]\u001b[A\n",
            "Iterations:  20%|██        | 1/5 [00:25<01:43, 25.90s/it]\u001b[A\n",
            "Iterations:  40%|████      | 2/5 [00:51<01:17, 25.82s/it]\u001b[A\n",
            "Iterations:  60%|██████    | 3/5 [01:17<00:51, 25.82s/it]\u001b[A\n",
            "Iterations:  80%|████████  | 4/5 [01:43<00:25, 25.82s/it]\u001b[A\n",
            "Iterations: 100%|██████████| 5/5 [02:08<00:00, 25.79s/it]\n",
            "Processing Slices: 1it [02:09, 129.96s/it]\n",
            "Iterations:   0%|          | 0/5 [00:00<?, ?it/s]\u001b[A\n",
            "Iterations:  20%|██        | 1/5 [00:25<01:43, 25.78s/it]\u001b[A\n",
            "Iterations:  40%|████      | 2/5 [00:52<01:19, 26.40s/it]\u001b[A\n",
            "Iterations:  60%|██████    | 3/5 [01:18<00:51, 25.96s/it]\u001b[A\n",
            "Iterations:  80%|████████  | 4/5 [01:43<00:25, 25.92s/it]\u001b[A\n",
            "Iterations: 100%|██████████| 5/5 [02:10<00:00, 26.03s/it]\n",
            "Processing Slices: 2it [04:21, 130.68s/it]\n",
            "Iterations:   0%|          | 0/5 [00:00<?, ?it/s]\u001b[A\n",
            "Iterations:  20%|██        | 1/5 [00:26<01:45, 26.36s/it]\u001b[A\n",
            "Iterations:  40%|████      | 2/5 [00:52<01:19, 26.35s/it]\u001b[A\n",
            "Iterations:  60%|██████    | 3/5 [01:18<00:52, 26.15s/it]\u001b[A\n",
            "Iterations:  80%|████████  | 4/5 [01:44<00:25, 25.99s/it]\u001b[A\n",
            "Iterations: 100%|██████████| 5/5 [02:10<00:00, 26.02s/it]\n",
            "Processing Slices: 3it [06:32, 130.97s/it]\n",
            "Iterations:   0%|          | 0/5 [00:00<?, ?it/s]\u001b[A\n",
            "Iterations:  20%|██        | 1/5 [00:26<01:46, 26.59s/it]\u001b[A\n",
            "Iterations:  40%|████      | 2/5 [00:52<01:18, 26.13s/it]\u001b[A\n",
            "Iterations:  60%|██████    | 3/5 [01:18<00:51, 25.99s/it]\u001b[A\n",
            "Iterations:  80%|████████  | 4/5 [01:43<00:25, 25.84s/it]\u001b[A\n",
            "Iterations: 100%|██████████| 5/5 [02:09<00:00, 25.90s/it]\n",
            "Processing Slices: 4it [08:43, 130.75s/it]"
          ]
        },
        {
          "output_type": "stream",
          "name": "stdout",
          "text": [
            "\n",
            "Precision@10 =  0.24295\n",
            "Precision@5 =  0.3152\n",
            "Precision@2 =  0.438375\n",
            "Precision@1 =  0.5285\n",
            "Recall@10 =  0.06330136319246144\n",
            "Recall@5 =  0.04380776802572256\n",
            "Recall@2 =  0.025926879421708005\n",
            "Recall@1 =  0.01632174506598679\n",
            "MRR =  0.6290238759262217\n"
          ]
        },
        {
          "output_type": "stream",
          "name": "stderr",
          "text": [
            "\n"
          ]
        }
      ]
    },
    {
      "cell_type": "code",
      "source": [
        "evaluate_model_k_tracks_per_playlist(svd_model, 5, 2)"
      ],
      "metadata": {
        "colab": {
          "base_uri": "https://localhost:8080/"
        },
        "id": "tSIgl1LsuoUN",
        "outputId": "383e1ec3-3e81-401d-ec23-efa3f6c65095"
      },
      "execution_count": 31,
      "outputs": [
        {
          "output_type": "stream",
          "name": "stderr",
          "text": [
            "Processing Slices: 0it [00:00, ?it/s]\n",
            "Iterations:   0%|          | 0/5 [00:00<?, ?it/s]\u001b[A\n",
            "Iterations:  20%|██        | 1/5 [00:25<01:42, 25.71s/it]\u001b[A\n",
            "Iterations:  40%|████      | 2/5 [00:52<01:18, 26.06s/it]\u001b[A\n",
            "Iterations:  60%|██████    | 3/5 [01:18<00:52, 26.29s/it]\u001b[A\n",
            "Iterations:  80%|████████  | 4/5 [01:44<00:26, 26.17s/it]\u001b[A\n",
            "Iterations: 100%|██████████| 5/5 [02:10<00:00, 26.06s/it]\n",
            "Processing Slices: 1it [02:11, 131.70s/it]\n",
            "Iterations:   0%|          | 0/5 [00:00<?, ?it/s]\u001b[A\n",
            "Iterations:  20%|██        | 1/5 [00:25<01:42, 25.70s/it]\u001b[A\n",
            "Iterations:  40%|████      | 2/5 [00:51<01:17, 25.77s/it]\u001b[A\n",
            "Iterations:  60%|██████    | 3/5 [01:17<00:51, 25.75s/it]\u001b[A\n",
            "Iterations:  80%|████████  | 4/5 [01:43<00:25, 25.76s/it]\u001b[A\n",
            "Iterations: 100%|██████████| 5/5 [02:08<00:00, 25.73s/it]\n",
            "Processing Slices: 2it [04:21, 130.70s/it]"
          ]
        },
        {
          "output_type": "stream",
          "name": "stdout",
          "text": [
            "\n",
            "Precision@10 =  0.32685\n",
            "Precision@5 =  0.43410000000000004\n",
            "Precision@2 =  0.58925\n",
            "Precision@1 =  0.6605000000000001\n",
            "Recall@10 =  0.09113562476911449\n",
            "Recall@5 =  0.06504773163880086\n",
            "Recall@2 =  0.03695360963676836\n",
            "Recall@1 =  0.02148666927425187\n",
            "MRR =  0.7468529047999132\n"
          ]
        },
        {
          "output_type": "stream",
          "name": "stderr",
          "text": [
            "\n"
          ]
        }
      ]
    },
    {
      "cell_type": "code",
      "source": [
        "evaluate_model_k_tracks_per_playlist(svd_model, 10, 2)"
      ],
      "metadata": {
        "colab": {
          "base_uri": "https://localhost:8080/"
        },
        "id": "eOFc3tu5uqRt",
        "outputId": "6eb9f93c-08b8-45b0-8769-4313249a27e3"
      },
      "execution_count": 32,
      "outputs": [
        {
          "output_type": "stream",
          "name": "stderr",
          "text": [
            "Processing Slices: 0it [00:00, ?it/s]\n",
            "Iterations:   0%|          | 0/5 [00:00<?, ?it/s]\u001b[A\n",
            "Iterations:  20%|██        | 1/5 [00:25<01:43, 25.80s/it]\u001b[A\n",
            "Iterations:  40%|████      | 2/5 [00:51<01:16, 25.53s/it]\u001b[A\n",
            "Iterations:  60%|██████    | 3/5 [01:17<00:51, 25.79s/it]\u001b[A\n",
            "Iterations:  80%|████████  | 4/5 [01:43<00:26, 26.06s/it]\u001b[A\n",
            "Iterations: 100%|██████████| 5/5 [02:10<00:00, 26.05s/it]\n",
            "Processing Slices: 1it [02:11, 131.90s/it]\n",
            "Iterations:   0%|          | 0/5 [00:00<?, ?it/s]\u001b[A\n",
            "Iterations:  20%|██        | 1/5 [00:26<01:45, 26.35s/it]\u001b[A\n",
            "Iterations:  40%|████      | 2/5 [00:52<01:18, 26.14s/it]\u001b[A\n",
            "Iterations:  60%|██████    | 3/5 [01:18<00:51, 25.96s/it]\u001b[A\n",
            "Iterations:  80%|████████  | 4/5 [01:43<00:25, 25.92s/it]\u001b[A\n",
            "Iterations: 100%|██████████| 5/5 [02:09<00:00, 25.95s/it]\n",
            "Processing Slices: 2it [04:22, 131.34s/it]"
          ]
        },
        {
          "output_type": "stream",
          "name": "stdout",
          "text": [
            "\n",
            "Precision@10 =  0.42064999999999997\n",
            "Precision@5 =  0.5491\n",
            "Precision@2 =  0.68225\n",
            "Precision@1 =  0.7535000000000001\n",
            "Recall@10 =  0.1189886145214901\n",
            "Recall@5 =  0.08238090328032377\n",
            "Recall@2 =  0.042616841229687494\n",
            "Recall@1 =  0.024308830337788467\n",
            "MRR =  0.8106560611585234\n"
          ]
        },
        {
          "output_type": "stream",
          "name": "stderr",
          "text": [
            "\n"
          ]
        }
      ]
    }
  ]
}