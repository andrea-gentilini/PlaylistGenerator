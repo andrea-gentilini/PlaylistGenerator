{
  "nbformat": 4,
  "nbformat_minor": 0,
  "metadata": {
    "colab": {
      "provenance": []
    },
    "kernelspec": {
      "name": "python3",
      "display_name": "Python 3"
    },
    "language_info": {
      "name": "python"
    }
  },
  "cells": [
    {
      "cell_type": "markdown",
      "source": [
        "# Data analysis"
      ],
      "metadata": {
        "id": "hjd78M4KMnnv"
      }
    },
    {
      "cell_type": "markdown",
      "source": [
        "## Import dependencies"
      ],
      "metadata": {
        "id": "nKZR5JNZ_9Hw"
      }
    },
    {
      "cell_type": "code",
      "source": [
        "import os\n",
        "import json\n",
        "import numpy as np\n",
        "import pandas as pd\n",
        "import random\n",
        "import zipfile\n",
        "import matplotlib.pyplot as plt\n",
        "import torch\n",
        "from torch.utils.data import Dataset, DataLoader, random_split\n",
        "from sklearn.preprocessing import StandardScaler\n",
        "from sklearn.model_selection import train_test_split\n",
        "from tqdm import tqdm\n",
        "import seaborn as sns\n"
      ],
      "metadata": {
        "id": "15Za5BUU2URc"
      },
      "execution_count": 1,
      "outputs": []
    },
    {
      "cell_type": "markdown",
      "source": [
        "## Downloading the data"
      ],
      "metadata": {
        "id": "zkV_hx2XUSrf"
      }
    },
    {
      "cell_type": "code",
      "source": [
        "import kagglehub\n",
        "\n",
        "path = \"/root/.cache/kagglehub/datasets/himanshuwagh/spotify-million/versions/1\"\n",
        "if not os.path.exists(path):\n",
        "  # Download latest version\n",
        "  path = kagglehub.dataset_download(\"himanshuwagh/spotify-million\")\n",
        "\n",
        "  print(\"Path to dataset files:\", path)"
      ],
      "metadata": {
        "id": "Iu2zI1T_Buo1",
        "colab": {
          "base_uri": "https://localhost:8080/"
        },
        "outputId": "abde76a5-b7f8-4994-f3c7-2add69410cf1"
      },
      "execution_count": 2,
      "outputs": [
        {
          "output_type": "stream",
          "name": "stdout",
          "text": [
            "Downloading from https://www.kaggle.com/api/v1/datasets/download/himanshuwagh/spotify-million?dataset_version_number=1...\n"
          ]
        },
        {
          "output_type": "stream",
          "name": "stderr",
          "text": [
            "100%|██████████| 5.20G/5.20G [00:48<00:00, 115MB/s]"
          ]
        },
        {
          "output_type": "stream",
          "name": "stdout",
          "text": [
            "Extracting files...\n"
          ]
        },
        {
          "output_type": "stream",
          "name": "stderr",
          "text": [
            "\n"
          ]
        },
        {
          "output_type": "stream",
          "name": "stdout",
          "text": [
            "Path to dataset files: /root/.cache/kagglehub/datasets/himanshuwagh/spotify-million/versions/1\n"
          ]
        }
      ]
    },
    {
      "cell_type": "markdown",
      "source": [
        "## What type of data do we have? What do we need?"
      ],
      "metadata": {
        "id": "9R7C1kcOAFK_"
      }
    },
    {
      "cell_type": "code",
      "source": [
        "print(os.listdir(path))"
      ],
      "metadata": {
        "colab": {
          "base_uri": "https://localhost:8080/"
        },
        "id": "k8_Pi4YxS9DP",
        "outputId": "853fcdfd-53f9-4185-d1d9-585279f38740"
      },
      "execution_count": 3,
      "outputs": [
        {
          "output_type": "stream",
          "name": "stdout",
          "text": [
            "['license.txt', 'src', 'README.md', 'stats.txt', 'data', 'md5sums']\n"
          ]
        }
      ]
    },
    {
      "cell_type": "code",
      "source": [
        "mpdslices_dir: str = os.path.join(path, \"data\")\n",
        "mpdslices_lst = sorted(os.listdir(mpdslices_dir))\n",
        "print(mpdslices_dir,\n",
        "      ':\\n [', mpdslices_lst[0], \", ... ,\", mpdslices_lst[-1],']')"
      ],
      "metadata": {
        "colab": {
          "base_uri": "https://localhost:8080/"
        },
        "id": "_L05rU9xPRc6",
        "outputId": "be1aa613-1030-4ed2-9397-1de403740b15"
      },
      "execution_count": 4,
      "outputs": [
        {
          "output_type": "stream",
          "name": "stdout",
          "text": [
            "/root/.cache/kagglehub/datasets/himanshuwagh/spotify-million/versions/1/data :\n",
            " [ mpd.slice.0-999.json , ... , mpd.slice.999000-999999.json ]\n"
          ]
        }
      ]
    },
    {
      "cell_type": "code",
      "source": [
        "all_slices = [f for f in mpdslices_lst if f.startswith(\"mpd.slice.\") and f.endswith(\".json\")]\n",
        "print('The dataset is splitted into', len(all_slices),'slices, each one is a JSON files')\n",
        "\n",
        "es = dict\n",
        "with open(os.path.join(mpdslices_dir, all_slices[0]), 'r') as f:\n",
        "        es = json.load(f)"
      ],
      "metadata": {
        "colab": {
          "base_uri": "https://localhost:8080/"
        },
        "id": "FR37hoHaCKV5",
        "outputId": "42f0d301-4b8a-4a70-ef25-d60e8da8323f"
      },
      "execution_count": 5,
      "outputs": [
        {
          "output_type": "stream",
          "name": "stdout",
          "text": [
            "The dataset is splitted into 1000 slices, each one is a JSON files\n"
          ]
        }
      ]
    },
    {
      "cell_type": "code",
      "source": [
        "print(f'the type of the data extracted is {type(es)}')"
      ],
      "metadata": {
        "colab": {
          "base_uri": "https://localhost:8080/"
        },
        "id": "udkuUNkhCQiF",
        "outputId": "f2577dcd-de8a-4455-c8c3-3b5ceed5cf84"
      },
      "execution_count": 6,
      "outputs": [
        {
          "output_type": "stream",
          "name": "stdout",
          "text": [
            "the type of the data extracted is <class 'dict'>\n"
          ]
        }
      ]
    },
    {
      "cell_type": "markdown",
      "source": [
        "Vediamo ora che dati dobbiamo maneggiare:"
      ],
      "metadata": {
        "id": "YiGFuvmzB-a7"
      }
    },
    {
      "cell_type": "markdown",
      "source": [
        "Dalle documentazioni abbiamo visto che ogni slice è un dizionario con chiavi 'info' e 'playlists'.\n",
        "che c'è scritto su 'info'?"
      ],
      "metadata": {
        "id": "ZpoTDYY2CfGs"
      }
    },
    {
      "cell_type": "code",
      "source": [
        "print(es['info'])"
      ],
      "metadata": {
        "colab": {
          "base_uri": "https://localhost:8080/"
        },
        "id": "pkebRgPkC48x",
        "outputId": "6dfd5c29-91fe-406c-9c7a-3b0b3837b85d"
      },
      "execution_count": 7,
      "outputs": [
        {
          "output_type": "stream",
          "name": "stdout",
          "text": [
            "{'generated_on': '2017-12-03 08:41:42.057563', 'slice': '0-999', 'version': 'v1'}\n"
          ]
        }
      ]
    },
    {
      "cell_type": "markdown",
      "source": [
        "Nulla di interessante, ora vediamo 'playlists'"
      ],
      "metadata": {
        "id": "K5wyVU6ZDHB_"
      }
    },
    {
      "cell_type": "code",
      "source": [
        "print(type(es))\n",
        "print(list(es['playlists'][0].keys()))\n",
        "print(list(es['playlists'][0]['tracks'][0].keys()))\n",
        "print('\\nFirst song of the first playlist:')\n",
        "es['playlists'][0]['tracks'][0]"
      ],
      "metadata": {
        "colab": {
          "base_uri": "https://localhost:8080/"
        },
        "id": "QHm5hj50DXkr",
        "outputId": "ce921737-82de-42f0-f028-38428b07131f"
      },
      "execution_count": 8,
      "outputs": [
        {
          "output_type": "stream",
          "name": "stdout",
          "text": [
            "<class 'dict'>\n",
            "['name', 'collaborative', 'pid', 'modified_at', 'num_tracks', 'num_albums', 'num_followers', 'tracks', 'num_edits', 'duration_ms', 'num_artists']\n",
            "['pos', 'artist_name', 'track_uri', 'artist_uri', 'track_name', 'album_uri', 'duration_ms', 'album_name']\n",
            "\n",
            "First song of the first playlist:\n"
          ]
        },
        {
          "output_type": "execute_result",
          "data": {
            "text/plain": [
              "{'pos': 0,\n",
              " 'artist_name': 'Missy Elliott',\n",
              " 'track_uri': 'spotify:track:0UaMYEvWZi0ZqiDOoHU3YI',\n",
              " 'artist_uri': 'spotify:artist:2wIVse2owClT7go1WT98tk',\n",
              " 'track_name': 'Lose Control (feat. Ciara & Fat Man Scoop)',\n",
              " 'album_uri': 'spotify:album:6vV5UrXcfyQD1wu4Qo2I9K',\n",
              " 'duration_ms': 226863,\n",
              " 'album_name': 'The Cookbook'}"
            ]
          },
          "metadata": {},
          "execution_count": 8
        }
      ]
    },
    {
      "cell_type": "markdown",
      "source": [
        "Segnamoci ora gli attributi che ci interessano (essendo generosi)"
      ],
      "metadata": {
        "id": "ZVEPgev5D90x"
      }
    },
    {
      "cell_type": "code",
      "source": [
        "keep_p = ['name', 'pid', 'num_tracks', 'num_albums', 'num_followers',\n",
        "           'num_edits', 'duration_ms', 'num_artists', 'collaborative']\n",
        "# we still keep 'tracks' but its a special case\n",
        "keep_t = ['track_name', 'artist_name', 'track_uri']\n",
        "# this way we only save the useful stuff from the JSON file"
      ],
      "metadata": {
        "id": "uUFGSUA1ER-8"
      },
      "execution_count": 9,
      "outputs": []
    },
    {
      "cell_type": "markdown",
      "source": [
        "## Creating the dataframe"
      ],
      "metadata": {
        "id": "fhES08MdAQuD"
      }
    },
    {
      "cell_type": "code",
      "source": [
        "subset_size = 100\n",
        "chosen_slices = random.sample(all_slices, subset_size)\n",
        "print(f\"{subset_size} JSON files selected\")"
      ],
      "metadata": {
        "colab": {
          "base_uri": "https://localhost:8080/"
        },
        "id": "w6jfHWKmN_lh",
        "outputId": "2e826247-ac3a-4f7c-bc85-52d9b32a291f"
      },
      "execution_count": 10,
      "outputs": [
        {
          "output_type": "stream",
          "name": "stdout",
          "text": [
            "100 JSON files selected\n"
          ]
        }
      ]
    },
    {
      "cell_type": "markdown",
      "source": [
        "Inizializziamo ora delle tavole utili per dopo"
      ],
      "metadata": {
        "id": "Tpg3JFHTVEcr"
      }
    },
    {
      "cell_type": "code",
      "source": [
        "tracks = set() # set che uso per sapere se ho gia inserito la canzone (uso uri)\n",
        "uri_to_idx = dict() # associo ad ogni uri ad un indice\n",
        "idx_to_uri = dict() # nel caso mi servisse\n",
        "coll_enc = {'true':1, 'false':0} # solo per avere valore numerico"
      ],
      "metadata": {
        "id": "NQzDxch9evbL"
      },
      "execution_count": 11,
      "outputs": []
    },
    {
      "cell_type": "markdown",
      "source": [
        "Ed ora costruiamo il dataset con la seguente struttura:\n",
        "* Nelle prime colonne abbiamo le feature contenute in `keep_p`, (di tipo dizionario).\n",
        "* Nella colonna tracks abbiamo una lista di dizionari\n",
        "ed ognuno contiene le feature in `keep_t`, (sempre di tipo dizionario).\n",
        "\n",
        "\n",
        "\n",
        "\n",
        "\n",
        "\n",
        "\n"
      ],
      "metadata": {
        "id": "ku844hdNVxYD"
      }
    },
    {
      "cell_type": "code",
      "source": [
        "data_playlists = []"
      ],
      "metadata": {
        "id": "dI06xwRWAL4W"
      },
      "execution_count": 12,
      "outputs": []
    },
    {
      "cell_type": "code",
      "source": [
        "idx = 0\n",
        "for file in chosen_slices:\n",
        "    fp = os.path.join(mpdslices_dir, file)\n",
        "    with open(fp, 'r', encoding='utf8') as f:\n",
        "        data = json.load(f)\n",
        "\n",
        "        for playlist in data[\"playlists\"]:\n",
        "            playl = {field : playlist[field] for field in keep_p}\n",
        "            playl['collaborative'] = coll_enc[playlist['collaborative']]\n",
        "\n",
        "            tracce = []\n",
        "            for track in playlist['tracks']:\n",
        "                song = {field: track[field] for field in keep_t}\n",
        "                uri = track['track_uri'][14:] # per evitare la parte 'spotify:track:'\n",
        "\n",
        "                if uri not in tracks:\n",
        "                    song['track_id'] = idx # sostituisco id uri con nuovo id numerico.\n",
        "                    tracks.add(uri)        # aggiungo uri alle canzoni totali che ho.\n",
        "                    uri_to_idx[uri] = idx  # mi salvo la corrispondenza\n",
        "                    idx_to_uri[idx] = uri  # biunivoca tra uri e indici\n",
        "                    idx += 1\n",
        "                else:\n",
        "                    song['track_id'] = uri_to_idx[uri]\n",
        "                    # sostituisco id uri con id numerico che gia ho.\n",
        "\n",
        "                tracce += [song]\n",
        "            playl['tracks'] = tracce\n",
        "            data_playlists += [playl]"
      ],
      "metadata": {
        "id": "WdlxpoKURad_"
      },
      "execution_count": 13,
      "outputs": []
    },
    {
      "cell_type": "code",
      "source": [
        "os.system(f\"rm -rf {mpdslices_dir}\")"
      ],
      "metadata": {
        "colab": {
          "base_uri": "https://localhost:8080/"
        },
        "id": "NeDq8eE9k9DR",
        "outputId": "c04b3f20-f59a-442f-8baf-b35d2ae9d184"
      },
      "execution_count": 14,
      "outputs": [
        {
          "output_type": "execute_result",
          "data": {
            "text/plain": [
              "0"
            ]
          },
          "metadata": {},
          "execution_count": 14
        }
      ]
    },
    {
      "cell_type": "code",
      "source": [
        "#Of course we convert the list of dictionaries into a pandas DataFrame\n",
        "df = pd.DataFrame(data_playlists)\n",
        "\n",
        "#Display the DataFrame\n",
        "df.head()"
      ],
      "metadata": {
        "colab": {
          "base_uri": "https://localhost:8080/",
          "height": 206
        },
        "id": "qgKgZQXSiPLt",
        "outputId": "94052289-5abe-4e21-a836-189e36ef7499"
      },
      "execution_count": 15,
      "outputs": [
        {
          "output_type": "execute_result",
          "data": {
            "text/plain": [
              "                      name     pid  num_tracks  num_albums  num_followers  \\\n",
              "0           Coachella 2013  584000          60          58              2   \n",
              "1                      sad  584001          34          28              1   \n",
              "2                  electro  584002         139         112              3   \n",
              "3  Started From the Bottom  584003          27          16              1   \n",
              "4                    Kanye  584004          51          10              1   \n",
              "\n",
              "   num_edits  duration_ms  num_artists  collaborative  \\\n",
              "0          5     14568164           57              1   \n",
              "1         26      7464918           21              0   \n",
              "2         30     31860880           82              0   \n",
              "3          3      7289486            9              0   \n",
              "4          3     13188888            4              0   \n",
              "\n",
              "                                              tracks  \n",
              "0  [{'track_name': 'Mountain Sound', 'artist_name...  \n",
              "1  [{'track_name': 'I Fall Apart', 'artist_name':...  \n",
              "2  [{'track_name': 'Say My Name', 'artist_name': ...  \n",
              "3  [{'track_name': 'Started From the Bottom', 'ar...  \n",
              "4  [{'track_name': 'To The World', 'artist_name':...  "
            ],
            "text/html": [
              "\n",
              "  <div id=\"df-ce15e94d-f1e7-4777-a8a0-aa0e922ffb41\" class=\"colab-df-container\">\n",
              "    <div>\n",
              "<style scoped>\n",
              "    .dataframe tbody tr th:only-of-type {\n",
              "        vertical-align: middle;\n",
              "    }\n",
              "\n",
              "    .dataframe tbody tr th {\n",
              "        vertical-align: top;\n",
              "    }\n",
              "\n",
              "    .dataframe thead th {\n",
              "        text-align: right;\n",
              "    }\n",
              "</style>\n",
              "<table border=\"1\" class=\"dataframe\">\n",
              "  <thead>\n",
              "    <tr style=\"text-align: right;\">\n",
              "      <th></th>\n",
              "      <th>name</th>\n",
              "      <th>pid</th>\n",
              "      <th>num_tracks</th>\n",
              "      <th>num_albums</th>\n",
              "      <th>num_followers</th>\n",
              "      <th>num_edits</th>\n",
              "      <th>duration_ms</th>\n",
              "      <th>num_artists</th>\n",
              "      <th>collaborative</th>\n",
              "      <th>tracks</th>\n",
              "    </tr>\n",
              "  </thead>\n",
              "  <tbody>\n",
              "    <tr>\n",
              "      <th>0</th>\n",
              "      <td>Coachella 2013</td>\n",
              "      <td>584000</td>\n",
              "      <td>60</td>\n",
              "      <td>58</td>\n",
              "      <td>2</td>\n",
              "      <td>5</td>\n",
              "      <td>14568164</td>\n",
              "      <td>57</td>\n",
              "      <td>1</td>\n",
              "      <td>[{'track_name': 'Mountain Sound', 'artist_name...</td>\n",
              "    </tr>\n",
              "    <tr>\n",
              "      <th>1</th>\n",
              "      <td>sad</td>\n",
              "      <td>584001</td>\n",
              "      <td>34</td>\n",
              "      <td>28</td>\n",
              "      <td>1</td>\n",
              "      <td>26</td>\n",
              "      <td>7464918</td>\n",
              "      <td>21</td>\n",
              "      <td>0</td>\n",
              "      <td>[{'track_name': 'I Fall Apart', 'artist_name':...</td>\n",
              "    </tr>\n",
              "    <tr>\n",
              "      <th>2</th>\n",
              "      <td>electro</td>\n",
              "      <td>584002</td>\n",
              "      <td>139</td>\n",
              "      <td>112</td>\n",
              "      <td>3</td>\n",
              "      <td>30</td>\n",
              "      <td>31860880</td>\n",
              "      <td>82</td>\n",
              "      <td>0</td>\n",
              "      <td>[{'track_name': 'Say My Name', 'artist_name': ...</td>\n",
              "    </tr>\n",
              "    <tr>\n",
              "      <th>3</th>\n",
              "      <td>Started From the Bottom</td>\n",
              "      <td>584003</td>\n",
              "      <td>27</td>\n",
              "      <td>16</td>\n",
              "      <td>1</td>\n",
              "      <td>3</td>\n",
              "      <td>7289486</td>\n",
              "      <td>9</td>\n",
              "      <td>0</td>\n",
              "      <td>[{'track_name': 'Started From the Bottom', 'ar...</td>\n",
              "    </tr>\n",
              "    <tr>\n",
              "      <th>4</th>\n",
              "      <td>Kanye</td>\n",
              "      <td>584004</td>\n",
              "      <td>51</td>\n",
              "      <td>10</td>\n",
              "      <td>1</td>\n",
              "      <td>3</td>\n",
              "      <td>13188888</td>\n",
              "      <td>4</td>\n",
              "      <td>0</td>\n",
              "      <td>[{'track_name': 'To The World', 'artist_name':...</td>\n",
              "    </tr>\n",
              "  </tbody>\n",
              "</table>\n",
              "</div>\n",
              "    <div class=\"colab-df-buttons\">\n",
              "\n",
              "  <div class=\"colab-df-container\">\n",
              "    <button class=\"colab-df-convert\" onclick=\"convertToInteractive('df-ce15e94d-f1e7-4777-a8a0-aa0e922ffb41')\"\n",
              "            title=\"Convert this dataframe to an interactive table.\"\n",
              "            style=\"display:none;\">\n",
              "\n",
              "  <svg xmlns=\"http://www.w3.org/2000/svg\" height=\"24px\" viewBox=\"0 -960 960 960\">\n",
              "    <path d=\"M120-120v-720h720v720H120Zm60-500h600v-160H180v160Zm220 220h160v-160H400v160Zm0 220h160v-160H400v160ZM180-400h160v-160H180v160Zm440 0h160v-160H620v160ZM180-180h160v-160H180v160Zm440 0h160v-160H620v160Z\"/>\n",
              "  </svg>\n",
              "    </button>\n",
              "\n",
              "  <style>\n",
              "    .colab-df-container {\n",
              "      display:flex;\n",
              "      gap: 12px;\n",
              "    }\n",
              "\n",
              "    .colab-df-convert {\n",
              "      background-color: #E8F0FE;\n",
              "      border: none;\n",
              "      border-radius: 50%;\n",
              "      cursor: pointer;\n",
              "      display: none;\n",
              "      fill: #1967D2;\n",
              "      height: 32px;\n",
              "      padding: 0 0 0 0;\n",
              "      width: 32px;\n",
              "    }\n",
              "\n",
              "    .colab-df-convert:hover {\n",
              "      background-color: #E2EBFA;\n",
              "      box-shadow: 0px 1px 2px rgba(60, 64, 67, 0.3), 0px 1px 3px 1px rgba(60, 64, 67, 0.15);\n",
              "      fill: #174EA6;\n",
              "    }\n",
              "\n",
              "    .colab-df-buttons div {\n",
              "      margin-bottom: 4px;\n",
              "    }\n",
              "\n",
              "    [theme=dark] .colab-df-convert {\n",
              "      background-color: #3B4455;\n",
              "      fill: #D2E3FC;\n",
              "    }\n",
              "\n",
              "    [theme=dark] .colab-df-convert:hover {\n",
              "      background-color: #434B5C;\n",
              "      box-shadow: 0px 1px 3px 1px rgba(0, 0, 0, 0.15);\n",
              "      filter: drop-shadow(0px 1px 2px rgba(0, 0, 0, 0.3));\n",
              "      fill: #FFFFFF;\n",
              "    }\n",
              "  </style>\n",
              "\n",
              "    <script>\n",
              "      const buttonEl =\n",
              "        document.querySelector('#df-ce15e94d-f1e7-4777-a8a0-aa0e922ffb41 button.colab-df-convert');\n",
              "      buttonEl.style.display =\n",
              "        google.colab.kernel.accessAllowed ? 'block' : 'none';\n",
              "\n",
              "      async function convertToInteractive(key) {\n",
              "        const element = document.querySelector('#df-ce15e94d-f1e7-4777-a8a0-aa0e922ffb41');\n",
              "        const dataTable =\n",
              "          await google.colab.kernel.invokeFunction('convertToInteractive',\n",
              "                                                    [key], {});\n",
              "        if (!dataTable) return;\n",
              "\n",
              "        const docLinkHtml = 'Like what you see? Visit the ' +\n",
              "          '<a target=\"_blank\" href=https://colab.research.google.com/notebooks/data_table.ipynb>data table notebook</a>'\n",
              "          + ' to learn more about interactive tables.';\n",
              "        element.innerHTML = '';\n",
              "        dataTable['output_type'] = 'display_data';\n",
              "        await google.colab.output.renderOutput(dataTable, element);\n",
              "        const docLink = document.createElement('div');\n",
              "        docLink.innerHTML = docLinkHtml;\n",
              "        element.appendChild(docLink);\n",
              "      }\n",
              "    </script>\n",
              "  </div>\n",
              "\n",
              "\n",
              "<div id=\"df-077e67e7-1309-4a4b-9c59-baab25db498b\">\n",
              "  <button class=\"colab-df-quickchart\" onclick=\"quickchart('df-077e67e7-1309-4a4b-9c59-baab25db498b')\"\n",
              "            title=\"Suggest charts\"\n",
              "            style=\"display:none;\">\n",
              "\n",
              "<svg xmlns=\"http://www.w3.org/2000/svg\" height=\"24px\"viewBox=\"0 0 24 24\"\n",
              "     width=\"24px\">\n",
              "    <g>\n",
              "        <path d=\"M19 3H5c-1.1 0-2 .9-2 2v14c0 1.1.9 2 2 2h14c1.1 0 2-.9 2-2V5c0-1.1-.9-2-2-2zM9 17H7v-7h2v7zm4 0h-2V7h2v10zm4 0h-2v-4h2v4z\"/>\n",
              "    </g>\n",
              "</svg>\n",
              "  </button>\n",
              "\n",
              "<style>\n",
              "  .colab-df-quickchart {\n",
              "      --bg-color: #E8F0FE;\n",
              "      --fill-color: #1967D2;\n",
              "      --hover-bg-color: #E2EBFA;\n",
              "      --hover-fill-color: #174EA6;\n",
              "      --disabled-fill-color: #AAA;\n",
              "      --disabled-bg-color: #DDD;\n",
              "  }\n",
              "\n",
              "  [theme=dark] .colab-df-quickchart {\n",
              "      --bg-color: #3B4455;\n",
              "      --fill-color: #D2E3FC;\n",
              "      --hover-bg-color: #434B5C;\n",
              "      --hover-fill-color: #FFFFFF;\n",
              "      --disabled-bg-color: #3B4455;\n",
              "      --disabled-fill-color: #666;\n",
              "  }\n",
              "\n",
              "  .colab-df-quickchart {\n",
              "    background-color: var(--bg-color);\n",
              "    border: none;\n",
              "    border-radius: 50%;\n",
              "    cursor: pointer;\n",
              "    display: none;\n",
              "    fill: var(--fill-color);\n",
              "    height: 32px;\n",
              "    padding: 0;\n",
              "    width: 32px;\n",
              "  }\n",
              "\n",
              "  .colab-df-quickchart:hover {\n",
              "    background-color: var(--hover-bg-color);\n",
              "    box-shadow: 0 1px 2px rgba(60, 64, 67, 0.3), 0 1px 3px 1px rgba(60, 64, 67, 0.15);\n",
              "    fill: var(--button-hover-fill-color);\n",
              "  }\n",
              "\n",
              "  .colab-df-quickchart-complete:disabled,\n",
              "  .colab-df-quickchart-complete:disabled:hover {\n",
              "    background-color: var(--disabled-bg-color);\n",
              "    fill: var(--disabled-fill-color);\n",
              "    box-shadow: none;\n",
              "  }\n",
              "\n",
              "  .colab-df-spinner {\n",
              "    border: 2px solid var(--fill-color);\n",
              "    border-color: transparent;\n",
              "    border-bottom-color: var(--fill-color);\n",
              "    animation:\n",
              "      spin 1s steps(1) infinite;\n",
              "  }\n",
              "\n",
              "  @keyframes spin {\n",
              "    0% {\n",
              "      border-color: transparent;\n",
              "      border-bottom-color: var(--fill-color);\n",
              "      border-left-color: var(--fill-color);\n",
              "    }\n",
              "    20% {\n",
              "      border-color: transparent;\n",
              "      border-left-color: var(--fill-color);\n",
              "      border-top-color: var(--fill-color);\n",
              "    }\n",
              "    30% {\n",
              "      border-color: transparent;\n",
              "      border-left-color: var(--fill-color);\n",
              "      border-top-color: var(--fill-color);\n",
              "      border-right-color: var(--fill-color);\n",
              "    }\n",
              "    40% {\n",
              "      border-color: transparent;\n",
              "      border-right-color: var(--fill-color);\n",
              "      border-top-color: var(--fill-color);\n",
              "    }\n",
              "    60% {\n",
              "      border-color: transparent;\n",
              "      border-right-color: var(--fill-color);\n",
              "    }\n",
              "    80% {\n",
              "      border-color: transparent;\n",
              "      border-right-color: var(--fill-color);\n",
              "      border-bottom-color: var(--fill-color);\n",
              "    }\n",
              "    90% {\n",
              "      border-color: transparent;\n",
              "      border-bottom-color: var(--fill-color);\n",
              "    }\n",
              "  }\n",
              "</style>\n",
              "\n",
              "  <script>\n",
              "    async function quickchart(key) {\n",
              "      const quickchartButtonEl =\n",
              "        document.querySelector('#' + key + ' button');\n",
              "      quickchartButtonEl.disabled = true;  // To prevent multiple clicks.\n",
              "      quickchartButtonEl.classList.add('colab-df-spinner');\n",
              "      try {\n",
              "        const charts = await google.colab.kernel.invokeFunction(\n",
              "            'suggestCharts', [key], {});\n",
              "      } catch (error) {\n",
              "        console.error('Error during call to suggestCharts:', error);\n",
              "      }\n",
              "      quickchartButtonEl.classList.remove('colab-df-spinner');\n",
              "      quickchartButtonEl.classList.add('colab-df-quickchart-complete');\n",
              "    }\n",
              "    (() => {\n",
              "      let quickchartButtonEl =\n",
              "        document.querySelector('#df-077e67e7-1309-4a4b-9c59-baab25db498b button');\n",
              "      quickchartButtonEl.style.display =\n",
              "        google.colab.kernel.accessAllowed ? 'block' : 'none';\n",
              "    })();\n",
              "  </script>\n",
              "</div>\n",
              "\n",
              "    </div>\n",
              "  </div>\n"
            ],
            "application/vnd.google.colaboratory.intrinsic+json": {
              "type": "dataframe",
              "variable_name": "df",
              "summary": "{\n  \"name\": \"df\",\n  \"rows\": 100000,\n  \"fields\": [\n    {\n      \"column\": \"name\",\n      \"properties\": {\n        \"dtype\": \"category\",\n        \"num_unique_values\": 29522,\n        \"samples\": [\n          \"banda 2\",\n          \"Turnup\",\n          \"ODESZA \"\n        ],\n        \"semantic_type\": \"\",\n        \"description\": \"\"\n      }\n    },\n    {\n      \"column\": \"pid\",\n      \"properties\": {\n        \"dtype\": \"number\",\n        \"std\": 309662,\n        \"min\": 17000,\n        \"max\": 992999,\n        \"num_unique_values\": 100000,\n        \"samples\": [\n          264721,\n          958184,\n          710864\n        ],\n        \"semantic_type\": \"\",\n        \"description\": \"\"\n      }\n    },\n    {\n      \"column\": \"num_tracks\",\n      \"properties\": {\n        \"dtype\": \"number\",\n        \"std\": 53,\n        \"min\": 5,\n        \"max\": 250,\n        \"num_unique_values\": 246,\n        \"samples\": [\n          137,\n          41,\n          151\n        ],\n        \"semantic_type\": \"\",\n        \"description\": \"\"\n      }\n    },\n    {\n      \"column\": \"num_albums\",\n      \"properties\": {\n        \"dtype\": \"number\",\n        \"std\": 39,\n        \"min\": 2,\n        \"max\": 242,\n        \"num_unique_values\": 235,\n        \"samples\": [\n          49,\n          162,\n          218\n        ],\n        \"semantic_type\": \"\",\n        \"description\": \"\"\n      }\n    },\n    {\n      \"column\": \"num_followers\",\n      \"properties\": {\n        \"dtype\": \"number\",\n        \"std\": 56,\n        \"min\": 1,\n        \"max\": 7973,\n        \"num_unique_values\": 165,\n        \"samples\": [\n          253,\n          51,\n          2593\n        ],\n        \"semantic_type\": \"\",\n        \"description\": \"\"\n      }\n    },\n    {\n      \"column\": \"num_edits\",\n      \"properties\": {\n        \"dtype\": \"number\",\n        \"std\": 20,\n        \"min\": 1,\n        \"max\": 195,\n        \"num_unique_values\": 178,\n        \"samples\": [\n          15,\n          29,\n          124\n        ],\n        \"semantic_type\": \"\",\n        \"description\": \"\"\n      }\n    },\n    {\n      \"column\": \"duration_ms\",\n      \"properties\": {\n        \"dtype\": \"number\",\n        \"std\": 12782386,\n        \"min\": 235739,\n        \"max\": 142634741,\n        \"num_unique_values\": 99701,\n        \"samples\": [\n          23312128,\n          28622995,\n          5753981\n        ],\n        \"semantic_type\": \"\",\n        \"description\": \"\"\n      }\n    },\n    {\n      \"column\": \"num_artists\",\n      \"properties\": {\n        \"dtype\": \"number\",\n        \"std\": 30,\n        \"min\": 3,\n        \"max\": 230,\n        \"num_unique_values\": 210,\n        \"samples\": [\n          63,\n          181,\n          65\n        ],\n        \"semantic_type\": \"\",\n        \"description\": \"\"\n      }\n    },\n    {\n      \"column\": \"collaborative\",\n      \"properties\": {\n        \"dtype\": \"number\",\n        \"std\": 0,\n        \"min\": 0,\n        \"max\": 1,\n        \"num_unique_values\": 2,\n        \"samples\": [\n          0,\n          1\n        ],\n        \"semantic_type\": \"\",\n        \"description\": \"\"\n      }\n    },\n    {\n      \"column\": \"tracks\",\n      \"properties\": {\n        \"dtype\": \"object\",\n        \"semantic_type\": \"\",\n        \"description\": \"\"\n      }\n    }\n  ]\n}"
            }
          },
          "metadata": {},
          "execution_count": 15
        }
      ]
    },
    {
      "cell_type": "markdown",
      "source": [
        "## Data visualization"
      ],
      "metadata": {
        "id": "9S_jNkKaAWrq"
      }
    },
    {
      "cell_type": "markdown",
      "source": [
        "### Using stats.txt"
      ],
      "metadata": {
        "id": "F5XtkXjX_4U3"
      }
    },
    {
      "cell_type": "markdown",
      "source": [
        "Cosa dice stats.txt?"
      ],
      "metadata": {
        "id": "PZNl9TCX_zsR"
      }
    },
    {
      "cell_type": "code",
      "source": [
        "stats_path = os.path.join(path, 'stats.txt')\n",
        "with open(stats_path, 'r') as f:\n",
        "    stats = f.read()\n",
        "print(stats)\n",
        "del stats"
      ],
      "metadata": {
        "colab": {
          "base_uri": "https://localhost:8080/"
        },
        "id": "tsqZZWeJ_5EL",
        "outputId": "fb4856d9-4ea8-4346-b6d5-7b15f13170ea"
      },
      "execution_count": 16,
      "outputs": [
        {
          "output_type": "stream",
          "name": "stdout",
          "text": [
            "\n",
            "number of playlists 1000000\n",
            "number of tracks 66346428\n",
            "number of unique tracks 2262292\n",
            "number of unique albums 734684\n",
            "number of unique artists 295860\n",
            "number of unique titles 92944\n",
            "number of playlists with descriptions 18760\n",
            "number of unique normalized titles 17381\n",
            "avg playlist length 66.346428\n",
            "\n",
            "top playlist titles\n",
            "  10000 country\n",
            "  10000 chill\n",
            "   8493 rap\n",
            "   8481 workout\n",
            "   8146 oldies\n",
            "   8015 christmas\n",
            "   6848 rock\n",
            "   6157 party\n",
            "   5883 throwback\n",
            "   5063 jams\n",
            "   5052 worship\n",
            "   4907 summer\n",
            "   4677 feels\n",
            "   4612 new\n",
            "   4186 disney\n",
            "   4124 lit\n",
            "   4030 throwbacks\n",
            "   3886 music\n",
            "   3513 sleep\n",
            "   3500 vibes\n",
            "\n",
            "top tracks\n",
            "  46574 HUMBLE. by Kendrick Lamar\n",
            "  43447 One Dance by Drake\n",
            "  41309 Broccoli (feat. Lil Yachty) by DRAM\n",
            "  41079 Closer by The Chainsmokers\n",
            "  39987 Congratulations by Post Malone\n",
            "  35202 Caroline by Aminé\n",
            "  35138 iSpy (feat. Lil Yachty) by KYLE\n",
            "  34999 Bad and Boujee (feat. Lil Uzi Vert) by Migos\n",
            "  34990 Location by Khalid\n",
            "  34922 XO TOUR Llif3 by Lil Uzi Vert\n",
            "  33699 Bounce Back by Big Sean\n",
            "  32391 Ignition - Remix by R. Kelly\n",
            "  32336 No Role Modelz by J. Cole\n",
            "  32059 Mask Off by Future\n",
            "  31492 No Problem (feat. Lil Wayne & 2 Chainz) by Chance The Rapper\n",
            "  31374 I'm the One by DJ Khaled\n",
            "  31119 Jumpman by Drake\n",
            "  31106 goosebumps by Travis Scott\n",
            "  30678 Fake Love by Drake\n",
            "  30485 Despacito - Remix by Luis Fonsi\n",
            "\n",
            "top artists\n",
            " 847160 Drake\n",
            " 413297 Kanye West\n",
            " 353624 Kendrick Lamar\n",
            " 339570 Rihanna\n",
            " 316603 The Weeknd\n",
            " 294667 Eminem\n",
            " 272116 Ed Sheeran\n",
            " 250734 Future\n",
            " 243119 Justin Bieber\n",
            " 241560 J. Cole\n",
            " 230857 Beyoncé\n",
            " 223509 The Chainsmokers\n",
            " 212772 Chris Brown\n",
            " 203047 Calvin Harris\n",
            " 198905 Twenty One Pilots\n",
            " 197855 Lil Uzi Vert\n",
            " 195907 Post Malone\n",
            " 192478 Big Sean\n",
            " 187029 Maroon 5\n",
            " 185520 JAY Z\n",
            "\n",
            "numedits histogram\n",
            "  92252 2\n",
            "  81820 3\n",
            "  71973 4\n",
            "  61978 5\n",
            "  53085 6\n",
            "  46860 7\n",
            "  41210 8\n",
            "  36629 9\n",
            "  32810 10\n",
            "  29907 11\n",
            "  26947 12\n",
            "  24941 13\n",
            "  22800 14\n",
            "  20834 15\n",
            "  19000 16\n",
            "  17817 17\n",
            "  16551 18\n",
            "  15305 19\n",
            "  14217 20\n",
            "  13486 21\n",
            "\n",
            "last modified histogram\n",
            "  19018 2017-10-30\n",
            "  15495 2017-10-29\n",
            "  11640 2017-10-26\n",
            "  11083 2017-10-28\n",
            "   9994 2017-10-27\n",
            "   9727 2017-10-25\n",
            "   9142 2017-10-24\n",
            "   8588 2017-10-23\n",
            "   7953 2017-10-22\n",
            "   6980 2017-10-19\n",
            "   6407 2017-10-21\n",
            "   5986 2017-10-18\n",
            "   5979 2017-10-20\n",
            "   5792 2017-10-17\n",
            "   5653 2017-10-16\n",
            "   5375 2017-10-15\n",
            "   4840 2017-10-12\n",
            "   4483 2017-10-14\n",
            "   4460 2017-10-11\n",
            "   4431 2017-10-13\n",
            "\n",
            "playlist length histogram\n",
            "  15057 20\n",
            "  14177 15\n",
            "  13876 21\n",
            "  13856 16\n",
            "  13685 17\n",
            "  13629 18\n",
            "  13602 22\n",
            "  13531 19\n",
            "  13250 24\n",
            "  13149 23\n",
            "  13077 30\n",
            "  13043 14\n",
            "  13031 25\n",
            "  12834 26\n",
            "  12513 28\n",
            "  12502 27\n",
            "  12332 29\n",
            "  12318 13\n",
            "  12016 12\n",
            "  11882 31\n",
            "\n",
            "num followers histogram\n",
            " 754219 1\n",
            " 149600 2\n",
            "  46939 3\n",
            "  19591 4\n",
            "   9813 5\n",
            "   5360 6\n",
            "   3305 7\n",
            "   2143 8\n",
            "   1512 9\n",
            "   1006 10\n",
            "    825 11\n",
            "    632 12\n",
            "    479 13\n",
            "    359 14\n",
            "    328 15\n",
            "    290 16\n",
            "    235 17\n",
            "    207 18\n",
            "    162 19\n",
            "    138 20\n",
            "\n"
          ]
        }
      ]
    },
    {
      "cell_type": "markdown",
      "source": [
        "Ottimo, ora cerchiamo di visualizzare queste informazioni"
      ],
      "metadata": {
        "id": "jMe20eTCCkps"
      }
    },
    {
      "cell_type": "code",
      "source": [
        "stats_lines = []\n",
        "with open(stats_path, 'r') as f:\n",
        "    stats_lines = f.readlines()"
      ],
      "metadata": {
        "id": "XnudZmh99k_C"
      },
      "execution_count": 17,
      "outputs": []
    },
    {
      "cell_type": "code",
      "source": [
        "print(stats_lines)"
      ],
      "metadata": {
        "colab": {
          "base_uri": "https://localhost:8080/"
        },
        "id": "gWFgLPZdGTDe",
        "outputId": "816a4fbc-a3c9-4aed-81c9-b1b49c3d12fd"
      },
      "execution_count": 18,
      "outputs": [
        {
          "output_type": "stream",
          "name": "stdout",
          "text": [
            "['\\n', 'number of playlists 1000000\\n', 'number of tracks 66346428\\n', 'number of unique tracks 2262292\\n', 'number of unique albums 734684\\n', 'number of unique artists 295860\\n', 'number of unique titles 92944\\n', 'number of playlists with descriptions 18760\\n', 'number of unique normalized titles 17381\\n', 'avg playlist length 66.346428\\n', '\\n', 'top playlist titles\\n', '  10000 country\\n', '  10000 chill\\n', '   8493 rap\\n', '   8481 workout\\n', '   8146 oldies\\n', '   8015 christmas\\n', '   6848 rock\\n', '   6157 party\\n', '   5883 throwback\\n', '   5063 jams\\n', '   5052 worship\\n', '   4907 summer\\n', '   4677 feels\\n', '   4612 new\\n', '   4186 disney\\n', '   4124 lit\\n', '   4030 throwbacks\\n', '   3886 music\\n', '   3513 sleep\\n', '   3500 vibes\\n', '\\n', 'top tracks\\n', '  46574 HUMBLE. by Kendrick Lamar\\n', '  43447 One Dance by Drake\\n', '  41309 Broccoli (feat. Lil Yachty) by DRAM\\n', '  41079 Closer by The Chainsmokers\\n', '  39987 Congratulations by Post Malone\\n', '  35202 Caroline by Aminé\\n', '  35138 iSpy (feat. Lil Yachty) by KYLE\\n', '  34999 Bad and Boujee (feat. Lil Uzi Vert) by Migos\\n', '  34990 Location by Khalid\\n', '  34922 XO TOUR Llif3 by Lil Uzi Vert\\n', '  33699 Bounce Back by Big Sean\\n', '  32391 Ignition - Remix by R. Kelly\\n', '  32336 No Role Modelz by J. Cole\\n', '  32059 Mask Off by Future\\n', '  31492 No Problem (feat. Lil Wayne & 2 Chainz) by Chance The Rapper\\n', \"  31374 I'm the One by DJ Khaled\\n\", '  31119 Jumpman by Drake\\n', '  31106 goosebumps by Travis Scott\\n', '  30678 Fake Love by Drake\\n', '  30485 Despacito - Remix by Luis Fonsi\\n', '\\n', 'top artists\\n', ' 847160 Drake\\n', ' 413297 Kanye West\\n', ' 353624 Kendrick Lamar\\n', ' 339570 Rihanna\\n', ' 316603 The Weeknd\\n', ' 294667 Eminem\\n', ' 272116 Ed Sheeran\\n', ' 250734 Future\\n', ' 243119 Justin Bieber\\n', ' 241560 J. Cole\\n', ' 230857 Beyoncé\\n', ' 223509 The Chainsmokers\\n', ' 212772 Chris Brown\\n', ' 203047 Calvin Harris\\n', ' 198905 Twenty One Pilots\\n', ' 197855 Lil Uzi Vert\\n', ' 195907 Post Malone\\n', ' 192478 Big Sean\\n', ' 187029 Maroon 5\\n', ' 185520 JAY Z\\n', '\\n', 'numedits histogram\\n', '  92252 2\\n', '  81820 3\\n', '  71973 4\\n', '  61978 5\\n', '  53085 6\\n', '  46860 7\\n', '  41210 8\\n', '  36629 9\\n', '  32810 10\\n', '  29907 11\\n', '  26947 12\\n', '  24941 13\\n', '  22800 14\\n', '  20834 15\\n', '  19000 16\\n', '  17817 17\\n', '  16551 18\\n', '  15305 19\\n', '  14217 20\\n', '  13486 21\\n', '\\n', 'last modified histogram\\n', '  19018 2017-10-30\\n', '  15495 2017-10-29\\n', '  11640 2017-10-26\\n', '  11083 2017-10-28\\n', '   9994 2017-10-27\\n', '   9727 2017-10-25\\n', '   9142 2017-10-24\\n', '   8588 2017-10-23\\n', '   7953 2017-10-22\\n', '   6980 2017-10-19\\n', '   6407 2017-10-21\\n', '   5986 2017-10-18\\n', '   5979 2017-10-20\\n', '   5792 2017-10-17\\n', '   5653 2017-10-16\\n', '   5375 2017-10-15\\n', '   4840 2017-10-12\\n', '   4483 2017-10-14\\n', '   4460 2017-10-11\\n', '   4431 2017-10-13\\n', '\\n', 'playlist length histogram\\n', '  15057 20\\n', '  14177 15\\n', '  13876 21\\n', '  13856 16\\n', '  13685 17\\n', '  13629 18\\n', '  13602 22\\n', '  13531 19\\n', '  13250 24\\n', '  13149 23\\n', '  13077 30\\n', '  13043 14\\n', '  13031 25\\n', '  12834 26\\n', '  12513 28\\n', '  12502 27\\n', '  12332 29\\n', '  12318 13\\n', '  12016 12\\n', '  11882 31\\n', '\\n', 'num followers histogram\\n', ' 754219 1\\n', ' 149600 2\\n', '  46939 3\\n', '  19591 4\\n', '   9813 5\\n', '   5360 6\\n', '   3305 7\\n', '   2143 8\\n', '   1512 9\\n', '   1006 10\\n', '    825 11\\n', '    632 12\\n', '    479 13\\n', '    359 14\\n', '    328 15\\n', '    290 16\\n', '    235 17\\n', '    207 18\\n', '    162 19\\n', '    138 20\\n']\n"
          ]
        }
      ]
    },
    {
      "cell_type": "markdown",
      "source": [
        "Definiamo una funzione che estrae dalle linee del file i dati che ci servono..."
      ],
      "metadata": {
        "id": "weNV1ENPKt-Y"
      }
    },
    {
      "cell_type": "code",
      "source": [
        "def parse_histogram(stats_lines, start_marker, end_marker=None):\n",
        "    data = []\n",
        "    recording = False\n",
        "    for line in stats_lines:\n",
        "        if start_marker in line:\n",
        "            recording = True\n",
        "            continue\n",
        "        if end_marker and end_marker in line:\n",
        "            break\n",
        "        if recording:\n",
        "            parts = line.strip().split()\n",
        "            if len(parts) == 2:\n",
        "                count, value = int(parts[0]), parts[1]\n",
        "                data.append((value, count))\n",
        "            elif len(parts) == 3:  # Handle \"value value count\" cases\n",
        "                count = int(parts[-1])\n",
        "                value = \" \".join(parts[:-1])\n",
        "                data.append((value, count))\n",
        "    return data\n",
        "\n",
        "# Extracting histograms\n",
        "numedits_histogram = parse_histogram(stats_lines, 'numedits histogram', 'last modified histogram')\n",
        "last_modified_histogram = parse_histogram(stats_lines, 'last modified histogram', 'playlist length histogram')\n",
        "playlist_length_histogram = parse_histogram(stats_lines, 'playlist length histogram', 'num followers histogram')\n",
        "num_followers_histogram = parse_histogram(stats_lines, 'num followers histogram')\n",
        "print(numedits_histogram)"
      ],
      "metadata": {
        "colab": {
          "base_uri": "https://localhost:8080/"
        },
        "id": "qZWmzbQTJujP",
        "outputId": "40d2ad75-ed95-4b0f-fbf8-b14fba47d85f"
      },
      "execution_count": 19,
      "outputs": [
        {
          "output_type": "stream",
          "name": "stdout",
          "text": [
            "[('2', 92252), ('3', 81820), ('4', 71973), ('5', 61978), ('6', 53085), ('7', 46860), ('8', 41210), ('9', 36629), ('10', 32810), ('11', 29907), ('12', 26947), ('13', 24941), ('14', 22800), ('15', 20834), ('16', 19000), ('17', 17817), ('18', 16551), ('19', 15305), ('20', 14217), ('21', 13486)]\n"
          ]
        }
      ]
    },
    {
      "cell_type": "markdown",
      "source": [
        "... Per poi plottarli"
      ],
      "metadata": {
        "id": "6seXLHgFK4Q4"
      }
    },
    {
      "cell_type": "code",
      "source": [
        "def plot_histograms(histograms, titles, xlabels, ylabels, rotations):\n",
        "    fig, axes = plt.subplots(1, 4, figsize=(20, 5))\n",
        "    axes = axes.flatten()  # in caso avessimo shape diversi della grid dei plot\n",
        "\n",
        "    for i, ax in enumerate(axes):\n",
        "        if i < len(histograms):\n",
        "            data = histograms[i]\n",
        "            values, counts = zip(*data)\n",
        "            ax.bar(values, counts, align='center')\n",
        "            ax.set_title(titles[i])\n",
        "            ax.set_xlabel(xlabels[i])\n",
        "            ax.set_ylabel(ylabels[i])\n",
        "            ax.tick_params(axis='x', rotation=rotations[i])\n",
        "        else:\n",
        "            ax.axis('off')\n",
        "\n",
        "    plt.tight_layout()\n",
        "    plt.show()\n",
        "\n",
        "# Data for plotting\n",
        "histograms = [numedits_histogram, last_modified_histogram,\n",
        "              playlist_length_histogram, num_followers_histogram]\n",
        "titles = ['Number of Edits Histogram','Last Modified Histogram',\n",
        "          'Playlist Length Histogram','Number of Followers Histogram']\n",
        "xlabels = ['Number of Edits', 'Date', 'Playlist Length', 'Number of Followers']\n",
        "ylabels = ['Count', 'Count', 'Count', 'Count']\n",
        "rotations = [0, 45, 0, 45]\n",
        "\n",
        "plot_histograms(histograms, titles, xlabels, ylabels, rotations)"
      ],
      "metadata": {
        "colab": {
          "base_uri": "https://localhost:8080/",
          "height": 416
        },
        "id": "QijB5Rcu5b0X",
        "outputId": "2dd1592a-5c9e-4c6c-fb14-a2521ae1ac9e"
      },
      "execution_count": 20,
      "outputs": [
        {
          "output_type": "display_data",
          "data": {
            "text/plain": [
              "<Figure size 2000x500 with 4 Axes>"
            ],
            "image/png": "[encoded data removed]"
          },
          "metadata": {}
        }
      ]
    },
    {
      "cell_type": "markdown",
      "source": [
        "### Using the dataframe"
      ],
      "metadata": {
        "id": "VrOSX-vt_sB2"
      }
    },
    {
      "cell_type": "markdown",
      "source": [
        "Vediamo di capire le caratterisiche e correlazioni del nostro dataframe"
      ],
      "metadata": {
        "id": "KPAJgZ9GmAAd"
      }
    },
    {
      "cell_type": "code",
      "source": [
        "df.describe()"
      ],
      "metadata": {
        "colab": {
          "base_uri": "https://localhost:8080/",
          "height": 300
        },
        "id": "sdzljiUFmH4J",
        "outputId": "87147120-6a45-4769-e9c8-788a70889c25"
      },
      "execution_count": 21,
      "outputs": [
        {
          "output_type": "execute_result",
          "data": {
            "text/plain": [
              "                 pid     num_tracks     num_albums  num_followers  \\\n",
              "count  100000.000000  100000.000000  100000.000000  100000.000000   \n",
              "mean   518629.500000      66.075880      49.434430       2.423710   \n",
              "std    309662.324703      53.509518      39.847722      56.139883   \n",
              "min     17000.000000       5.000000       2.000000       1.000000   \n",
              "25%    263749.750000      26.000000      20.000000       1.000000   \n",
              "50%    529499.500000      49.000000      37.000000       1.000000   \n",
              "75%    815499.250000      91.000000      67.000000       1.000000   \n",
              "max    992999.000000     250.000000     242.000000    7973.000000   \n",
              "\n",
              "           num_edits   duration_ms    num_artists  collaborative  \n",
              "count  100000.000000  1.000000e+05  100000.000000  100000.000000  \n",
              "mean       17.498740  1.551243e+07      37.980940       0.022240  \n",
              "std        20.381225  1.278239e+07      30.193669       0.147464  \n",
              "min         1.000000  2.357390e+05       3.000000       0.000000  \n",
              "25%         5.000000  5.998291e+06      16.000000       0.000000  \n",
              "50%        10.000000  1.137176e+07      29.000000       0.000000  \n",
              "75%        22.000000  2.132978e+07      51.000000       0.000000  \n",
              "max       195.000000  1.426347e+08     230.000000       1.000000  "
            ],
            "text/html": [
              "\n",
              "  <div id=\"df-65cd1982-52d5-41de-9e9a-41c68e234bc3\" class=\"colab-df-container\">\n",
              "    <div>\n",
              "<style scoped>\n",
              "    .dataframe tbody tr th:only-of-type {\n",
              "        vertical-align: middle;\n",
              "    }\n",
              "\n",
              "    .dataframe tbody tr th {\n",
              "        vertical-align: top;\n",
              "    }\n",
              "\n",
              "    .dataframe thead th {\n",
              "        text-align: right;\n",
              "    }\n",
              "</style>\n",
              "<table border=\"1\" class=\"dataframe\">\n",
              "  <thead>\n",
              "    <tr style=\"text-align: right;\">\n",
              "      <th></th>\n",
              "      <th>pid</th>\n",
              "      <th>num_tracks</th>\n",
              "      <th>num_albums</th>\n",
              "      <th>num_followers</th>\n",
              "      <th>num_edits</th>\n",
              "      <th>duration_ms</th>\n",
              "      <th>num_artists</th>\n",
              "      <th>collaborative</th>\n",
              "    </tr>\n",
              "  </thead>\n",
              "  <tbody>\n",
              "    <tr>\n",
              "      <th>count</th>\n",
              "      <td>100000.000000</td>\n",
              "      <td>100000.000000</td>\n",
              "      <td>100000.000000</td>\n",
              "      <td>100000.000000</td>\n",
              "      <td>100000.000000</td>\n",
              "      <td>1.000000e+05</td>\n",
              "      <td>100000.000000</td>\n",
              "      <td>100000.000000</td>\n",
              "    </tr>\n",
              "    <tr>\n",
              "      <th>mean</th>\n",
              "      <td>518629.500000</td>\n",
              "      <td>66.075880</td>\n",
              "      <td>49.434430</td>\n",
              "      <td>2.423710</td>\n",
              "      <td>17.498740</td>\n",
              "      <td>1.551243e+07</td>\n",
              "      <td>37.980940</td>\n",
              "      <td>0.022240</td>\n",
              "    </tr>\n",
              "    <tr>\n",
              "      <th>std</th>\n",
              "      <td>309662.324703</td>\n",
              "      <td>53.509518</td>\n",
              "      <td>39.847722</td>\n",
              "      <td>56.139883</td>\n",
              "      <td>20.381225</td>\n",
              "      <td>1.278239e+07</td>\n",
              "      <td>30.193669</td>\n",
              "      <td>0.147464</td>\n",
              "    </tr>\n",
              "    <tr>\n",
              "      <th>min</th>\n",
              "      <td>17000.000000</td>\n",
              "      <td>5.000000</td>\n",
              "      <td>2.000000</td>\n",
              "      <td>1.000000</td>\n",
              "      <td>1.000000</td>\n",
              "      <td>2.357390e+05</td>\n",
              "      <td>3.000000</td>\n",
              "      <td>0.000000</td>\n",
              "    </tr>\n",
              "    <tr>\n",
              "      <th>25%</th>\n",
              "      <td>263749.750000</td>\n",
              "      <td>26.000000</td>\n",
              "      <td>20.000000</td>\n",
              "      <td>1.000000</td>\n",
              "      <td>5.000000</td>\n",
              "      <td>5.998291e+06</td>\n",
              "      <td>16.000000</td>\n",
              "      <td>0.000000</td>\n",
              "    </tr>\n",
              "    <tr>\n",
              "      <th>50%</th>\n",
              "      <td>529499.500000</td>\n",
              "      <td>49.000000</td>\n",
              "      <td>37.000000</td>\n",
              "      <td>1.000000</td>\n",
              "      <td>10.000000</td>\n",
              "      <td>1.137176e+07</td>\n",
              "      <td>29.000000</td>\n",
              "      <td>0.000000</td>\n",
              "    </tr>\n",
              "    <tr>\n",
              "      <th>75%</th>\n",
              "      <td>815499.250000</td>\n",
              "      <td>91.000000</td>\n",
              "      <td>67.000000</td>\n",
              "      <td>1.000000</td>\n",
              "      <td>22.000000</td>\n",
              "      <td>2.132978e+07</td>\n",
              "      <td>51.000000</td>\n",
              "      <td>0.000000</td>\n",
              "    </tr>\n",
              "    <tr>\n",
              "      <th>max</th>\n",
              "      <td>992999.000000</td>\n",
              "      <td>250.000000</td>\n",
              "      <td>242.000000</td>\n",
              "      <td>7973.000000</td>\n",
              "      <td>195.000000</td>\n",
              "      <td>1.426347e+08</td>\n",
              "      <td>230.000000</td>\n",
              "      <td>1.000000</td>\n",
              "    </tr>\n",
              "  </tbody>\n",
              "</table>\n",
              "</div>\n",
              "    <div class=\"colab-df-buttons\">\n",
              "\n",
              "  <div class=\"colab-df-container\">\n",
              "    <button class=\"colab-df-convert\" onclick=\"convertToInteractive('df-65cd1982-52d5-41de-9e9a-41c68e234bc3')\"\n",
              "            title=\"Convert this dataframe to an interactive table.\"\n",
              "            style=\"display:none;\">\n",
              "\n",
              "  <svg xmlns=\"http://www.w3.org/2000/svg\" height=\"24px\" viewBox=\"0 -960 960 960\">\n",
              "    <path d=\"M120-120v-720h720v720H120Zm60-500h600v-160H180v160Zm220 220h160v-160H400v160Zm0 220h160v-160H400v160ZM180-400h160v-160H180v160Zm440 0h160v-160H620v160ZM180-180h160v-160H180v160Zm440 0h160v-160H620v160Z\"/>\n",
              "  </svg>\n",
              "    </button>\n",
              "\n",
              "  <style>\n",
              "    .colab-df-container {\n",
              "      display:flex;\n",
              "      gap: 12px;\n",
              "    }\n",
              "\n",
              "    .colab-df-convert {\n",
              "      background-color: #E8F0FE;\n",
              "      border: none;\n",
              "      border-radius: 50%;\n",
              "      cursor: pointer;\n",
              "      display: none;\n",
              "      fill: #1967D2;\n",
              "      height: 32px;\n",
              "      padding: 0 0 0 0;\n",
              "      width: 32px;\n",
              "    }\n",
              "\n",
              "    .colab-df-convert:hover {\n",
              "      background-color: #E2EBFA;\n",
              "      box-shadow: 0px 1px 2px rgba(60, 64, 67, 0.3), 0px 1px 3px 1px rgba(60, 64, 67, 0.15);\n",
              "      fill: #174EA6;\n",
              "    }\n",
              "\n",
              "    .colab-df-buttons div {\n",
              "      margin-bottom: 4px;\n",
              "    }\n",
              "\n",
              "    [theme=dark] .colab-df-convert {\n",
              "      background-color: #3B4455;\n",
              "      fill: #D2E3FC;\n",
              "    }\n",
              "\n",
              "    [theme=dark] .colab-df-convert:hover {\n",
              "      background-color: #434B5C;\n",
              "      box-shadow: 0px 1px 3px 1px rgba(0, 0, 0, 0.15);\n",
              "      filter: drop-shadow(0px 1px 2px rgba(0, 0, 0, 0.3));\n",
              "      fill: #FFFFFF;\n",
              "    }\n",
              "  </style>\n",
              "\n",
              "    <script>\n",
              "      const buttonEl =\n",
              "        document.querySelector('#df-65cd1982-52d5-41de-9e9a-41c68e234bc3 button.colab-df-convert');\n",
              "      buttonEl.style.display =\n",
              "        google.colab.kernel.accessAllowed ? 'block' : 'none';\n",
              "\n",
              "      async function convertToInteractive(key) {\n",
              "        const element = document.querySelector('#df-65cd1982-52d5-41de-9e9a-41c68e234bc3');\n",
              "        const dataTable =\n",
              "          await google.colab.kernel.invokeFunction('convertToInteractive',\n",
              "                                                    [key], {});\n",
              "        if (!dataTable) return;\n",
              "\n",
              "        const docLinkHtml = 'Like what you see? Visit the ' +\n",
              "          '<a target=\"_blank\" href=https://colab.research.google.com/notebooks/data_table.ipynb>data table notebook</a>'\n",
              "          + ' to learn more about interactive tables.';\n",
              "        element.innerHTML = '';\n",
              "        dataTable['output_type'] = 'display_data';\n",
              "        await google.colab.output.renderOutput(dataTable, element);\n",
              "        const docLink = document.createElement('div');\n",
              "        docLink.innerHTML = docLinkHtml;\n",
              "        element.appendChild(docLink);\n",
              "      }\n",
              "    </script>\n",
              "  </div>\n",
              "\n",
              "\n",
              "<div id=\"df-cf74319c-d83a-46e4-b45a-f757d89e9e69\">\n",
              "  <button class=\"colab-df-quickchart\" onclick=\"quickchart('df-cf74319c-d83a-46e4-b45a-f757d89e9e69')\"\n",
              "            title=\"Suggest charts\"\n",
              "            style=\"display:none;\">\n",
              "\n",
              "<svg xmlns=\"http://www.w3.org/2000/svg\" height=\"24px\"viewBox=\"0 0 24 24\"\n",
              "     width=\"24px\">\n",
              "    <g>\n",
              "        <path d=\"M19 3H5c-1.1 0-2 .9-2 2v14c0 1.1.9 2 2 2h14c1.1 0 2-.9 2-2V5c0-1.1-.9-2-2-2zM9 17H7v-7h2v7zm4 0h-2V7h2v10zm4 0h-2v-4h2v4z\"/>\n",
              "    </g>\n",
              "</svg>\n",
              "  </button>\n",
              "\n",
              "<style>\n",
              "  .colab-df-quickchart {\n",
              "      --bg-color: #E8F0FE;\n",
              "      --fill-color: #1967D2;\n",
              "      --hover-bg-color: #E2EBFA;\n",
              "      --hover-fill-color: #174EA6;\n",
              "      --disabled-fill-color: #AAA;\n",
              "      --disabled-bg-color: #DDD;\n",
              "  }\n",
              "\n",
              "  [theme=dark] .colab-df-quickchart {\n",
              "      --bg-color: #3B4455;\n",
              "      --fill-color: #D2E3FC;\n",
              "      --hover-bg-color: #434B5C;\n",
              "      --hover-fill-color: #FFFFFF;\n",
              "      --disabled-bg-color: #3B4455;\n",
              "      --disabled-fill-color: #666;\n",
              "  }\n",
              "\n",
              "  .colab-df-quickchart {\n",
              "    background-color: var(--bg-color);\n",
              "    border: none;\n",
              "    border-radius: 50%;\n",
              "    cursor: pointer;\n",
              "    display: none;\n",
              "    fill: var(--fill-color);\n",
              "    height: 32px;\n",
              "    padding: 0;\n",
              "    width: 32px;\n",
              "  }\n",
              "\n",
              "  .colab-df-quickchart:hover {\n",
              "    background-color: var(--hover-bg-color);\n",
              "    box-shadow: 0 1px 2px rgba(60, 64, 67, 0.3), 0 1px 3px 1px rgba(60, 64, 67, 0.15);\n",
              "    fill: var(--button-hover-fill-color);\n",
              "  }\n",
              "\n",
              "  .colab-df-quickchart-complete:disabled,\n",
              "  .colab-df-quickchart-complete:disabled:hover {\n",
              "    background-color: var(--disabled-bg-color);\n",
              "    fill: var(--disabled-fill-color);\n",
              "    box-shadow: none;\n",
              "  }\n",
              "\n",
              "  .colab-df-spinner {\n",
              "    border: 2px solid var(--fill-color);\n",
              "    border-color: transparent;\n",
              "    border-bottom-color: var(--fill-color);\n",
              "    animation:\n",
              "      spin 1s steps(1) infinite;\n",
              "  }\n",
              "\n",
              "  @keyframes spin {\n",
              "    0% {\n",
              "      border-color: transparent;\n",
              "      border-bottom-color: var(--fill-color);\n",
              "      border-left-color: var(--fill-color);\n",
              "    }\n",
              "    20% {\n",
              "      border-color: transparent;\n",
              "      border-left-color: var(--fill-color);\n",
              "      border-top-color: var(--fill-color);\n",
              "    }\n",
              "    30% {\n",
              "      border-color: transparent;\n",
              "      border-left-color: var(--fill-color);\n",
              "      border-top-color: var(--fill-color);\n",
              "      border-right-color: var(--fill-color);\n",
              "    }\n",
              "    40% {\n",
              "      border-color: transparent;\n",
              "      border-right-color: var(--fill-color);\n",
              "      border-top-color: var(--fill-color);\n",
              "    }\n",
              "    60% {\n",
              "      border-color: transparent;\n",
              "      border-right-color: var(--fill-color);\n",
              "    }\n",
              "    80% {\n",
              "      border-color: transparent;\n",
              "      border-right-color: var(--fill-color);\n",
              "      border-bottom-color: var(--fill-color);\n",
              "    }\n",
              "    90% {\n",
              "      border-color: transparent;\n",
              "      border-bottom-color: var(--fill-color);\n",
              "    }\n",
              "  }\n",
              "</style>\n",
              "\n",
              "  <script>\n",
              "    async function quickchart(key) {\n",
              "      const quickchartButtonEl =\n",
              "        document.querySelector('#' + key + ' button');\n",
              "      quickchartButtonEl.disabled = true;  // To prevent multiple clicks.\n",
              "      quickchartButtonEl.classList.add('colab-df-spinner');\n",
              "      try {\n",
              "        const charts = await google.colab.kernel.invokeFunction(\n",
              "            'suggestCharts', [key], {});\n",
              "      } catch (error) {\n",
              "        console.error('Error during call to suggestCharts:', error);\n",
              "      }\n",
              "      quickchartButtonEl.classList.remove('colab-df-spinner');\n",
              "      quickchartButtonEl.classList.add('colab-df-quickchart-complete');\n",
              "    }\n",
              "    (() => {\n",
              "      let quickchartButtonEl =\n",
              "        document.querySelector('#df-cf74319c-d83a-46e4-b45a-f757d89e9e69 button');\n",
              "      quickchartButtonEl.style.display =\n",
              "        google.colab.kernel.accessAllowed ? 'block' : 'none';\n",
              "    })();\n",
              "  </script>\n",
              "</div>\n",
              "\n",
              "    </div>\n",
              "  </div>\n"
            ],
            "application/vnd.google.colaboratory.intrinsic+json": {
              "type": "dataframe",
              "summary": "{\n  \"name\": \"df\",\n  \"rows\": 8,\n  \"fields\": [\n    {\n      \"column\": \"pid\",\n      \"properties\": {\n        \"dtype\": \"number\",\n        \"std\": 338798.29842586623,\n        \"min\": 17000.0,\n        \"max\": 992999.0,\n        \"num_unique_values\": 8,\n        \"samples\": [\n          518629.5,\n          529499.5,\n          100000.0\n        ],\n        \"semantic_type\": \"\",\n        \"description\": \"\"\n      }\n    },\n    {\n      \"column\": \"num_tracks\",\n      \"properties\": {\n        \"dtype\": \"number\",\n        \"std\": 35328.11496378306,\n        \"min\": 5.0,\n        \"max\": 100000.0,\n        \"num_unique_values\": 8,\n        \"samples\": [\n          66.07588,\n          49.0,\n          100000.0\n        ],\n        \"semantic_type\": \"\",\n        \"description\": \"\"\n      }\n    },\n    {\n      \"column\": \"num_albums\",\n      \"properties\": {\n        \"dtype\": \"number\",\n        \"std\": 35332.32163623052,\n        \"min\": 2.0,\n        \"max\": 100000.0,\n        \"num_unique_values\": 8,\n        \"samples\": [\n          49.43443,\n          37.0,\n          100000.0\n        ],\n        \"semantic_type\": \"\",\n        \"description\": \"\"\n      }\n    },\n    {\n      \"column\": \"num_followers\",\n      \"properties\": {\n        \"dtype\": \"number\",\n        \"std\": 35060.379582831665,\n        \"min\": 1.0,\n        \"max\": 100000.0,\n        \"num_unique_values\": 5,\n        \"samples\": [\n          2.42371,\n          7973.0,\n          56.139883297862994\n        ],\n        \"semantic_type\": \"\",\n        \"description\": \"\"\n      }\n    },\n    {\n      \"column\": \"num_edits\",\n      \"properties\": {\n        \"dtype\": \"number\",\n        \"std\": 35341.715912503845,\n        \"min\": 1.0,\n        \"max\": 100000.0,\n        \"num_unique_values\": 8,\n        \"samples\": [\n          17.49874,\n          10.0,\n          100000.0\n        ],\n        \"semantic_type\": \"\",\n        \"description\": \"\"\n      }\n    },\n    {\n      \"column\": \"duration_ms\",\n      \"properties\": {\n        \"dtype\": \"number\",\n        \"std\": 47597038.068585105,\n        \"min\": 100000.0,\n        \"max\": 142634741.0,\n        \"num_unique_values\": 8,\n        \"samples\": [\n          15512433.94917,\n          11371763.0,\n          100000.0\n        ],\n        \"semantic_type\": \"\",\n        \"description\": \"\"\n      }\n    },\n    {\n      \"column\": \"num_artists\",\n      \"properties\": {\n        \"dtype\": \"number\",\n        \"std\": 35335.3523451981,\n        \"min\": 3.0,\n        \"max\": 100000.0,\n        \"num_unique_values\": 8,\n        \"samples\": [\n          37.98094,\n          29.0,\n          100000.0\n        ],\n        \"semantic_type\": \"\",\n        \"description\": \"\"\n      }\n    },\n    {\n      \"column\": \"collaborative\",\n      \"properties\": {\n        \"dtype\": \"number\",\n        \"std\": 35355.27998202952,\n        \"min\": 0.0,\n        \"max\": 100000.0,\n        \"num_unique_values\": 5,\n        \"samples\": [\n          0.02224,\n          1.0,\n          0.1474638933976578\n        ],\n        \"semantic_type\": \"\",\n        \"description\": \"\"\n      }\n    }\n  ]\n}"
            }
          },
          "metadata": {},
          "execution_count": 21
        }
      ]
    },
    {
      "cell_type": "code",
      "source": [
        "df.isnull().sum()  # Checking for missing values"
      ],
      "metadata": {
        "colab": {
          "base_uri": "https://localhost:8080/",
          "height": 397
        },
        "id": "vA8CAvf9nBLg",
        "outputId": "726cc71b-c27c-45a3-bed6-f8fe76509360"
      },
      "execution_count": 22,
      "outputs": [
        {
          "output_type": "execute_result",
          "data": {
            "text/plain": [
              "name             0\n",
              "pid              0\n",
              "num_tracks       0\n",
              "num_albums       0\n",
              "num_followers    0\n",
              "num_edits        0\n",
              "duration_ms      0\n",
              "num_artists      0\n",
              "collaborative    0\n",
              "tracks           0\n",
              "dtype: int64"
            ],
            "text/html": [
              "<div>\n",
              "<style scoped>\n",
              "    .dataframe tbody tr th:only-of-type {\n",
              "        vertical-align: middle;\n",
              "    }\n",
              "\n",
              "    .dataframe tbody tr th {\n",
              "        vertical-align: top;\n",
              "    }\n",
              "\n",
              "    .dataframe thead th {\n",
              "        text-align: right;\n",
              "    }\n",
              "</style>\n",
              "<table border=\"1\" class=\"dataframe\">\n",
              "  <thead>\n",
              "    <tr style=\"text-align: right;\">\n",
              "      <th></th>\n",
              "      <th>0</th>\n",
              "    </tr>\n",
              "  </thead>\n",
              "  <tbody>\n",
              "    <tr>\n",
              "      <th>name</th>\n",
              "      <td>0</td>\n",
              "    </tr>\n",
              "    <tr>\n",
              "      <th>pid</th>\n",
              "      <td>0</td>\n",
              "    </tr>\n",
              "    <tr>\n",
              "      <th>num_tracks</th>\n",
              "      <td>0</td>\n",
              "    </tr>\n",
              "    <tr>\n",
              "      <th>num_albums</th>\n",
              "      <td>0</td>\n",
              "    </tr>\n",
              "    <tr>\n",
              "      <th>num_followers</th>\n",
              "      <td>0</td>\n",
              "    </tr>\n",
              "    <tr>\n",
              "      <th>num_edits</th>\n",
              "      <td>0</td>\n",
              "    </tr>\n",
              "    <tr>\n",
              "      <th>duration_ms</th>\n",
              "      <td>0</td>\n",
              "    </tr>\n",
              "    <tr>\n",
              "      <th>num_artists</th>\n",
              "      <td>0</td>\n",
              "    </tr>\n",
              "    <tr>\n",
              "      <th>collaborative</th>\n",
              "      <td>0</td>\n",
              "    </tr>\n",
              "    <tr>\n",
              "      <th>tracks</th>\n",
              "      <td>0</td>\n",
              "    </tr>\n",
              "  </tbody>\n",
              "</table>\n",
              "</div><br><label><b>dtype:</b> int64</label>"
            ]
          },
          "metadata": {},
          "execution_count": 22
        }
      ]
    },
    {
      "cell_type": "markdown",
      "source": [
        "Utiliziamo quindi la matrice di correlazione per cercare di estrarre qualche info sulle feature delle playlist, ma prima dobbiamo eliminare colonne non numeriche (e la colonna pid)"
      ],
      "metadata": {
        "id": "7D7EiQ3PmbXn"
      }
    },
    {
      "cell_type": "code",
      "source": [
        "df_num = df.drop(columns=['name','pid','tracks'])"
      ],
      "metadata": {
        "id": "1g02S1IYnWyW"
      },
      "execution_count": 23,
      "outputs": []
    },
    {
      "cell_type": "code",
      "source": [
        "# Correlation heatmap\n",
        "# Correlation matrix to show relationships between features\n",
        "sns.heatmap(df_num.corr(), annot=True, cmap='coolwarm')\n",
        "plt.title(\"Feature Correlation Heatmap\")\n",
        "plt.show()"
      ],
      "metadata": {
        "colab": {
          "base_uri": "https://localhost:8080/",
          "height": 539
        },
        "id": "XHWGq_9ymjjD",
        "outputId": "f79dbed1-3509-4919-8a06-7f2826660a67"
      },
      "execution_count": 24,
      "outputs": [
        {
          "output_type": "display_data",
          "data": {
            "text/plain": [
              "<Figure size 640x480 with 2 Axes>"
            ],
            "image/png": "[encoded data removed]"
          },
          "metadata": {}
        }
      ]
    },
    {
      "cell_type": "code",
      "source": [
        "del df_num"
      ],
      "metadata": {
        "id": "nFJ5mREGo6Dc"
      },
      "execution_count": 25,
      "outputs": []
    }
  ]
}