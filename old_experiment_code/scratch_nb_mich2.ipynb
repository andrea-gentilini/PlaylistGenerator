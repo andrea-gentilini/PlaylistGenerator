{
  "cells": [
    {
      "cell_type": "code",
      "execution_count": 1,
      "metadata": {
        "colab": {
          "base_uri": "https://localhost:8080/"
        },
        "collapsed": true,
        "id": "qbruUImNoKI8",
        "outputId": "23066fcb-a005-4ef4-d41e-3e97d23e8944"
      },
      "outputs": [],
      "source": [
        "import os\n",
        "import json\n",
        "import pandas as pd\n",
        "import numpy as np\n",
        "from tqdm import tqdm\n",
        "import torch\n",
        "import kagglehub\n",
        "import random\n",
        "import matplotlib.pyplot as plt\n",
        "import json\n",
        "np.random.seed(42)"
      ]
    },
    {
      "cell_type": "markdown",
      "metadata": {
        "id": "-q50PN1z-nrh"
      },
      "source": [
        "# Dataset"
      ]
    },
    {
      "cell_type": "code",
      "execution_count": null,
      "metadata": {
        "id": "MmblanR42Or8"
      },
      "outputs": [
        {
          "name": "stdout",
          "output_type": "stream",
          "text": [
            "Download already complete (5585657586 bytes).\n",
            "Extracting files...\n"
          ]
        }
      ],
      "source": [
        "#@title Download from Kaggle\n",
        "path = \"/root/.cache/kagglehub/datasets/himanshuwagh/spotify-million/versions/1\"\n",
        "if not os.path.exists(path):\n",
        "  path = kagglehub.dataset_download(\"himanshuwagh/spotify-million\")\n",
        "\n",
        "data: str = os.path.join(path, \"data\")"
      ]
    },
    {
      "cell_type": "code",
      "execution_count": 3,
      "metadata": {
        "id": "osrU51TFid2n"
      },
      "outputs": [],
      "source": [
        "#@title Shuffle Dataset\n",
        "shuffled_slices = np.array(os.listdir(data))\n",
        "np.random.shuffle(shuffled_slices)"
      ]
    },
    {
      "cell_type": "markdown",
      "metadata": {
        "id": "bJFxSsWlka2I"
      },
      "source": [
        "## Data Visualization & Handling"
      ]
    },
    {
      "cell_type": "code",
      "execution_count": 4,
      "metadata": {
        "colab": {
          "base_uri": "https://localhost:8080/"
        },
        "id": "d3DgfndCj-e9",
        "outputId": "05065e89-df6a-41a0-fbff-0bd8e28596a4"
      },
      "outputs": [
        {
          "name": "stderr",
          "output_type": "stream",
          "text": [
            "Processing Slices:  83%|████████▎ | 500/600 [04:37<00:55,  1.80it/s]\n"
          ]
        }
      ],
      "source": [
        "million_df = pd.DataFrame()\n",
        "\n",
        "data_list = []\n",
        "\n",
        "for i, filename in tqdm(enumerate(shuffled_slices[:100]), desc=\"Processing Slices\", total = len(shuffled_slices[:100])):\n",
        "    if filename.startswith(\"mpd.slice.\") and filename.endswith(\".json\"):\n",
        "        filepath = os.path.join(data, filename)\n",
        "\n",
        "        with open(filepath, \"r\", encoding=\"utf-8\") as jsonfile:\n",
        "            cur_slice = json.load(jsonfile)\n",
        "\n",
        "        for playlist in cur_slice[\"playlists\"]:\n",
        "            playlist_id = playlist[\"pid\"]\n",
        "\n",
        "            for track in playlist[\"tracks\"]:\n",
        "                data_list.append({\n",
        "                    \"playlist\": playlist_id,\n",
        "                    \"track\": track[\"track_uri\"][14:]\n",
        "                })\n",
        "\n",
        "    if i%50 == 0:\n",
        "        new_data = pd.DataFrame(data_list)\n",
        "        data_list.clear()\n",
        "        million_df = pd.concat([million_df, new_data], ignore_index=True)\n",
        "\n",
        "new_data = pd.DataFrame(data_list)\n",
        "data_list = []\n",
        "million_df = pd.concat([million_df, new_data], ignore_index=True)\n",
        "\n",
        "million_df[\"playlist\"] = million_df[\"playlist\"].astype(\"int32\")\n",
        "million_df.drop_duplicates(inplace=True)"
      ]
    },
    {
      "cell_type": "code",
      "execution_count": 5,
      "metadata": {
        "colab": {
          "base_uri": "https://localhost:8080/"
        },
        "id": "7r07RsxKkqxN",
        "outputId": "961d4267-42aa-4a2f-ca4d-e6722b71e1b1"
      },
      "outputs": [
        {
          "name": "stdout",
          "output_type": "stream",
          "text": [
            "<class 'pandas.core.frame.DataFrame'>\n",
            "Index: 32744921 entries, 0 to 33183715\n",
            "Data columns (total 2 columns):\n",
            " #   Column    Dtype \n",
            "---  ------    ----- \n",
            " 0   playlist  int32 \n",
            " 1   track     object\n",
            "dtypes: int32(1), object(1)\n",
            "memory usage: 624.6+ MB\n"
          ]
        }
      ],
      "source": [
        "million_df.info()"
      ]
    },
    {
      "cell_type": "code",
      "execution_count": 6,
      "metadata": {
        "colab": {
          "base_uri": "https://localhost:8080/"
        },
        "id": "LveEhlknUmp8",
        "outputId": "3bdb5b90-5d49-4cb9-a8d9-5906d262712c"
      },
      "outputs": [
        {
          "data": {
            "text/plain": [
              "(32744921, 2)"
            ]
          },
          "execution_count": 6,
          "metadata": {},
          "output_type": "execute_result"
        }
      ],
      "source": [
        "million_df.shape"
      ]
    },
    {
      "cell_type": "code",
      "execution_count": 7,
      "metadata": {
        "colab": {
          "base_uri": "https://localhost:8080/",
          "height": 185
        },
        "id": "VoSq2MmcmYzN",
        "outputId": "a95189e9-40c2-42e5-dc83-0d5358cb3168"
      },
      "outputs": [
        {
          "data": {
            "text/html": [
              "<div style=\"max-width:800px; border: 1px solid var(--colab-border-color);\"><style>\n",
              "      pre.function-repr-contents {\n",
              "        overflow-x: auto;\n",
              "        padding: 8px 12px;\n",
              "        max-height: 500px;\n",
              "      }\n",
              "\n",
              "      pre.function-repr-contents.function-repr-contents-collapsed {\n",
              "        cursor: pointer;\n",
              "        max-height: 100px;\n",
              "      }\n",
              "    </style>\n",
              "    <pre style=\"white-space: initial; background:\n",
              "         var(--colab-secondary-surface-color); padding: 8px 12px;\n",
              "         border-bottom: 1px solid var(--colab-border-color);\"><b>pandas.core.generic.NDFrame.head</b><br/>def head(n: int=5) -&gt; Self</pre><pre class=\"function-repr-contents function-repr-contents-collapsed\" style=\"\"><a class=\"filepath\" style=\"display:none\" href=\"#\">/usr/local/lib/python3.11/dist-packages/pandas/core/generic.py</a>Return the first `n` rows.\n",
              "\n",
              "This function returns the first `n` rows for the object based\n",
              "on position. It is useful for quickly testing if your object\n",
              "has the right type of data in it.\n",
              "\n",
              "For negative values of `n`, this function returns all rows except\n",
              "the last `|n|` rows, equivalent to ``df[:n]``.\n",
              "\n",
              "If n is larger than the number of rows, this function returns all rows.\n",
              "\n",
              "Parameters\n",
              "----------\n",
              "n : int, default 5\n",
              "    Number of rows to select.\n",
              "\n",
              "Returns\n",
              "-------\n",
              "same type as caller\n",
              "    The first `n` rows of the caller object.\n",
              "\n",
              "See Also\n",
              "--------\n",
              "DataFrame.tail: Returns the last `n` rows.\n",
              "\n",
              "Examples\n",
              "--------\n",
              "&gt;&gt;&gt; df = pd.DataFrame({&#x27;animal&#x27;: [&#x27;alligator&#x27;, &#x27;bee&#x27;, &#x27;falcon&#x27;, &#x27;lion&#x27;,\n",
              "...                    &#x27;monkey&#x27;, &#x27;parrot&#x27;, &#x27;shark&#x27;, &#x27;whale&#x27;, &#x27;zebra&#x27;]})\n",
              "&gt;&gt;&gt; df\n",
              "      animal\n",
              "0  alligator\n",
              "1        bee\n",
              "2     falcon\n",
              "3       lion\n",
              "4     monkey\n",
              "5     parrot\n",
              "6      shark\n",
              "7      whale\n",
              "8      zebra\n",
              "\n",
              "Viewing the first 5 lines\n",
              "\n",
              "&gt;&gt;&gt; df.head()\n",
              "      animal\n",
              "0  alligator\n",
              "1        bee\n",
              "2     falcon\n",
              "3       lion\n",
              "4     monkey\n",
              "\n",
              "Viewing the first `n` lines (three in this case)\n",
              "\n",
              "&gt;&gt;&gt; df.head(3)\n",
              "      animal\n",
              "0  alligator\n",
              "1        bee\n",
              "2     falcon\n",
              "\n",
              "For negative values of `n`\n",
              "\n",
              "&gt;&gt;&gt; df.head(-3)\n",
              "      animal\n",
              "0  alligator\n",
              "1        bee\n",
              "2     falcon\n",
              "3       lion\n",
              "4     monkey\n",
              "5     parrot</pre>\n",
              "      <script>\n",
              "      if (google.colab.kernel.accessAllowed && google.colab.files && google.colab.files.view) {\n",
              "        for (const element of document.querySelectorAll('.filepath')) {\n",
              "          element.style.display = 'block'\n",
              "          element.onclick = (event) => {\n",
              "            event.preventDefault();\n",
              "            event.stopPropagation();\n",
              "            google.colab.files.view(element.textContent, 5818);\n",
              "          };\n",
              "        }\n",
              "      }\n",
              "      for (const element of document.querySelectorAll('.function-repr-contents')) {\n",
              "        element.onclick = (event) => {\n",
              "          event.preventDefault();\n",
              "          event.stopPropagation();\n",
              "          element.classList.toggle('function-repr-contents-collapsed');\n",
              "        };\n",
              "      }\n",
              "      </script>\n",
              "      </div>"
            ],
            "text/plain": [
              "<bound method NDFrame.head of           playlist                   track\n",
              "0           471000  6sW6EvagT9ljwokJlG6obt\n",
              "1           471000  6SFbRVZMfbLsXHXc7JqzRs\n",
              "2           471000  2VBluJiNj9bKohWX0dY1Lh\n",
              "3           471000  3AX4HIRJY6GT6tgMkO5987\n",
              "4           471000  07isIbQefUUFa28iA0dzHR\n",
              "...            ...                     ...\n",
              "33183711     59999  3CgonfeyRh23O9F4aKiIbW\n",
              "33183712     59999  32kv5RvAMzTDSAdcBpw8SZ\n",
              "33183713     59999  0JxI0r0gooV71qlPfHqJry\n",
              "33183714     59999  5uZLsGY9fknBd5Rxr7AIss\n",
              "33183715     59999  3xKTpGCsafXzV4muM1Hpl3\n",
              "\n",
              "[32744921 rows x 2 columns]>"
            ]
          },
          "execution_count": 7,
          "metadata": {},
          "output_type": "execute_result"
        }
      ],
      "source": [
        "million_df.head"
      ]
    },
    {
      "cell_type": "code",
      "execution_count": 8,
      "metadata": {
        "colab": {
          "base_uri": "https://localhost:8080/",
          "height": 467
        },
        "id": "aWCBOszrCu8d",
        "outputId": "830eac17-6b77-439e-deec-325a3feb9860"
      },
      "outputs": [
        {
          "data": {
            "text/plain": [
              "<Axes: xlabel='Tracks', ylabel='Log Number of Playlist'>"
            ]
          },
          "execution_count": 8,
          "metadata": {},
          "output_type": "execute_result"
        },
        {
          "data": {
            "image/png": "[encoded data removed]",
            "text/plain": [
              "<Figure size 640x480 with 1 Axes>"
            ]
          },
          "metadata": {},
          "output_type": "display_data"
        }
      ],
      "source": [
        "# @title In how many playlists does each track appear?\n",
        "million_df.groupby(\"track\")[\"playlist\"].nunique().sort_values().plot(logy=True, ylabel=\"Log Number of Playlist\", xlabel=\"Tracks\") # .plot(kind=\"hist\", bins=50, )"
      ]
    },
    {
      "cell_type": "code",
      "execution_count": 9,
      "metadata": {
        "id": "SqM7EPBTh1qR"
      },
      "outputs": [],
      "source": [
        "track_counts = million_df.groupby(\"track\")[\"playlist\"].nunique()\n",
        "# use only songs that appear in at least 25 playlists\n",
        "min_playlist_num = 25\n",
        "max_playlist_num = np.inf\n",
        "valid_tracks = track_counts[(track_counts >= min_playlist_num) & (track_counts <= max_playlist_num)]"
      ]
    },
    {
      "cell_type": "code",
      "execution_count": 10,
      "metadata": {
        "colab": {
          "base_uri": "https://localhost:8080/"
        },
        "id": "0ulhPNIUoesK",
        "outputId": "07056961-0033-4925-f742-f43d0bef6d00"
      },
      "outputs": [
        {
          "name": "stdout",
          "output_type": "stream",
          "text": [
            "Number of Tracks goes from 1610128 to 119024 (Ratio of 7.39%)\n"
          ]
        }
      ],
      "source": [
        "print(f\"Number of Tracks goes from {track_counts.shape[0]} to {valid_tracks.shape[0]} (Ratio of {(valid_tracks.shape[0]/track_counts.shape[0])*100:.2f}%)\")"
      ]
    },
    {
      "cell_type": "code",
      "execution_count": 11,
      "metadata": {
        "colab": {
          "base_uri": "https://localhost:8080/"
        },
        "id": "XcDcI6TKNm_z",
        "outputId": "a3aa04cc-8fed-4a95-f641-430be426ab7f"
      },
      "outputs": [
        {
          "name": "stdout",
          "output_type": "stream",
          "text": [
            "Before removing tracks: million_df.shape = (32744921, 2)\n",
            "After removing tracks: million_df.shape = (28099207, 2)\n"
          ]
        }
      ],
      "source": [
        "print(f\"Before removing tracks: {million_df.shape = }\")\n",
        "million_df = million_df[million_df[\"track\"].isin(valid_tracks.index)]\n",
        "print(f\"After removing tracks: {million_df.shape = }\")"
      ]
    },
    {
      "cell_type": "code",
      "execution_count": 12,
      "metadata": {
        "colab": {
          "base_uri": "https://localhost:8080/",
          "height": 467
        },
        "id": "qxT5LWUo_ySv",
        "outputId": "29690a94-9bbe-4df2-a6a1-7c14bc0e214d"
      },
      "outputs": [
        {
          "data": {
            "text/plain": [
              "<Axes: xlabel='Number of Tracks', ylabel='Number of Playlists'>"
            ]
          },
          "execution_count": 12,
          "metadata": {},
          "output_type": "execute_result"
        },
        {
          "data": {
            "image/png": "[encoded data removed]",
            "text/plain": [
              "<Figure size 640x480 with 1 Axes>"
            ]
          },
          "metadata": {},
          "output_type": "display_data"
        }
      ],
      "source": [
        "# @title How many playlists share the same number of tracks, and how many tracks are in them?\n",
        "million_df.groupby(\"playlist\")[\"track\"].nunique().plot(kind=\"hist\", bins=50, ylabel=\"Number of Playlists\", xlabel=\"Number of Tracks\")  # .sort_values().plot()"
      ]
    },
    {
      "cell_type": "code",
      "execution_count": 13,
      "metadata": {
        "id": "picqHM6QietO"
      },
      "outputs": [],
      "source": [
        "playlist_counts = million_df.groupby(\"playlist\")[\"track\"].nunique()\n",
        "# use only playlists with more than 10 tracks and less than 150\n",
        "min_track_num = 10\n",
        "max_track_num = 150\n",
        "valid_playlists = playlist_counts[(playlist_counts >= min_track_num) & (playlist_counts <= max_track_num)]"
      ]
    },
    {
      "cell_type": "code",
      "execution_count": 14,
      "metadata": {
        "colab": {
          "base_uri": "https://localhost:8080/"
        },
        "id": "onfE8GbALrKE",
        "outputId": "7910236e-2a29-4e81-ff59-68f0f08f54df"
      },
      "outputs": [
        {
          "name": "stdout",
          "output_type": "stream",
          "text": [
            "Number of Playlists goes from 497153 to 428039 (Ratio of 86.10%)\n"
          ]
        }
      ],
      "source": [
        "print(f\"Number of Playlists goes from {playlist_counts.shape[0]} to {valid_playlists.shape[0]} (Ratio of {(valid_playlists.shape[0]/playlist_counts.shape[0])*100:.2f}%)\")\n"
      ]
    },
    {
      "cell_type": "code",
      "execution_count": 15,
      "metadata": {
        "colab": {
          "base_uri": "https://localhost:8080/"
        },
        "id": "2ih3hd5ELfkr",
        "outputId": "0c2956b6-47da-4670-d089-2fccc25d98cc"
      },
      "outputs": [
        {
          "name": "stdout",
          "output_type": "stream",
          "text": [
            "Before removing playlists: million_df.shape = (28099207, 2)\n",
            "After removing playlists:  million_df.shape = (22248472, 2)\n"
          ]
        }
      ],
      "source": [
        "print(f\"Before removing playlists: {million_df.shape = }\")\n",
        "million_df = million_df[million_df[\"playlist\"].isin(valid_playlists.index)]\n",
        "print(f\"After removing playlists:  {million_df.shape = }\")"
      ]
    },
    {
      "cell_type": "markdown",
      "metadata": {
        "id": "KodSTvpDqKLE"
      },
      "source": [
        "# Language Model Approach"
      ]
    },
    {
      "cell_type": "code",
      "execution_count": null,
      "metadata": {},
      "outputs": [],
      "source": [
        "# Convert the dataframe in the dataset for the LM\n",
        "playlists = dict()\n",
        "for playlist, track in zip(million_df[\"playlist\"], million_df[\"track\"]):\n",
        "    if playlist not in playlists:\n",
        "        playlists[playlist] = []\n",
        "    playlists[playlist].append(track)"
      ]
    },
    {
      "cell_type": "code",
      "execution_count": null,
      "metadata": {},
      "outputs": [],
      "source": [
        "unique_tracks = set(million_df[\"track\"])\n",
        "stoi = {track: i+1 for i, track in enumerate(sorted(unique_tracks))}\n",
        "stoi['.'] = 0\n",
        "itos = {i: track for track, i in stoi.items()}\n",
        "vocab_size = len(itos)\n",
        "print(\"Vocab size:\", vocab_size)"
      ]
    },
    {
      "cell_type": "code",
      "execution_count": null,
      "metadata": {},
      "outputs": [],
      "source": [
        "# --- Creazione del dataset per il language model ---\n",
        "block_size = 5  # lunghezza del contesto\n",
        "X_data, Y_data = [], []\n",
        "for playlist in playlists.values():\n",
        "    context = [0] * block_size  # inizializziamo il contesto con il token di stop\n",
        "    # Aggiungiamo il token di stop alla fine della playlist\n",
        "    for track in playlist + ['.']:\n",
        "        ix = stoi[track]\n",
        "        X_data.append(context.copy())\n",
        "        Y_data.append(ix)\n",
        "        # Aggiorniamo il contesto: shift a sinistra e aggiungiamo l'indice corrente\n",
        "        context = context[1:] + [ix]\n",
        "\n",
        "X = torch.tensor(X_data, dtype=torch.long)\n",
        "Y = torch.tensor(Y_data, dtype=torch.long)\n",
        "print(\"Dataset shape:\", X.shape, Y.shape)"
      ]
    },
    {
      "cell_type": "code",
      "execution_count": null,
      "metadata": {},
      "outputs": [],
      "source": [
        "# --- Suddivisione train/val/test ---\n",
        "indices = torch.randperm(X.shape[0])\n",
        "X = X[indices]\n",
        "Y = Y[indices]\n",
        "n_total = X.shape[0]\n",
        "n_train = int(0.8 * n_total)\n",
        "n_val   = int(0.1 * n_total)\n",
        "\n",
        "Xtr, Ytr = X[:n_train], Y[:n_train]\n",
        "Xval, Yval = X[n_train:n_train+n_val], Y[n_train:n_train+n_val]\n",
        "Xte, Yte = X[n_train+n_val:], Y[n_train+n_val:]\n",
        "print(\"Training samples:\", Xtr.shape[0])\n",
        "print(\"Validation samples:\", Xval.shape[0])\n",
        "print(\"Test samples:\", Xte.shape[0])"
      ]
    },
    {
      "cell_type": "code",
      "execution_count": null,
      "metadata": {},
      "outputs": [],
      "source": [
        "# --- Definizione del modello ---\n",
        "class PlaylistModel(nn.Module):\n",
        "    def __init__(self, vocab_size, n_embd, block_size, n_hidden):\n",
        "        super().__init__()\n",
        "        self.embedding = nn.Embedding(vocab_size, n_embd)\n",
        "        self.block_size = block_size\n",
        "        self.mlp = nn.Sequential(\n",
        "            nn.Linear(n_embd * block_size, n_hidden, bias=False),\n",
        "            nn.BatchNorm1d(n_hidden),\n",
        "            nn.Tanh(),\n",
        "            nn.Linear(n_hidden, n_hidden, bias=False),\n",
        "            nn.BatchNorm1d(n_hidden),\n",
        "            nn.Tanh(),\n",
        "            nn.Linear(n_hidden, n_hidden, bias=False),\n",
        "            nn.BatchNorm1d(n_hidden),\n",
        "            nn.Tanh(),\n",
        "            nn.Linear(n_hidden, n_hidden, bias=False),\n",
        "            nn.BatchNorm1d(n_hidden),\n",
        "            nn.Tanh(),\n",
        "            nn.Linear(n_hidden, n_hidden, bias=False),\n",
        "            nn.BatchNorm1d(n_hidden),\n",
        "            nn.Tanh(),\n",
        "            nn.Linear(n_hidden, vocab_size, bias=False),\n",
        "            nn.BatchNorm1d(vocab_size)\n",
        "        )\n",
        "        # Riduciamo la scala del layer BN finale\n",
        "        final_bn = self.mlp[-1]\n",
        "        final_bn.weight.data.mul_(0.1)\n",
        "    \n",
        "    def forward(self, x):\n",
        "        emb = self.embedding(x)                   # -> (batch_size, block_size, n_embd)\n",
        "        emb = emb.view(emb.size(0), -1)             # -> (batch_size, block_size * n_embd)\n",
        "        logits = self.mlp(emb)                      # -> (batch_size, vocab_size)\n",
        "        return logits\n",
        "\n"
      ]
    },
    {
      "cell_type": "code",
      "execution_count": null,
      "metadata": {},
      "outputs": [],
      "source": [
        "n_embd = 100\n",
        "n_hidden = 100\n",
        "model = PlaylistModel(vocab_size, n_embd, block_size, n_hidden).to(device)\n",
        "print(\"Numero di parametri:\", sum(p.numel() for p in model.parameters()))\n",
        "\n"
      ]
    },
    {
      "cell_type": "code",
      "execution_count": null,
      "metadata": {},
      "outputs": [],
      "source": [
        "# --- Ottimizzatore e DataLoader ---\n",
        "batch_size = 64\n",
        "train_dataset = TensorDataset(Xtr, Ytr)\n",
        "val_dataset   = TensorDataset(Xval, Yval)\n",
        "test_dataset  = TensorDataset(Xte, Yte)\n",
        "\n",
        "train_loader = DataLoader(train_dataset, batch_size=batch_size, shuffle=True)\n",
        "val_loader   = DataLoader(val_dataset, batch_size=batch_size)\n",
        "test_loader  = DataLoader(test_dataset, batch_size=batch_size)\n",
        "\n",
        "optimizer = torch.optim.SGD(model.parameters(), lr=0.1)\n",
        "numb_step_change = 1500\n",
        "\n",
        "@torch.no_grad()\n",
        "def evaluate_loss(loader):\n",
        "    model.eval()\n",
        "    total_loss = 0.0\n",
        "    total_samples = 0\n",
        "    for xb, yb in loader:\n",
        "        xb, yb = xb.to(device), yb.to(device)\n",
        "        logits = model(xb)\n",
        "        loss = F.cross_entropy(logits, yb, reduction='sum')\n",
        "        total_loss += loss.item()\n",
        "        total_samples += xb.size(0)\n",
        "    model.train()\n",
        "    return total_loss / total_samples\n",
        "\n"
      ]
    },
    {
      "cell_type": "code",
      "execution_count": null,
      "metadata": {},
      "outputs": [],
      "source": [
        "# --- Training ---\n",
        "max_steps = 2000\n",
        "log_interval = 100\n",
        "step = 0\n",
        "train_loss_history = []\n",
        "val_loss_history = []\n",
        "steps_list = []\n",
        "\n",
        "model.train()\n",
        "\n",
        "while step < max_steps:\n",
        "    for xb, yb in train_loader:\n",
        "        xb, yb = xb.to(device), yb.to(device)\n",
        "        optimizer.zero_grad()\n",
        "        logits = model(xb)\n",
        "        loss = F.cross_entropy(logits, yb)\n",
        "        loss.backward()\n",
        "        optimizer.step()\n",
        "\n",
        "        train_loss_history.append(loss.item())\n",
        "        step += 1\n",
        "\n",
        "        if step == numb_step_change:\n",
        "            for param_group in optimizer.param_groups:\n",
        "                param_group['lr'] = 0.01\n",
        "\n",
        "        if step % log_interval == 0:\n",
        "            print('ok')\n",
        "            val_loss = evaluate_loss(val_loader)\n",
        "            steps_list.append(step)\n",
        "            val_loss_history.append(val_loss)\n",
        "            print(f'{step:7d}/{max_steps:7d}: Train loss = {loss.item():.4f}, Val loss = {val_loss:.4f}')\n",
        "\n",
        "        if step >= max_steps:\n",
        "            break\n",
        "\n"
      ]
    },
    {
      "cell_type": "code",
      "execution_count": null,
      "metadata": {},
      "outputs": [],
      "source": [
        "# --- Plot di train e validation loss ---\n",
        "plt.figure(figsize=(10, 6))\n",
        "plt.plot(train_loss_history, label=\"Train Loss\", alpha=0.6)\n",
        "plt.plot(steps_list, val_loss_history, 'ro-', label=\"Validation Loss\", markersize=5)\n",
        "plt.xlabel(\"Steps\")\n",
        "plt.ylabel(\"Cross Entropy Loss\")\n",
        "plt.title(\"Training e Validation Loss\")\n",
        "plt.legend()\n",
        "plt.show()\n",
        "\n",
        "# --- Valutazione finale sui dataset ---\n",
        "print(\"Train Loss:\", evaluate_loss(train_loader))\n",
        "print(\"Val Loss:\", evaluate_loss(val_loader))\n",
        "\n"
      ]
    },
    {
      "cell_type": "code",
      "execution_count": null,
      "metadata": {},
      "outputs": [],
      "source": [
        "# --- Calcolo delle metriche sul test set ---\n",
        "k_values = [1, 2, 3, 5]\n",
        "model.eval()\n",
        "\n",
        "all_logits = []\n",
        "all_targets = []\n",
        "with torch.no_grad():\n",
        "    for xb, yb in test_loader:\n",
        "        xb = xb.to(device)\n",
        "        logits = model(xb)\n",
        "        all_logits.append(logits.cpu())\n",
        "        all_targets.append(yb.cpu())\n",
        "all_logits = torch.cat(all_logits, dim=0)\n",
        "all_targets = torch.cat(all_targets, dim=0)\n",
        "\n",
        "test_loss = F.cross_entropy(all_logits, all_targets).item()\n",
        "print(\"Test Loss:\", test_loss)\n",
        "\n",
        "probs = F.softmax(all_logits, dim=1)\n",
        "ranking = torch.argsort(probs, dim=1, descending=True)\n",
        "\n",
        "precision_at_k = {k: 0.0 for k in k_values}\n",
        "recall_at_k = {k: 0.0 for k in k_values}\n",
        "N = all_targets.shape[0]\n",
        "\n",
        "for k in k_values:\n",
        "    topk = ranking[:, :k]\n",
        "    correct = (topk == all_targets.unsqueeze(1)).any(dim=1).float()\n",
        "    precision_at_k[k] = (correct / k).mean().item()\n",
        "    recall_at_k[k] = correct.mean().item()\n",
        "\n",
        "for k in k_values:\n",
        "    print(f\"Precision@{k}: {precision_at_k[k]:.4f}, Recall@{k}: {recall_at_k[k]:.4f}\")\n",
        "\n",
        "true_logits = all_logits[torch.arange(N), all_targets].unsqueeze(1)\n",
        "ranks = (all_logits >= true_logits).sum(dim=1).float()\n",
        "mrr = (1.0 / ranks).mean().item()\n",
        "print(f\"MRR: {mrr:.4f}\")"
      ]
    },
    {
      "cell_type": "code",
      "execution_count": null,
      "metadata": {},
      "outputs": [],
      "source": [
        "# --- Salvataggio del modello trainato ---\n",
        "model_path = \"playlist_model.pth\"\n",
        "torch.save(model.state_dict(), model_path)\n",
        "print(\"Modello salvato in:\", model_path)"
      ]
    },
    {
      "cell_type": "code",
      "execution_count": null,
      "metadata": {},
      "outputs": [],
      "source": [
        "print(\"Clicca sul link sottostante per scaricare il modello:\")\n",
        "display(FileLink(model_path))"
      ]
    }
  ],
  "metadata": {
    "colab": {
      "provenance": [],
      "toc_visible": true
    },
    "kernelspec": {
      "display_name": "Python 3",
      "name": "python3"
    },
    "language_info": {
      "codemirror_mode": {
        "name": "ipython",
        "version": 3
      },
      "file_extension": ".py",
      "mimetype": "text/x-python",
      "name": "python",
      "nbconvert_exporter": "python",
      "pygments_lexer": "ipython3",
      "version": "3.11.9"
    }
  },
  "nbformat": 4,
  "nbformat_minor": 0
}
