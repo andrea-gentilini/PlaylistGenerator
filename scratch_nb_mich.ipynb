{
  "nbformat": 4,
  "nbformat_minor": 0,
  "metadata": {
    "colab": {
      "provenance": []
    },
    "kernelspec": {
      "name": "python3",
      "display_name": "Python 3"
    },
    "language_info": {
      "name": "python"
    }
  },
  "cells": [
    {
      "cell_type": "code",
      "execution_count": 44,
      "metadata": {
        "id": "B9MjJdTU0yBI"
      },
      "outputs": [],
      "source": [
        "import os\n",
        "import json\n",
        "import numpy as np\n",
        "from tqdm import tqdm\n",
        "import torch\n",
        "import kagglehub\n",
        "from torch.utils.data import Dataset, DataLoader\n",
        "import random\n"
      ]
    },
    {
      "cell_type": "markdown",
      "source": [
        "# Downloading and Preprocessing the Dataset"
      ],
      "metadata": {
        "id": "-q50PN1z-nrh"
      }
    },
    {
      "cell_type": "code",
      "source": [
        "#@title Download from Kaggle\n",
        "path = \"/root/.cache/kagglehub/datasets/himanshuwagh/spotify-million/versions/1\"\n",
        "if not os.path.exists(path):\n",
        "  path = kagglehub.dataset_download(\"himanshuwagh/spotify-million\")"
      ],
      "metadata": {
        "id": "MmblanR42Or8"
      },
      "execution_count": 37,
      "outputs": []
    },
    {
      "cell_type": "code",
      "source": [
        "#@title Create a unique correspondence using hexadecimal indices\n",
        "number_of_slices = 1000 #@param {type:\"slider\", min:1, max:1000, step:1}\n",
        "visited = set()\n",
        "correspondence = dict()\n",
        "inv_correspondence = dict()\n",
        "c = 0\n",
        "for i in tqdm(range(number_of_slices)):\n",
        "  first = 1000*i\n",
        "  data_url = os.path.join(path, \"data\" , f'mpd.slice.{first}-{first+999}.json')\n",
        "  with open(data_url) as f:\n",
        "    data = json.load(f)['playlists']\n",
        "    for playlist in data:\n",
        "      for track in playlist['tracks']:\n",
        "        if track['track_uri'] not in visited:\n",
        "          idx = hex(c)\n",
        "          correspondence[idx] = {\"artist\": track['artist_name'], \"song\": track['track_name'], \"uri\": track[\"track_uri\"]}\n",
        "          inv_correspondence[track['track_uri']] = idx\n",
        "          visited.add(track['track_uri'])\n",
        "          c += 1\n",
        "\n",
        "with open(\"correspondence.json\", 'w') as f:\n",
        "  json.dump(correspondence, f)\n",
        "\n",
        "print(\"Number of unique songs: \", len(correspondence))\n",
        "del correspondence"
      ],
      "metadata": {
        "colab": {
          "base_uri": "https://localhost:8080/"
        },
        "id": "iDGIvhdD3DCM",
        "outputId": "9b452899-fa50-4cd5-b4bc-57baf3479877"
      },
      "execution_count": 38,
      "outputs": [
        {
          "output_type": "stream",
          "name": "stderr",
          "text": [
            "100%|██████████| 1000/1000 [10:15<00:00,  1.62it/s]\n"
          ]
        },
        {
          "output_type": "stream",
          "name": "stdout",
          "text": [
            "Number of unique songs:  2262292\n"
          ]
        }
      ]
    },
    {
      "cell_type": "code",
      "source": [
        "def get_song_details(idx, correspondence = None):\n",
        "  if not correspondence:\n",
        "    with open(\"correspondence.json\") as f:\n",
        "      correspondence = json.load(f)\n",
        "      d =  correspondence[idx]\n",
        "      del correspondence\n",
        "      return d\n",
        "  else:\n",
        "    return correspondence[idx]"
      ],
      "metadata": {
        "id": "oDwXlnQ9Di89"
      },
      "execution_count": 39,
      "outputs": []
    },
    {
      "cell_type": "code",
      "source": [
        "idx = 50\n",
        "get_song_details(hex(idx))"
      ],
      "metadata": {
        "colab": {
          "base_uri": "https://localhost:8080/"
        },
        "id": "lF8jxm9gGpGp",
        "outputId": "4318b0b0-403c-4d8b-bcf7-852a91ca4fb2"
      },
      "execution_count": 40,
      "outputs": [
        {
          "output_type": "execute_result",
          "data": {
            "text/plain": [
              "{'artist': 'We The Kings',\n",
              " 'song': 'Check Yes Juliet',\n",
              " 'uri': 'spotify:track:1b7vg5T9YKR3NNqXfBYRF7'}"
            ]
          },
          "metadata": {},
          "execution_count": 40
        }
      ]
    },
    {
      "cell_type": "code",
      "source": [
        "#@title Saving playlists as lists of hexadecimal indices\n",
        "!mkdir -p playlists\n",
        "\n",
        "for i in tqdm(range(1000)):\n",
        "  first = 1000*i\n",
        "  data_url = os.path.join(path, \"data\" , f'mpd.slice.{first}-{first+999}.json')\n",
        "  with open(data_url) as f:\n",
        "    data = json.load(f)['playlists']\n",
        "    for idx, playlist in enumerate(data):\n",
        "      filename = f\"playlist_{first+idx}.json\"\n",
        "      new_playlist = {'n_followers': playlist['num_followers'], 'tracks': []}\n",
        "      for track in playlist['tracks']:\n",
        "        new_playlist['tracks'].append(inv_correspondence[track['track_uri']])\n",
        "\n",
        "\n",
        "      with open(os.path.join(\"playlists\", filename), 'w') as f:\n",
        "        json.dump(new_playlist, f)\n",
        "\n",
        "del new_playlist, inv_correspondence"
      ],
      "metadata": {
        "id": "yXh74Pnr4_yB",
        "colab": {
          "base_uri": "https://localhost:8080/"
        },
        "outputId": "de1a9743-0cab-4c49-b9c2-f9bc89c470c4"
      },
      "execution_count": 41,
      "outputs": [
        {
          "output_type": "stream",
          "name": "stderr",
          "text": [
            "100%|██████████| 1000/1000 [15:23<00:00,  1.08it/s]\n"
          ]
        }
      ]
    },
    {
      "cell_type": "code",
      "source": [
        "#@title Create torch dataset\n",
        "class PlaylistDataset(Dataset):\n",
        "  def __init__(self, root_dir, k = 2, transform=None):\n",
        "    self.root_dir = root_dir\n",
        "    self.transform = transform\n",
        "    self.k = k\n",
        "    self.playlists = [f for f in os.listdir(root_dir) if f.endswith('.json')]\n",
        "\n",
        "  def __len__(self):\n",
        "    return len(self.playlists)\n",
        "\n",
        "  def __getitem__(self, idx):\n",
        "    if torch.is_tensor(idx):\n",
        "      idx = idx.tolist()\n",
        "\n",
        "    with open(os.path.join(self.root_dir, self.playlists[idx])) as f:\n",
        "      playlist = json.load(f)\n",
        "\n",
        "    tracks = playlist['tracks']\n",
        "    followers = playlist['n_followers']\n",
        "\n",
        "    if self.transform:\n",
        "      tracks = self.tracks(playlist)\n",
        "\n",
        "    partial_masked_tracks = tracks[:]\n",
        "    random.shuffle(partial_masked_tracks)\n",
        "    partial_masked_tracks = partial_masked_tracks[:self.k]\n",
        "\n",
        "    return partial_masked_tracks, tracks, followers\n",
        "\n",
        "dataset = PlaylistDataset(\"playlists\")\n",
        "print(\"Number of playlists: \", len(dataset))"
      ],
      "metadata": {
        "colab": {
          "base_uri": "https://localhost:8080/"
        },
        "id": "sF1TfmJJ_OiR",
        "outputId": "75b6faab-d3f5-4621-8b54-205cd2fb44b1"
      },
      "execution_count": 48,
      "outputs": [
        {
          "output_type": "stream",
          "name": "stdout",
          "text": [
            "Number of playlists:  1000000\n"
          ]
        }
      ]
    },
    {
      "cell_type": "code",
      "source": [
        "first_masked_playlist, first_playlist, first_playlist_followers = dataset[0]\n",
        "print(\"First playlist followers: \", first_playlist_followers)\n",
        "print(\"The first masked playlist contains:\")\n",
        "for track in first_masked_playlist:\n",
        "  print(get_song_details(track))\n",
        "\n",
        "print(\"The first playlist contains:\")\n",
        "for track in first_playlist[:2]:\n",
        "  print(get_song_details(track))\n"
      ],
      "metadata": {
        "colab": {
          "base_uri": "https://localhost:8080/"
        },
        "id": "RdPggPtxHQ57",
        "outputId": "e901cdda-60c3-4b98-8711-d217ce73acf4"
      },
      "execution_count": 49,
      "outputs": [
        {
          "output_type": "stream",
          "name": "stdout",
          "text": [
            "First playlist followers:  2\n",
            "The first masked playlist contains:\n",
            "{'artist': 'The Black Crowes', 'song': 'Jealous Again', 'uri': 'spotify:track:3TxkuaIEUv53lEflPskcN8'}\n",
            "{'artist': 'Red Hot Chili Peppers', 'song': \"Can't Stop\", 'uri': 'spotify:track:3ZOEytgrvLwQaqXreDs2Jx'}\n",
            "The first playlist contains:\n",
            "{'artist': 'Kenny Wayne Shepherd', 'song': 'Somehow, Somewhere, Someway', 'uri': 'spotify:track:3N8YmS2jHNmziUhqTR7Wk4'}\n",
            "{'artist': 'Fireball Ministry', 'song': 'Kick Back', 'uri': 'spotify:track:7BMIFNd4EmJKdOvlpg4KSL'}\n"
          ]
        }
      ]
    }
  ]
}