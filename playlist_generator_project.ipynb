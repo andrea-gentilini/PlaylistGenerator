{
  "nbformat": 4,
  "nbformat_minor": 0,
  "metadata": {
    "colab": {
      "provenance": [],
      "toc_visible": true
    },
    "kernelspec": {
      "name": "python3",
      "display_name": "Python 3"
    },
    "language_info": {
      "name": "python"
    }
  },
  "cells": [
    {
      "cell_type": "markdown",
      "source": [
        "# 🎵 MPD Spotify Playlist Recommender System 🎵\n",
        "The playlist recommendation task in recommender systems aims to suggest songs to complete a partial playlist. Given a set of playlists and their associated tracks, the goal is to predict which songs a user would add to an incomplete playlist based on historical data.\n",
        "\n",
        "## Table of Contents 📖\n",
        "\n",
        "1. **Dataset Analysis 📊**  \n",
        "   Understanding the dataset structure, exploring distributions, and identifying key patterns for playlist recommendations.  \n",
        "\n",
        "2. **Matrix Factorization Approach 🔢**  \n",
        "   Implementing **Non-negative Matrix Factorization (NMF)** and **Singular Value Decomposition (SVD)** to uncover latent patterns in user-playlist interactions.  \n",
        "\n",
        "3. **Language Model Approach 🧠**  \n",
        "   Leveraging techniques to model playlists as sequences, predicting missing tracks using a character(tracks)-based Language Model.  "
      ],
      "metadata": {
        "id": "S47uPSZDiLDv"
      }
    },
    {
      "cell_type": "code",
      "execution_count": null,
      "metadata": {
        "cellView": "form",
        "id": "Rr8nGXQgGhiV"
      },
      "outputs": [],
      "source": [
        "#@title Import dependencies\n",
        "import os\n",
        "import re\n",
        "import gc\n",
        "import json\n",
        "import pickle\n",
        "import numpy as np\n",
        "import pandas as pd\n",
        "from tqdm import tqdm\n",
        "import matplotlib.pyplot as plt\n",
        "from scipy.sparse import coo_matrix\n",
        "from sklearn.decomposition import NMF\n",
        "from scipy.sparse.linalg import svds\n",
        "from sklearn.preprocessing import StandardScaler\n",
        "from sklearn.model_selection import train_test_split\n",
        "import seaborn as sns\n",
        "\n",
        "\n",
        "np.random.seed(42)"
      ]
    },
    {
      "cell_type": "code",
      "execution_count": null,
      "metadata": {
        "id": "7qxXTE6xGska",
        "cellView": "form"
      },
      "outputs": [],
      "source": [
        "# @title Download dataset from Kaggle\n",
        "import kagglehub\n",
        "\n",
        "path = \"/root/.cache/kagglehub/datasets/himanshuwagh/spotify-million/versions/1\"\n",
        "if not os.path.exists(path):\n",
        "  # Download latest version\n",
        "  path = kagglehub.dataset_download(\"himanshuwagh/spotify-million\")\n",
        "\n",
        "# contiene le slices del dataset: 1000 slice das 1000 playlist ciascuna\n",
        "data: str = os.path.join(path, \"data\")"
      ]
    },
    {
      "cell_type": "markdown",
      "metadata": {
        "id": "-pQMKS8xwgQH"
      },
      "source": [
        "# 🔍 Dataset Analysis"
      ]
    },
    {
      "cell_type": "markdown",
      "metadata": {
        "id": "9R7C1kcOAFK_"
      },
      "source": [
        "## What type of data do we have?"
      ]
    },
    {
      "cell_type": "code",
      "execution_count": null,
      "metadata": {
        "colab": {
          "base_uri": "https://localhost:8080/"
        },
        "id": "KZl7WOvAOQaj",
        "outputId": "1b6fe8fa-5674-42a7-abb2-7ffe323011b0"
      },
      "outputs": [
        {
          "output_type": "stream",
          "name": "stdout",
          "text": [
            "Slices:  ['mpd.slice.93000-93999.json' 'mpd.slice.946000-946999.json'\n",
            " 'mpd.slice.194000-194999.json']\n"
          ]
        }
      ],
      "source": [
        "shuffled_slices = np.array(os.listdir(data))\n",
        "np.random.shuffle(shuffled_slices)\n",
        "\n",
        "print(\"Slices: \", shuffled_slices[:3])"
      ]
    },
    {
      "cell_type": "code",
      "execution_count": null,
      "metadata": {
        "id": "FR37hoHaCKV5"
      },
      "outputs": [],
      "source": [
        "with open(os.path.join(data, shuffled_slices[0]), 'r') as f:\n",
        "  example_slice = json.load(f)"
      ]
    },
    {
      "cell_type": "code",
      "execution_count": null,
      "metadata": {
        "colab": {
          "base_uri": "https://localhost:8080/"
        },
        "id": "QHm5hj50DXkr",
        "outputId": "46d5b27a-6931-49dc-d3af-fe8178202ec2"
      },
      "outputs": [
        {
          "output_type": "stream",
          "name": "stdout",
          "text": [
            "['name', 'collaborative', 'pid', 'modified_at', 'num_tracks', 'num_albums', 'num_followers', 'tracks', 'num_edits', 'duration_ms', 'num_artists']\n",
            "['pos', 'artist_name', 'track_uri', 'artist_uri', 'track_name', 'album_uri', 'duration_ms', 'album_name']\n",
            "\n",
            "First song of the first playlist:\n"
          ]
        },
        {
          "output_type": "execute_result",
          "data": {
            "text/plain": [
              "{'pos': 0,\n",
              " 'artist_name': 'Lee Greenwood',\n",
              " 'track_uri': 'spotify:track:1xcDKZqyEg1dIgsidluiFP',\n",
              " 'artist_uri': 'spotify:artist:3g229vTyhsdwm9SO2p1FPL',\n",
              " 'track_name': 'God Bless The U.S.A.',\n",
              " 'album_uri': 'spotify:album:4b5VS7H0TqAEOrRF3Ax8s9',\n",
              " 'duration_ms': 190240,\n",
              " 'album_name': 'Greatest Hits - Volume 2'}"
            ]
          },
          "metadata": {},
          "execution_count": 34
        }
      ],
      "source": [
        "print(list(example_slice['playlists'][0].keys()))\n",
        "print(list(example_slice['playlists'][0]['tracks'][0].keys()))\n",
        "print('\\nFirst song of the first playlist:')\n",
        "example_slice['playlists'][0]['tracks'][0]"
      ]
    },
    {
      "cell_type": "markdown",
      "source": [
        "The raw dataset contains a total of 1 Million playlists splitted in 1000 slices with 1000 playlist each."
      ],
      "metadata": {
        "id": "0tAPrZzEjrgR"
      }
    },
    {
      "cell_type": "markdown",
      "metadata": {
        "id": "9S_jNkKaAWrq"
      },
      "source": [
        "## Data Information from stats.txt"
      ]
    },
    {
      "cell_type": "code",
      "execution_count": null,
      "metadata": {
        "id": "tsqZZWeJ_5EL",
        "colab": {
          "base_uri": "https://localhost:8080/"
        },
        "outputId": "682f24d0-315b-4ec7-851d-7a23856f46ab"
      },
      "outputs": [
        {
          "output_type": "stream",
          "name": "stdout",
          "text": [
            "\n",
            "number of playlists 1000000\n",
            "number of tracks 66346428\n",
            "number of unique tracks 2262292\n",
            "number of unique albums 734684\n",
            "number of unique artists 295860\n",
            "number of unique titles 92944\n",
            "number of playlists with descriptions 18760\n",
            "number of unique normalized titles 17381\n",
            "avg playlist length 66.346428\n",
            "\n",
            "top playlist titles\n",
            "  10000 country\n",
            "  10000 chill\n",
            "   8493 rap\n",
            "   8481 workout\n",
            "   8146 oldies\n",
            "   8015 christmas\n",
            "   6848 rock\n",
            "   6157 party\n",
            "   5883 throwback\n",
            "   5063 jams\n",
            "   5052 worship\n",
            "   4907 summer\n",
            "   4677 feels\n",
            "   4612 new\n",
            "   4186 disney\n",
            "   4124 lit\n",
            "   4030 throwbacks\n",
            "   3886 music\n",
            "   3513 sleep\n",
            "   3500 vibes\n",
            "\n",
            "top tracks\n",
            "  46574 HUMBLE. by Kendrick Lamar\n",
            "  43447 One Dance by Drake\n",
            "  41309 Broccoli (feat. Lil Yachty) by DRAM\n",
            "  41079 Closer by The Chainsmokers\n",
            "  39987 Congratulations by Post Malone\n",
            "  35202 Caroline by Aminé\n",
            "  35138 iSpy (feat. Lil Yachty) by KYLE\n",
            "  34999 Bad and Boujee (feat. Lil Uzi Vert) by Migos\n",
            "  34990 Location by Khalid\n",
            "  34922 XO TOUR Llif3 by Lil Uzi Vert\n",
            "  33699 Bounce Back by Big Sean\n",
            "  32391 Ignition - Remix by R. Kelly\n",
            "  32336 No Role Modelz by J. Cole\n",
            "  32059 Mask Off by Future\n",
            "  31492 No Problem (feat. Lil Wayne & 2 Chainz) by Chance The Rapper\n",
            "  31374 I'm the One by DJ Khaled\n",
            "  31119 Jumpman by Drake\n",
            "  31106 goosebumps by Travis Scott\n",
            "  30678 Fake Love by Drake\n",
            "  30485 Despacito - Remix by Luis Fonsi\n",
            "\n",
            "top artists\n",
            " 847160 Drake\n",
            " 413297 Kanye West\n",
            " 353624 Kendrick Lamar\n",
            " 339570 Rihanna\n",
            " 316603 The Weeknd\n",
            " 294667 Eminem\n",
            " 272116 Ed Sheeran\n",
            " 250734 Future\n",
            " 243119 Justin Bieber\n",
            " 241560 J. Cole\n",
            " 230857 Beyoncé\n",
            " 223509 The Chainsmokers\n",
            " 212772 Chris Brown\n",
            " 203047 Calvin Harris\n",
            " 198905 Twenty One Pilots\n",
            " 197855 Lil Uzi Vert\n",
            " 195907 Post Malone\n",
            " 192478 Big Sean\n",
            " 187029 Maroon 5\n",
            " 185520 JAY Z\n",
            "\n",
            "\n"
          ]
        }
      ],
      "source": [
        "stats_path = os.path.join(path, 'stats.txt')\n",
        "with open(stats_path, 'r') as f:\n",
        "    stats = f.read()\n",
        "print(stats.split(\"numedits histogram\")[0])\n",
        "del stats"
      ]
    },
    {
      "cell_type": "markdown",
      "source": [
        "  - Dataset Scale 📊\n",
        "\n",
        "      With 1,000,000 playlists and 66M track occurrences, this dataset is extensive, offering a rich base for modeling playlist recommendations. The number of unique tracks (2.26M) suggests a high diversity, obviously some tracks are likely to appear in multiple playlists.\n",
        "\n",
        "\n",
        "\n",
        "  - Average Playlist Length 📏\n",
        "\n",
        "      With an average length of ~66 tracks, playlists are relatively long, which could be beneficial for learning user preferences but may also introduce noise if playlists aren't highly curated."
      ],
      "metadata": {
        "id": "C_agHzNAkAEt"
      }
    },
    {
      "cell_type": "code",
      "execution_count": null,
      "metadata": {
        "id": "qZWmzbQTJujP",
        "colab": {
          "base_uri": "https://localhost:8080/",
          "height": 507
        },
        "outputId": "dca4f6a9-089f-41b7-fd52-51c4926ad7da",
        "cellView": "form"
      },
      "outputs": [
        {
          "output_type": "display_data",
          "data": {
            "text/plain": [
              "<Figure size 2000x500 with 4 Axes>"
            ],
            "image/png": "[encoded data removed]"
          },
          "metadata": {}
        }
      ],
      "source": [
        "# @title Plot stats\n",
        "\n",
        "stats_lines = []\n",
        "with open(stats_path, 'r') as f:\n",
        "    stats_lines = f.readlines()\n",
        "\n",
        "def parse_histogram(stats_lines, start_marker, end_marker=None):\n",
        "    data = []\n",
        "    recording = False\n",
        "    for line in stats_lines:\n",
        "        if start_marker in line:\n",
        "            recording = True\n",
        "            continue\n",
        "        if end_marker and end_marker in line:\n",
        "            break\n",
        "        if recording:\n",
        "            parts = line.strip().split()\n",
        "            if len(parts) == 2:\n",
        "                count, value = int(parts[0]), parts[1]\n",
        "                data.append((value, count))\n",
        "            elif len(parts) == 3:  # per gestire i casi \"value value count\"\n",
        "                count = int(parts[-1])\n",
        "                value = \" \".join(parts[:-1])\n",
        "                data.append((value, count))\n",
        "    return data\n",
        "\n",
        "# estraiamo gli istogrammi\n",
        "numedits_histogram = parse_histogram(stats_lines, 'numedits histogram', 'last modified histogram')\n",
        "last_modified_histogram = parse_histogram(stats_lines, 'last modified histogram', 'playlist length histogram')\n",
        "playlist_length_histogram = parse_histogram(stats_lines, 'playlist length histogram', 'num followers histogram')\n",
        "num_followers_histogram = parse_histogram(stats_lines, 'num followers histogram')\n",
        "\n",
        "def plot_histograms(histograms, titles, xlabels, ylabels, rotations):\n",
        "    fig, axes = plt.subplots(1, 4, figsize=(20, 5))\n",
        "    axes = axes.flatten()  # in caso avessimo shape diversi della grid dei plot\n",
        "\n",
        "    for i, ax in enumerate(axes):\n",
        "        if i < len(histograms):\n",
        "            data = histograms[i]\n",
        "            values, counts = zip(*data)\n",
        "            ax.bar(values, counts, align='center')\n",
        "            ax.set_title(titles[i])\n",
        "            ax.set_xlabel(xlabels[i])\n",
        "            ax.set_ylabel(ylabels[i])\n",
        "            ax.tick_params(axis='x', rotation=rotations[i])\n",
        "        else:\n",
        "            ax.axis('off')\n",
        "\n",
        "    plt.tight_layout()\n",
        "    plt.show()\n",
        "\n",
        "# dati utili per il plot\n",
        "histograms = [numedits_histogram, last_modified_histogram,\n",
        "              playlist_length_histogram, num_followers_histogram]\n",
        "titles = ['Number of Edits Histogram','Last Modified Histogram',\n",
        "          'Playlist Length Histogram','Number of Followers Histogram']\n",
        "xlabels = ['Number of Edits', 'Date', 'Playlist Length', 'Number of Followers']\n",
        "ylabels = ['Count', 'Count', 'Count', 'Count']\n",
        "rotations = [0, 45, 0, 45]\n",
        "\n",
        "plot_histograms(histograms, titles, xlabels, ylabels, rotations)"
      ]
    },
    {
      "cell_type": "markdown",
      "source": [
        "# ⚡Matrix Factorization Approach"
      ],
      "metadata": {
        "id": "WSuyN7XaYmpE"
      }
    },
    {
      "cell_type": "markdown",
      "metadata": {
        "id": "5BqlPLiGHGQ9"
      },
      "source": [
        "## Dataset Handling for Matrix Factorization\n",
        "The following code efficiently processes **a partial number of slices** containing playlists and tracks, extracting relevant data while optimizing performance. Below is a breakdown of the key steps:\n",
        "\n",
        "### **1. Initializing Storage 🗂️**  \n",
        "- An **empty DataFrame (`million_df`)** is created to store playlist-track relationships.  \n",
        "- A **list (`data_list`)** is used as a temporary storage to avoid frequent DataFrame modifications (which are costly).  \n",
        "\n",
        "\n",
        "### **2. Batch Processing for Speedup 🚀**  \n",
        "- Every **30 files**, the accumulated data is converted into a **DataFrame** and appended to `million_df`.  \n",
        "- The **temporary list (`data_list`) is cleared** to free memory.  \n",
        "- This approach prevents excessive memory consumption and improves runtime performance.   \n",
        "\n",
        "### **Key Optimizations ✅**  \n",
        "🔹 **Batch updates every 30 files** instead of appending row-by-row.  \n",
        "🔹 **Memory-efficient types (`int32` for playlist IDs)**.  \n",
        "🔹 **String cleaning (`track_uri[14:]`)** to extract meaningful track IDs.  \n",
        "\n",
        "This method ensures **efficient data handling** while working with a large dataset of playlists and tracks. 🎶📊"
      ]
    },
    {
      "cell_type": "code",
      "execution_count": null,
      "metadata": {
        "colab": {
          "base_uri": "https://localhost:8080/"
        },
        "id": "ix4fSvZPHIjN",
        "outputId": "9ff4e50c-462d-4b39-f8f5-965be221f3a8"
      },
      "outputs": [
        {
          "output_type": "stream",
          "name": "stderr",
          "text": [
            "Processing Slices: 100%|██████████| 500/500 [05:00<00:00,  1.67it/s]\n"
          ]
        }
      ],
      "source": [
        "million_df = pd.DataFrame()\n",
        "num_training_files = 500\n",
        "\n",
        "# Create an empty list to hold all rows as dictionaries\n",
        "data_list = []\n",
        "\n",
        "for i, filename in tqdm(enumerate(shuffled_slices[:num_training_files]), desc=\"Processing Slices\", total=num_training_files):\n",
        "    if filename.startswith(\"mpd.slice.\") and filename.endswith(\".json\"):\n",
        "        filepath = os.path.join(data, filename)\n",
        "\n",
        "        with open(filepath, \"r\", encoding=\"utf-8\") as jsonfile:\n",
        "            cur_slice = json.load(jsonfile)\n",
        "\n",
        "        for playlist in cur_slice[\"playlists\"]:\n",
        "            playlist_id = playlist[\"pid\"]\n",
        "\n",
        "            # Collect data for the playlist\n",
        "            for track in playlist[\"tracks\"]:\n",
        "                data_list.append({\n",
        "                    \"playlist\": playlist_id,\n",
        "                    \"track\": track[\"track_uri\"][14:]  # remove 'spotify:track:'\n",
        "                })\n",
        "\n",
        "    # update every 30 files for speedup\n",
        "    if i%30 == 0:\n",
        "        new_data = pd.DataFrame(data_list)\n",
        "        data_list.clear()\n",
        "        million_df = pd.concat([million_df, new_data], ignore_index=True)\n",
        "\n",
        "# Convert the list of dictionaries into a DataFrame in one go\n",
        "new_data = pd.DataFrame(data_list)\n",
        "data_list = []\n",
        "million_df = pd.concat([million_df, new_data], ignore_index=True)\n",
        "\n",
        "million_df[\"playlist\"] = million_df[\"playlist\"].astype(\"int32\")"
      ]
    },
    {
      "cell_type": "code",
      "source": [
        "million_df = million_df.drop_duplicates()"
      ],
      "metadata": {
        "id": "9dPSnrZZJSFU"
      },
      "execution_count": null,
      "outputs": []
    },
    {
      "cell_type": "code",
      "execution_count": null,
      "metadata": {
        "colab": {
          "base_uri": "https://localhost:8080/"
        },
        "id": "HR2fcoYEVOx5",
        "outputId": "6bdb96c3-b5cf-4786-de29-f2539427d1ff"
      },
      "outputs": [
        {
          "output_type": "stream",
          "name": "stdout",
          "text": [
            "<class 'pandas.core.frame.DataFrame'>\n",
            "Index: 32775485 entries, 0 to 33215593\n",
            "Data columns (total 2 columns):\n",
            " #   Column    Dtype \n",
            "---  ------    ----- \n",
            " 0   playlist  int32 \n",
            " 1   track     object\n",
            "dtypes: int32(1), object(1)\n",
            "memory usage: 625.1+ MB\n"
          ]
        }
      ],
      "source": [
        "million_df.info()"
      ]
    },
    {
      "cell_type": "markdown",
      "source": [
        "### Filtering Playlists 🎧\n",
        "\n",
        "To improve data quality, we filter playlists based on the number of unique tracks.\n",
        "\n",
        "Steps:\n",
        "\n",
        "  - Count unique tracks per playlist – We group playlists and count how many unique tracks each contains.\n",
        "\n",
        "  - Set limits for valid playlists – Playlists with fewer than 10 tracks are too short to be useful, while those with more than 500 tracks may be too broad.\n",
        "\n",
        "  - Filter playlists within the limits – We keep only playlists that fall within this range.\n",
        "\n",
        "Why? 🤔\n",
        "\n",
        "✅ Removes playlists that are too short or too long.\n",
        "\n",
        "✅ Focuses on meaningful data for better recommendations.\n",
        "\n",
        "✅ Reduces unnecessary noise in the dataset.\n",
        "\n",
        "This step ensures clean and useful data for our recommendation model. 🎵🚀"
      ],
      "metadata": {
        "id": "efC14txioT_z"
      }
    },
    {
      "cell_type": "code",
      "execution_count": null,
      "metadata": {
        "colab": {
          "base_uri": "https://localhost:8080/",
          "height": 466
        },
        "id": "qxT5LWUo_ySv",
        "outputId": "af1b0dee-e91f-4691-b38b-9d274e925dd0"
      },
      "outputs": [
        {
          "output_type": "execute_result",
          "data": {
            "text/plain": [
              "<Axes: xlabel='Number of Tracks', ylabel='Number of Playlists'>"
            ]
          },
          "metadata": {},
          "execution_count": 40
        },
        {
          "output_type": "display_data",
          "data": {
            "text/plain": [
              "<Figure size 640x480 with 1 Axes>"
            ],
            "image/png": "[encoded data removed]"
          },
          "metadata": {}
        }
      ],
      "source": [
        "# @title How many playlists share the same number of tracks, and how many tracks are in them?\n",
        "playlist_counts = million_df.groupby(\"playlist\")[\"track\"].nunique()\n",
        "playlist_counts.plot(kind=\"hist\", bins=50, ylabel=\"Number of Playlists\", xlabel=\"Number of Tracks\")"
      ]
    },
    {
      "cell_type": "code",
      "execution_count": null,
      "metadata": {
        "id": "picqHM6QietO"
      },
      "outputs": [],
      "source": [
        "min_track_num = 10\n",
        "max_track_num = 500\n",
        "valid_playlists = playlist_counts[(playlist_counts >= min_track_num) & (playlist_counts <= max_track_num)]"
      ]
    },
    {
      "cell_type": "code",
      "execution_count": null,
      "metadata": {
        "colab": {
          "base_uri": "https://localhost:8080/",
          "height": 447
        },
        "id": "n41cxbxGjSmT",
        "outputId": "0634a235-1194-4349-a372-0d0b907a1913"
      },
      "outputs": [
        {
          "output_type": "execute_result",
          "data": {
            "text/plain": [
              "<Axes: ylabel='Frequency'>"
            ]
          },
          "metadata": {},
          "execution_count": 42
        },
        {
          "output_type": "display_data",
          "data": {
            "text/plain": [
              "<Figure size 640x480 with 1 Axes>"
            ],
            "image/png": "[encoded data removed]"
          },
          "metadata": {}
        }
      ],
      "source": [
        "valid_playlists.plot(kind=\"hist\", bins=50)"
      ]
    },
    {
      "cell_type": "code",
      "execution_count": null,
      "metadata": {
        "colab": {
          "base_uri": "https://localhost:8080/"
        },
        "id": "onfE8GbALrKE",
        "outputId": "db20f245-c8d8-454d-e33f-28aaab74cceb"
      },
      "outputs": [
        {
          "output_type": "stream",
          "name": "stdout",
          "text": [
            "Number of Playlists goes from 500000 to 481935 (Ratio of 96.39%)\n"
          ]
        }
      ],
      "source": [
        "print(f\"Number of Playlists goes from {playlist_counts.shape[0]} to {valid_playlists.shape[0]} (Ratio of {(valid_playlists.shape[0]/playlist_counts.shape[0])*100:.2f}%)\")\n"
      ]
    },
    {
      "cell_type": "code",
      "execution_count": null,
      "metadata": {
        "colab": {
          "base_uri": "https://localhost:8080/"
        },
        "outputId": "aa9338b9-83d0-46d9-d7e0-f1fe0741c47b",
        "id": "DqBcU8uvlF2s"
      },
      "outputs": [
        {
          "output_type": "stream",
          "name": "stdout",
          "text": [
            "Before removing playlists: million_df.shape = (32775485, 2)\n",
            "After removing playlists:  million_df.shape = (32644760, 2)\n"
          ]
        }
      ],
      "source": [
        "print(f\"Before removing playlists: {million_df.shape = }\")\n",
        "million_df = million_df[million_df[\"playlist\"].isin(valid_playlists.index)]\n",
        "print(f\"After removing playlists:  {million_df.shape = }\")"
      ]
    },
    {
      "cell_type": "markdown",
      "source": [
        "### Filtering Tracks 🎶\n",
        "\n",
        "To focus on tracks that appear in multiple playlists, we filter out tracks that are rarely used.\n",
        "\n",
        "Steps:\n",
        "\n",
        "  - Count playlists per track – We group tracks and count how many different playlists each track appears in.\n",
        "\n",
        "  - Set limits for valid tracks – Tracks that appear in fewer than 50 playlists are excluded, as they are less likely to be representative for recommendations.\n",
        "  \n",
        "  - Filter tracks based on playlist count – We keep only tracks that appear in at least 50 playlists.\n",
        "\n",
        "Why? 🤔\n",
        "\n",
        "✅ Removes tracks that are too rare or not widely used.\n",
        "\n",
        "✅ Focuses on tracks that have broader appeal across playlists.\n",
        "\n",
        "✅ Ensures we are recommending tracks that are more likely to be relevant to users.\n",
        "\n",
        "This step ensures that the dataset only includes tracks with significant presence in playlists. 🎵🚀"
      ],
      "metadata": {
        "id": "otpZBHKEoiEX"
      }
    },
    {
      "cell_type": "code",
      "execution_count": null,
      "metadata": {
        "colab": {
          "base_uri": "https://localhost:8080/",
          "height": 466
        },
        "id": "aWCBOszrCu8d",
        "outputId": "fe51466f-d67d-44c4-abc6-9699022df173"
      },
      "outputs": [
        {
          "output_type": "execute_result",
          "data": {
            "text/plain": [
              "<Axes: xlabel='Tracks', ylabel='Log Number of Playlist'>"
            ]
          },
          "metadata": {},
          "execution_count": 45
        },
        {
          "output_type": "display_data",
          "data": {
            "text/plain": [
              "<Figure size 640x480 with 1 Axes>"
            ],
            "image/png": "[encoded data removed]"
          },
          "metadata": {}
        }
      ],
      "source": [
        "# @title In how many playlists does each track appear?\n",
        "track_counts = million_df.groupby(\"track\")[\"playlist\"].nunique()\n",
        "track_counts.sort_values().plot(logy=True, ylabel=\"Log Number of Playlist\", xlabel=\"Tracks\")"
      ]
    },
    {
      "cell_type": "code",
      "execution_count": null,
      "metadata": {
        "id": "SqM7EPBTh1qR"
      },
      "outputs": [],
      "source": [
        "min_playlist_num = 50\n",
        "valid_tracks = track_counts[(track_counts >= min_playlist_num)]"
      ]
    },
    {
      "cell_type": "code",
      "source": [
        "valid_tracks.sort_values().plot(logy=True, ylabel=\"Log Number of Playlist\", xlabel=\"Tracks\")"
      ],
      "metadata": {
        "colab": {
          "base_uri": "https://localhost:8080/",
          "height": 466
        },
        "id": "vM_9LyQGehVA",
        "outputId": "c8409aa2-aeb6-4a7f-8106-b5352c180e1c"
      },
      "execution_count": null,
      "outputs": [
        {
          "output_type": "execute_result",
          "data": {
            "text/plain": [
              "<Axes: xlabel='Tracks', ylabel='Log Number of Playlist'>"
            ]
          },
          "metadata": {},
          "execution_count": 47
        },
        {
          "output_type": "display_data",
          "data": {
            "text/plain": [
              "<Figure size 640x480 with 1 Axes>"
            ],
            "image/png": "[encoded data removed]"
          },
          "metadata": {}
        }
      ]
    },
    {
      "cell_type": "code",
      "execution_count": null,
      "metadata": {
        "colab": {
          "base_uri": "https://localhost:8080/"
        },
        "id": "0ulhPNIUoesK",
        "outputId": "cd67708f-8144-4e16-b81f-be4974365deb"
      },
      "outputs": [
        {
          "output_type": "stream",
          "name": "stdout",
          "text": [
            "Number of Tracks goes from 1603487 to 69745 (Ratio of 4.35%)\n"
          ]
        }
      ],
      "source": [
        "print(f\"Number of Tracks goes from {track_counts.shape[0]} to {valid_tracks.shape[0]} (Ratio of {(valid_tracks.shape[0]/track_counts.shape[0])*100:.2f}%)\")"
      ]
    },
    {
      "cell_type": "code",
      "execution_count": null,
      "metadata": {
        "colab": {
          "base_uri": "https://localhost:8080/"
        },
        "id": "XcDcI6TKNm_z",
        "outputId": "2d056728-16ff-45c8-cc62-7995657c00b4"
      },
      "outputs": [
        {
          "output_type": "stream",
          "name": "stdout",
          "text": [
            "Before removing tracks: million_df.shape = (32644760, 2)\n",
            "After removing tracks: million_df.shape = (26329868, 2)\n"
          ]
        }
      ],
      "source": [
        "print(f\"Before removing tracks: {million_df.shape = }\")\n",
        "million_df = million_df[million_df[\"track\"].isin(valid_tracks.index)]\n",
        "print(f\"After removing tracks: {million_df.shape = }\")"
      ]
    },
    {
      "cell_type": "markdown",
      "source": [
        "### Sparse Matrix Creation 👩‍💻\n",
        "\n",
        "This code converts the dataset into a sparse matrix format for use in recommendation algorithms, followed by filtering and visualization steps.\n"
      ],
      "metadata": {
        "id": "a-lBvqqspEs_"
      }
    },
    {
      "cell_type": "markdown",
      "source": [
        "  - Create Mappings for Playlist and Track Indices 🔢\n",
        "\n",
        "      We map each unique playlist ID and track URI to a unique index.\n",
        "      These mappings are used to transform the playlists and tracks into integer indices.\n",
        "\n",
        "  - Add Indices to the DataFrame 📊\n",
        "\n",
        "      We create two new columns in million_df for playlist indices and track indices by applying the mappings.\n",
        "      These indices are used to position data in the sparse matrix.\n",
        "\n",
        "  - Build Sparse Matrix (COO Format) 🏗️\n",
        "\n",
        "      A COO matrix is created where each row represents a playlist, and each column represents a track.\n",
        "      All values in the matrix are set to 1 (indicating that a track is part of the playlist).\n",
        "\n",
        "  - Convert to CSR Format 💾\n",
        "  \n",
        "      The COO matrix is then converted to Compressed Sparse Row (CSR) format for memory efficiency and faster computation.\n",
        "      The resulting matrix is printed to show its dimensions."
      ],
      "metadata": {
        "id": "Ya2oo4uXp8pp"
      }
    },
    {
      "cell_type": "code",
      "execution_count": null,
      "metadata": {
        "colab": {
          "base_uri": "https://localhost:8080/"
        },
        "id": "htCl8pe6TwoV",
        "outputId": "9452151e-4d6a-4687-e905-cc2f7e9504ef"
      },
      "outputs": [
        {
          "output_type": "stream",
          "name": "stdout",
          "text": [
            "(477866, 69745)\n"
          ]
        }
      ],
      "source": [
        "playlist_id_to_idx = {id: idx for idx, id in enumerate(million_df[\"playlist\"].unique())}\n",
        "track_uri_to_idx = {uri: idx for idx, uri in enumerate(million_df[\"track\"].unique())}\n",
        "\n",
        "million_df[\"playlist_idx\"] = million_df[\"playlist\"].map(playlist_id_to_idx)\n",
        "million_df[\"track_idx\"] = million_df[\"track\"].map(track_uri_to_idx)\n",
        "\n",
        "# Create COO matrix\n",
        "rows = million_df[\"playlist_idx\"]\n",
        "cols = million_df[\"track_idx\"]\n",
        "data_list = np.ones(len(million_df))  # All entries are 1 since a track belongs to a playlist\n",
        "\n",
        "csr_rating_matrix = coo_matrix((data_list, (rows, cols)), shape=(len(playlist_id_to_idx), len(track_uri_to_idx))).tocsr()\n",
        "\n",
        "print(csr_rating_matrix.shape)"
      ]
    },
    {
      "cell_type": "markdown",
      "source": [
        "  - Matrix Visualization 📊\n",
        "  \n",
        "      The sum of each row is calculated to understand the distribution of playlist lengths.\n",
        "      A histogram of the row sums is plotted in log scale to visualize the distribution of playlist sizes."
      ],
      "metadata": {
        "id": "U05yhpyKqARH"
      }
    },
    {
      "cell_type": "code",
      "execution_count": null,
      "metadata": {
        "colab": {
          "base_uri": "https://localhost:8080/",
          "height": 564
        },
        "id": "DUu3vwwYwpTU",
        "outputId": "5f7299c5-f64e-4f80-92f3-7496bc00ec97"
      },
      "outputs": [
        {
          "output_type": "display_data",
          "data": {
            "text/plain": [
              "<Figure size 1000x600 with 1 Axes>"
            ],
            "image/png": "[encoded data removed]"
          },
          "metadata": {}
        }
      ],
      "source": [
        "import matplotlib.pyplot as plt\n",
        "\n",
        "row_sums = np.array(csr_rating_matrix.sum(axis=1)).flatten()  # Convert to 1D NumPy array\n",
        "\n",
        "# Plot the distribution of row sums\n",
        "plt.figure(figsize=(10, 6))\n",
        "plt.hist(row_sums, bins=100, log=True, edgecolor=\"black\")  # Log scale for better visualization\n",
        "plt.xlabel(\"Sum of Rows\")\n",
        "plt.ylabel(\"Frequency (Log Scale)\")\n",
        "plt.title(\"Distribution of Row Sums in Sparse Matrix\")\n",
        "plt.grid(True)\n",
        "plt.show()"
      ]
    },
    {
      "cell_type": "markdown",
      "source": [
        "  - Filter Valid Rows Based on Playlist Length 🔍\n",
        "  \n",
        "      We filter out playlists that have fewer than 30 tracks by checking the row sums of the sparse matrix.\n",
        "      The rows representing playlists with enough tracks are selected, and the order is shuffled for randomness.\n",
        "      The matrix is then trimmed to a smaller size (81,000 rows) for efficient processing."
      ],
      "metadata": {
        "id": "2WZiwWL_qG4b"
      }
    },
    {
      "cell_type": "code",
      "execution_count": null,
      "metadata": {
        "colab": {
          "base_uri": "https://localhost:8080/"
        },
        "id": "0WGYqpU0xkAj",
        "outputId": "c96b8d56-1da0-4de1-e929-7450af00a096"
      },
      "outputs": [
        {
          "output_type": "stream",
          "name": "stdout",
          "text": [
            "Original shape: (477866, 69745)\n",
            "Filtered & permuted shape: (81000, 69745)\n"
          ]
        }
      ],
      "source": [
        "row_sums = np.array(csr_rating_matrix.sum(axis=1)).flatten()\n",
        "\n",
        "valid_rows = np.where(row_sums >= 30)[0]  # Get indices of valid rows\n",
        "\n",
        "# Randomly shuffle valid rows\n",
        "np.random.shuffle(valid_rows)  # Shuffle row indices\n",
        "\n",
        "# Select only valid rows from CSR matrix\n",
        "filtered_permuted_matrix = csr_rating_matrix[valid_rows, :]\n",
        "\n",
        "filtered_permuted_matrix = filtered_permuted_matrix[:81_000,:]\n",
        "\n",
        "# Check the new shape\n",
        "print(\"Original shape:\", csr_rating_matrix.shape)\n",
        "print(\"Filtered & permuted shape:\", filtered_permuted_matrix.shape)"
      ]
    },
    {
      "cell_type": "markdown",
      "source": [
        "Why are these steps Important? 🤔\n",
        "\n",
        "✅ Sparse matrix format is memory-efficient and ideal for large datasets.\n",
        "\n",
        "✅ Filtered playlists help remove small playlists that may not provide enough data for accurate recommendations.\n",
        "\n",
        "✅ Randomization ensures that the data is shuffled for better model training.\n",
        "\n",
        "This process prepares the dataset for use in recommendation systems by creating a compact, filtered, and shuffled matrix representation of playlists and tracks. 🎵🧠"
      ],
      "metadata": {
        "id": "FUVLDqhOqNN2"
      }
    },
    {
      "cell_type": "code",
      "execution_count": null,
      "metadata": {
        "id": "TWW_TB_ySr1U"
      },
      "outputs": [],
      "source": [
        "num_tracks = csr_rating_matrix.shape[1]\n",
        "tracks = set(track_uri_to_idx.keys())"
      ]
    },
    {
      "cell_type": "markdown",
      "source": [
        "### Freeing RAM for Training 🧹\n",
        "\n",
        "This code clears unnecessary variables from memory to free up space for model training:\n",
        "\n",
        "  - Deletes large data structures like million_df and other intermediate variables.\n",
        "  \n",
        "  - Calls gc.collect() to ensure garbage collection and memory release.\n",
        "\n",
        "This step ensures that there is enough available memory for the upcoming training phase. 🚀"
      ],
      "metadata": {
        "id": "hFjzhOA3qkVx"
      }
    },
    {
      "cell_type": "code",
      "execution_count": null,
      "metadata": {
        "colab": {
          "base_uri": "https://localhost:8080/"
        },
        "id": "mLB0fidEHut9",
        "outputId": "2aa5cbfa-ea74-4e34-8115-0dbe8594de02"
      },
      "outputs": [
        {
          "output_type": "execute_result",
          "data": {
            "text/plain": [
              "17404"
            ]
          },
          "metadata": {},
          "execution_count": 54
        }
      ],
      "source": [
        "del million_df\n",
        "del(playlist_counts, valid_playlists)\n",
        "del(track_counts, valid_tracks)\n",
        "del(rows, cols, data_list, new_data)\n",
        "del playlist_id_to_idx\n",
        "\n",
        "try:\n",
        "  del(row_sums, valid_rows)\n",
        "except:\n",
        "  pass\n",
        "gc.collect()"
      ]
    },
    {
      "cell_type": "code",
      "execution_count": null,
      "metadata": {
        "colab": {
          "base_uri": "https://localhost:8080/"
        },
        "id": "mHO4kakPH24z",
        "outputId": "578096f3-d2c3-4d0a-bf99-283ab77898d3"
      },
      "outputs": [
        {
          "output_type": "execute_result",
          "data": {
            "text/plain": [
              "42"
            ]
          },
          "metadata": {},
          "execution_count": 55
        }
      ],
      "source": [
        "gc.collect()"
      ]
    },
    {
      "cell_type": "markdown",
      "source": [
        "## Model Evaluation and Metrics Definition 📊\n",
        "\n",
        "### Precision at k\n",
        "The precision at k evaluates how many of the top-k recommended items are relevant, excluding items already in the playlist. It's calculated as:\n",
        "$\n",
        "\\text{Precision@k} = \\frac{\\text{Number of relevant items in top-k}}{k}\n",
        "$\n",
        "\n",
        "Where relevant items are identified based on the ground truth matrix.\n",
        "\n",
        "### Recall at k\n",
        "Recall at k measures how many of the relevant items are present in the top-k recommendations. It's calculated as:\n",
        "$\n",
        "\\text{Recall@k} = \\frac{\\text{Number of relevant items in top-k}}{\\text{Total number of relevant items}}\n",
        "$\n",
        "\n",
        "Where relevant items are identified in the ground truth matrix.\n",
        "\n",
        "### Mean Reciprocal Rank (MRR)\n",
        "The MRR measures how high the first relevant item appears in the list of recommendations. It’s the average of the reciprocal ranks for each playlist:\n",
        "$\n",
        "\\text{MRR} = \\frac{1}{\\text{Rank of first relevant item}}\n",
        "$\n",
        "\n",
        "If no relevant item is found, the reciprocal rank is 0.\n",
        "\n",
        "### Evaluation Process\n",
        "The model is evaluated by:\n",
        "1. Iterating over shuffled slices of playlists.\n",
        "2. For each playlist, computing the predicted matrix for top-k recommendations.\n",
        "3. Calculating Precision, Recall, and MRR for different values of k (1, 2, 5, 10).\n",
        "4. Averaging the results over multiple iterations to get more robust metrics.\n",
        "\n",
        "These metrics help assess the model's ability to recommend relevant songs while considering the existing ones in the playlist and the quality of the top-k recommendations.\n"
      ],
      "metadata": {
        "id": "1w3iebeaoN4G"
      }
    },
    {
      "cell_type": "code",
      "execution_count": null,
      "metadata": {
        "cellView": "form",
        "id": "X_DF2313G_f3"
      },
      "outputs": [],
      "source": [
        "# @title metrics definition\n",
        "def precision_at_k(predicted_matrix, ground_truth_matrix, input_matrix, k):\n",
        "    \"\"\"\n",
        "    Calculate precision at k while excluding items that are already in the input matrix (playlist).\n",
        "\n",
        "    Args:\n",
        "    - predicted_matrix (np.ndarray): Matrix of predicted scores for each song in the playlist.\n",
        "    - ground_truth_matrix (np.ndarray): Ground truth matrix with binary values indicating relevant songs.\n",
        "    - input_matrix (np.ndarray): Matrix representing songs already in the playlist (binary).\n",
        "    - k (int): The number of top items to consider.\n",
        "\n",
        "    Returns:\n",
        "    - float: The average precision at k, excluding already present songs.\n",
        "    \"\"\"\n",
        "    # Create a mask for already existing items (input matrix)\n",
        "    mask = input_matrix > 0  # 1 indicates the item is already in the playlist\n",
        "\n",
        "    # Mask the predicted scores for already existing items by setting them to -inf\n",
        "    masked_predictions = np.where(mask, -np.inf, predicted_matrix)\n",
        "\n",
        "    # Use argsort to get the indices of the top k predictions after masking\n",
        "    top_k_indices = np.argsort(masked_predictions, axis=1)[:, ::-1][:, :k]\n",
        "\n",
        "    # Extract relevant items in ground truth corresponding to the top k predictions\n",
        "    relevant_items = ground_truth_matrix[np.arange(ground_truth_matrix.shape[0])[:, None], top_k_indices]\n",
        "\n",
        "    # Calculate precision as the number of relevant items divided by k\n",
        "    precision_scores = np.sum(relevant_items, axis=1) / k\n",
        "\n",
        "    # Return the average precision\n",
        "    return np.mean(precision_scores)\n",
        "\n",
        "\n",
        "\n",
        "def recall_at_k(predicted_matrix, ground_truth_matrix, input_matrix, k):\n",
        "    # Mask the predictions where the input matrix has 1s (already in the playlist)\n",
        "    mask = input_matrix > 0\n",
        "    masked_predictions = np.where(mask, -np.inf, predicted_matrix)\n",
        "\n",
        "    # Get the indices of the top k predictions for each row after masking\n",
        "    top_k_indices = np.argsort(masked_predictions, axis=1)[:, -k:][:, ::-1]\n",
        "\n",
        "    # Gather the relevant items in ground truth corresponding to top k predictions\n",
        "    relevant_items = ground_truth_matrix[np.arange(ground_truth_matrix.shape[0])[:, None], top_k_indices]\n",
        "\n",
        "    # Calculate the recall for each playlist\n",
        "    total_relevant = np.sum(ground_truth_matrix, axis=1)  # Total relevant items per playlist\n",
        "\n",
        "    # Avoid division by zero: mask rows with no relevant items\n",
        "    recall_scores = np.sum(relevant_items, axis=1) / np.maximum(total_relevant, 1)\n",
        "\n",
        "    # Return the mean recall, ignoring rows with no relevant items\n",
        "    return np.mean(recall_scores[total_relevant > 0])\n",
        "\n",
        "\n",
        "\n",
        "def mean_reciprocal_rank(predicted_matrix, ground_truth_matrix, input_matrix):\n",
        "    reciprocal_ranks = []\n",
        "\n",
        "    # Iterate over each playlist (row in the matrix)\n",
        "    for pred_row, true_row, input_row in zip(predicted_matrix, ground_truth_matrix, input_matrix):\n",
        "        # Mask the predictions where the input matrix has 1s (already in the playlist)\n",
        "        mask = input_row == 1\n",
        "        masked_predictions = np.where(mask, -np.inf, pred_row)\n",
        "\n",
        "        # Get the indices sorted by predicted scores in descending order\n",
        "        sorted_indices = np.argsort(masked_predictions)[::-1]\n",
        "\n",
        "        # Find the rank of the first relevant item\n",
        "        found_relevant = False\n",
        "        for rank, index in enumerate(sorted_indices, start=1):\n",
        "            if true_row[index] == 1:  # If the item is relevant in the ground truth\n",
        "                reciprocal_ranks.append(1 / rank)\n",
        "                found_relevant = True\n",
        "                break\n",
        "\n",
        "        # If no relevant items were found, append 0\n",
        "        if not found_relevant:\n",
        "            reciprocal_ranks.append(0)\n",
        "\n",
        "    # Return the mean of the reciprocal ranks\n",
        "    return np.mean(reciprocal_ranks)\n",
        "\n",
        "\n"
      ]
    },
    {
      "cell_type": "code",
      "execution_count": null,
      "metadata": {
        "id": "EApnpa-aLSX2",
        "cellView": "form"
      },
      "outputs": [],
      "source": [
        "# @title evaluating function definition\n",
        "def evaluate_model_k_tracks_per_playlist(model, k, num_valid_files=10):\n",
        "  \"\"\"\n",
        "  evaluate model processing a slice of playlists, 200 playlist at time to avoid\n",
        "  colab cpu overflow\n",
        "  \"\"\"\n",
        "  # num_valid_files = 1000 - num_training_files\n",
        "  precision_at_10 = np.zeros(num_valid_files)\n",
        "  precision_at_5 = np.zeros(num_valid_files)\n",
        "  precision_at_2 = np.zeros(num_valid_files)\n",
        "  precision_at_1 = np.zeros(num_valid_files)\n",
        "\n",
        "  recall_at_10 = np.zeros(num_valid_files)\n",
        "  recall_at_5 = np.zeros(num_valid_files)\n",
        "  recall_at_2 = np.zeros(num_valid_files)\n",
        "  recall_at_1 = np.zeros(num_valid_files)\n",
        "\n",
        "  mrr = np.zeros(num_valid_files)\n",
        "\n",
        "  for file_idx, filename in enumerate(shuffled_slices[num_training_files:num_training_files+num_valid_files]):\n",
        "    correct_playlists = np.zeros((1000, num_tracks))\n",
        "    p_counter = -1\n",
        "    if filename.startswith(\"mpd.slice.\") and filename.endswith(\".json\"):\n",
        "      filepath = os.path.join(data, filename)\n",
        "\n",
        "      with open(filepath, \"r\", encoding=\"utf-8\") as jsonfile:\n",
        "        cur_slice = json.load(jsonfile)\n",
        "\n",
        "      for playlist in cur_slice[\"playlists\"]:\n",
        "        p_counter += 1\n",
        "\n",
        "        for track in playlist[\"tracks\"]:\n",
        "          track_uri = track[\"track_uri\"][14:]\n",
        "\n",
        "          if track_uri in tracks:\n",
        "            t_idx = track_uri_to_idx[track_uri]\n",
        "\n",
        "            correct_playlists[p_counter, t_idx] = 1\n",
        "\n",
        "\n",
        "    incomplete_playlists = np.copy(correct_playlists)\n",
        "\n",
        "    for row in incomplete_playlists:\n",
        "      one_indexes = np.where(row == 1)[0]\n",
        "\n",
        "      if len(one_indexes) >= k:\n",
        "        indices_to_zero = np.random.choice(one_indexes, size=(len(one_indexes)-k), replace=False)\n",
        "        row[indices_to_zero] = 0\n",
        "\n",
        "    n_iter = 5\n",
        "\n",
        "    cur_precision_at_10 = [0 for _ in range(n_iter)]\n",
        "    cur_precision_at_5 = [0 for _ in range(n_iter)]\n",
        "    cur_precision_at_2 = [0 for _ in range(n_iter)]\n",
        "    cur_precision_at_1 = [0 for _ in range(n_iter)]\n",
        "\n",
        "    cur_recall_at_10 = [0 for _ in range(n_iter)]\n",
        "    cur_recall_at_5 = [0 for _ in range(n_iter)]\n",
        "    cur_recall_at_2 = [0 for _ in range(n_iter)]\n",
        "    cur_recall_at_1 = [0 for _ in range(n_iter)]\n",
        "\n",
        "    cur_mrr = [0 for _ in range(n_iter)]\n",
        "\n",
        "    size_batch = 1000 // n_iter\n",
        "\n",
        "    for iter in range(n_iter):\n",
        "      input_matrix_iter = incomplete_playlists[size_batch*iter:size_batch*(iter+1), :]\n",
        "      P_new = model.transform(input_matrix_iter)\n",
        "\n",
        "      # Predici la matrice ricostruita per le nuove playlist\n",
        "      predicted_matrix = np.dot(P_new, model.components_)\n",
        "\n",
        "      ground_truth_matrix_iter = correct_playlists[size_batch*iter:size_batch*(iter+1), :]\n",
        "\n",
        "      cur_precision_at_10[iter] = precision_at_k(predicted_matrix, ground_truth_matrix_iter, input_matrix_iter, 10)\n",
        "      cur_precision_at_5[iter] = precision_at_k(predicted_matrix, ground_truth_matrix_iter, input_matrix_iter, 5)\n",
        "      cur_precision_at_2[iter] = precision_at_k(predicted_matrix, ground_truth_matrix_iter, input_matrix_iter, 2)\n",
        "      cur_precision_at_1[iter] = precision_at_k(predicted_matrix, ground_truth_matrix_iter, input_matrix_iter, 1)\n",
        "\n",
        "      cur_recall_at_10[iter] = recall_at_k(predicted_matrix, ground_truth_matrix_iter, input_matrix_iter, 10)\n",
        "      cur_recall_at_5[iter] = recall_at_k(predicted_matrix, ground_truth_matrix_iter, input_matrix_iter, 5)\n",
        "      cur_recall_at_2[iter] = recall_at_k(predicted_matrix, ground_truth_matrix_iter, input_matrix_iter, 2)\n",
        "      cur_recall_at_1[iter] = recall_at_k(predicted_matrix, ground_truth_matrix_iter, input_matrix_iter, 1)\n",
        "\n",
        "      cur_mrr[iter] = mean_reciprocal_rank(predicted_matrix, ground_truth_matrix_iter, input_matrix_iter)\n",
        "\n",
        "    precision_at_10[file_idx] = np.mean(cur_precision_at_10)\n",
        "    precision_at_5[file_idx] = np.mean(cur_precision_at_5)\n",
        "    precision_at_2[file_idx] = np.mean(cur_precision_at_2)\n",
        "    precision_at_1[file_idx] = np.mean(cur_precision_at_1)\n",
        "    recall_at_10[file_idx] = np.mean(cur_recall_at_10)\n",
        "    recall_at_5[file_idx] = np.mean(cur_recall_at_5)\n",
        "    recall_at_2[file_idx] = np.mean(cur_recall_at_2)\n",
        "    recall_at_1[file_idx] = np.mean(cur_recall_at_1)\n",
        "    mrr[file_idx] = np.mean(cur_mrr)\n",
        "\n",
        "  p10 = np.mean(precision_at_10)\n",
        "  p5 = np.mean(precision_at_5)\n",
        "  p2 = np.mean(precision_at_2)\n",
        "  p1 = np.mean(precision_at_1)\n",
        "  r10 = np.mean(recall_at_10)\n",
        "  r5 = np.mean(recall_at_5)\n",
        "  r2 = np.mean(recall_at_2)\n",
        "  r1 = np.mean(recall_at_1)\n",
        "  mrr = np.mean(mrr)\n",
        "\n",
        "  print(\"  Precision@10 = \", p10)\n",
        "  print(\"  Precision@5 = \", p5)\n",
        "  print(\"  Precision@2 = \", p2)\n",
        "  print(\"  Precision@1 = \", p1)\n",
        "  print(\"  Recall@10 = \", r10)\n",
        "  print(\"  Recall@5 = \", r5)\n",
        "  print(\"  Recall@2 = \", r2)\n",
        "  print(\"  Recall@1 = \", r1)\n",
        "  print(\"  MRR = \", mrr)\n",
        "\n",
        "  return p10, p5, p2, p1, r10, r5, r2, r1, mrr"
      ]
    },
    {
      "cell_type": "markdown",
      "source": [
        "## NMF 🔢\n",
        "\n",
        "### How NMF (Non-negative Matrix Factorization) Works\n",
        "\n",
        "NMF is a matrix factorization technique where a given matrix is approximated as the product of two lower-dimensional non-negative matrices. Specifically, given a matrix \\( R \\) (e.g., user-item ratings), NMF decomposes it into:\n",
        "\n",
        "$$\n",
        "R \\approx W \\times H\n",
        "$$\n",
        "\n",
        "- $ W $ is the user-feature matrix (users x latent factors).\n",
        "- $ H $ is the item-feature matrix (items x latent factors).\n",
        "\n",
        "The goal is to minimize the difference between the original matrix $ R $ and the product of $ W $ and $ H $, subject to the non-negativity constraint (all values must be >= 0). The factorization helps capture hidden patterns or latent features in the data, such as user preferences or item characteristics.\n",
        "\n",
        "### Use in Recommender Systems\n",
        "\n",
        "In a recommender system, NMF helps predict unknown ratings by approximating the original matrix of user-item interactions. The latent factors discovered by NMF can capture user preferences and item attributes, making it possible to recommend items (e.g., songs, movies) that are most likely to be of interest to a user based on patterns in the data.\n"
      ],
      "metadata": {
        "id": "9rrMAN68htPC"
      }
    },
    {
      "cell_type": "markdown",
      "source": [
        "### Training"
      ],
      "metadata": {
        "id": "jpEIIXgBljN0"
      }
    },
    {
      "cell_type": "code",
      "source": [
        "nmf_model = NMF(100, random_state=42)\n",
        "nmf_model.fit(filtered_permuted_matrix)"
      ],
      "metadata": {
        "id": "GbihRXF1nyEy",
        "colab": {
          "base_uri": "https://localhost:8080/",
          "height": 115
        },
        "outputId": "f353704a-a102-43db-bfec-0f157a8a82f3"
      },
      "execution_count": null,
      "outputs": [
        {
          "output_type": "stream",
          "name": "stderr",
          "text": [
            "/usr/local/lib/python3.11/dist-packages/sklearn/decomposition/_nmf.py:1742: ConvergenceWarning: Maximum number of iterations 200 reached. Increase it to improve convergence.\n",
            "  warnings.warn(\n"
          ]
        },
        {
          "output_type": "execute_result",
          "data": {
            "text/plain": [
              "NMF(n_components=100, random_state=42)"
            ],
            "text/html": [
              "<style>#sk-container-id-1 {\n",
              "  /* Definition of color scheme common for light and dark mode */\n",
              "  --sklearn-color-text: #000;\n",
              "  --sklearn-color-text-muted: #666;\n",
              "  --sklearn-color-line: gray;\n",
              "  /* Definition of color scheme for unfitted estimators */\n",
              "  --sklearn-color-unfitted-level-0: #fff5e6;\n",
              "  --sklearn-color-unfitted-level-1: #f6e4d2;\n",
              "  --sklearn-color-unfitted-level-2: #ffe0b3;\n",
              "  --sklearn-color-unfitted-level-3: chocolate;\n",
              "  /* Definition of color scheme for fitted estimators */\n",
              "  --sklearn-color-fitted-level-0: #f0f8ff;\n",
              "  --sklearn-color-fitted-level-1: #d4ebff;\n",
              "  --sklearn-color-fitted-level-2: #b3dbfd;\n",
              "  --sklearn-color-fitted-level-3: cornflowerblue;\n",
              "\n",
              "  /* Specific color for light theme */\n",
              "  --sklearn-color-text-on-default-background: var(--sg-text-color, var(--theme-code-foreground, var(--jp-content-font-color1, black)));\n",
              "  --sklearn-color-background: var(--sg-background-color, var(--theme-background, var(--jp-layout-color0, white)));\n",
              "  --sklearn-color-border-box: var(--sg-text-color, var(--theme-code-foreground, var(--jp-content-font-color1, black)));\n",
              "  --sklearn-color-icon: #696969;\n",
              "\n",
              "  @media (prefers-color-scheme: dark) {\n",
              "    /* Redefinition of color scheme for dark theme */\n",
              "    --sklearn-color-text-on-default-background: var(--sg-text-color, var(--theme-code-foreground, var(--jp-content-font-color1, white)));\n",
              "    --sklearn-color-background: var(--sg-background-color, var(--theme-background, var(--jp-layout-color0, #111)));\n",
              "    --sklearn-color-border-box: var(--sg-text-color, var(--theme-code-foreground, var(--jp-content-font-color1, white)));\n",
              "    --sklearn-color-icon: #878787;\n",
              "  }\n",
              "}\n",
              "\n",
              "#sk-container-id-1 {\n",
              "  color: var(--sklearn-color-text);\n",
              "}\n",
              "\n",
              "#sk-container-id-1 pre {\n",
              "  padding: 0;\n",
              "}\n",
              "\n",
              "#sk-container-id-1 input.sk-hidden--visually {\n",
              "  border: 0;\n",
              "  clip: rect(1px 1px 1px 1px);\n",
              "  clip: rect(1px, 1px, 1px, 1px);\n",
              "  height: 1px;\n",
              "  margin: -1px;\n",
              "  overflow: hidden;\n",
              "  padding: 0;\n",
              "  position: absolute;\n",
              "  width: 1px;\n",
              "}\n",
              "\n",
              "#sk-container-id-1 div.sk-dashed-wrapped {\n",
              "  border: 1px dashed var(--sklearn-color-line);\n",
              "  margin: 0 0.4em 0.5em 0.4em;\n",
              "  box-sizing: border-box;\n",
              "  padding-bottom: 0.4em;\n",
              "  background-color: var(--sklearn-color-background);\n",
              "}\n",
              "\n",
              "#sk-container-id-1 div.sk-container {\n",
              "  /* jupyter's `normalize.less` sets `[hidden] { display: none; }`\n",
              "     but bootstrap.min.css set `[hidden] { display: none !important; }`\n",
              "     so we also need the `!important` here to be able to override the\n",
              "     default hidden behavior on the sphinx rendered scikit-learn.org.\n",
              "     See: https://github.com/scikit-learn/scikit-learn/issues/21755 */\n",
              "  display: inline-block !important;\n",
              "  position: relative;\n",
              "}\n",
              "\n",
              "#sk-container-id-1 div.sk-text-repr-fallback {\n",
              "  display: none;\n",
              "}\n",
              "\n",
              "div.sk-parallel-item,\n",
              "div.sk-serial,\n",
              "div.sk-item {\n",
              "  /* draw centered vertical line to link estimators */\n",
              "  background-image: linear-gradient(var(--sklearn-color-text-on-default-background), var(--sklearn-color-text-on-default-background));\n",
              "  background-size: 2px 100%;\n",
              "  background-repeat: no-repeat;\n",
              "  background-position: center center;\n",
              "}\n",
              "\n",
              "/* Parallel-specific style estimator block */\n",
              "\n",
              "#sk-container-id-1 div.sk-parallel-item::after {\n",
              "  content: \"\";\n",
              "  width: 100%;\n",
              "  border-bottom: 2px solid var(--sklearn-color-text-on-default-background);\n",
              "  flex-grow: 1;\n",
              "}\n",
              "\n",
              "#sk-container-id-1 div.sk-parallel {\n",
              "  display: flex;\n",
              "  align-items: stretch;\n",
              "  justify-content: center;\n",
              "  background-color: var(--sklearn-color-background);\n",
              "  position: relative;\n",
              "}\n",
              "\n",
              "#sk-container-id-1 div.sk-parallel-item {\n",
              "  display: flex;\n",
              "  flex-direction: column;\n",
              "}\n",
              "\n",
              "#sk-container-id-1 div.sk-parallel-item:first-child::after {\n",
              "  align-self: flex-end;\n",
              "  width: 50%;\n",
              "}\n",
              "\n",
              "#sk-container-id-1 div.sk-parallel-item:last-child::after {\n",
              "  align-self: flex-start;\n",
              "  width: 50%;\n",
              "}\n",
              "\n",
              "#sk-container-id-1 div.sk-parallel-item:only-child::after {\n",
              "  width: 0;\n",
              "}\n",
              "\n",
              "/* Serial-specific style estimator block */\n",
              "\n",
              "#sk-container-id-1 div.sk-serial {\n",
              "  display: flex;\n",
              "  flex-direction: column;\n",
              "  align-items: center;\n",
              "  background-color: var(--sklearn-color-background);\n",
              "  padding-right: 1em;\n",
              "  padding-left: 1em;\n",
              "}\n",
              "\n",
              "\n",
              "/* Toggleable style: style used for estimator/Pipeline/ColumnTransformer box that is\n",
              "clickable and can be expanded/collapsed.\n",
              "- Pipeline and ColumnTransformer use this feature and define the default style\n",
              "- Estimators will overwrite some part of the style using the `sk-estimator` class\n",
              "*/\n",
              "\n",
              "/* Pipeline and ColumnTransformer style (default) */\n",
              "\n",
              "#sk-container-id-1 div.sk-toggleable {\n",
              "  /* Default theme specific background. It is overwritten whether we have a\n",
              "  specific estimator or a Pipeline/ColumnTransformer */\n",
              "  background-color: var(--sklearn-color-background);\n",
              "}\n",
              "\n",
              "/* Toggleable label */\n",
              "#sk-container-id-1 label.sk-toggleable__label {\n",
              "  cursor: pointer;\n",
              "  display: flex;\n",
              "  width: 100%;\n",
              "  margin-bottom: 0;\n",
              "  padding: 0.5em;\n",
              "  box-sizing: border-box;\n",
              "  text-align: center;\n",
              "  align-items: start;\n",
              "  justify-content: space-between;\n",
              "  gap: 0.5em;\n",
              "}\n",
              "\n",
              "#sk-container-id-1 label.sk-toggleable__label .caption {\n",
              "  font-size: 0.6rem;\n",
              "  font-weight: lighter;\n",
              "  color: var(--sklearn-color-text-muted);\n",
              "}\n",
              "\n",
              "#sk-container-id-1 label.sk-toggleable__label-arrow:before {\n",
              "  /* Arrow on the left of the label */\n",
              "  content: \"▸\";\n",
              "  float: left;\n",
              "  margin-right: 0.25em;\n",
              "  color: var(--sklearn-color-icon);\n",
              "}\n",
              "\n",
              "#sk-container-id-1 label.sk-toggleable__label-arrow:hover:before {\n",
              "  color: var(--sklearn-color-text);\n",
              "}\n",
              "\n",
              "/* Toggleable content - dropdown */\n",
              "\n",
              "#sk-container-id-1 div.sk-toggleable__content {\n",
              "  max-height: 0;\n",
              "  max-width: 0;\n",
              "  overflow: hidden;\n",
              "  text-align: left;\n",
              "  /* unfitted */\n",
              "  background-color: var(--sklearn-color-unfitted-level-0);\n",
              "}\n",
              "\n",
              "#sk-container-id-1 div.sk-toggleable__content.fitted {\n",
              "  /* fitted */\n",
              "  background-color: var(--sklearn-color-fitted-level-0);\n",
              "}\n",
              "\n",
              "#sk-container-id-1 div.sk-toggleable__content pre {\n",
              "  margin: 0.2em;\n",
              "  border-radius: 0.25em;\n",
              "  color: var(--sklearn-color-text);\n",
              "  /* unfitted */\n",
              "  background-color: var(--sklearn-color-unfitted-level-0);\n",
              "}\n",
              "\n",
              "#sk-container-id-1 div.sk-toggleable__content.fitted pre {\n",
              "  /* unfitted */\n",
              "  background-color: var(--sklearn-color-fitted-level-0);\n",
              "}\n",
              "\n",
              "#sk-container-id-1 input.sk-toggleable__control:checked~div.sk-toggleable__content {\n",
              "  /* Expand drop-down */\n",
              "  max-height: 200px;\n",
              "  max-width: 100%;\n",
              "  overflow: auto;\n",
              "}\n",
              "\n",
              "#sk-container-id-1 input.sk-toggleable__control:checked~label.sk-toggleable__label-arrow:before {\n",
              "  content: \"▾\";\n",
              "}\n",
              "\n",
              "/* Pipeline/ColumnTransformer-specific style */\n",
              "\n",
              "#sk-container-id-1 div.sk-label input.sk-toggleable__control:checked~label.sk-toggleable__label {\n",
              "  color: var(--sklearn-color-text);\n",
              "  background-color: var(--sklearn-color-unfitted-level-2);\n",
              "}\n",
              "\n",
              "#sk-container-id-1 div.sk-label.fitted input.sk-toggleable__control:checked~label.sk-toggleable__label {\n",
              "  background-color: var(--sklearn-color-fitted-level-2);\n",
              "}\n",
              "\n",
              "/* Estimator-specific style */\n",
              "\n",
              "/* Colorize estimator box */\n",
              "#sk-container-id-1 div.sk-estimator input.sk-toggleable__control:checked~label.sk-toggleable__label {\n",
              "  /* unfitted */\n",
              "  background-color: var(--sklearn-color-unfitted-level-2);\n",
              "}\n",
              "\n",
              "#sk-container-id-1 div.sk-estimator.fitted input.sk-toggleable__control:checked~label.sk-toggleable__label {\n",
              "  /* fitted */\n",
              "  background-color: var(--sklearn-color-fitted-level-2);\n",
              "}\n",
              "\n",
              "#sk-container-id-1 div.sk-label label.sk-toggleable__label,\n",
              "#sk-container-id-1 div.sk-label label {\n",
              "  /* The background is the default theme color */\n",
              "  color: var(--sklearn-color-text-on-default-background);\n",
              "}\n",
              "\n",
              "/* On hover, darken the color of the background */\n",
              "#sk-container-id-1 div.sk-label:hover label.sk-toggleable__label {\n",
              "  color: var(--sklearn-color-text);\n",
              "  background-color: var(--sklearn-color-unfitted-level-2);\n",
              "}\n",
              "\n",
              "/* Label box, darken color on hover, fitted */\n",
              "#sk-container-id-1 div.sk-label.fitted:hover label.sk-toggleable__label.fitted {\n",
              "  color: var(--sklearn-color-text);\n",
              "  background-color: var(--sklearn-color-fitted-level-2);\n",
              "}\n",
              "\n",
              "/* Estimator label */\n",
              "\n",
              "#sk-container-id-1 div.sk-label label {\n",
              "  font-family: monospace;\n",
              "  font-weight: bold;\n",
              "  display: inline-block;\n",
              "  line-height: 1.2em;\n",
              "}\n",
              "\n",
              "#sk-container-id-1 div.sk-label-container {\n",
              "  text-align: center;\n",
              "}\n",
              "\n",
              "/* Estimator-specific */\n",
              "#sk-container-id-1 div.sk-estimator {\n",
              "  font-family: monospace;\n",
              "  border: 1px dotted var(--sklearn-color-border-box);\n",
              "  border-radius: 0.25em;\n",
              "  box-sizing: border-box;\n",
              "  margin-bottom: 0.5em;\n",
              "  /* unfitted */\n",
              "  background-color: var(--sklearn-color-unfitted-level-0);\n",
              "}\n",
              "\n",
              "#sk-container-id-1 div.sk-estimator.fitted {\n",
              "  /* fitted */\n",
              "  background-color: var(--sklearn-color-fitted-level-0);\n",
              "}\n",
              "\n",
              "/* on hover */\n",
              "#sk-container-id-1 div.sk-estimator:hover {\n",
              "  /* unfitted */\n",
              "  background-color: var(--sklearn-color-unfitted-level-2);\n",
              "}\n",
              "\n",
              "#sk-container-id-1 div.sk-estimator.fitted:hover {\n",
              "  /* fitted */\n",
              "  background-color: var(--sklearn-color-fitted-level-2);\n",
              "}\n",
              "\n",
              "/* Specification for estimator info (e.g. \"i\" and \"?\") */\n",
              "\n",
              "/* Common style for \"i\" and \"?\" */\n",
              "\n",
              ".sk-estimator-doc-link,\n",
              "a:link.sk-estimator-doc-link,\n",
              "a:visited.sk-estimator-doc-link {\n",
              "  float: right;\n",
              "  font-size: smaller;\n",
              "  line-height: 1em;\n",
              "  font-family: monospace;\n",
              "  background-color: var(--sklearn-color-background);\n",
              "  border-radius: 1em;\n",
              "  height: 1em;\n",
              "  width: 1em;\n",
              "  text-decoration: none !important;\n",
              "  margin-left: 0.5em;\n",
              "  text-align: center;\n",
              "  /* unfitted */\n",
              "  border: var(--sklearn-color-unfitted-level-1) 1pt solid;\n",
              "  color: var(--sklearn-color-unfitted-level-1);\n",
              "}\n",
              "\n",
              ".sk-estimator-doc-link.fitted,\n",
              "a:link.sk-estimator-doc-link.fitted,\n",
              "a:visited.sk-estimator-doc-link.fitted {\n",
              "  /* fitted */\n",
              "  border: var(--sklearn-color-fitted-level-1) 1pt solid;\n",
              "  color: var(--sklearn-color-fitted-level-1);\n",
              "}\n",
              "\n",
              "/* On hover */\n",
              "div.sk-estimator:hover .sk-estimator-doc-link:hover,\n",
              ".sk-estimator-doc-link:hover,\n",
              "div.sk-label-container:hover .sk-estimator-doc-link:hover,\n",
              ".sk-estimator-doc-link:hover {\n",
              "  /* unfitted */\n",
              "  background-color: var(--sklearn-color-unfitted-level-3);\n",
              "  color: var(--sklearn-color-background);\n",
              "  text-decoration: none;\n",
              "}\n",
              "\n",
              "div.sk-estimator.fitted:hover .sk-estimator-doc-link.fitted:hover,\n",
              ".sk-estimator-doc-link.fitted:hover,\n",
              "div.sk-label-container:hover .sk-estimator-doc-link.fitted:hover,\n",
              ".sk-estimator-doc-link.fitted:hover {\n",
              "  /* fitted */\n",
              "  background-color: var(--sklearn-color-fitted-level-3);\n",
              "  color: var(--sklearn-color-background);\n",
              "  text-decoration: none;\n",
              "}\n",
              "\n",
              "/* Span, style for the box shown on hovering the info icon */\n",
              ".sk-estimator-doc-link span {\n",
              "  display: none;\n",
              "  z-index: 9999;\n",
              "  position: relative;\n",
              "  font-weight: normal;\n",
              "  right: .2ex;\n",
              "  padding: .5ex;\n",
              "  margin: .5ex;\n",
              "  width: min-content;\n",
              "  min-width: 20ex;\n",
              "  max-width: 50ex;\n",
              "  color: var(--sklearn-color-text);\n",
              "  box-shadow: 2pt 2pt 4pt #999;\n",
              "  /* unfitted */\n",
              "  background: var(--sklearn-color-unfitted-level-0);\n",
              "  border: .5pt solid var(--sklearn-color-unfitted-level-3);\n",
              "}\n",
              "\n",
              ".sk-estimator-doc-link.fitted span {\n",
              "  /* fitted */\n",
              "  background: var(--sklearn-color-fitted-level-0);\n",
              "  border: var(--sklearn-color-fitted-level-3);\n",
              "}\n",
              "\n",
              ".sk-estimator-doc-link:hover span {\n",
              "  display: block;\n",
              "}\n",
              "\n",
              "/* \"?\"-specific style due to the `<a>` HTML tag */\n",
              "\n",
              "#sk-container-id-1 a.estimator_doc_link {\n",
              "  float: right;\n",
              "  font-size: 1rem;\n",
              "  line-height: 1em;\n",
              "  font-family: monospace;\n",
              "  background-color: var(--sklearn-color-background);\n",
              "  border-radius: 1rem;\n",
              "  height: 1rem;\n",
              "  width: 1rem;\n",
              "  text-decoration: none;\n",
              "  /* unfitted */\n",
              "  color: var(--sklearn-color-unfitted-level-1);\n",
              "  border: var(--sklearn-color-unfitted-level-1) 1pt solid;\n",
              "}\n",
              "\n",
              "#sk-container-id-1 a.estimator_doc_link.fitted {\n",
              "  /* fitted */\n",
              "  border: var(--sklearn-color-fitted-level-1) 1pt solid;\n",
              "  color: var(--sklearn-color-fitted-level-1);\n",
              "}\n",
              "\n",
              "/* On hover */\n",
              "#sk-container-id-1 a.estimator_doc_link:hover {\n",
              "  /* unfitted */\n",
              "  background-color: var(--sklearn-color-unfitted-level-3);\n",
              "  color: var(--sklearn-color-background);\n",
              "  text-decoration: none;\n",
              "}\n",
              "\n",
              "#sk-container-id-1 a.estimator_doc_link.fitted:hover {\n",
              "  /* fitted */\n",
              "  background-color: var(--sklearn-color-fitted-level-3);\n",
              "}\n",
              "</style><div id=\"sk-container-id-1\" class=\"sk-top-container\"><div class=\"sk-text-repr-fallback\"><pre>NMF(n_components=100, random_state=42)</pre><b>In a Jupyter environment, please rerun this cell to show the HTML representation or trust the notebook. <br />On GitHub, the HTML representation is unable to render, please try loading this page with nbviewer.org.</b></div><div class=\"sk-container\" hidden><div class=\"sk-item\"><div class=\"sk-estimator fitted sk-toggleable\"><input class=\"sk-toggleable__control sk-hidden--visually\" id=\"sk-estimator-id-1\" type=\"checkbox\" checked><label for=\"sk-estimator-id-1\" class=\"sk-toggleable__label fitted sk-toggleable__label-arrow\"><div><div>NMF</div></div><div><a class=\"sk-estimator-doc-link fitted\" rel=\"noreferrer\" target=\"_blank\" href=\"https://scikit-learn.org/1.6/modules/generated/sklearn.decomposition.NMF.html\">?<span>Documentation for NMF</span></a><span class=\"sk-estimator-doc-link fitted\">i<span>Fitted</span></span></div></label><div class=\"sk-toggleable__content fitted\"><pre>NMF(n_components=100, random_state=42)</pre></div> </div></div></div></div>"
            ]
          },
          "metadata": {},
          "execution_count": 58
        }
      ]
    },
    {
      "cell_type": "markdown",
      "source": [
        "Sometimes the NMF model did not reach convergence and is not performing effectively. We chose not to increase the number of iterations to save memory and avoid potential runtime issues with Colab's limited RAM. Extending iterations could lead to excessive computational overhead without guaranteeing significant improvements."
      ],
      "metadata": {
        "id": "HCJpuaDBYAtU"
      }
    },
    {
      "cell_type": "markdown",
      "source": [
        "### Evaluation"
      ],
      "metadata": {
        "id": "iiScM7U9lk8T"
      }
    },
    {
      "cell_type": "code",
      "source": [
        "for k in [2, 5, 8]:\n",
        "  print(f\"\\nValidation Metrics Keeping {k} songs per playlist:\")\n",
        "  evaluate_model_k_tracks_per_playlist(nmf_model, k, num_valid_files=4)"
      ],
      "metadata": {
        "id": "rSb3yZyXo-11",
        "colab": {
          "base_uri": "https://localhost:8080/"
        },
        "outputId": "44be9ff4-4fea-4a79-bd6a-37a2008b43de"
      },
      "execution_count": null,
      "outputs": [
        {
          "output_type": "stream",
          "name": "stdout",
          "text": [
            "\n",
            "Validation Metrics Keeping 2 songs per playlist:\n",
            "  Precision@10 =  0.155025\n",
            "  Precision@5 =  0.17515000000000003\n",
            "  Precision@2 =  0.197375\n",
            "  Precision@1 =  0.208\n",
            "  Recall@10 =  0.03443152019187241\n",
            "  Recall@5 =  0.01988896845368552\n",
            "  Recall@2 =  0.009287150370111876\n",
            "  Recall@1 =  0.004932326858597184\n",
            "  MRR =  0.3164658335968125\n",
            "\n",
            "Validation Metrics Keeping 5 songs per playlist:\n",
            "  Precision@10 =  0.16975\n",
            "  Precision@5 =  0.19125\n",
            "  Precision@2 =  0.213125\n",
            "  Precision@1 =  0.2305\n",
            "  Recall@10 =  0.03466052085612824\n",
            "  Recall@5 =  0.02020895389283405\n",
            "  Recall@2 =  0.009216530723497512\n",
            "  Recall@1 =  0.005048736608569648\n",
            "  MRR =  0.33907795108748123\n",
            "\n",
            "Validation Metrics Keeping 8 songs per playlist:\n",
            "  Precision@10 =  0.17245\n",
            "  Precision@5 =  0.18905\n",
            "  Precision@2 =  0.206375\n",
            "  Precision@1 =  0.22299999999999998\n",
            "  Recall@10 =  0.033278235860311166\n",
            "  Recall@5 =  0.018657801012468042\n",
            "  Recall@2 =  0.008147777865111937\n",
            "  Recall@1 =  0.004434033242542409\n",
            "  MRR =  0.33187462807464163\n"
          ]
        }
      ]
    },
    {
      "cell_type": "markdown",
      "source": [
        "### Hyper-Parameter Analysis"
      ],
      "metadata": {
        "id": "cP3qAB6Mloah"
      }
    },
    {
      "cell_type": "markdown",
      "source": [
        "NMF hyperparameter on model complexity, filtered matrix, 2 tracks per playlist\n",
        "\n",
        "```\n",
        "components = [2, 5, 8, 10, 20, 30, 40, 50, 70, 100, 125, 150, 175, 200, 250, 300, 600]\n",
        "precision_at_10 = [0 for _ in range(len(components))]\n",
        "precision_at_5 = [0 for _ in range(len(components))]\n",
        "precision_at_2 = [0 for _ in range(len(components))]\n",
        "precision_at_1 = [0 for _ in range(len(components))]\n",
        "recall_at_10 = [0 for _ in range(len(components))]\n",
        "recall_at_5 = [0 for _ in range(len(components))]\n",
        "recall_at_2 = [0 for _ in range(len(components))]\n",
        "recall_at_1 = [0 for _ in range(len(components))]\n",
        "mrr = [0 for _ in range(len(components))]\n",
        "\n",
        "for i, n_components in enumerate(components):\n",
        "  cur_model = NMF(n_components, max_iter=1000, random_state=42)\n",
        "  cur_model.fit(filtered_permuted_matrix)\n",
        "  \n",
        "  p10, p5, p2, p1, r10, r5, r2, r1, mr = evaluate_model_k_tracks_per_playlist(cur_model, k=2, num_valid_files=4)\n",
        "  precision_at_10[i] = p10\n",
        "  precision_at_5[i] = p5\n",
        "  precision_at_2[i] = p2\n",
        "  precision_at_1[i] = p1\n",
        "  recall_at_10[i] = r10\n",
        "  recall_at_5[i] = r5\n",
        "  recall_at_2[i] = r2\n",
        "  recall_at_1[i] = r1\n",
        "  mrr[i] = mr\n",
        "\n",
        "# Rimuovere l'8 da components per una migliore visualizzazione\n",
        "x_ticks = components.copy()\n",
        "x_ticks.remove(8)\n",
        "\n",
        "# Plot\n",
        "fig, (ax1, ax2, ax3) = plt.subplots(3, 1, figsize=(10, 12))\n",
        "\n",
        "# Titolo\n",
        "fig.suptitle(\"Precision, Recall e MRR rispetto alla complessità del modello\", fontsize=16)\n",
        "fig.text(0.5, 0.94, f\"NMF model su filtered_permuted_matrix, 2 tracce per playlist\", ha='center', fontsize=12, style='italic')\n",
        "\n",
        "# Precision\n",
        "ax1.plot(components, precision_at_10, marker='o', linestyle='-', label='Precision@10')\n",
        "ax1.plot(components, precision_at_5, marker='s', linestyle='--', label='Precision@5')\n",
        "ax1.plot(components, precision_at_2, marker='^', linestyle='-.', label='Precision@2')\n",
        "ax1.plot(components, precision_at_1, marker='d', linestyle=':', label='Precision@1')\n",
        "ax1.set_ylabel(\"Precision\")\n",
        "ax1.set_xticks(x_ticks)\n",
        "ax1.legend()\n",
        "ax1.grid(True)\n",
        "\n",
        "# Recall\n",
        "ax2.plot(components, recall_at_10, marker='o', linestyle='-', label='Recall@10')\n",
        "ax2.plot(components, recall_at_5, marker='s', linestyle='--', label='Recall@5')\n",
        "ax2.plot(components, recall_at_2, marker='^', linestyle='-.', label='Recall@2')\n",
        "ax2.plot(components, recall_at_1, marker='d', linestyle=':', label='Recall@1')\n",
        "ax2.set_ylabel(\"Recall\")\n",
        "ax2.set_xticks(x_ticks)\n",
        "ax2.legend()\n",
        "ax2.grid(True)\n",
        "\n",
        "# MRR\n",
        "ax3.plot(components, mrr, marker='o', linestyle='-', label='MRR', color='red')\n",
        "ax3.set_ylabel(\"MRR\")\n",
        "ax3.set_xlabel(\"Numero di Componenti NMF\")\n",
        "ax3.set_xticks(x_ticks)\n",
        "ax3.legend()\n",
        "ax3.grid(True)\n",
        "\n",
        "plt.show()\n",
        "```\n",
        "\n",
        "<img src=\"https://github.com/andrea-gentilini/PlaylistGenerator/blob/main/Images_MF/nmf_model_hyperparameter_complexity_filtered_2_tracks.png?raw=true\" width = 90%>\n"
      ],
      "metadata": {
        "id": "X9cpvLuorj8g"
      }
    },
    {
      "cell_type": "markdown",
      "source": [
        "We performed a hyperparameter tuning experiment to analyze how the number of **Non-Negative Matrix Factorization (NMF) components** affects the **Playlist Recommendation** performance.\n",
        "\n",
        "🔎 **Key Observations**\n",
        "1. **Precision Trends**  \n",
        "   - Precision improves as the number of components increases, showing significant gains up to **100 components**.\n",
        "   - The highest **Precision@1** suggests that the first recommended track is often correct.\n",
        "   - Precision gains become marginal beyond **100+ components**.\n",
        "\n",
        "2. **Recall Trends**  \n",
        "   - Recall improves with more components, especially for **Recall@10**, indicating that the model retrieves more relevant tracks.\n",
        "   - **Recall@1 remains low**, meaning single-item exact matches are challenging.\n",
        "\n",
        "3. **MRR Behavior**  \n",
        "   - MRR rises rapidly at first and stabilizes around **100 components**.\n",
        "   - Beyond **100 components**, improvements are minor, indicating diminishing returns.\n",
        "\n",
        "⚖️ **Key Takeaways**\n",
        "- **Optimal Range:** Using **100 components** balances performance and computational cost.\n",
        "- **Diminishing Returns:** Adding more than **100+ components** does not significantly boost results.\n",
        "- **Efficiency Considerations:** If computation is a concern, choosing **50 components** offers a good trade-off."
      ],
      "metadata": {
        "id": "3IcUrhxUtrTj"
      }
    },
    {
      "cell_type": "markdown",
      "metadata": {
        "id": "wJW3mVilLoJJ"
      },
      "source": [
        "## SVD 🔢"
      ]
    },
    {
      "cell_type": "markdown",
      "source": [
        "⚙️ How SVD Works\n",
        "\n",
        "Singular Value Decomposition (SVD) is a matrix factorization technique that decomposes a given matrix $ R $ into three matrices:\n",
        "\n",
        "$$\n",
        "R \\approx U \\Sigma V^T\n",
        "$$\n",
        "\n",
        "- $ U $ (users x latent factors) represents user preferences.  \n",
        "- $ \\Sigma $ (diagonal matrix) contains singular values that represent the importance of each latent factor.  \n",
        "- $ V^T $ (latent factors x items) captures item characteristics.  \n",
        "\n",
        "Unlike NMF, SVD **does not require non-negativity constraints** and can capture more complex relationships in the data. It is computationally **more efficient** and provides **better performance** in many recommendation tasks.  \n",
        "\n",
        "🎧 SVD in Recommender Systems\n",
        "\n",
        "In a recommender system, SVD helps reduce the dimensionality of the user-item interaction matrix while preserving meaningful patterns. By projecting users and items into a shared latent space, **SVD enables personalized recommendations based on similarity in preferences**.  \n",
        "  \n",
        "✅ **Faster Computation** – SVD converges faster than NMF, especially for large matrices.  \n",
        "\n",
        "🛠️ Implementing SVD for Playlist Recommendation\n",
        "\n",
        "We implement SVD using a class that utilizes the **sparse SVD implementation from SciPy (`svds`)**, allowing efficient decomposition of large matrices.  \n",
        "\n",
        "🏋️ Training SVD on Filtered and Unfiltered Matrices\n",
        "\n",
        "We apply SVD to both the **binary rating matrix** and the **permuted and sampled rating matrix**.\n"
      ],
      "metadata": {
        "id": "HbDj0raZwJc3"
      }
    },
    {
      "cell_type": "code",
      "execution_count": null,
      "metadata": {
        "id": "TXin71eMIPvV"
      },
      "outputs": [],
      "source": [
        "class ScipySVD():\n",
        "  def __init__(self, n_components, **kwargs):\n",
        "    self.n_components = n_components\n",
        "    self.kwargs = kwargs\n",
        "\n",
        "\n",
        "  def fit(self, X):\n",
        "    _, _, self.components_ = svds(X, self.n_components, **self.kwargs)\n",
        "\n",
        "\n",
        "  def transform(self, X):\n",
        "    return X @ self.components_.T"
      ]
    },
    {
      "cell_type": "markdown",
      "source": [
        "### Training"
      ],
      "metadata": {
        "id": "XyBE6EmTl082"
      }
    },
    {
      "cell_type": "code",
      "execution_count": null,
      "metadata": {
        "id": "_5zwJS1cKbrf"
      },
      "outputs": [],
      "source": [
        "# @title SVD model on binary rating matrix\n",
        "svd_model = ScipySVD(300, random_state=42)\n",
        "svd_model.fit(csr_rating_matrix)"
      ]
    },
    {
      "cell_type": "code",
      "execution_count": null,
      "metadata": {
        "id": "-tqLNCcy0BD-"
      },
      "outputs": [],
      "source": [
        "# @title SVD model on permuted and sampled rating matrix\n",
        "svd_model_permuted = ScipySVD(300, random_state=42)\n",
        "svd_model_permuted.fit(filtered_permuted_matrix)"
      ]
    },
    {
      "cell_type": "markdown",
      "source": [
        "### Evaluation"
      ],
      "metadata": {
        "id": "mMbLm0fUl083"
      }
    },
    {
      "cell_type": "code",
      "source": [
        "svd_models = [svd_model, svd_model_permuted]\n",
        "svd_model_names = [\"SVD\", \"SVD Permuted\"]\n",
        "\n",
        "for k in [2, 5, 8]:\n",
        "  for model, model_name in zip(svd_models, svd_model_names):\n",
        "    print(f\"\\n{model_name} Keeping {k} songs per playlist:\")\n",
        "    evaluate_model_k_tracks_per_playlist(model, k, num_valid_files=4)"
      ],
      "metadata": {
        "id": "P-1QZomopNfg",
        "colab": {
          "base_uri": "https://localhost:8080/"
        },
        "outputId": "87e99a0d-b98b-4532-bedb-cdff689bde1a"
      },
      "execution_count": null,
      "outputs": [
        {
          "output_type": "stream",
          "name": "stdout",
          "text": [
            "\n",
            "SVD Keeping 2 songs per playlist:\n",
            "  Precision@10 =  0.17120000000000002\n",
            "  Precision@5 =  0.1976\n",
            "  Precision@2 =  0.22999999999999998\n",
            "  Precision@1 =  0.24875\n",
            "  Recall@10 =  0.039987198294801095\n",
            "  Recall@5 =  0.023948670642894007\n",
            "  Recall@2 =  0.011357114471074447\n",
            "  Recall@1 =  0.0064734851233585935\n",
            "  MRR =  0.35977883082742884\n",
            "\n",
            "SVD Permuted Keeping 2 songs per playlist:\n",
            "  Precision@10 =  0.18177500000000002\n",
            "  Precision@5 =  0.21125000000000005\n",
            "  Precision@2 =  0.247875\n",
            "  Precision@1 =  0.27175\n",
            "  Recall@10 =  0.042385929248309064\n",
            "  Recall@5 =  0.025499860372053165\n",
            "  Recall@2 =  0.012331134798676698\n",
            "  Recall@1 =  0.006949939136352647\n",
            "  MRR =  0.38325908694315436\n",
            "\n",
            "SVD Keeping 5 songs per playlist:\n",
            "  Precision@10 =  0.19272499999999998\n",
            "  Precision@5 =  0.21765\n",
            "  Precision@2 =  0.245875\n",
            "  Precision@1 =  0.261\n",
            "  Recall@10 =  0.04172309273422282\n",
            "  Recall@5 =  0.02427511891668023\n",
            "  Recall@2 =  0.011285688674467088\n",
            "  Recall@1 =  0.006157178393049989\n",
            "  MRR =  0.38310450812624663\n",
            "\n",
            "SVD Permuted Keeping 5 songs per playlist:\n",
            "  Precision@10 =  0.19730000000000003\n",
            "  Precision@5 =  0.22465\n",
            "  Precision@2 =  0.25737499999999996\n",
            "  Precision@1 =  0.272\n",
            "  Recall@10 =  0.041917719717551594\n",
            "  Recall@5 =  0.02491141936939712\n",
            "  Recall@2 =  0.011851198953004995\n",
            "  Recall@1 =  0.006269513229971808\n",
            "  MRR =  0.3921760673418883\n",
            "\n",
            "SVD Keeping 8 songs per playlist:\n",
            "  Precision@10 =  0.19417500000000004\n",
            "  Precision@5 =  0.2167\n",
            "  Precision@2 =  0.250375\n",
            "  Precision@1 =  0.26749999999999996\n",
            "  Recall@10 =  0.03967315834264516\n",
            "  Recall@5 =  0.022752400331179146\n",
            "  Recall@2 =  0.010858738635175122\n",
            "  Recall@1 =  0.005854790059505705\n",
            "  MRR =  0.38689149722234906\n",
            "\n",
            "SVD Permuted Keeping 8 songs per playlist:\n",
            "  Precision@10 =  0.20120000000000002\n",
            "  Precision@5 =  0.2308\n",
            "  Precision@2 =  0.25675000000000003\n",
            "  Precision@1 =  0.27875\n",
            "  Recall@10 =  0.040183923682553\n",
            "  Recall@5 =  0.023944568700711863\n",
            "  Recall@2 =  0.011067203609693314\n",
            "  Recall@1 =  0.005965297365888012\n",
            "  MRR =  0.3954086076145565\n"
          ]
        }
      ]
    },
    {
      "cell_type": "markdown",
      "source": [
        "Model performance as the number of tracks included in the playlist changes\n",
        "\n",
        "```\n",
        "best_model = ScipySVD(300, random_state=42)\n",
        "best_model.fit(filtered_permuted_matrix)\n",
        "tracks_included = [1, 2, 4, 8, 10, 15, 20, 30]\n",
        "\n",
        "precision_at_10 = [0 for _ in range(len(tracks_included))]\n",
        "precision_at_5 = [0 for _ in range(len(tracks_included))]\n",
        "precision_at_2 = [0 for _ in range(len(tracks_included))]\n",
        "precision_at_1 = [0 for _ in range(len(tracks_included))]\n",
        "recall_at_10 = [0 for _ in range(len(tracks_included))]\n",
        "recall_at_5 = [0 for _ in range(len(tracks_included))]\n",
        "recall_at_2 = [0 for _ in range(len(tracks_included))]\n",
        "recall_at_1 = [0 for _ in range(len(tracks_included))]\n",
        "mrr = [0 for _ in range(len(tracks_included))]\n",
        "\n",
        "\n",
        "for i, k in enumerate(tracks_included):\n",
        "  evaluate_model_k_tracks_per_playlist(best_model, k, num_valid_files=4)\n",
        "\n",
        "  p10, p5, p2, p1, r10, r5, r2, r1, mr = evaluate_model_k_tracks_per_playlist(cur_model, k, num_valid_files=4)\n",
        "  precision_at_10[i] = p10\n",
        "  precision_at_5[i] = p5\n",
        "  precision_at_2[i] = p2\n",
        "  precision_at_1[i] = p1\n",
        "  recall_at_10[i] = r10\n",
        "  recall_at_5[i] = r5\n",
        "  recall_at_2[i] = r2\n",
        "  recall_at_1[i] = r1\n",
        "  mrr[i] = mr\n",
        "\n",
        "\n",
        "# Plot\n",
        "fig, (ax1, ax2, ax3) = plt.subplots(3, 1, figsize=(10, 12))\n",
        "\n",
        "# Title\n",
        "fig.suptitle(\"Precision, Recall, e MRR rispetto al numero di tracce nelle playlist\", fontsize=16)\n",
        "fig.text(0.5, 0.94, \"best SVD model on filtered_permuted_matrix\", ha='center', fontsize=12, style='italic')\n",
        "\n",
        "# Precision\n",
        "ax1.plot(tracks_included, precision_10, marker='o', linestyle='-', label='Precision@10')\n",
        "ax1.plot(tracks_included, precision_5, marker='s', linestyle='--', label='Precision@5')\n",
        "ax1.plot(tracks_included, precision_2, marker='^', linestyle='-.', label='Precision@2')\n",
        "ax1.plot(tracks_included, precision_1, marker='d', linestyle=':', label='Precision@1')\n",
        "ax1.set_ylabel(\"Precision\")\n",
        "ax1.legend()\n",
        "ax1.grid(True)\n",
        "ax1.set_xlabel(\"Numero di tracce nelle playlist parziali\")\n",
        "ax1.set_xticks(tracks_included)\n",
        "\n",
        "# Recall\n",
        "ax2.plot(tracks_included, recall_10, marker='o', linestyle='-', label='Recall@10')\n",
        "ax2.plot(tracks_included, recall_5, marker='s', linestyle='--', label='Recall@5')\n",
        "ax2.plot(tracks_included, recall_2, marker='^', linestyle='-.', label='Recall@2')\n",
        "ax2.plot(tracks_included, recall_1, marker='d', linestyle=':', label='Recall@1')\n",
        "ax2.set_ylabel(\"Recall\")\n",
        "ax2.legend()\n",
        "ax2.grid(True)\n",
        "ax2.set_xlabel(\"Numero di tracce nelle playlist parziali\")\n",
        "ax2.set_xticks(tracks_included)\n",
        "\n",
        "# MRR\n",
        "ax3.plot(tracks_included, mrr, marker='o', linestyle='-', label='MRR', color='red')\n",
        "ax3.set_ylabel(\"MRR\")\n",
        "ax3.set_xlabel(\"Numero di tracce nelle playlist parziali\")\n",
        "ax3.set_xticks(tracks_included)\n",
        "ax3.legend()\n",
        "ax3.grid(True)\n",
        "\n",
        "plt.show()\n",
        "```\n",
        "\n",
        "<img src=\"https://github.com/andrea-gentilini/PlaylistGenerator/blob/main/Images_MF/best_svd_model_on_playlist_tracks.png?raw=true\" width = 90%>"
      ],
      "metadata": {
        "id": "T6YnL_gZrXQF"
      }
    },
    {
      "cell_type": "markdown",
      "source": [
        "🔍 Observations\n",
        "\n",
        "1. **Precision Trends**  \n",
        "   - Precision generally **increases** as the number of known tracks grows up to around **8-10 tracks**.  \n",
        "   - Beyond this point, performance **declines**, suggesting that additional tracks may introduce more noise or redundancy rather than improving recommendation accuracy.  \n",
        "   - **Precision@1** achieves the highest values, while **Precision@10** is lower but follows a similar pattern.\n",
        "\n",
        "2. **Recall Behavior**  \n",
        "   - Recall also **peaks at around 4-8 tracks** and starts declining afterward.  \n",
        "   - The drop beyond **10 tracks** suggests that the model struggles to maintain high recall when playlists are more complete, likely because the remaining missing tracks are more difficult to predict.\n",
        "\n",
        "3. **MRR (Mean Reciprocal Rank) Trends**  \n",
        "   - **MRR exhibits a clear peak at around 8 tracks**, meaning the model ranks relevant items most accurately when 8 tracks are available.  \n",
        "   - The **drop in MRR beyond 10 tracks** suggests that recommendations become less reliable when the playlist is too complete, likely because fewer missing tracks make the ranking task harder.\n",
        "\n",
        "📌 Key Takeaways  \n",
        "\n",
        "✅ **Best Performance at 8 Tracks** – Precision, Recall, and MRR indicate that **SVD performs best when playlists have 8 known tracks**, as this balances available information and the ability to generalize missing items.  \n",
        "\n",
        "⚠️ **Decreasing Performance for Larger Playlists** – When playlists have **15-20 known tracks**, precision, recall, and MRR all decline, suggesting that additional tracks do not contribute significantly to better recommendations and may introduce noise.  \n"
      ],
      "metadata": {
        "id": "0sTgYiF4xgLB"
      }
    },
    {
      "cell_type": "markdown",
      "source": [
        "### Hyper-Parameter Analysis"
      ],
      "metadata": {
        "id": "Qp-JU1ZMl084"
      }
    },
    {
      "cell_type": "markdown",
      "source": [
        "How does the performance change on the standard binary matrix as the SVD model complexity (number of principal components taken) changes.\n",
        "\n",
        "```\n",
        "components = [5, 10, 20, 30, 40, 50, 70, 100, 125, 150, 175, 190, 200, 220, 240, 300, 600]\n",
        "\n",
        "precision_at_10 = [0 for _ in range(len(components))]\n",
        "precision_at_5 = [0 for _ in range(len(components))]\n",
        "precision_at_2 = [0 for _ in range(len(components))]\n",
        "precision_at_1 = [0 for _ in range(len(components))]\n",
        "recall_at_10 = [0 for _ in range(len(components))]\n",
        "recall_at_5 = [0 for _ in range(len(components))]\n",
        "recall_at_2 = [0 for _ in range(len(components))]\n",
        "recall_at_1 = [0 for _ in range(len(components))]\n",
        "mrr = [0 for _ in range(len(components))]\n",
        "\n",
        "for i, n_components in enumerate(components):\n",
        "  cur_model = ScipySVD(n_components, random_state=42)\n",
        "  cur_model.fit(filtered_permuted_matrix)\n",
        "  \n",
        "  p10, p5, p2, p1, r10, r5, r2, r1, mr = evaluate_model_k_tracks_per_playlist(cur_model, k=2, num_valid_files=4)\n",
        "  precision_at_10[i] = p10\n",
        "  precision_at_5[i] = p5\n",
        "  precision_at_2[i] = p2\n",
        "  precision_at_1[i] = p1\n",
        "  recall_at_10[i] = r10\n",
        "  recall_at_5[i] = r5\n",
        "  recall_at_2[i] = r2\n",
        "  recall_at_1[i] = r1\n",
        "  mrr[i] = mr\n",
        "\n",
        "\n",
        "# Creazione dei subplot\n",
        "fig, (ax1, ax2, ax3) = plt.subplots(3, 1, figsize=(10, 12))\n",
        "\n",
        "# Titolo principale\n",
        "fig.suptitle(\"Precision, Recall e MRR rispetto alla complessità del modello\", fontsize=16)\n",
        "fig.text(0.5, 0.94, f\"SVD matrice dei rating di dimensione {csr_rating_matrix.shape}\", ha='center', fontsize=12, style='italic')\n",
        "fig.text(0.5, 0.915, f\"Playlist incomplete con solo 2 tracce ciascuna\", ha='center', fontsize=12, style='italic')\n",
        "\n",
        "# Plot Precision\n",
        "ax1.plot(components, precision_at_10, marker='o', linestyle='-', label='Precision@10')\n",
        "ax1.plot(components, precision_at_5, marker='s', linestyle='--', label='Precision@5')\n",
        "ax1.plot(components, precision_at_2, marker='^', linestyle='-.', label='Precision@2')\n",
        "ax1.plot(components, precision_at_1, marker='d', linestyle=':', label='Precision@1')\n",
        "ax1.set_ylabel(\"Precision\")\n",
        "ax1.legend()\n",
        "ax1.grid(True)\n",
        "\n",
        "# Plot Recall\n",
        "ax2.plot(components, recall_at_10, marker='o', linestyle='-', label='Recall@10')\n",
        "ax2.plot(components, recall_at_5, marker='s', linestyle='--', label='Recall@5')\n",
        "ax2.plot(components, recall_at_2, marker='^', linestyle='-.', label='Recall@2')\n",
        "ax2.plot(components, recall_at_1, marker='d', linestyle=':', label='Recall@1')\n",
        "ax2.set_ylabel(\"Recall\")\n",
        "ax2.legend()\n",
        "ax2.grid(True)\n",
        "\n",
        "# Plot MRR\n",
        "ax3.plot(components, mrr, marker='o', linestyle='-', label='MRR', color='red')\n",
        "ax3.set_ylabel(\"MRR\")\n",
        "ax3.set_xlabel(\"Number of SVD Components\")\n",
        "ax3.legend()\n",
        "ax3.grid(True)\n",
        "\n",
        "# Mostra il grafico\n",
        "plt.show()\n",
        "```\n",
        "<img src=\"https://github.com/andrea-gentilini/PlaylistGenerator/blob/main/Images_MF/svd_model_hyperparameter_complexity_2_tracks.png?raw=true\" width=90%>\n"
      ],
      "metadata": {
        "id": "Fp81I43rqmOR"
      }
    },
    {
      "cell_type": "markdown",
      "source": [
        "How does the performance change on the filtered matrix as the SVD model complexity (number of principal components taken) changes.\n",
        "\n",
        "```\n",
        "components = [5, 10, 20, 30, 40, 50, 70, 100, 125, 150, 175, 200, 250, 300, 600]\n",
        "\n",
        "precision_at_10 = [0 for _ in range(len(components))]\n",
        "precision_at_5 = [0 for _ in range(len(components))]\n",
        "precision_at_2 = [0 for _ in range(len(components))]\n",
        "precision_at_1 = [0 for _ in range(len(components))]\n",
        "recall_at_10 = [0 for _ in range(len(components))]\n",
        "recall_at_5 = [0 for _ in range(len(components))]\n",
        "recall_at_2 = [0 for _ in range(len(components))]\n",
        "recall_at_1 = [0 for _ in range(len(components))]\n",
        "mrr = [0 for _ in range(len(components))]\n",
        "\n",
        "for i, n_components in enumerate(components):\n",
        "  cur_model = ScipySVD(n_components, random_state=42)\n",
        "  cur_model.fit(filtered_permuted_matrix)\n",
        "  \n",
        "  p10, p5, p2, p1, r10, r5, r2, r1, mr = evaluate_model_k_tracks_per_playlist(cur_model, k=2, num_valid_files=4)\n",
        "  precision_at_10[i] = p10\n",
        "  precision_at_5[i] = p5\n",
        "  precision_at_2[i] = p2\n",
        "  precision_at_1[i] = p1\n",
        "  recall_at_10[i] = r10\n",
        "  recall_at_5[i] = r5\n",
        "  recall_at_2[i] = r2\n",
        "  recall_at_1[i] = r1\n",
        "  mrr[i] = mr\n",
        "\n",
        "\n",
        "# Create subplots in 3 rows, 1 column\n",
        "fig, (ax1, ax2, ax3) = plt.subplots(3, 1, figsize=(10, 12))\n",
        "\n",
        "# Set main title\n",
        "fig.suptitle(\"Precision, Recall e MRR rispetto alla complessità del modello\", fontsize=16)\n",
        "fig.text(0.5, 0.94, f\"SVD matrice filtrata di dimensione {filtered_permuted_matrix.shape}\",\n",
        "         ha='center', fontsize=12, style='italic')\n",
        "\n",
        "# Plot Precision\n",
        "ax1.plot(components, precision_at_10, marker='o', linestyle='-', label='Precision@10')\n",
        "ax1.plot(components, precision_at_5, marker='s', linestyle='--', label='Precision@5')\n",
        "ax1.plot(components, precision_at_2, marker='^', linestyle='-.', label='Precision@2')\n",
        "ax1.plot(components, precision_at_1, marker='d', linestyle=':', label='Precision@1')\n",
        "ax1.set_ylabel(\"Precision\")\n",
        "ax1.legend()\n",
        "ax1.grid(True)\n",
        "\n",
        "# Plot Recall\n",
        "ax2.plot(components, recall_at_10, marker='o', linestyle='-', label='Recall@10')\n",
        "ax2.plot(components, recall_at_5, marker='s', linestyle='--', label='Recall@5')\n",
        "ax2.plot(components, recall_at_2, marker='^', linestyle='-.', label='Recall@2')\n",
        "ax2.plot(components, recall_at_1, marker='d', linestyle=':', label='Recall@1')\n",
        "ax2.set_ylabel(\"Recall\")\n",
        "ax2.legend()\n",
        "ax2.grid(True)\n",
        "\n",
        "# Plot MRR\n",
        "ax3.plot(components, mrr, marker='o', linestyle='-', label='MRR', color='red')\n",
        "ax3.set_ylabel(\"MRR\")\n",
        "ax3.set_xlabel(\"Number of SVD Components\")\n",
        "ax3.legend()\n",
        "ax3.grid(True)\n",
        "\n",
        "plt.show()\n",
        "```\n",
        "\n",
        "<img src=\"https://github.com/andrea-gentilini/PlaylistGenerator/blob/main/Images_MF/svd_model_hyperparameter_complexity_filtered_2_tracks.png?raw=true\" width=90%>"
      ],
      "metadata": {
        "id": "wdp_QWNHrFkl"
      }
    },
    {
      "cell_type": "markdown",
      "source": [
        "We performed a hyperparameter tuning experiment to analyze how the number of **SVD components** affects the **Playlist Recommendation** performance on each the standard  and filtered matrices.\n",
        "\n",
        "🔎 **Key Observations**\n",
        "1. **Precision & Recall Trends**  \n",
        "   - Precision and Recall improve as the number of components increases, showing significant gains up to **300 components**.\n",
        "   - Precision and Recall gain become marginal beyond **300+ components**.\n",
        "\n",
        "2. **MRR Behavior**  \n",
        "   - MRR rises rapidly at first and stabilizes around **200 components**.\n",
        "   - Beyond **300 components**, improvements are minor, indicating diminishing returns.\n",
        "\n",
        "⚖️ **Key Takeaways**\n",
        "- **Optimal Range:** Using **300 components** balances performance and computational cost.\n",
        "- **Diminishing Returns:** Adding more than **300+ components** does not significantly boost results.\n",
        "- **Efficiency Considerations:** If computation is a concern, choosing around** 100 components** offers a good trade-off."
      ],
      "metadata": {
        "id": "iSVoRadEzTEl"
      }
    },
    {
      "cell_type": "markdown",
      "source": [
        "How does the SVD performance change on the filtered matrix as we change the treshold for **minimum tracks in playlists**?\n",
        "<img src=\"https://github.com/andrea-gentilini/PlaylistGenerator/blob/main/Images_MF/best_svd_model_different_dataset_track_threshold.png?raw=true\" width=90%>"
      ],
      "metadata": {
        "id": "RassLctj1lsT"
      }
    },
    {
      "cell_type": "markdown",
      "source": [
        "🔎 **Key Observations**  \n",
        "\n",
        "1. **Precision & MRR**  \n",
        "   - On both the standard and the filtered matrix, we can see that **Precision and MRR decline as we raise the filtering threshold**.  \n",
        "   - However, the drop is **not significant** until we select ⚠ **extreme** values.  \n",
        "   - This suggests that we can work with **far fewer tracks** (from 263,387 to just 6,288!) without losing much information, which is a major advantage in terms of computational efficiency.  \n",
        "\n",
        "2. **Recall**  \n",
        "   - Recall **initially improves** as the threshold increases, peaking at **5000 tracks** before declining at **10,000 tracks**.  \n",
        "   - This behavior suggests that **removing extremely small playlists helps the model generalize better**, as it focuses on more structured user preferences rather than noisy, one-off interactions.  \n",
        "   - However, when we set the threshold **too high (10,000)**, we likely remove **too much diversity**, which reduces the model’s ability to recommend long-tail tracks that are less frequently interacted with.  \n",
        "   - This highlights a trade-off: **some filtering helps improve recommendations**, but **over-filtering can reduce generalization and lead to overfitting on popular items**.  \n"
      ],
      "metadata": {
        "id": "Cr6GQZqZ2FMc"
      }
    },
    {
      "cell_type": "markdown",
      "source": [
        "## Conclusions\n",
        "### 💫 Overview of Approaches\n",
        "We implemented and compared two matrix factorization techniques for playlist recommendation:\n",
        "- Non-negative Matrix Factorization (NMF)\n",
        "- Singular Value Decomposition (SVD)\n",
        "\n",
        "### 📊 Key Findings\n",
        "\n",
        "#### 🔍 Model Performance\n",
        "- **SVD Performance**:\n",
        "  - Demonstrated superior performance across all metrics\n",
        "  - Achieved better results with both standard and filtered matrices\n",
        "  - Showed more stable learning curves\n",
        "- **NMF Performance**:\n",
        "  - Provided solid baseline results\n",
        "  - Required more components to achieve comparable performance\n",
        "  - Showed more sensitivity to the number of components\n",
        "\n",
        "#### ⏳ Running Time Comparison: SVD vs NMF\n",
        "- SVD is considerably faster than NMF, especially for large datasets.\n",
        "- This is because the `scipy.sparse.linalg.svds` implementation of SVD is highly optimized for handling sparse matrices.\n",
        "- In contrast, NMF does not leverage sparse matrix structures as efficiently as SVD and relies on iterative updates, which are computationally expensive, particularly for high-dimensional data.\n",
        "- For example, on the same matrix, SVD with 600 components takes only 15 minutes, while NMF with 200 components takes almost an hour.\n",
        "\n",
        "#### ⚙️ Optimal Parameters\n",
        "- **SVD**:\n",
        "  - Optimal performance at 300 components\n",
        "  - Significant improvements up to 200-300 components\n",
        "  - Diminishing returns beyond 300 components\n",
        "- **NMF**:\n",
        "  - Best results with 100 components\n",
        "  - Performance plateaus after 100 components\n",
        "  - More computationally intensive than SVD\n",
        "\n",
        "#### 🎵 Playlist Length Impact\n",
        "- **Optimal Known Tracks**: 8 tracks provided the best balance for recommendations. This is likely because there are enough tracks in the incomplete playlists to understand what comes next, while also leaving enough room for tracks that could fit into the playlist.\n",
        "- **Performance Pattern**:\n",
        "  - Improved steadily up to 8 tracks\n",
        "  - Peaked at 8-10 tracks\n",
        "  - Declined with more than 10 tracks\n",
        "- **Trade-off**: More tracks don't always mean better recommendations\n",
        "\n",
        "### 💡 Key Insights\n",
        "1. **Matrix Filtering**:\n",
        "   - Reducing matrix size through filtering maintained performance while improving efficiency\n",
        "   - Optimal threshold found at ~5000 tracks\n",
        "   - Extreme filtering (>10,000) reduced model effectiveness\n",
        "\n",
        "2. **Computational Efficiency**:\n",
        "   - SVD proved more computationally efficient\n",
        "   - Achieved better results with fewer components\n",
        "   - More suitable for large-scale deployment\n",
        "\n",
        "3. **Recommendation Quality**:\n",
        "   - Both methods showed strong performance in capturing playlist patterns\n",
        "   - SVD better at handling sparse data\n",
        "   - More consistent recommendations across different playlist sizes\n",
        "\n",
        "### 🚀 Future Improvements\n",
        "1. **Hybrid Approaches**:\n",
        "   - Combine SVD with content-based features\n",
        "   - Incorporate temporal aspects of playlist creation\n",
        "   - Explore ensemble methods\n",
        "\n",
        "2. **Scalability**:\n",
        "   - Implement incremental learning for new playlists\n",
        "   - Optimize memory usage for larger datasets\n",
        "   - Explore distributed computing solutions"
      ],
      "metadata": {
        "id": "ZdVfq1JL5T5f"
      }
    },
    {
      "cell_type": "markdown",
      "source": [
        "# 💣 Bonus: Language Model Approach"
      ],
      "metadata": {
        "id": "nyovjPT_PBg9"
      }
    },
    {
      "cell_type": "markdown",
      "source": [
        "## Building dependencies"
      ],
      "metadata": {
        "id": "sHpjh3GLU_cS"
      }
    },
    {
      "cell_type": "code",
      "execution_count": null,
      "metadata": {
        "id": "E4xFXiVIKbov"
      },
      "outputs": [],
      "source": [
        "# File handling\n",
        "import os\n",
        "import json\n",
        "import kagglehub\n",
        "\n",
        "# Model\n",
        "import torch\n",
        "import torch.nn as nn\n",
        "import torch.nn.functional as F\n",
        "from torch.utils.data import DataLoader, IterableDataset\n",
        "\n",
        "# Utils & visualization\n",
        "import random\n",
        "import matplotlib.pyplot as plt\n",
        "%matplotlib inline"
      ]
    },
    {
      "cell_type": "markdown",
      "source": [
        "## Approach Overview 🎶🚀\n",
        "\n",
        "This project leverages a language model–inspired approach to predict the next song in a Spotify playlist. In natural language processing, a character-based language model predicts the next character in a sequence based on its context. Here, each “character” represents an individual song within a playlist. Essentially, the model learns to predict the subsequent song given a fixed context of preceding tracks.\n",
        "\n",
        "At the core of our method is a Multi-Layer Perceptron (MLP) enhanced with Batch Normalization (BN). The BN layers play a critical role in stabilizing and accelerating the training process by normalizing the inputs at each layer, thereby reducing issues such as vanishing or exploding gradients. This design choice allows our relatively simple MLP to converge more reliably and efficiently.\n",
        "\n",
        "A significant challenge in our project was the limited computational resources available, particularly with respect to GPU. Since we wanted to investigate further this approach, we invested $10 in renting a high-performance GPU (NVIDIA H200 SXM) through RunPod’s Pod. (A RunPod’s Pod is a cloud-based GPU rental service that provides on-demand access to powerful GPU resources).\n",
        "\n",
        "This was how our pod was looking like:\n",
        "\n",
        "<img src=\"https://github.com/andrea-gentilini/PlaylistGenerator/blob/main/Images_LM/Pod_settings.png?raw=true\">\n",
        "\n",
        "However, using this service we encountered another critical challenge. In fact, both the RAM and VRAM available on the pod are limited. The RAM allocation is really modest, and the VRAM is insufficient to load the entire dataset into the GPU memory at once. To address these issues, we implemented a data streaming strategy: rather than loading the full dataset into memory, we stream the data directly from disk (stored on the pod’s purchased volume). This approach enables us to process large volumes of data efficiently without exceeding memory constraints."
      ],
      "metadata": {
        "id": "uWoKELQdVmee"
      }
    },
    {
      "cell_type": "markdown",
      "source": [
        "## Data Loading: Streaming with a Generator 🗂️\n",
        "\n"
      ],
      "metadata": {
        "id": "xRWmtdB8cKJ8"
      }
    },
    {
      "cell_type": "code",
      "source": [
        "# --- Data Loading ---\n",
        "num_slices = 1000      # number of slices to load\n",
        "num_playlists = 1000   # number of playlists for each slice"
      ],
      "metadata": {
        "id": "0v9A8n2odC0M"
      },
      "execution_count": null,
      "outputs": []
    },
    {
      "cell_type": "code",
      "source": [
        "# Downloading using kagglehub utils\n",
        "path = \"/root/.cache/kagglehub/datasets/himanshuwagh/spotify-million/versions/1\"\n",
        "if not os.path.exists(path):\n",
        "  path = kagglehub.dataset_download(\"himanshuwagh/spotify-million\")"
      ],
      "metadata": {
        "id": "6Sqp7CIxci6H"
      },
      "execution_count": null,
      "outputs": []
    },
    {
      "cell_type": "code",
      "source": [
        "data_dir = os.path.join(path, \"data\")"
      ],
      "metadata": {
        "id": "_neG-Q1Ucqx5"
      },
      "execution_count": null,
      "outputs": []
    },
    {
      "cell_type": "code",
      "source": [
        "slices = sorted(os.listdir(data_dir))[:num_slices]\n",
        "slices[0]"
      ],
      "metadata": {
        "id": "9rX3tk2td1PH"
      },
      "execution_count": null,
      "outputs": []
    },
    {
      "cell_type": "markdown",
      "source": [
        "The dataset is too large to fit in the pod's memory. Instead of reading the entire JSON files at once, we define a generator (playlist_generator) that sequentially reads each file and yields one playlist at a time. This design minimizes the memory footprint because it only holds a small portion of the dataset in RAM at any given moment."
      ],
      "metadata": {
        "id": "kcjOyWdzc1A5"
      }
    },
    {
      "cell_type": "code",
      "source": [
        "def playlist_generator(data_dir, slices, num_playlists):\n",
        "    \"\"\"\n",
        "    For each file in the list of slices,\n",
        "    open the JSON file and yield one playlist at a time (up to num_playlists per file).\n",
        "\n",
        "    Technical Details:\n",
        "    - Uses a generator to avoid loading the entire dataset into memory.\n",
        "    - Iterates over each JSON file ('slice') and then iterates over playlists.\n",
        "    - Yields one playlist at a time, ensuring memory usage is kept minimal.\n",
        "    \"\"\"\n",
        "    for slice_file in slices:\n",
        "        file_path = os.path.join(data_dir, slice_file)\n",
        "        with open(file_path, \"r\") as f:\n",
        "            data = json.load(f)\n",
        "        # Yield each playlist (up to num_playlists per slice)\n",
        "        for playlist in data['playlists'][:num_playlists]:\n",
        "            yield playlist"
      ],
      "metadata": {
        "id": "fGUSZDTgVqhS"
      },
      "execution_count": null,
      "outputs": []
    },
    {
      "cell_type": "markdown",
      "source": [
        "## Vocabulary Construction in Streaming Mode 📚\n",
        "\n",
        "A key preprocessing step is building a vocabulary of unique track names. Since the dataset is huge, the vocabulary is built on-the-fly using the generator to iterate through playlists. This allows memory optimization: by streaming data, we avoid the need to hold the entire dataset in memory.\n",
        "\n",
        "Note that the special token \".\" is reserved as both the start and stop token. By forcing it to index 0, we ensure a consistent representation in the model for future use. Instead, sorting the unique track names before enumerating guarantees that the mapping is deterministic."
      ],
      "metadata": {
        "id": "aWGoOWAbetWr"
      }
    },
    {
      "cell_type": "code",
      "source": [
        "def build_vocab(data_dir, slices, num_playlists):\n",
        "    unique_tracks = set()\n",
        "    for playlist in playlist_generator(data_dir, slices, num_playlists):\n",
        "        # Each playlist contains a list of tracks (dictionaries with key 'track_name')\n",
        "        for track in playlist['tracks']:\n",
        "            unique_tracks.add(track['track_name'])\n",
        "    # If the stop token is present, remove it to re-add it as token 0\n",
        "    if '.' in unique_tracks:\n",
        "        unique_tracks.remove('.')\n",
        "    # Assign indices: the token '.' (stop/start) will have index 0\n",
        "    stoi = {track: i+1 for i, track in enumerate(sorted(unique_tracks))}\n",
        "    stoi['.'] = 0\n",
        "    itos = {i: track for track, i in stoi.items()}\n",
        "    return stoi, itos"
      ],
      "metadata": {
        "id": "CUrZTdSscTvk"
      },
      "execution_count": null,
      "outputs": []
    },
    {
      "cell_type": "code",
      "source": [
        "# Mapping track_names to integers (stoi) and viceversa (itos)\n",
        "stoi, itos = build_vocab(data_dir, slices, num_playlists)       # build the vocabulary without loading all data into memory\n",
        "vocab_size = len(itos)"
      ],
      "metadata": {
        "id": "gp26o73lfv9P"
      },
      "execution_count": null,
      "outputs": []
    },
    {
      "cell_type": "code",
      "source": [
        "vocab_size"
      ],
      "metadata": {
        "id": "bSwcMsMnoZf9"
      },
      "execution_count": null,
      "outputs": []
    },
    {
      "cell_type": "markdown",
      "source": [
        "## Custom IterableDataset for On-the-fly Data Generation 🔄\n",
        "\n",
        "We define a custom IterableDataset to generate training examples on the fly. For each playlist, a sliding window (of length block_size) is maintained. Initially, the context is padded with the start/stop token ('.' --> 0). As we iterate through the playlist, the context is updated by shifting left and appending the current token.\n",
        "This allows dynamic generation of training pairs (context, target) without storing entire sequences in memory."
      ],
      "metadata": {
        "id": "PLmDOxgdpNw1"
      }
    },
    {
      "cell_type": "code",
      "source": [
        "# %% [code]\n",
        "# ### Custom IterableDataset for On-the-fly Example Generation 🔄\n",
        "class PlaylistsIterableDataset(IterableDataset):\n",
        "    def __init__(self, data_dir, slices, num_playlists, stoi, block_size):\n",
        "        \"\"\"\n",
        "        - data_dir: directory containing the JSON files.\n",
        "        - slices: list of files to process.\n",
        "        - num_playlists: number of playlists to consider per file.\n",
        "        - stoi: dictionary mapping track -> index.\n",
        "        - block_size: context length (in number of characters).\n",
        "        \"\"\"\n",
        "        self.data_dir = data_dir\n",
        "        self.slices = slices\n",
        "        self.num_playlists = num_playlists\n",
        "        self.stoi = stoi\n",
        "        self.block_size = block_size\n",
        "\n",
        "    def __iter__(self):\n",
        "        \"\"\"\n",
        "        Given a sequence of characters, we want to predict the next character in the sequence.\n",
        "        i.e:\n",
        "        playlist = [let it be, hey jude] we have:\n",
        "        X = [[.,.,.,.,.],                            Y = [let it be,\n",
        "            [.,.,.,.,let it be],                         hey jude,\n",
        "            [.,.,.,let it be, hey jude]                  .]\n",
        "\n",
        "        (remember that '.' is the start/stop token, here context length is 5)\n",
        "        \"\"\"\n",
        "        # For each playlist, generate examples for the language model\n",
        "        for playlist in playlist_generator(self.data_dir, self.slices, self.num_playlists):\n",
        "            # Initialize context with the stop token (0)\n",
        "            context = [0] * self.block_size\n",
        "            # Append the stop token at the end of the playlist to mark the end\n",
        "            # Note: the playlist contains dictionaries for tracks\n",
        "            for track in playlist['tracks'] + ['.']:\n",
        "                # If track is a dictionary, extract 'track_name'\n",
        "                if isinstance(track, dict):\n",
        "                    track_name = track['track_name']\n",
        "                else:\n",
        "                    track_name = track\n",
        "                # Get the index from the vocabulary (if not found, default is 0)\n",
        "                ix = self.stoi.get(track_name, 0)\n",
        "                # Yield a pair (context, target) as tensors\n",
        "                yield torch.tensor(context, dtype=torch.long), torch.tensor(ix, dtype=torch.long)\n",
        "                # Update the context: shift left and append the current token\n",
        "                context = context[1:] + [ix]"
      ],
      "metadata": {
        "id": "Y5ImdxKhpOCY"
      },
      "execution_count": null,
      "outputs": []
    },
    {
      "cell_type": "markdown",
      "source": [
        "## Dataset Splitting and DataLoader Setup 📊\n",
        "\n",
        "The dataset is split at the file level into training (80%), validation (10%), and test (10%) sets. This approach ensures that entire slices (i.e., groups of playlists) are kept together.\n",
        "\n",
        "The DataLoader wraps the custom IterableDataset. Since shuffling is not available for an IterableDataset, the training order is determined by the order in which data is generated.\n",
        "\n",
        "The DataLoader uses a fixed batch_size to balance training speed with memory consumption."
      ],
      "metadata": {
        "id": "vFpUUchtqLME"
      }
    },
    {
      "cell_type": "code",
      "source": [
        "# Context Length: how many songs are we looking when predicting the next one?\n",
        "block_size = 5\n",
        "\n",
        "# Split the data\n",
        "n = len(slices)\n",
        "train_slices = slices[:int(0.8 * n)]\n",
        "val_slices   = slices[int(0.8 * n):int(0.9 * n)]\n",
        "test_slices  = slices[int(0.9 * n):]\n",
        "\n",
        "batch_size = 32\n",
        "\n",
        "# Create iterable datasets for each split\n",
        "train_dataset = PlaylistsIterableDataset(data_dir, train_slices, num_playlists, stoi, block_size)\n",
        "val_dataset   = PlaylistsIterableDataset(data_dir, val_slices, num_playlists, stoi, block_size)\n",
        "test_dataset  = PlaylistsIterableDataset(data_dir, test_slices, num_playlists, stoi, block_size)\n",
        "\n",
        "# Create DataLoaders\n",
        "# Note: global shuffling is not available for an IterableDataset since data is generated on the fly\n",
        "train_loader = DataLoader(train_dataset, batch_size=batch_size)\n",
        "val_loader   = DataLoader(val_dataset, batch_size=batch_size)\n",
        "test_loader  = DataLoader(test_dataset, batch_size=batch_size)"
      ],
      "metadata": {
        "id": "prC-xMXdqc10"
      },
      "execution_count": null,
      "outputs": []
    },
    {
      "cell_type": "markdown",
      "source": [
        "## Model Architecture: PlaylistModel 🧠\n",
        "\n",
        "- Embedding Layer: Converts discrete token indices (tracks) into dense vectors of size n_embd.\n",
        "\n",
        "- Flattening: The context, which is a sequence of tokens, is flattened (concatenated) into a single vector to feed into the MLP.\n",
        "\n",
        "----\n",
        "\n",
        "MLP Design:\n",
        "\n",
        "- Multiple linear layers interleaved with Batch Normalization and Tanh activations are used.\n",
        "- Batch Normalization helps in stabilizing training by normalizing the outputs of intermediate layers. It is particularly useful here since it is a deep networks, in order to prevent gradients from vanishing or exploding.\n",
        "- Omitting biases in linear layers since Batch Normalization introduces its own learnable bias parameters.\n",
        "- The final BN layer’s weights are scaled down (multiplied by 0.1) to control the output magnitude before the final prediction."
      ],
      "metadata": {
        "id": "Rrx8yQ7kq_WX"
      }
    },
    {
      "cell_type": "code",
      "source": [
        "device = torch.device(\"cuda\" if torch.cuda.is_available() else \"cpu\")\n",
        "print(\"Using device:\", device)"
      ],
      "metadata": {
        "id": "EmKM1Y9ysG2Y"
      },
      "execution_count": null,
      "outputs": []
    },
    {
      "cell_type": "code",
      "source": [
        "class PlaylistModel(nn.Module):\n",
        "    def __init__(self, vocab_size, n_embd, block_size, n_hidden):\n",
        "        super().__init__()\n",
        "        self.embedding = nn.Embedding(vocab_size, n_embd)\n",
        "        self.block_size = block_size\n",
        "        self.mlp = nn.Sequential(\n",
        "            nn.Linear(n_embd * block_size, n_hidden, bias=False),\n",
        "            nn.BatchNorm1d(n_hidden),\n",
        "            nn.Tanh(),\n",
        "            nn.Linear(n_hidden, n_hidden, bias=False),\n",
        "            nn.BatchNorm1d(n_hidden),\n",
        "            nn.Tanh(),\n",
        "            nn.Linear(n_hidden, n_hidden, bias=False),\n",
        "            nn.BatchNorm1d(n_hidden),\n",
        "            nn.Tanh(),\n",
        "            nn.Linear(n_hidden, n_hidden, bias=False),\n",
        "            nn.BatchNorm1d(n_hidden),\n",
        "            nn.Tanh(),\n",
        "            nn.Linear(n_hidden, n_hidden, bias=False),\n",
        "            nn.BatchNorm1d(n_hidden),\n",
        "            nn.Tanh(),\n",
        "            nn.Linear(n_hidden, vocab_size, bias=False),\n",
        "            nn.BatchNorm1d(vocab_size)\n",
        "        )\n",
        "        # Scale down the final BN layer weights to control the output magnitude\n",
        "        final_bn = self.mlp[-1]\n",
        "        final_bn.weight.data.mul_(0.1)\n",
        "\n",
        "    def forward(self, x):\n",
        "        emb = self.embedding(x)                     # -> (batch_size, block_size, n_embd)\n",
        "        emb = emb.view(emb.size(0), -1)             # -> (batch_size, block_size * n_embd)\n",
        "        logits = self.mlp(emb)                      # -> (batch_size, vocab_size)\n",
        "        return logits"
      ],
      "metadata": {
        "id": "eCMVt4sCrBER"
      },
      "execution_count": null,
      "outputs": []
    },
    {
      "cell_type": "code",
      "source": [
        "n_embd = 100              # embedding dimension\n",
        "n_hidden = 100\n",
        "model = PlaylistModel(vocab_size, n_embd, block_size, n_hidden).to(device)\n",
        "print(\"Number of parameters:\", sum(p.numel() for p in model.parameters()))"
      ],
      "metadata": {
        "id": "ahbDqRV8rGDK"
      },
      "execution_count": null,
      "outputs": []
    },
    {
      "cell_type": "markdown",
      "source": [
        "## Training Setup and Evaluation Function ⚙️\n",
        "\n",
        "- We use Stochastic Gradient Descent (SGD) with an initial learning rate of 0.1. After a specified number of steps (numb_step_change), the learning rate is decreased to 0.01 to refine the convergence.\n",
        "\n",
        "- The Evaluation Function is used to track stats during training with respect to training and validation sets. It calculates the loss (Cross-entropy) over full datasets.\n",
        "   \n",
        "\t- To speed up the execution: Caching. The function caches the validation data on the CPU to avoid repeatedly transferring data from disk.\n",
        "\t- Chunking: To prevent VRAM overflow, the data is processed in chunks (of size chunk_size). This chunk-wise processing ensures that only a manageable subset of data is transferred to the GPU at any time.\n",
        "\t- Loss Calculation: Cross-entropy loss is computed and summed over each chunk, then averaged over the total number of samples."
      ],
      "metadata": {
        "id": "x2NgbmX3sU77"
      }
    },
    {
      "cell_type": "code",
      "source": [
        "optimizer = torch.optim.SGD(model.parameters(), lr=0.1)\n",
        "numb_step_change = 18000\n",
        "\n",
        "@torch.no_grad()\n",
        "def evaluate_loss(loader, chunk_size=1024):\n",
        "    # Cache the validation data in CPU memory (if not already cached)\n",
        "    if not hasattr(evaluate_loss, \"cached_data_cpu\"):\n",
        "        xs_list, ys_list = [], []\n",
        "        for xb, yb in loader:\n",
        "            xs_list.append(xb)\n",
        "            ys_list.append(yb)\n",
        "        xs_cpu = torch.cat(xs_list, dim=0)\n",
        "        ys_cpu = torch.cat(ys_list, dim=0)\n",
        "        evaluate_loss.cached_data_cpu = (xs_cpu, ys_cpu)\n",
        "\n",
        "    xs_cpu, ys_cpu = evaluate_loss.cached_data_cpu\n",
        "    total_loss = 0.0\n",
        "    total_samples = xs_cpu.size(0)\n",
        "\n",
        "    # Process data in chunks to avoid saturating VRAM\n",
        "    for i in range(0, total_samples, chunk_size):\n",
        "        # Transfer only the current chunk to the GPU\n",
        "        x_chunk = xs_cpu[i:i+chunk_size].to(device, non_blocking=True)\n",
        "        y_chunk = ys_cpu[i:i+chunk_size].to(device, non_blocking=True)\n",
        "\n",
        "        logits = model(x_chunk)\n",
        "        loss = F.cross_entropy(logits, y_chunk, reduction='sum')\n",
        "        total_loss += loss.item()\n",
        "\n",
        "    return total_loss / total_samples"
      ],
      "metadata": {
        "id": "iHLjQyC7tk6w"
      },
      "execution_count": null,
      "outputs": []
    },
    {
      "cell_type": "markdown",
      "source": [
        "## Training Loop 🏋️‍♂️\n",
        "\n",
        "We iterate over batches provided by the train_loader and perform a forward pass, compute the loss, backpropagate the gradients, and update the model parameters.\n",
        "\n",
        "The training loop is governed by a maximum number of steps (max_steps), which allows control over training duration.\n",
        "\n",
        "Data is transferred to the GPU per batch to respect VRAM limitations.\n",
        "\n",
        "---------------------\n",
        "\n",
        "Since the training was performed on RunPod, we insert the code here as a non executable cell.\n",
        "\n",
        "\n",
        "\n",
        "```\n",
        "max_steps = 20000\n",
        "log_interval = 1000\n",
        "step = 0\n",
        "train_loss_history = []\n",
        "val_loss_history = []\n",
        "steps_list = []\n",
        "\n",
        "model.train()\n",
        "\n",
        "while step < max_steps:\n",
        "    for xb, yb in train_loader:\n",
        "        xb, yb = xb.to(device), yb.to(device)\n",
        "        optimizer.zero_grad()\n",
        "        logits = model(xb)\n",
        "        loss = F.cross_entropy(logits, yb)\n",
        "        loss.backward()\n",
        "        optimizer.step()\n",
        "\n",
        "        train_loss_history.append(loss.item())\n",
        "        step += 1\n",
        "\n",
        "        if step == numb_step_change:\n",
        "            for param_group in optimizer.param_groups:\n",
        "                param_group['lr'] = 0.01\n",
        "\n",
        "        if step % log_interval == 0:\n",
        "            val_loss = evaluate_loss(val_loader)\n",
        "            steps_list.append(step)\n",
        "            val_loss_history.append(val_loss)\n",
        "            print(f'{step:7d}/{max_steps:7d}: Train loss = {loss.item():.4f}, Val loss = {val_loss:.4f}')\n",
        "\n",
        "        if step >= max_steps:\n",
        "            break\n",
        "```\n",
        "\n"
      ],
      "metadata": {
        "id": "Hfj_12eqtvYO"
      }
    },
    {
      "cell_type": "markdown",
      "source": [
        "This were the stats of approximately 1hr training (20,000 iterations).\n",
        "\n",
        "<img src=\"https://github.com/andrea-gentilini/PlaylistGenerator/blob/main/Images_LM/Loss_during_training.jpg?raw=true\" width=\"470\">"
      ],
      "metadata": {
        "id": "eacgTFAHurOO"
      }
    },
    {
      "cell_type": "markdown",
      "source": [
        "## Plotting Training and Validation Loss 📈\n",
        "\n",
        "Visualizing the training and validation loss over time.\n",
        "\n",
        "\n",
        "\n",
        "```\n",
        "plt.figure(figsize=(10, 6))\n",
        "plt.plot(train_loss_history, label=\"Train Loss\", alpha=0.6)\n",
        "plt.plot(steps_list, val_loss_history, 'ro-', label=\"Validation Loss\", markersize=5)\n",
        "plt.xlabel(\"Steps\")\n",
        "plt.ylabel(\"Cross Entropy Loss\")\n",
        "plt.title(\"Training and Validation Loss\")\n",
        "plt.legend()\n",
        "plt.show()\n",
        "```\n",
        "\n",
        "\n",
        "<img src=\"https://github.com/andrea-gentilini/PlaylistGenerator/blob/main/Images_LM/Loss_training_plot.png?raw=true\">\n",
        "\n",
        "\n",
        "The strong noise in the plot is due to the training performed using batches. In fact `batch_size = 32` is incredibly smaller compared to the amount of data in the train set. But as numbers do not lie, from the stats tracked during training we can see that both train and validation losses decrease as training iterations increase."
      ],
      "metadata": {
        "id": "fPfIBWyAuIzb"
      }
    },
    {
      "cell_type": "markdown",
      "source": [
        "## Test Set Evaluation: Precision, Recall, and MRR 📊\n",
        "\n",
        "Beyond the loss, we compute additional metrics on the test set:\n",
        "\n",
        "\n",
        "\n",
        "\n",
        "```\n",
        "k_values = [1, 2, 3, 5]\n",
        "model.eval()\n",
        "\n",
        "total_loss = 0.0\n",
        "total_samples = 0\n",
        "\n",
        "# Accumulators for precision and recall for each k\n",
        "precision_sum = {k: 0.0 for k in k_values}\n",
        "recall_sum    = {k: 0.0 for k in k_values}\n",
        "mrr_sum = 0.0\n",
        "\n",
        "with torch.no_grad():\n",
        "    for xb, yb in test_loader:\n",
        "        # Transfer the current batch to the GPU\n",
        "        xb, yb = xb.to(device), yb.to(device)\n",
        "        logits = model(xb)  # logits: (batch_size, vocab_size)\n",
        "        batch_size = xb.size(0)\n",
        "        total_samples += batch_size\n",
        "        \n",
        "        # Compute loss for the batch (summed, then averaged later)\n",
        "        loss = F.cross_entropy(logits, yb, reduction='sum')\n",
        "        total_loss += loss.item()\n",
        "        \n",
        "        # Compute top k predictions: calculate only once for the maximum k needed\n",
        "        max_k = max(k_values)\n",
        "        # topk_indices: (batch_size, max_k)\n",
        "        _, topk_indices = torch.topk(logits, max_k, dim=1, largest=True)\n",
        "        \n",
        "        # Compute precision and recall for each k\n",
        "        for k in k_values:\n",
        "            topk = topk_indices[:, :k]\n",
        "            # Check if the target is among the top k predictions\n",
        "            correct = (topk == yb.unsqueeze(1)).any(dim=1).float()\n",
        "            precision_sum[k] += (correct / k).sum().item()\n",
        "            recall_sum[k]    += correct.sum().item()\n",
        "        \n",
        "        # Compute Mean Reciprocal Rank (MRR) for the batch\n",
        "        # Get the logit corresponding to the target for each example\n",
        "        true_logits = logits.gather(1, yb.unsqueeze(1))\n",
        "        # Calculate the rank: number of classes with logit >= target's logit\n",
        "        ranks = (logits >= true_logits).sum(dim=1).float()\n",
        "        mrr_sum += (1.0 / ranks).sum().item()\n",
        "\n",
        "# Final computation of metrics\n",
        "test_loss = total_loss / total_samples\n",
        "print(\"Test Loss:\", test_loss)\n",
        "\n",
        "for k in k_values:\n",
        "    precision_at_k = precision_sum[k] / total_samples\n",
        "    recall_at_k    = recall_sum[k] / total_samples\n",
        "    print(f\"Precision@{k}: {precision_at_k:.4f}, Recall@{k}: {recall_at_k:.4f}\")\n",
        "\n",
        "mrr = mrr_sum / total_samples\n",
        "print(f\"MRR: {mrr:.4f}\")\n",
        "\n",
        "\n",
        "```\n",
        "\n"
      ],
      "metadata": {
        "id": "oSQsTLOCwuBM"
      }
    },
    {
      "cell_type": "markdown",
      "source": [
        "Obtaining the following results:\n",
        "\n",
        "\n",
        "<img src=\"https://github.com/andrea-gentilini/PlaylistGenerator/blob/main/Images_LM/Test_metrics.png?raw=true\" width=\"450\">"
      ],
      "metadata": {
        "id": "cPBOnFtwxPVH"
      }
    },
    {
      "cell_type": "markdown",
      "source": [
        "## Improvements 🎉🚀\n",
        "\n",
        "This innovative approach to next-song prediction using a language-model–inspired framework lays a robust foundation for further experimentation and enhancements.\n",
        "\n",
        "The primary reason we did not extend our experiments was the high computational cost—prolonged GPU rentals would have been required for more extensive exploration.\n",
        "\n",
        "If additional resources were available, our next steps would include:\n",
        "\n",
        "- **Exploring Alternative Optimizers**:\n",
        "Observations during training indicate that the loss value significantly improves during the later iterations, that is when we reduce the learning rate from 0.1 to 0.01. This suggests that the learning rate schedule is critical. Employing adaptive optimizers like Adam, which continuously adjust the learning rate during training, or performing a systematic search for the optimal learning rate could lead to substantial performance gains.\n",
        "\n",
        "- **Hyperparameter Tuning**:\n",
        "Conducting a thorough hyperparameter search (via grid search, randomized search, or Bayesian optimization) for parameters such as `n_embd` (embedding dimension) and `block_size` (context length) could further optimize the model.\n",
        "\n",
        "- **Vocabulary Optimization**:\n",
        "Reducing the vocabulary by filtering out infrequent songs (e.g., those that appear in only one playlist) could significantly decrease the size of the weight matrices. This reduction would not only speed up training but also potentially improve model performance by focusing on more representative and relevant tracks.\n",
        "\n",
        "- **Extended Training Duration**:\n",
        "Finally, training for more epochs is essential. Extended training would allow the model to learn more complex patterns and generalize better to unseen data, further enhancing its predictive accuracy.\n",
        "\n"
      ],
      "metadata": {
        "id": "JopADN0xxXgK"
      }
    }
  ]
}