{
  "cells": [
    {
      "cell_type": "markdown",
      "metadata": {
        "id": "hjd78M4KMnnv"
      },
      "source": [
        "# Data analysis"
      ]
    },
    {
      "cell_type": "markdown",
      "metadata": {
        "id": "nKZR5JNZ_9Hw"
      },
      "source": [
        "## Import dependencies"
      ]
    },
    {
      "cell_type": "code",
      "execution_count": 1,
      "metadata": {
        "id": "15Za5BUU2URc"
      },
      "outputs": [],
      "source": [
        "import os\n",
        "import json\n",
        "import numpy as np\n",
        "import pandas as pd\n",
        "import random\n",
        "import zipfile\n",
        "import matplotlib.pyplot as plt\n",
        "import torch\n",
        "from torch.utils.data import Dataset, DataLoader, random_split\n",
        "from sklearn.preprocessing import StandardScaler\n",
        "from sklearn.model_selection import train_test_split\n",
        "from tqdm import tqdm\n",
        "import seaborn as sns\n"
      ]
    },
    {
      "cell_type": "markdown",
      "metadata": {
        "id": "zkV_hx2XUSrf"
      },
      "source": [
        "## Downloading the data"
      ]
    },
    {
      "cell_type": "code",
      "execution_count": 2,
      "metadata": {
        "colab": {
          "base_uri": "https://localhost:8080/"
        },
        "id": "Iu2zI1T_Buo1",
        "outputId": "5bd68c03-7b16-47fd-a29a-e8a4ad1ffe42"
      },
      "outputs": [
        {
          "output_type": "stream",
          "name": "stdout",
          "text": [
            "Downloading from https://www.kaggle.com/api/v1/datasets/download/himanshuwagh/spotify-million?dataset_version_number=1...\n"
          ]
        },
        {
          "output_type": "stream",
          "name": "stderr",
          "text": [
            "100%|██████████| 5.20G/5.20G [01:03<00:00, 87.4MB/s]"
          ]
        },
        {
          "output_type": "stream",
          "name": "stdout",
          "text": [
            "Extracting files...\n"
          ]
        },
        {
          "output_type": "stream",
          "name": "stderr",
          "text": [
            "\n"
          ]
        },
        {
          "output_type": "stream",
          "name": "stdout",
          "text": [
            "Path to dataset files: /root/.cache/kagglehub/datasets/himanshuwagh/spotify-million/versions/1\n"
          ]
        }
      ],
      "source": [
        "import kagglehub\n",
        "\n",
        "path = \"/root/.cache/kagglehub/datasets/himanshuwagh/spotify-million/versions/1\"\n",
        "if not os.path.exists(path):\n",
        "  # Download latest version\n",
        "  path = kagglehub.dataset_download(\"himanshuwagh/spotify-million\")\n",
        "\n",
        "  print(\"Path to dataset files:\", path)"
      ]
    },
    {
      "cell_type": "markdown",
      "metadata": {
        "id": "9R7C1kcOAFK_"
      },
      "source": [
        "## What type of data do we have? What do we need?"
      ]
    },
    {
      "cell_type": "code",
      "execution_count": 3,
      "metadata": {
        "colab": {
          "base_uri": "https://localhost:8080/"
        },
        "id": "k8_Pi4YxS9DP",
        "outputId": "1a102847-4246-4a41-8f28-053b93ea53d2"
      },
      "outputs": [
        {
          "output_type": "stream",
          "name": "stdout",
          "text": [
            "['stats.txt', 'md5sums', 'data', 'README.md', 'src', 'license.txt']\n"
          ]
        }
      ],
      "source": [
        "print(os.listdir(path))"
      ]
    },
    {
      "cell_type": "code",
      "execution_count": 4,
      "metadata": {
        "colab": {
          "base_uri": "https://localhost:8080/"
        },
        "id": "_L05rU9xPRc6",
        "outputId": "f9f536c5-b739-4ac3-cad8-5db3ff4ebdae"
      },
      "outputs": [
        {
          "output_type": "stream",
          "name": "stdout",
          "text": [
            "/root/.cache/kagglehub/datasets/himanshuwagh/spotify-million/versions/1/data :\n",
            " [ mpd.slice.845000-845999.json , ... , mpd.slice.202000-202999.json ]\n",
            "\n",
            "The dataset is splitted into 1000 slices, each one is a JSON files\n"
          ]
        }
      ],
      "source": [
        "mpdslices_dir: str = os.path.join(path, \"data\")\n",
        "shuffled_slices = np.array([f for f in os.listdir(mpdslices_dir) if f.startswith(\"mpd.slice.\") and f.endswith(\".json\")])\n",
        "np.random.shuffle(shuffled_slices) # Array disordinato con tutti gli slice\n",
        "\n",
        "print(mpdslices_dir,\n",
        "      ':\\n [', shuffled_slices[0], \", ... ,\", shuffled_slices[-1],']')\n",
        "print('\\nThe dataset is splitted into', np.shape(shuffled_slices)[0],'slices, each one is a JSON files')\n"
      ]
    },
    {
      "cell_type": "code",
      "execution_count": 5,
      "metadata": {
        "id": "FR37hoHaCKV5"
      },
      "outputs": [],
      "source": [
        "es = None\n",
        "with open(os.path.join(mpdslices_dir, shuffled_slices[0]), 'r') as f:\n",
        "        es = json.load(f)"
      ]
    },
    {
      "cell_type": "code",
      "execution_count": 6,
      "metadata": {
        "colab": {
          "base_uri": "https://localhost:8080/"
        },
        "id": "udkuUNkhCQiF",
        "outputId": "5637fe69-80e4-4dba-c497-e25295f0b9af"
      },
      "outputs": [
        {
          "output_type": "stream",
          "name": "stdout",
          "text": [
            "the type of the data extracted is <class 'dict'>\n"
          ]
        }
      ],
      "source": [
        "print(f'the type of the data extracted is {type(es)}')"
      ]
    },
    {
      "cell_type": "markdown",
      "metadata": {
        "id": "YiGFuvmzB-a7"
      },
      "source": [
        "Vediamo ora che dati dobbiamo maneggiare:"
      ]
    },
    {
      "cell_type": "markdown",
      "metadata": {
        "id": "ZpoTDYY2CfGs"
      },
      "source": [
        "Dalle documentazioni abbiamo visto che ogni slice è un dizionario con chiavi 'info' e 'playlists'.\n",
        "che c'è scritto su 'info'?"
      ]
    },
    {
      "cell_type": "code",
      "execution_count": 7,
      "metadata": {
        "colab": {
          "base_uri": "https://localhost:8080/"
        },
        "id": "pkebRgPkC48x",
        "outputId": "91467190-ea67-4f0f-e6fb-88d010aa2e63"
      },
      "outputs": [
        {
          "output_type": "stream",
          "name": "stdout",
          "text": [
            "{'generated_on': '2017-12-04 03:05:11.774401', 'slice': '845000-845999', 'version': 'v1'}\n"
          ]
        }
      ],
      "source": [
        "print(es['info'])"
      ]
    },
    {
      "cell_type": "markdown",
      "metadata": {
        "id": "K5wyVU6ZDHB_"
      },
      "source": [
        "Nulla di interessante, ora vediamo 'playlists'"
      ]
    },
    {
      "cell_type": "code",
      "execution_count": 8,
      "metadata": {
        "colab": {
          "base_uri": "https://localhost:8080/"
        },
        "id": "QHm5hj50DXkr",
        "outputId": "45fb0f72-8f4d-44f2-f63a-b48b2b2c2bc5"
      },
      "outputs": [
        {
          "output_type": "stream",
          "name": "stdout",
          "text": [
            "<class 'dict'>\n",
            "['name', 'collaborative', 'pid', 'modified_at', 'num_tracks', 'num_albums', 'num_followers', 'tracks', 'num_edits', 'duration_ms', 'num_artists']\n",
            "['pos', 'artist_name', 'track_uri', 'artist_uri', 'track_name', 'album_uri', 'duration_ms', 'album_name']\n",
            "\n",
            "First song of the first playlist:\n"
          ]
        },
        {
          "output_type": "execute_result",
          "data": {
            "text/plain": [
              "{'pos': 0,\n",
              " 'artist_name': 'Russ',\n",
              " 'track_uri': 'spotify:track:3pndPhlQWjuSoXhcIIdBjv',\n",
              " 'artist_uri': 'spotify:artist:1z7b1Pr1rSlvWRzsW3HOrS',\n",
              " 'track_name': 'What They Want',\n",
              " 'album_uri': 'spotify:album:0lUL92det7mZ4DaHYmiUEC',\n",
              " 'duration_ms': 165853,\n",
              " 'album_name': \"There's Really A Wolf\"}"
            ]
          },
          "metadata": {},
          "execution_count": 8
        }
      ],
      "source": [
        "print(type(es))\n",
        "print(list(es['playlists'][0].keys()))\n",
        "print(list(es['playlists'][0]['tracks'][0].keys()))\n",
        "print('\\nFirst song of the first playlist:')\n",
        "es['playlists'][0]['tracks'][0]"
      ]
    },
    {
      "cell_type": "markdown",
      "metadata": {
        "id": "ZVEPgev5D90x"
      },
      "source": [
        "Segnamoci ora gli attributi che ci interessano (essendo generosi)"
      ]
    },
    {
      "cell_type": "code",
      "execution_count": 9,
      "metadata": {
        "id": "uUFGSUA1ER-8"
      },
      "outputs": [],
      "source": [
        "keep_p = ['name', 'pid', 'num_tracks', 'num_albums', 'num_followers',\n",
        "           'num_edits', 'duration_ms', 'num_artists', 'collaborative']\n",
        "# we still keep 'tracks' but its a special case\n",
        "keep_t = ['track_name', 'artist_name', 'track_uri']\n",
        "# this way we only save the useful stuff from the JSON file"
      ]
    },
    {
      "cell_type": "markdown",
      "metadata": {
        "id": "fhES08MdAQuD"
      },
      "source": [
        "## Creating the dataframe"
      ]
    },
    {
      "cell_type": "markdown",
      "metadata": {
        "id": "Tpg3JFHTVEcr"
      },
      "source": [
        "Inizializziamo ora delle variabili utili"
      ]
    },
    {
      "cell_type": "code",
      "execution_count": 10,
      "metadata": {
        "id": "NQzDxch9evbL"
      },
      "outputs": [],
      "source": [
        "num_training_files = 200 # numero di slice che userò\n",
        "tracks = set() # set che uso per sapere se ho gia inserito la canzone (uso uri)\n",
        "uri_to_idx = dict() # associo ad ogni uri ad un indice\n",
        "idx_to_uri = dict() # nel caso mi servisse\n",
        "coll_enc = {'true':1, 'false':0} # solo per avere valore numerico"
      ]
    },
    {
      "cell_type": "markdown",
      "metadata": {
        "id": "ku844hdNVxYD"
      },
      "source": [
        "Ed ora costruiamo il dataset con la seguente struttura:\n",
        "* Nelle prime colonne abbiamo le feature contenute in `keep_p`, (di tipo dizionario).\n",
        "* Nella colonna tracks abbiamo una lista di dizionari\n",
        "ed ognuno contiene le feature in `keep_t`, (sempre di tipo dizionario).\n",
        "\n",
        "\n",
        "\n",
        "\n",
        "\n",
        "\n",
        "\n"
      ]
    },
    {
      "cell_type": "code",
      "execution_count": 11,
      "metadata": {
        "id": "dI06xwRWAL4W"
      },
      "outputs": [],
      "source": [
        "million_df = pd.DataFrame()\n",
        "data_list = []"
      ]
    },
    {
      "cell_type": "code",
      "execution_count": 12,
      "metadata": {
        "colab": {
          "base_uri": "https://localhost:8080/"
        },
        "id": "WdlxpoKURad_",
        "outputId": "f1708328-142b-4bef-b005-f9c0901be720"
      },
      "outputs": [
        {
          "output_type": "stream",
          "name": "stderr",
          "text": [
            "Processing Slices: 100%|██████████| 200/200 [02:13<00:00,  1.50it/s]\n"
          ]
        }
      ],
      "source": [
        "idx = 0\n",
        "for i, filename in tqdm(enumerate(shuffled_slices[:num_training_files]),\n",
        "                        desc=\"Processing Slices\",\n",
        "                        total = num_training_files):\n",
        "    fp = os.path.join(mpdslices_dir, filename)\n",
        "    with open(fp, 'r', encoding='utf8') as f:\n",
        "        data = json.load(f)\n",
        "\n",
        "        for playlist in data[\"playlists\"]:\n",
        "            playl = {field : playlist[field] for field in keep_p}\n",
        "            playl['collaborative'] = coll_enc[playlist['collaborative']]\n",
        "\n",
        "            tracce = []\n",
        "            for track in playlist['tracks']:\n",
        "                song = {field: track[field] for field in keep_t}\n",
        "                uri = track['track_uri'][14:] # per evitare la parte 'spotify:track:'\n",
        "\n",
        "                if uri not in tracks:\n",
        "                    song['track_id'] = idx # sostituisco id uri con nuovo id numerico.\n",
        "                    tracks.add(uri)        # aggiungo uri alle canzoni totali che ho.\n",
        "                    uri_to_idx[uri] = idx  # mi salvo la corrispondenza\n",
        "                    idx_to_uri[idx] = uri  # biunivoca tra uri e indici\n",
        "                    idx += 1\n",
        "                else:\n",
        "                    song['track_id'] = uri_to_idx[uri]\n",
        "                    # sostituisco id uri con id numerico che gia ho.\n",
        "\n",
        "                tracce += [song]\n",
        "\n",
        "            playl['tracks'] = tracce\n",
        "            data_list += [playl]\n",
        "\n",
        "    if i%30 == 0:\n",
        "        new_data = pd.DataFrame(data_list)\n",
        "        data_list.clear()\n",
        "        million_df0 = pd.concat([million_df0, new_data], ignore_index=True)\n",
        "\n",
        "# concateniamo le righe residue che non sono entrate nell'ultimo if\n",
        "new_data = pd.DataFrame(data_list)\n",
        "data_list = []\n",
        "million_df = pd.concat([million_df, new_data], ignore_index=True)"
      ]
    },
    {
      "cell_type": "code",
      "execution_count": 13,
      "metadata": {
        "id": "NeDq8eE9k9DR",
        "colab": {
          "base_uri": "https://localhost:8080/"
        },
        "outputId": "bb899651-1da5-4287-e526-845693a6fd30"
      },
      "outputs": [
        {
          "output_type": "execute_result",
          "data": {
            "text/plain": [
              "0"
            ]
          },
          "metadata": {},
          "execution_count": 13
        }
      ],
      "source": [
        "os.system(f\"rm -rf {mpdslices_dir}\")"
      ]
    },
    {
      "cell_type": "code",
      "execution_count": 14,
      "metadata": {
        "colab": {
          "base_uri": "https://localhost:8080/"
        },
        "id": "0vjjiT88Qxph",
        "outputId": "81b8769d-5dbd-427b-a538-7b82fccb662f"
      },
      "outputs": [
        {
          "output_type": "stream",
          "name": "stdout",
          "text": [
            "<class 'pandas.core.frame.DataFrame'>\n",
            "RangeIndex: 200000 entries, 0 to 199999\n",
            "Data columns (total 10 columns):\n",
            " #   Column         Non-Null Count   Dtype \n",
            "---  ------         --------------   ----- \n",
            " 0   name           200000 non-null  object\n",
            " 1   pid            200000 non-null  int64 \n",
            " 2   num_tracks     200000 non-null  int64 \n",
            " 3   num_albums     200000 non-null  int64 \n",
            " 4   num_followers  200000 non-null  int64 \n",
            " 5   num_edits      200000 non-null  int64 \n",
            " 6   duration_ms    200000 non-null  int64 \n",
            " 7   num_artists    200000 non-null  int64 \n",
            " 8   collaborative  200000 non-null  int64 \n",
            " 9   tracks         200000 non-null  object\n",
            "dtypes: int64(8), object(2)\n",
            "memory usage: 15.3+ MB\n"
          ]
        }
      ],
      "source": [
        "million_df.info()"
      ]
    },
    {
      "cell_type": "code",
      "execution_count": 15,
      "metadata": {
        "id": "qgKgZQXSiPLt",
        "colab": {
          "base_uri": "https://localhost:8080/",
          "height": 293
        },
        "outputId": "f7da3d91-033c-450c-87b0-12a1a993024d"
      },
      "outputs": [
        {
          "output_type": "execute_result",
          "data": {
            "text/plain": [
              "            name     pid  num_tracks  num_albums  num_followers  num_edits  \\\n",
              "0         hiphop  845000          22           6              1          2   \n",
              "1          heart  845001          55          44              1         17   \n",
              "2  Teenage Angst  845002          44          39              2         26   \n",
              "3   classic rock  845003         178         118              1         57   \n",
              "4      Christmas  845004          34          19              1          6   \n",
              "\n",
              "   duration_ms  num_artists  collaborative  \\\n",
              "0      4672623            5              0   \n",
              "1     13006155           35              0   \n",
              "2      9524626           33              0   \n",
              "3     50484002           73              0   \n",
              "4      5459773           14              0   \n",
              "\n",
              "                                              tracks  \n",
              "0  [{'track_name': 'What They Want', 'artist_name...  \n",
              "1  [{'track_name': 'Shooting Star', 'artist_name'...  \n",
              "2  [{'track_name': 'Take Me To Church', 'artist_n...  \n",
              "3  [{'track_name': 'Carry on Wayward Son', 'artis...  \n",
              "4  [{'track_name': 'Let It Snow! Let It Snow! Let...  "
            ],
            "text/html": [
              "\n",
              "  <div id=\"df-0db0a223-ab5c-45fd-8399-2fd8154d50d2\" class=\"colab-df-container\">\n",
              "    <div>\n",
              "<style scoped>\n",
              "    .dataframe tbody tr th:only-of-type {\n",
              "        vertical-align: middle;\n",
              "    }\n",
              "\n",
              "    .dataframe tbody tr th {\n",
              "        vertical-align: top;\n",
              "    }\n",
              "\n",
              "    .dataframe thead th {\n",
              "        text-align: right;\n",
              "    }\n",
              "</style>\n",
              "<table border=\"1\" class=\"dataframe\">\n",
              "  <thead>\n",
              "    <tr style=\"text-align: right;\">\n",
              "      <th></th>\n",
              "      <th>name</th>\n",
              "      <th>pid</th>\n",
              "      <th>num_tracks</th>\n",
              "      <th>num_albums</th>\n",
              "      <th>num_followers</th>\n",
              "      <th>num_edits</th>\n",
              "      <th>duration_ms</th>\n",
              "      <th>num_artists</th>\n",
              "      <th>collaborative</th>\n",
              "      <th>tracks</th>\n",
              "    </tr>\n",
              "  </thead>\n",
              "  <tbody>\n",
              "    <tr>\n",
              "      <th>0</th>\n",
              "      <td>hiphop</td>\n",
              "      <td>845000</td>\n",
              "      <td>22</td>\n",
              "      <td>6</td>\n",
              "      <td>1</td>\n",
              "      <td>2</td>\n",
              "      <td>4672623</td>\n",
              "      <td>5</td>\n",
              "      <td>0</td>\n",
              "      <td>[{'track_name': 'What They Want', 'artist_name...</td>\n",
              "    </tr>\n",
              "    <tr>\n",
              "      <th>1</th>\n",
              "      <td>heart</td>\n",
              "      <td>845001</td>\n",
              "      <td>55</td>\n",
              "      <td>44</td>\n",
              "      <td>1</td>\n",
              "      <td>17</td>\n",
              "      <td>13006155</td>\n",
              "      <td>35</td>\n",
              "      <td>0</td>\n",
              "      <td>[{'track_name': 'Shooting Star', 'artist_name'...</td>\n",
              "    </tr>\n",
              "    <tr>\n",
              "      <th>2</th>\n",
              "      <td>Teenage Angst</td>\n",
              "      <td>845002</td>\n",
              "      <td>44</td>\n",
              "      <td>39</td>\n",
              "      <td>2</td>\n",
              "      <td>26</td>\n",
              "      <td>9524626</td>\n",
              "      <td>33</td>\n",
              "      <td>0</td>\n",
              "      <td>[{'track_name': 'Take Me To Church', 'artist_n...</td>\n",
              "    </tr>\n",
              "    <tr>\n",
              "      <th>3</th>\n",
              "      <td>classic rock</td>\n",
              "      <td>845003</td>\n",
              "      <td>178</td>\n",
              "      <td>118</td>\n",
              "      <td>1</td>\n",
              "      <td>57</td>\n",
              "      <td>50484002</td>\n",
              "      <td>73</td>\n",
              "      <td>0</td>\n",
              "      <td>[{'track_name': 'Carry on Wayward Son', 'artis...</td>\n",
              "    </tr>\n",
              "    <tr>\n",
              "      <th>4</th>\n",
              "      <td>Christmas</td>\n",
              "      <td>845004</td>\n",
              "      <td>34</td>\n",
              "      <td>19</td>\n",
              "      <td>1</td>\n",
              "      <td>6</td>\n",
              "      <td>5459773</td>\n",
              "      <td>14</td>\n",
              "      <td>0</td>\n",
              "      <td>[{'track_name': 'Let It Snow! Let It Snow! Let...</td>\n",
              "    </tr>\n",
              "  </tbody>\n",
              "</table>\n",
              "</div>\n",
              "    <div class=\"colab-df-buttons\">\n",
              "\n",
              "  <div class=\"colab-df-container\">\n",
              "    <button class=\"colab-df-convert\" onclick=\"convertToInteractive('df-0db0a223-ab5c-45fd-8399-2fd8154d50d2')\"\n",
              "            title=\"Convert this dataframe to an interactive table.\"\n",
              "            style=\"display:none;\">\n",
              "\n",
              "  <svg xmlns=\"http://www.w3.org/2000/svg\" height=\"24px\" viewBox=\"0 -960 960 960\">\n",
              "    <path d=\"M120-120v-720h720v720H120Zm60-500h600v-160H180v160Zm220 220h160v-160H400v160Zm0 220h160v-160H400v160ZM180-400h160v-160H180v160Zm440 0h160v-160H620v160ZM180-180h160v-160H180v160Zm440 0h160v-160H620v160Z\"/>\n",
              "  </svg>\n",
              "    </button>\n",
              "\n",
              "  <style>\n",
              "    .colab-df-container {\n",
              "      display:flex;\n",
              "      gap: 12px;\n",
              "    }\n",
              "\n",
              "    .colab-df-convert {\n",
              "      background-color: #E8F0FE;\n",
              "      border: none;\n",
              "      border-radius: 50%;\n",
              "      cursor: pointer;\n",
              "      display: none;\n",
              "      fill: #1967D2;\n",
              "      height: 32px;\n",
              "      padding: 0 0 0 0;\n",
              "      width: 32px;\n",
              "    }\n",
              "\n",
              "    .colab-df-convert:hover {\n",
              "      background-color: #E2EBFA;\n",
              "      box-shadow: 0px 1px 2px rgba(60, 64, 67, 0.3), 0px 1px 3px 1px rgba(60, 64, 67, 0.15);\n",
              "      fill: #174EA6;\n",
              "    }\n",
              "\n",
              "    .colab-df-buttons div {\n",
              "      margin-bottom: 4px;\n",
              "    }\n",
              "\n",
              "    [theme=dark] .colab-df-convert {\n",
              "      background-color: #3B4455;\n",
              "      fill: #D2E3FC;\n",
              "    }\n",
              "\n",
              "    [theme=dark] .colab-df-convert:hover {\n",
              "      background-color: #434B5C;\n",
              "      box-shadow: 0px 1px 3px 1px rgba(0, 0, 0, 0.15);\n",
              "      filter: drop-shadow(0px 1px 2px rgba(0, 0, 0, 0.3));\n",
              "      fill: #FFFFFF;\n",
              "    }\n",
              "  </style>\n",
              "\n",
              "    <script>\n",
              "      const buttonEl =\n",
              "        document.querySelector('#df-0db0a223-ab5c-45fd-8399-2fd8154d50d2 button.colab-df-convert');\n",
              "      buttonEl.style.display =\n",
              "        google.colab.kernel.accessAllowed ? 'block' : 'none';\n",
              "\n",
              "      async function convertToInteractive(key) {\n",
              "        const element = document.querySelector('#df-0db0a223-ab5c-45fd-8399-2fd8154d50d2');\n",
              "        const dataTable =\n",
              "          await google.colab.kernel.invokeFunction('convertToInteractive',\n",
              "                                                    [key], {});\n",
              "        if (!dataTable) return;\n",
              "\n",
              "        const docLinkHtml = 'Like what you see? Visit the ' +\n",
              "          '<a target=\"_blank\" href=https://colab.research.google.com/notebooks/data_table.ipynb>data table notebook</a>'\n",
              "          + ' to learn more about interactive tables.';\n",
              "        element.innerHTML = '';\n",
              "        dataTable['output_type'] = 'display_data';\n",
              "        await google.colab.output.renderOutput(dataTable, element);\n",
              "        const docLink = document.createElement('div');\n",
              "        docLink.innerHTML = docLinkHtml;\n",
              "        element.appendChild(docLink);\n",
              "      }\n",
              "    </script>\n",
              "  </div>\n",
              "\n",
              "\n",
              "<div id=\"df-f1dc42ac-1825-4d16-99c1-3048e2c394b4\">\n",
              "  <button class=\"colab-df-quickchart\" onclick=\"quickchart('df-f1dc42ac-1825-4d16-99c1-3048e2c394b4')\"\n",
              "            title=\"Suggest charts\"\n",
              "            style=\"display:none;\">\n",
              "\n",
              "<svg xmlns=\"http://www.w3.org/2000/svg\" height=\"24px\"viewBox=\"0 0 24 24\"\n",
              "     width=\"24px\">\n",
              "    <g>\n",
              "        <path d=\"M19 3H5c-1.1 0-2 .9-2 2v14c0 1.1.9 2 2 2h14c1.1 0 2-.9 2-2V5c0-1.1-.9-2-2-2zM9 17H7v-7h2v7zm4 0h-2V7h2v10zm4 0h-2v-4h2v4z\"/>\n",
              "    </g>\n",
              "</svg>\n",
              "  </button>\n",
              "\n",
              "<style>\n",
              "  .colab-df-quickchart {\n",
              "      --bg-color: #E8F0FE;\n",
              "      --fill-color: #1967D2;\n",
              "      --hover-bg-color: #E2EBFA;\n",
              "      --hover-fill-color: #174EA6;\n",
              "      --disabled-fill-color: #AAA;\n",
              "      --disabled-bg-color: #DDD;\n",
              "  }\n",
              "\n",
              "  [theme=dark] .colab-df-quickchart {\n",
              "      --bg-color: #3B4455;\n",
              "      --fill-color: #D2E3FC;\n",
              "      --hover-bg-color: #434B5C;\n",
              "      --hover-fill-color: #FFFFFF;\n",
              "      --disabled-bg-color: #3B4455;\n",
              "      --disabled-fill-color: #666;\n",
              "  }\n",
              "\n",
              "  .colab-df-quickchart {\n",
              "    background-color: var(--bg-color);\n",
              "    border: none;\n",
              "    border-radius: 50%;\n",
              "    cursor: pointer;\n",
              "    display: none;\n",
              "    fill: var(--fill-color);\n",
              "    height: 32px;\n",
              "    padding: 0;\n",
              "    width: 32px;\n",
              "  }\n",
              "\n",
              "  .colab-df-quickchart:hover {\n",
              "    background-color: var(--hover-bg-color);\n",
              "    box-shadow: 0 1px 2px rgba(60, 64, 67, 0.3), 0 1px 3px 1px rgba(60, 64, 67, 0.15);\n",
              "    fill: var(--button-hover-fill-color);\n",
              "  }\n",
              "\n",
              "  .colab-df-quickchart-complete:disabled,\n",
              "  .colab-df-quickchart-complete:disabled:hover {\n",
              "    background-color: var(--disabled-bg-color);\n",
              "    fill: var(--disabled-fill-color);\n",
              "    box-shadow: none;\n",
              "  }\n",
              "\n",
              "  .colab-df-spinner {\n",
              "    border: 2px solid var(--fill-color);\n",
              "    border-color: transparent;\n",
              "    border-bottom-color: var(--fill-color);\n",
              "    animation:\n",
              "      spin 1s steps(1) infinite;\n",
              "  }\n",
              "\n",
              "  @keyframes spin {\n",
              "    0% {\n",
              "      border-color: transparent;\n",
              "      border-bottom-color: var(--fill-color);\n",
              "      border-left-color: var(--fill-color);\n",
              "    }\n",
              "    20% {\n",
              "      border-color: transparent;\n",
              "      border-left-color: var(--fill-color);\n",
              "      border-top-color: var(--fill-color);\n",
              "    }\n",
              "    30% {\n",
              "      border-color: transparent;\n",
              "      border-left-color: var(--fill-color);\n",
              "      border-top-color: var(--fill-color);\n",
              "      border-right-color: var(--fill-color);\n",
              "    }\n",
              "    40% {\n",
              "      border-color: transparent;\n",
              "      border-right-color: var(--fill-color);\n",
              "      border-top-color: var(--fill-color);\n",
              "    }\n",
              "    60% {\n",
              "      border-color: transparent;\n",
              "      border-right-color: var(--fill-color);\n",
              "    }\n",
              "    80% {\n",
              "      border-color: transparent;\n",
              "      border-right-color: var(--fill-color);\n",
              "      border-bottom-color: var(--fill-color);\n",
              "    }\n",
              "    90% {\n",
              "      border-color: transparent;\n",
              "      border-bottom-color: var(--fill-color);\n",
              "    }\n",
              "  }\n",
              "</style>\n",
              "\n",
              "  <script>\n",
              "    async function quickchart(key) {\n",
              "      const quickchartButtonEl =\n",
              "        document.querySelector('#' + key + ' button');\n",
              "      quickchartButtonEl.disabled = true;  // To prevent multiple clicks.\n",
              "      quickchartButtonEl.classList.add('colab-df-spinner');\n",
              "      try {\n",
              "        const charts = await google.colab.kernel.invokeFunction(\n",
              "            'suggestCharts', [key], {});\n",
              "      } catch (error) {\n",
              "        console.error('Error during call to suggestCharts:', error);\n",
              "      }\n",
              "      quickchartButtonEl.classList.remove('colab-df-spinner');\n",
              "      quickchartButtonEl.classList.add('colab-df-quickchart-complete');\n",
              "    }\n",
              "    (() => {\n",
              "      let quickchartButtonEl =\n",
              "        document.querySelector('#df-f1dc42ac-1825-4d16-99c1-3048e2c394b4 button');\n",
              "      quickchartButtonEl.style.display =\n",
              "        google.colab.kernel.accessAllowed ? 'block' : 'none';\n",
              "    })();\n",
              "  </script>\n",
              "</div>\n",
              "\n",
              "    </div>\n",
              "  </div>\n"
            ],
            "application/vnd.google.colaboratory.intrinsic+json": {
              "type": "dataframe",
              "variable_name": "million_df"
            }
          },
          "metadata": {},
          "execution_count": 15
        }
      ],
      "source": [
        "#Display the DataFrame\n",
        "million_df.head()"
      ]
    },
    {
      "cell_type": "markdown",
      "metadata": {
        "id": "9S_jNkKaAWrq"
      },
      "source": [
        "## Data visualization"
      ]
    },
    {
      "cell_type": "markdown",
      "metadata": {
        "id": "F5XtkXjX_4U3"
      },
      "source": [
        "### Using stats.txt"
      ]
    },
    {
      "cell_type": "markdown",
      "metadata": {
        "id": "PZNl9TCX_zsR"
      },
      "source": [
        "Cosa dice stats.txt?"
      ]
    },
    {
      "cell_type": "code",
      "execution_count": 16,
      "metadata": {
        "id": "tsqZZWeJ_5EL",
        "colab": {
          "base_uri": "https://localhost:8080/"
        },
        "outputId": "551ee7c7-bfd7-4a2a-804b-f1275f6b5eea"
      },
      "outputs": [
        {
          "output_type": "stream",
          "name": "stdout",
          "text": [
            "\n",
            "number of playlists 1000000\n",
            "number of tracks 66346428\n",
            "number of unique tracks 2262292\n",
            "number of unique albums 734684\n",
            "number of unique artists 295860\n",
            "number of unique titles 92944\n",
            "number of playlists with descriptions 18760\n",
            "number of unique normalized titles 17381\n",
            "avg playlist length 66.346428\n",
            "\n",
            "top playlist titles\n",
            "  10000 country\n",
            "  10000 chill\n",
            "   8493 rap\n",
            "   8481 workout\n",
            "   8146 oldies\n",
            "   8015 christmas\n",
            "   6848 rock\n",
            "   6157 party\n",
            "   5883 throwback\n",
            "   5063 jams\n",
            "   5052 worship\n",
            "   4907 summer\n",
            "   4677 feels\n",
            "   4612 new\n",
            "   4186 disney\n",
            "   4124 lit\n",
            "   4030 throwbacks\n",
            "   3886 music\n",
            "   3513 sleep\n",
            "   3500 vibes\n",
            "\n",
            "top tracks\n",
            "  46574 HUMBLE. by Kendrick Lamar\n",
            "  43447 One Dance by Drake\n",
            "  41309 Broccoli (feat. Lil Yachty) by DRAM\n",
            "  41079 Closer by The Chainsmokers\n",
            "  39987 Congratulations by Post Malone\n",
            "  35202 Caroline by Aminé\n",
            "  35138 iSpy (feat. Lil Yachty) by KYLE\n",
            "  34999 Bad and Boujee (feat. Lil Uzi Vert) by Migos\n",
            "  34990 Location by Khalid\n",
            "  34922 XO TOUR Llif3 by Lil Uzi Vert\n",
            "  33699 Bounce Back by Big Sean\n",
            "  32391 Ignition - Remix by R. Kelly\n",
            "  32336 No Role Modelz by J. Cole\n",
            "  32059 Mask Off by Future\n",
            "  31492 No Problem (feat. Lil Wayne & 2 Chainz) by Chance The Rapper\n",
            "  31374 I'm the One by DJ Khaled\n",
            "  31119 Jumpman by Drake\n",
            "  31106 goosebumps by Travis Scott\n",
            "  30678 Fake Love by Drake\n",
            "  30485 Despacito - Remix by Luis Fonsi\n",
            "\n",
            "top artists\n",
            " 847160 Drake\n",
            " 413297 Kanye West\n",
            " 353624 Kendrick Lamar\n",
            " 339570 Rihanna\n",
            " 316603 The Weeknd\n",
            " 294667 Eminem\n",
            " 272116 Ed Sheeran\n",
            " 250734 Future\n",
            " 243119 Justin Bieber\n",
            " 241560 J. Cole\n",
            " 230857 Beyoncé\n",
            " 223509 The Chainsmokers\n",
            " 212772 Chris Brown\n",
            " 203047 Calvin Harris\n",
            " 198905 Twenty One Pilots\n",
            " 197855 Lil Uzi Vert\n",
            " 195907 Post Malone\n",
            " 192478 Big Sean\n",
            " 187029 Maroon 5\n",
            " 185520 JAY Z\n",
            "\n",
            "numedits histogram\n",
            "  92252 2\n",
            "  81820 3\n",
            "  71973 4\n",
            "  61978 5\n",
            "  53085 6\n",
            "  46860 7\n",
            "  41210 8\n",
            "  36629 9\n",
            "  32810 10\n",
            "  29907 11\n",
            "  26947 12\n",
            "  24941 13\n",
            "  22800 14\n",
            "  20834 15\n",
            "  19000 16\n",
            "  17817 17\n",
            "  16551 18\n",
            "  15305 19\n",
            "  14217 20\n",
            "  13486 21\n",
            "\n",
            "last modified histogram\n",
            "  19018 2017-10-30\n",
            "  15495 2017-10-29\n",
            "  11640 2017-10-26\n",
            "  11083 2017-10-28\n",
            "   9994 2017-10-27\n",
            "   9727 2017-10-25\n",
            "   9142 2017-10-24\n",
            "   8588 2017-10-23\n",
            "   7953 2017-10-22\n",
            "   6980 2017-10-19\n",
            "   6407 2017-10-21\n",
            "   5986 2017-10-18\n",
            "   5979 2017-10-20\n",
            "   5792 2017-10-17\n",
            "   5653 2017-10-16\n",
            "   5375 2017-10-15\n",
            "   4840 2017-10-12\n",
            "   4483 2017-10-14\n",
            "   4460 2017-10-11\n",
            "   4431 2017-10-13\n",
            "\n",
            "playlist length histogram\n",
            "  15057 20\n",
            "  14177 15\n",
            "  13876 21\n",
            "  13856 16\n",
            "  13685 17\n",
            "  13629 18\n",
            "  13602 22\n",
            "  13531 19\n",
            "  13250 24\n",
            "  13149 23\n",
            "  13077 30\n",
            "  13043 14\n",
            "  13031 25\n",
            "  12834 26\n",
            "  12513 28\n",
            "  12502 27\n",
            "  12332 29\n",
            "  12318 13\n",
            "  12016 12\n",
            "  11882 31\n",
            "\n",
            "num followers histogram\n",
            " 754219 1\n",
            " 149600 2\n",
            "  46939 3\n",
            "  19591 4\n",
            "   9813 5\n",
            "   5360 6\n",
            "   3305 7\n",
            "   2143 8\n",
            "   1512 9\n",
            "   1006 10\n",
            "    825 11\n",
            "    632 12\n",
            "    479 13\n",
            "    359 14\n",
            "    328 15\n",
            "    290 16\n",
            "    235 17\n",
            "    207 18\n",
            "    162 19\n",
            "    138 20\n",
            "\n"
          ]
        }
      ],
      "source": [
        "stats_path = os.path.join(path, 'stats.txt')\n",
        "with open(stats_path, 'r') as f:\n",
        "    stats = f.read()\n",
        "print(stats)\n",
        "del stats"
      ]
    },
    {
      "cell_type": "markdown",
      "metadata": {
        "id": "jMe20eTCCkps"
      },
      "source": [
        "Ottimo, ora cerchiamo di visualizzare queste informazioni"
      ]
    },
    {
      "cell_type": "code",
      "execution_count": 17,
      "metadata": {
        "id": "XnudZmh99k_C"
      },
      "outputs": [],
      "source": [
        "stats_lines = []\n",
        "with open(stats_path, 'r') as f:\n",
        "    stats_lines = f.readlines()"
      ]
    },
    {
      "cell_type": "markdown",
      "metadata": {
        "id": "weNV1ENPKt-Y"
      },
      "source": [
        "Definiamo una funzione che estrae dalle linee del file i dati che ci servono..."
      ]
    },
    {
      "cell_type": "code",
      "execution_count": 20,
      "metadata": {
        "id": "qZWmzbQTJujP",
        "colab": {
          "base_uri": "https://localhost:8080/"
        },
        "outputId": "0cc2f3cc-d352-40bf-bb18-aa4e56ba649f"
      },
      "outputs": [
        {
          "output_type": "stream",
          "name": "stdout",
          "text": [
            "[('2', 92252), ('3', 81820), ('4', 71973), ('5', 61978), ('6', 53085), ('7', 46860), ('8', 41210), ('9', 36629), ('10', 32810), ('11', 29907), ('12', 26947), ('13', 24941), ('14', 22800), ('15', 20834), ('16', 19000), ('17', 17817), ('18', 16551), ('19', 15305), ('20', 14217), ('21', 13486)]\n"
          ]
        }
      ],
      "source": [
        "def parse_histogram(stats_lines, start_marker, end_marker=None):\n",
        "    data = []\n",
        "    recording = False\n",
        "    for line in stats_lines:\n",
        "        if start_marker in line:\n",
        "            recording = True\n",
        "            continue\n",
        "        if end_marker and end_marker in line:\n",
        "            break\n",
        "        if recording:\n",
        "            parts = line.strip().split()\n",
        "            if len(parts) == 2:\n",
        "                count, value = int(parts[0]), parts[1]\n",
        "                data.append((value, count))\n",
        "            elif len(parts) == 3:  # per gestire i casi \"value value count\"\n",
        "                count = int(parts[-1])\n",
        "                value = \" \".join(parts[:-1])\n",
        "                data.append((value, count))\n",
        "    return data\n",
        "\n",
        "# estraiamo gli istogrammi\n",
        "numedits_histogram = parse_histogram(stats_lines, 'numedits histogram', 'last modified histogram')\n",
        "last_modified_histogram = parse_histogram(stats_lines, 'last modified histogram', 'playlist length histogram')\n",
        "playlist_length_histogram = parse_histogram(stats_lines, 'playlist length histogram', 'num followers histogram')\n",
        "num_followers_histogram = parse_histogram(stats_lines, 'num followers histogram')\n",
        "print(numedits_histogram)"
      ]
    },
    {
      "cell_type": "markdown",
      "metadata": {
        "id": "6seXLHgFK4Q4"
      },
      "source": [
        "... Per poi plottarli"
      ]
    },
    {
      "cell_type": "code",
      "execution_count": 21,
      "metadata": {
        "id": "QijB5Rcu5b0X",
        "colab": {
          "base_uri": "https://localhost:8080/",
          "height": 302
        },
        "outputId": "45b8b62b-ddc7-4a04-bb2c-a25557ac34f3"
      },
      "outputs": [
        {
          "output_type": "display_data",
          "data": {
            "text/plain": [
              "<Figure size 2000x500 with 4 Axes>"
            ],
            "image/png": "[encoded data removed]"
          },
          "metadata": {}
        }
      ],
      "source": [
        "def plot_histograms(histograms, titles, xlabels, ylabels, rotations):\n",
        "    fig, axes = plt.subplots(1, 4, figsize=(20, 5))\n",
        "    axes = axes.flatten()  # in caso avessimo shape diversi della grid dei plot\n",
        "\n",
        "    for i, ax in enumerate(axes):\n",
        "        if i < len(histograms):\n",
        "            data = histograms[i]\n",
        "            values, counts = zip(*data)\n",
        "            ax.bar(values, counts, align='center')\n",
        "            ax.set_title(titles[i])\n",
        "            ax.set_xlabel(xlabels[i])\n",
        "            ax.set_ylabel(ylabels[i])\n",
        "            ax.tick_params(axis='x', rotation=rotations[i])\n",
        "        else:\n",
        "            ax.axis('off')\n",
        "\n",
        "    plt.tight_layout()\n",
        "    plt.show()\n",
        "\n",
        "# dati utili per il plot\n",
        "histograms = [numedits_histogram, last_modified_histogram,\n",
        "              playlist_length_histogram, num_followers_histogram]\n",
        "titles = ['Number of Edits Histogram','Last Modified Histogram',\n",
        "          'Playlist Length Histogram','Number of Followers Histogram']\n",
        "xlabels = ['Number of Edits', 'Date', 'Playlist Length', 'Number of Followers']\n",
        "ylabels = ['Count', 'Count', 'Count', 'Count']\n",
        "rotations = [0, 45, 0, 45]\n",
        "\n",
        "plot_histograms(histograms, titles, xlabels, ylabels, rotations)"
      ]
    },
    {
      "cell_type": "markdown",
      "metadata": {
        "id": "VrOSX-vt_sB2"
      },
      "source": [
        "### Using the dataframe"
      ]
    },
    {
      "cell_type": "markdown",
      "metadata": {
        "id": "KPAJgZ9GmAAd"
      },
      "source": [
        "Vediamo di capire le caratterisiche e correlazioni del nostro dataframe"
      ]
    },
    {
      "cell_type": "code",
      "execution_count": 22,
      "metadata": {
        "id": "sdzljiUFmH4J",
        "colab": {
          "base_uri": "https://localhost:8080/",
          "height": 300
        },
        "outputId": "bdad84fe-244e-466c-e1ed-02c64fbe3bea"
      },
      "outputs": [
        {
          "output_type": "execute_result",
          "data": {
            "text/plain": [
              "                 pid     num_tracks     num_albums  num_followers  \\\n",
              "count  200000.000000  200000.000000  200000.000000   200000.00000   \n",
              "mean   530599.500000      66.403525      49.673405        2.83126   \n",
              "std    277709.108502      53.641619      39.963198      154.32283   \n",
              "min      4000.000000       5.000000       2.000000        1.00000   \n",
              "25%    294749.750000      26.000000      20.000000        1.00000   \n",
              "50%    552499.500000      49.000000      37.000000        1.00000   \n",
              "75%    755499.250000      92.000000      68.000000        1.00000   \n",
              "max    992999.000000     250.000000     244.000000    53519.00000   \n",
              "\n",
              "           num_edits   duration_ms    num_artists  collaborative  \n",
              "count  200000.000000  2.000000e+05  200000.000000  200000.000000  \n",
              "mean       17.677635  1.558773e+07      38.143555       0.022210  \n",
              "std        20.692542  1.281410e+07      30.281946       0.147366  \n",
              "min         1.000000  4.408010e+05       3.000000       0.000000  \n",
              "25%         5.000000  5.992788e+06      16.000000       0.000000  \n",
              "50%        10.000000  1.142258e+07      30.000000       0.000000  \n",
              "75%        22.000000  2.150100e+07      52.000000       0.000000  \n",
              "max       201.000000  1.543402e+08     234.000000       1.000000  "
            ],
            "text/html": [
              "\n",
              "  <div id=\"df-af4fada7-3fba-4e74-91a9-abf7f43acdfa\" class=\"colab-df-container\">\n",
              "    <div>\n",
              "<style scoped>\n",
              "    .dataframe tbody tr th:only-of-type {\n",
              "        vertical-align: middle;\n",
              "    }\n",
              "\n",
              "    .dataframe tbody tr th {\n",
              "        vertical-align: top;\n",
              "    }\n",
              "\n",
              "    .dataframe thead th {\n",
              "        text-align: right;\n",
              "    }\n",
              "</style>\n",
              "<table border=\"1\" class=\"dataframe\">\n",
              "  <thead>\n",
              "    <tr style=\"text-align: right;\">\n",
              "      <th></th>\n",
              "      <th>pid</th>\n",
              "      <th>num_tracks</th>\n",
              "      <th>num_albums</th>\n",
              "      <th>num_followers</th>\n",
              "      <th>num_edits</th>\n",
              "      <th>duration_ms</th>\n",
              "      <th>num_artists</th>\n",
              "      <th>collaborative</th>\n",
              "    </tr>\n",
              "  </thead>\n",
              "  <tbody>\n",
              "    <tr>\n",
              "      <th>count</th>\n",
              "      <td>200000.000000</td>\n",
              "      <td>200000.000000</td>\n",
              "      <td>200000.000000</td>\n",
              "      <td>200000.00000</td>\n",
              "      <td>200000.000000</td>\n",
              "      <td>2.000000e+05</td>\n",
              "      <td>200000.000000</td>\n",
              "      <td>200000.000000</td>\n",
              "    </tr>\n",
              "    <tr>\n",
              "      <th>mean</th>\n",
              "      <td>530599.500000</td>\n",
              "      <td>66.403525</td>\n",
              "      <td>49.673405</td>\n",
              "      <td>2.83126</td>\n",
              "      <td>17.677635</td>\n",
              "      <td>1.558773e+07</td>\n",
              "      <td>38.143555</td>\n",
              "      <td>0.022210</td>\n",
              "    </tr>\n",
              "    <tr>\n",
              "      <th>std</th>\n",
              "      <td>277709.108502</td>\n",
              "      <td>53.641619</td>\n",
              "      <td>39.963198</td>\n",
              "      <td>154.32283</td>\n",
              "      <td>20.692542</td>\n",
              "      <td>1.281410e+07</td>\n",
              "      <td>30.281946</td>\n",
              "      <td>0.147366</td>\n",
              "    </tr>\n",
              "    <tr>\n",
              "      <th>min</th>\n",
              "      <td>4000.000000</td>\n",
              "      <td>5.000000</td>\n",
              "      <td>2.000000</td>\n",
              "      <td>1.00000</td>\n",
              "      <td>1.000000</td>\n",
              "      <td>4.408010e+05</td>\n",
              "      <td>3.000000</td>\n",
              "      <td>0.000000</td>\n",
              "    </tr>\n",
              "    <tr>\n",
              "      <th>25%</th>\n",
              "      <td>294749.750000</td>\n",
              "      <td>26.000000</td>\n",
              "      <td>20.000000</td>\n",
              "      <td>1.00000</td>\n",
              "      <td>5.000000</td>\n",
              "      <td>5.992788e+06</td>\n",
              "      <td>16.000000</td>\n",
              "      <td>0.000000</td>\n",
              "    </tr>\n",
              "    <tr>\n",
              "      <th>50%</th>\n",
              "      <td>552499.500000</td>\n",
              "      <td>49.000000</td>\n",
              "      <td>37.000000</td>\n",
              "      <td>1.00000</td>\n",
              "      <td>10.000000</td>\n",
              "      <td>1.142258e+07</td>\n",
              "      <td>30.000000</td>\n",
              "      <td>0.000000</td>\n",
              "    </tr>\n",
              "    <tr>\n",
              "      <th>75%</th>\n",
              "      <td>755499.250000</td>\n",
              "      <td>92.000000</td>\n",
              "      <td>68.000000</td>\n",
              "      <td>1.00000</td>\n",
              "      <td>22.000000</td>\n",
              "      <td>2.150100e+07</td>\n",
              "      <td>52.000000</td>\n",
              "      <td>0.000000</td>\n",
              "    </tr>\n",
              "    <tr>\n",
              "      <th>max</th>\n",
              "      <td>992999.000000</td>\n",
              "      <td>250.000000</td>\n",
              "      <td>244.000000</td>\n",
              "      <td>53519.00000</td>\n",
              "      <td>201.000000</td>\n",
              "      <td>1.543402e+08</td>\n",
              "      <td>234.000000</td>\n",
              "      <td>1.000000</td>\n",
              "    </tr>\n",
              "  </tbody>\n",
              "</table>\n",
              "</div>\n",
              "    <div class=\"colab-df-buttons\">\n",
              "\n",
              "  <div class=\"colab-df-container\">\n",
              "    <button class=\"colab-df-convert\" onclick=\"convertToInteractive('df-af4fada7-3fba-4e74-91a9-abf7f43acdfa')\"\n",
              "            title=\"Convert this dataframe to an interactive table.\"\n",
              "            style=\"display:none;\">\n",
              "\n",
              "  <svg xmlns=\"http://www.w3.org/2000/svg\" height=\"24px\" viewBox=\"0 -960 960 960\">\n",
              "    <path d=\"M120-120v-720h720v720H120Zm60-500h600v-160H180v160Zm220 220h160v-160H400v160Zm0 220h160v-160H400v160ZM180-400h160v-160H180v160Zm440 0h160v-160H620v160ZM180-180h160v-160H180v160Zm440 0h160v-160H620v160Z\"/>\n",
              "  </svg>\n",
              "    </button>\n",
              "\n",
              "  <style>\n",
              "    .colab-df-container {\n",
              "      display:flex;\n",
              "      gap: 12px;\n",
              "    }\n",
              "\n",
              "    .colab-df-convert {\n",
              "      background-color: #E8F0FE;\n",
              "      border: none;\n",
              "      border-radius: 50%;\n",
              "      cursor: pointer;\n",
              "      display: none;\n",
              "      fill: #1967D2;\n",
              "      height: 32px;\n",
              "      padding: 0 0 0 0;\n",
              "      width: 32px;\n",
              "    }\n",
              "\n",
              "    .colab-df-convert:hover {\n",
              "      background-color: #E2EBFA;\n",
              "      box-shadow: 0px 1px 2px rgba(60, 64, 67, 0.3), 0px 1px 3px 1px rgba(60, 64, 67, 0.15);\n",
              "      fill: #174EA6;\n",
              "    }\n",
              "\n",
              "    .colab-df-buttons div {\n",
              "      margin-bottom: 4px;\n",
              "    }\n",
              "\n",
              "    [theme=dark] .colab-df-convert {\n",
              "      background-color: #3B4455;\n",
              "      fill: #D2E3FC;\n",
              "    }\n",
              "\n",
              "    [theme=dark] .colab-df-convert:hover {\n",
              "      background-color: #434B5C;\n",
              "      box-shadow: 0px 1px 3px 1px rgba(0, 0, 0, 0.15);\n",
              "      filter: drop-shadow(0px 1px 2px rgba(0, 0, 0, 0.3));\n",
              "      fill: #FFFFFF;\n",
              "    }\n",
              "  </style>\n",
              "\n",
              "    <script>\n",
              "      const buttonEl =\n",
              "        document.querySelector('#df-af4fada7-3fba-4e74-91a9-abf7f43acdfa button.colab-df-convert');\n",
              "      buttonEl.style.display =\n",
              "        google.colab.kernel.accessAllowed ? 'block' : 'none';\n",
              "\n",
              "      async function convertToInteractive(key) {\n",
              "        const element = document.querySelector('#df-af4fada7-3fba-4e74-91a9-abf7f43acdfa');\n",
              "        const dataTable =\n",
              "          await google.colab.kernel.invokeFunction('convertToInteractive',\n",
              "                                                    [key], {});\n",
              "        if (!dataTable) return;\n",
              "\n",
              "        const docLinkHtml = 'Like what you see? Visit the ' +\n",
              "          '<a target=\"_blank\" href=https://colab.research.google.com/notebooks/data_table.ipynb>data table notebook</a>'\n",
              "          + ' to learn more about interactive tables.';\n",
              "        element.innerHTML = '';\n",
              "        dataTable['output_type'] = 'display_data';\n",
              "        await google.colab.output.renderOutput(dataTable, element);\n",
              "        const docLink = document.createElement('div');\n",
              "        docLink.innerHTML = docLinkHtml;\n",
              "        element.appendChild(docLink);\n",
              "      }\n",
              "    </script>\n",
              "  </div>\n",
              "\n",
              "\n",
              "<div id=\"df-c6be0d79-de0f-4bc8-822f-741e6ec3d072\">\n",
              "  <button class=\"colab-df-quickchart\" onclick=\"quickchart('df-c6be0d79-de0f-4bc8-822f-741e6ec3d072')\"\n",
              "            title=\"Suggest charts\"\n",
              "            style=\"display:none;\">\n",
              "\n",
              "<svg xmlns=\"http://www.w3.org/2000/svg\" height=\"24px\"viewBox=\"0 0 24 24\"\n",
              "     width=\"24px\">\n",
              "    <g>\n",
              "        <path d=\"M19 3H5c-1.1 0-2 .9-2 2v14c0 1.1.9 2 2 2h14c1.1 0 2-.9 2-2V5c0-1.1-.9-2-2-2zM9 17H7v-7h2v7zm4 0h-2V7h2v10zm4 0h-2v-4h2v4z\"/>\n",
              "    </g>\n",
              "</svg>\n",
              "  </button>\n",
              "\n",
              "<style>\n",
              "  .colab-df-quickchart {\n",
              "      --bg-color: #E8F0FE;\n",
              "      --fill-color: #1967D2;\n",
              "      --hover-bg-color: #E2EBFA;\n",
              "      --hover-fill-color: #174EA6;\n",
              "      --disabled-fill-color: #AAA;\n",
              "      --disabled-bg-color: #DDD;\n",
              "  }\n",
              "\n",
              "  [theme=dark] .colab-df-quickchart {\n",
              "      --bg-color: #3B4455;\n",
              "      --fill-color: #D2E3FC;\n",
              "      --hover-bg-color: #434B5C;\n",
              "      --hover-fill-color: #FFFFFF;\n",
              "      --disabled-bg-color: #3B4455;\n",
              "      --disabled-fill-color: #666;\n",
              "  }\n",
              "\n",
              "  .colab-df-quickchart {\n",
              "    background-color: var(--bg-color);\n",
              "    border: none;\n",
              "    border-radius: 50%;\n",
              "    cursor: pointer;\n",
              "    display: none;\n",
              "    fill: var(--fill-color);\n",
              "    height: 32px;\n",
              "    padding: 0;\n",
              "    width: 32px;\n",
              "  }\n",
              "\n",
              "  .colab-df-quickchart:hover {\n",
              "    background-color: var(--hover-bg-color);\n",
              "    box-shadow: 0 1px 2px rgba(60, 64, 67, 0.3), 0 1px 3px 1px rgba(60, 64, 67, 0.15);\n",
              "    fill: var(--button-hover-fill-color);\n",
              "  }\n",
              "\n",
              "  .colab-df-quickchart-complete:disabled,\n",
              "  .colab-df-quickchart-complete:disabled:hover {\n",
              "    background-color: var(--disabled-bg-color);\n",
              "    fill: var(--disabled-fill-color);\n",
              "    box-shadow: none;\n",
              "  }\n",
              "\n",
              "  .colab-df-spinner {\n",
              "    border: 2px solid var(--fill-color);\n",
              "    border-color: transparent;\n",
              "    border-bottom-color: var(--fill-color);\n",
              "    animation:\n",
              "      spin 1s steps(1) infinite;\n",
              "  }\n",
              "\n",
              "  @keyframes spin {\n",
              "    0% {\n",
              "      border-color: transparent;\n",
              "      border-bottom-color: var(--fill-color);\n",
              "      border-left-color: var(--fill-color);\n",
              "    }\n",
              "    20% {\n",
              "      border-color: transparent;\n",
              "      border-left-color: var(--fill-color);\n",
              "      border-top-color: var(--fill-color);\n",
              "    }\n",
              "    30% {\n",
              "      border-color: transparent;\n",
              "      border-left-color: var(--fill-color);\n",
              "      border-top-color: var(--fill-color);\n",
              "      border-right-color: var(--fill-color);\n",
              "    }\n",
              "    40% {\n",
              "      border-color: transparent;\n",
              "      border-right-color: var(--fill-color);\n",
              "      border-top-color: var(--fill-color);\n",
              "    }\n",
              "    60% {\n",
              "      border-color: transparent;\n",
              "      border-right-color: var(--fill-color);\n",
              "    }\n",
              "    80% {\n",
              "      border-color: transparent;\n",
              "      border-right-color: var(--fill-color);\n",
              "      border-bottom-color: var(--fill-color);\n",
              "    }\n",
              "    90% {\n",
              "      border-color: transparent;\n",
              "      border-bottom-color: var(--fill-color);\n",
              "    }\n",
              "  }\n",
              "</style>\n",
              "\n",
              "  <script>\n",
              "    async function quickchart(key) {\n",
              "      const quickchartButtonEl =\n",
              "        document.querySelector('#' + key + ' button');\n",
              "      quickchartButtonEl.disabled = true;  // To prevent multiple clicks.\n",
              "      quickchartButtonEl.classList.add('colab-df-spinner');\n",
              "      try {\n",
              "        const charts = await google.colab.kernel.invokeFunction(\n",
              "            'suggestCharts', [key], {});\n",
              "      } catch (error) {\n",
              "        console.error('Error during call to suggestCharts:', error);\n",
              "      }\n",
              "      quickchartButtonEl.classList.remove('colab-df-spinner');\n",
              "      quickchartButtonEl.classList.add('colab-df-quickchart-complete');\n",
              "    }\n",
              "    (() => {\n",
              "      let quickchartButtonEl =\n",
              "        document.querySelector('#df-c6be0d79-de0f-4bc8-822f-741e6ec3d072 button');\n",
              "      quickchartButtonEl.style.display =\n",
              "        google.colab.kernel.accessAllowed ? 'block' : 'none';\n",
              "    })();\n",
              "  </script>\n",
              "</div>\n",
              "\n",
              "    </div>\n",
              "  </div>\n"
            ],
            "application/vnd.google.colaboratory.intrinsic+json": {
              "type": "dataframe",
              "summary": "{\n  \"name\": \"million_df\",\n  \"rows\": 8,\n  \"fields\": [\n    {\n      \"column\": \"pid\",\n      \"properties\": {\n        \"dtype\": \"number\",\n        \"std\": 320796.95658066013,\n        \"min\": 4000.0,\n        \"max\": 992999.0,\n        \"num_unique_values\": 8,\n        \"samples\": [\n          530599.5,\n          552499.5,\n          200000.0\n        ],\n        \"semantic_type\": \"\",\n        \"description\": \"\"\n      }\n    },\n    {\n      \"column\": \"num_tracks\",\n      \"properties\": {\n        \"dtype\": \"number\",\n        \"std\": 70683.34049936863,\n        \"min\": 5.0,\n        \"max\": 200000.0,\n        \"num_unique_values\": 8,\n        \"samples\": [\n          66.403525,\n          49.0,\n          200000.0\n        ],\n        \"semantic_type\": \"\",\n        \"description\": \"\"\n      }\n    },\n    {\n      \"column\": \"num_albums\",\n      \"properties\": {\n        \"dtype\": \"number\",\n        \"std\": 70687.45255811808,\n        \"min\": 2.0,\n        \"max\": 200000.0,\n        \"num_unique_values\": 8,\n        \"samples\": [\n          49.673405,\n          37.0,\n          200000.0\n        ],\n        \"semantic_type\": \"\",\n        \"description\": \"\"\n      }\n    },\n    {\n      \"column\": \"num_followers\",\n      \"properties\": {\n        \"dtype\": \"number\",\n        \"std\": 70528.72223038122,\n        \"min\": 1.0,\n        \"max\": 200000.0,\n        \"num_unique_values\": 5,\n        \"samples\": [\n          2.83126,\n          53519.0,\n          154.32283014658358\n        ],\n        \"semantic_type\": \"\",\n        \"description\": \"\"\n      }\n    },\n    {\n      \"column\": \"num_edits\",\n      \"properties\": {\n        \"dtype\": \"number\",\n        \"std\": 70696.69988867981,\n        \"min\": 1.0,\n        \"max\": 200000.0,\n        \"num_unique_values\": 8,\n        \"samples\": [\n          17.677635,\n          10.0,\n          200000.0\n        ],\n        \"semantic_type\": \"\",\n        \"description\": \"\"\n      }\n    },\n    {\n      \"column\": \"duration_ms\",\n      \"properties\": {\n        \"dtype\": \"number\",\n        \"std\": 51658046.534382924,\n        \"min\": 200000.0,\n        \"max\": 154340204.0,\n        \"num_unique_values\": 8,\n        \"samples\": [\n          15587726.391935,\n          11422580.5,\n          200000.0\n        ],\n        \"semantic_type\": \"\",\n        \"description\": \"\"\n      }\n    },\n    {\n      \"column\": \"num_artists\",\n      \"properties\": {\n        \"dtype\": \"number\",\n        \"std\": 70690.34019464752,\n        \"min\": 3.0,\n        \"max\": 200000.0,\n        \"num_unique_values\": 8,\n        \"samples\": [\n          38.143555,\n          30.0,\n          200000.0\n        ],\n        \"semantic_type\": \"\",\n        \"description\": \"\"\n      }\n    },\n    {\n      \"column\": \"collaborative\",\n      \"properties\": {\n        \"dtype\": \"number\",\n        \"std\": 70710.61904696649,\n        \"min\": 0.0,\n        \"max\": 200000.0,\n        \"num_unique_values\": 5,\n        \"samples\": [\n          0.02221,\n          1.0,\n          0.14736629358178446\n        ],\n        \"semantic_type\": \"\",\n        \"description\": \"\"\n      }\n    }\n  ]\n}"
            }
          },
          "metadata": {},
          "execution_count": 22
        }
      ],
      "source": [
        "million_df.describe()"
      ]
    },
    {
      "cell_type": "code",
      "execution_count": 23,
      "metadata": {
        "id": "Ve70kUu4ZY-s",
        "colab": {
          "base_uri": "https://localhost:8080/",
          "height": 293
        },
        "outputId": "54ac0269-ffdf-4ecd-e384-5db87e56fa60"
      },
      "outputs": [
        {
          "output_type": "execute_result",
          "data": {
            "text/plain": [
              "            name     pid  num_tracks  num_albums  num_followers  num_edits  \\\n",
              "0         hiphop  845000          22           6              1          2   \n",
              "1          heart  845001          55          44              1         17   \n",
              "2  Teenage Angst  845002          44          39              2         26   \n",
              "3   classic rock  845003         178         118              1         57   \n",
              "4      Christmas  845004          34          19              1          6   \n",
              "\n",
              "   duration_ms  num_artists  collaborative  \\\n",
              "0      4672623            5              0   \n",
              "1     13006155           35              0   \n",
              "2      9524626           33              0   \n",
              "3     50484002           73              0   \n",
              "4      5459773           14              0   \n",
              "\n",
              "                                              tracks  \n",
              "0  [{'track_name': 'What They Want', 'artist_name...  \n",
              "1  [{'track_name': 'Shooting Star', 'artist_name'...  \n",
              "2  [{'track_name': 'Take Me To Church', 'artist_n...  \n",
              "3  [{'track_name': 'Carry on Wayward Son', 'artis...  \n",
              "4  [{'track_name': 'Let It Snow! Let It Snow! Let...  "
            ],
            "text/html": [
              "\n",
              "  <div id=\"df-db7131e2-2dd2-4959-98ae-f311f1a0e278\" class=\"colab-df-container\">\n",
              "    <div>\n",
              "<style scoped>\n",
              "    .dataframe tbody tr th:only-of-type {\n",
              "        vertical-align: middle;\n",
              "    }\n",
              "\n",
              "    .dataframe tbody tr th {\n",
              "        vertical-align: top;\n",
              "    }\n",
              "\n",
              "    .dataframe thead th {\n",
              "        text-align: right;\n",
              "    }\n",
              "</style>\n",
              "<table border=\"1\" class=\"dataframe\">\n",
              "  <thead>\n",
              "    <tr style=\"text-align: right;\">\n",
              "      <th></th>\n",
              "      <th>name</th>\n",
              "      <th>pid</th>\n",
              "      <th>num_tracks</th>\n",
              "      <th>num_albums</th>\n",
              "      <th>num_followers</th>\n",
              "      <th>num_edits</th>\n",
              "      <th>duration_ms</th>\n",
              "      <th>num_artists</th>\n",
              "      <th>collaborative</th>\n",
              "      <th>tracks</th>\n",
              "    </tr>\n",
              "  </thead>\n",
              "  <tbody>\n",
              "    <tr>\n",
              "      <th>0</th>\n",
              "      <td>hiphop</td>\n",
              "      <td>845000</td>\n",
              "      <td>22</td>\n",
              "      <td>6</td>\n",
              "      <td>1</td>\n",
              "      <td>2</td>\n",
              "      <td>4672623</td>\n",
              "      <td>5</td>\n",
              "      <td>0</td>\n",
              "      <td>[{'track_name': 'What They Want', 'artist_name...</td>\n",
              "    </tr>\n",
              "    <tr>\n",
              "      <th>1</th>\n",
              "      <td>heart</td>\n",
              "      <td>845001</td>\n",
              "      <td>55</td>\n",
              "      <td>44</td>\n",
              "      <td>1</td>\n",
              "      <td>17</td>\n",
              "      <td>13006155</td>\n",
              "      <td>35</td>\n",
              "      <td>0</td>\n",
              "      <td>[{'track_name': 'Shooting Star', 'artist_name'...</td>\n",
              "    </tr>\n",
              "    <tr>\n",
              "      <th>2</th>\n",
              "      <td>Teenage Angst</td>\n",
              "      <td>845002</td>\n",
              "      <td>44</td>\n",
              "      <td>39</td>\n",
              "      <td>2</td>\n",
              "      <td>26</td>\n",
              "      <td>9524626</td>\n",
              "      <td>33</td>\n",
              "      <td>0</td>\n",
              "      <td>[{'track_name': 'Take Me To Church', 'artist_n...</td>\n",
              "    </tr>\n",
              "    <tr>\n",
              "      <th>3</th>\n",
              "      <td>classic rock</td>\n",
              "      <td>845003</td>\n",
              "      <td>178</td>\n",
              "      <td>118</td>\n",
              "      <td>1</td>\n",
              "      <td>57</td>\n",
              "      <td>50484002</td>\n",
              "      <td>73</td>\n",
              "      <td>0</td>\n",
              "      <td>[{'track_name': 'Carry on Wayward Son', 'artis...</td>\n",
              "    </tr>\n",
              "    <tr>\n",
              "      <th>4</th>\n",
              "      <td>Christmas</td>\n",
              "      <td>845004</td>\n",
              "      <td>34</td>\n",
              "      <td>19</td>\n",
              "      <td>1</td>\n",
              "      <td>6</td>\n",
              "      <td>5459773</td>\n",
              "      <td>14</td>\n",
              "      <td>0</td>\n",
              "      <td>[{'track_name': 'Let It Snow! Let It Snow! Let...</td>\n",
              "    </tr>\n",
              "  </tbody>\n",
              "</table>\n",
              "</div>\n",
              "    <div class=\"colab-df-buttons\">\n",
              "\n",
              "  <div class=\"colab-df-container\">\n",
              "    <button class=\"colab-df-convert\" onclick=\"convertToInteractive('df-db7131e2-2dd2-4959-98ae-f311f1a0e278')\"\n",
              "            title=\"Convert this dataframe to an interactive table.\"\n",
              "            style=\"display:none;\">\n",
              "\n",
              "  <svg xmlns=\"http://www.w3.org/2000/svg\" height=\"24px\" viewBox=\"0 -960 960 960\">\n",
              "    <path d=\"M120-120v-720h720v720H120Zm60-500h600v-160H180v160Zm220 220h160v-160H400v160Zm0 220h160v-160H400v160ZM180-400h160v-160H180v160Zm440 0h160v-160H620v160ZM180-180h160v-160H180v160Zm440 0h160v-160H620v160Z\"/>\n",
              "  </svg>\n",
              "    </button>\n",
              "\n",
              "  <style>\n",
              "    .colab-df-container {\n",
              "      display:flex;\n",
              "      gap: 12px;\n",
              "    }\n",
              "\n",
              "    .colab-df-convert {\n",
              "      background-color: #E8F0FE;\n",
              "      border: none;\n",
              "      border-radius: 50%;\n",
              "      cursor: pointer;\n",
              "      display: none;\n",
              "      fill: #1967D2;\n",
              "      height: 32px;\n",
              "      padding: 0 0 0 0;\n",
              "      width: 32px;\n",
              "    }\n",
              "\n",
              "    .colab-df-convert:hover {\n",
              "      background-color: #E2EBFA;\n",
              "      box-shadow: 0px 1px 2px rgba(60, 64, 67, 0.3), 0px 1px 3px 1px rgba(60, 64, 67, 0.15);\n",
              "      fill: #174EA6;\n",
              "    }\n",
              "\n",
              "    .colab-df-buttons div {\n",
              "      margin-bottom: 4px;\n",
              "    }\n",
              "\n",
              "    [theme=dark] .colab-df-convert {\n",
              "      background-color: #3B4455;\n",
              "      fill: #D2E3FC;\n",
              "    }\n",
              "\n",
              "    [theme=dark] .colab-df-convert:hover {\n",
              "      background-color: #434B5C;\n",
              "      box-shadow: 0px 1px 3px 1px rgba(0, 0, 0, 0.15);\n",
              "      filter: drop-shadow(0px 1px 2px rgba(0, 0, 0, 0.3));\n",
              "      fill: #FFFFFF;\n",
              "    }\n",
              "  </style>\n",
              "\n",
              "    <script>\n",
              "      const buttonEl =\n",
              "        document.querySelector('#df-db7131e2-2dd2-4959-98ae-f311f1a0e278 button.colab-df-convert');\n",
              "      buttonEl.style.display =\n",
              "        google.colab.kernel.accessAllowed ? 'block' : 'none';\n",
              "\n",
              "      async function convertToInteractive(key) {\n",
              "        const element = document.querySelector('#df-db7131e2-2dd2-4959-98ae-f311f1a0e278');\n",
              "        const dataTable =\n",
              "          await google.colab.kernel.invokeFunction('convertToInteractive',\n",
              "                                                    [key], {});\n",
              "        if (!dataTable) return;\n",
              "\n",
              "        const docLinkHtml = 'Like what you see? Visit the ' +\n",
              "          '<a target=\"_blank\" href=https://colab.research.google.com/notebooks/data_table.ipynb>data table notebook</a>'\n",
              "          + ' to learn more about interactive tables.';\n",
              "        element.innerHTML = '';\n",
              "        dataTable['output_type'] = 'display_data';\n",
              "        await google.colab.output.renderOutput(dataTable, element);\n",
              "        const docLink = document.createElement('div');\n",
              "        docLink.innerHTML = docLinkHtml;\n",
              "        element.appendChild(docLink);\n",
              "      }\n",
              "    </script>\n",
              "  </div>\n",
              "\n",
              "\n",
              "<div id=\"df-1fd4c623-d857-477d-859b-d3a3e1e78906\">\n",
              "  <button class=\"colab-df-quickchart\" onclick=\"quickchart('df-1fd4c623-d857-477d-859b-d3a3e1e78906')\"\n",
              "            title=\"Suggest charts\"\n",
              "            style=\"display:none;\">\n",
              "\n",
              "<svg xmlns=\"http://www.w3.org/2000/svg\" height=\"24px\"viewBox=\"0 0 24 24\"\n",
              "     width=\"24px\">\n",
              "    <g>\n",
              "        <path d=\"M19 3H5c-1.1 0-2 .9-2 2v14c0 1.1.9 2 2 2h14c1.1 0 2-.9 2-2V5c0-1.1-.9-2-2-2zM9 17H7v-7h2v7zm4 0h-2V7h2v10zm4 0h-2v-4h2v4z\"/>\n",
              "    </g>\n",
              "</svg>\n",
              "  </button>\n",
              "\n",
              "<style>\n",
              "  .colab-df-quickchart {\n",
              "      --bg-color: #E8F0FE;\n",
              "      --fill-color: #1967D2;\n",
              "      --hover-bg-color: #E2EBFA;\n",
              "      --hover-fill-color: #174EA6;\n",
              "      --disabled-fill-color: #AAA;\n",
              "      --disabled-bg-color: #DDD;\n",
              "  }\n",
              "\n",
              "  [theme=dark] .colab-df-quickchart {\n",
              "      --bg-color: #3B4455;\n",
              "      --fill-color: #D2E3FC;\n",
              "      --hover-bg-color: #434B5C;\n",
              "      --hover-fill-color: #FFFFFF;\n",
              "      --disabled-bg-color: #3B4455;\n",
              "      --disabled-fill-color: #666;\n",
              "  }\n",
              "\n",
              "  .colab-df-quickchart {\n",
              "    background-color: var(--bg-color);\n",
              "    border: none;\n",
              "    border-radius: 50%;\n",
              "    cursor: pointer;\n",
              "    display: none;\n",
              "    fill: var(--fill-color);\n",
              "    height: 32px;\n",
              "    padding: 0;\n",
              "    width: 32px;\n",
              "  }\n",
              "\n",
              "  .colab-df-quickchart:hover {\n",
              "    background-color: var(--hover-bg-color);\n",
              "    box-shadow: 0 1px 2px rgba(60, 64, 67, 0.3), 0 1px 3px 1px rgba(60, 64, 67, 0.15);\n",
              "    fill: var(--button-hover-fill-color);\n",
              "  }\n",
              "\n",
              "  .colab-df-quickchart-complete:disabled,\n",
              "  .colab-df-quickchart-complete:disabled:hover {\n",
              "    background-color: var(--disabled-bg-color);\n",
              "    fill: var(--disabled-fill-color);\n",
              "    box-shadow: none;\n",
              "  }\n",
              "\n",
              "  .colab-df-spinner {\n",
              "    border: 2px solid var(--fill-color);\n",
              "    border-color: transparent;\n",
              "    border-bottom-color: var(--fill-color);\n",
              "    animation:\n",
              "      spin 1s steps(1) infinite;\n",
              "  }\n",
              "\n",
              "  @keyframes spin {\n",
              "    0% {\n",
              "      border-color: transparent;\n",
              "      border-bottom-color: var(--fill-color);\n",
              "      border-left-color: var(--fill-color);\n",
              "    }\n",
              "    20% {\n",
              "      border-color: transparent;\n",
              "      border-left-color: var(--fill-color);\n",
              "      border-top-color: var(--fill-color);\n",
              "    }\n",
              "    30% {\n",
              "      border-color: transparent;\n",
              "      border-left-color: var(--fill-color);\n",
              "      border-top-color: var(--fill-color);\n",
              "      border-right-color: var(--fill-color);\n",
              "    }\n",
              "    40% {\n",
              "      border-color: transparent;\n",
              "      border-right-color: var(--fill-color);\n",
              "      border-top-color: var(--fill-color);\n",
              "    }\n",
              "    60% {\n",
              "      border-color: transparent;\n",
              "      border-right-color: var(--fill-color);\n",
              "    }\n",
              "    80% {\n",
              "      border-color: transparent;\n",
              "      border-right-color: var(--fill-color);\n",
              "      border-bottom-color: var(--fill-color);\n",
              "    }\n",
              "    90% {\n",
              "      border-color: transparent;\n",
              "      border-bottom-color: var(--fill-color);\n",
              "    }\n",
              "  }\n",
              "</style>\n",
              "\n",
              "  <script>\n",
              "    async function quickchart(key) {\n",
              "      const quickchartButtonEl =\n",
              "        document.querySelector('#' + key + ' button');\n",
              "      quickchartButtonEl.disabled = true;  // To prevent multiple clicks.\n",
              "      quickchartButtonEl.classList.add('colab-df-spinner');\n",
              "      try {\n",
              "        const charts = await google.colab.kernel.invokeFunction(\n",
              "            'suggestCharts', [key], {});\n",
              "      } catch (error) {\n",
              "        console.error('Error during call to suggestCharts:', error);\n",
              "      }\n",
              "      quickchartButtonEl.classList.remove('colab-df-spinner');\n",
              "      quickchartButtonEl.classList.add('colab-df-quickchart-complete');\n",
              "    }\n",
              "    (() => {\n",
              "      let quickchartButtonEl =\n",
              "        document.querySelector('#df-1fd4c623-d857-477d-859b-d3a3e1e78906 button');\n",
              "      quickchartButtonEl.style.display =\n",
              "        google.colab.kernel.accessAllowed ? 'block' : 'none';\n",
              "    })();\n",
              "  </script>\n",
              "</div>\n",
              "\n",
              "    </div>\n",
              "  </div>\n"
            ],
            "application/vnd.google.colaboratory.intrinsic+json": {
              "type": "dataframe",
              "variable_name": "million_df"
            }
          },
          "metadata": {},
          "execution_count": 23
        }
      ],
      "source": [
        "#Display the DataFrame\n",
        "million_df.head()"
      ]
    },
    {
      "cell_type": "markdown",
      "metadata": {
        "id": "7D7EiQ3PmbXn"
      },
      "source": [
        "Utiliziamo quindi la matrice di correlazione per cercare di estrarre qualche info sulle feature delle playlist, ma prima dobbiamo eliminare colonne non numeriche (e la colonna pid)"
      ]
    },
    {
      "cell_type": "code",
      "execution_count": 24,
      "metadata": {
        "id": "1g02S1IYnWyW"
      },
      "outputs": [],
      "source": [
        "df_num = million_df.drop(columns=['name','pid','tracks'])"
      ]
    },
    {
      "cell_type": "code",
      "execution_count": 25,
      "metadata": {
        "id": "XHWGq_9ymjjD",
        "colab": {
          "base_uri": "https://localhost:8080/",
          "height": 539
        },
        "outputId": "070fddb6-3dd3-46a9-ecd7-883033f28030"
      },
      "outputs": [
        {
          "output_type": "display_data",
          "data": {
            "text/plain": [
              "<Figure size 640x480 with 2 Axes>"
            ],
            "image/png": "[encoded data removed]"
          },
          "metadata": {}
        }
      ],
      "source": [
        "# Correlation heatmap\n",
        "# Correlation matrix to show relationships between features\n",
        "sns.heatmap(df_num.corr(), annot=True, cmap='coolwarm')\n",
        "plt.title(\"Feature Correlation Heatmap\")\n",
        "plt.show()"
      ]
    },
    {
      "cell_type": "markdown",
      "source": [
        "Non ci stupisce che la durata della playlist `duration_ms`\n",
        "è molto correlata con il numero di tracce `num_tracks` cosi come con il numero di album `num_albums` e di artisti `num_artists`.\n",
        "\n",
        "Naturalmente il numero di artisti `num_artists` è altamente correlato al numero di album, ma notiamo una leggera correlazione con il numero di modifiche applicate alla playlist `num_edits`. Questa leggera correlazione con il numero di modifiche si puo trovare anche in tutte le feature sopra nominate.\n",
        "\n",
        "Infine possiamo notare come le feature `num_followers` e `collaborative` sono quasi completamente scorrelate da tutte le altre feature."
      ],
      "metadata": {
        "id": "zZ4B8MMYClNs"
      }
    },
    {
      "cell_type": "code",
      "execution_count": 26,
      "metadata": {
        "id": "nFJ5mREGo6Dc"
      },
      "outputs": [],
      "source": [
        "del df_num"
      ]
    },
    {
      "cell_type": "markdown",
      "source": [
        "Una volta visualizzati i dati in questa maniera, costruiamo una struttura diversa: ogni riga è una coppia `(p_id, track_uri)` tale che la playlist identificata con `pid` contiene la traccia identificata con `track_uri`"
      ],
      "metadata": {
        "id": "CThAynZMHC7M"
      }
    },
    {
      "cell_type": "code",
      "source": [],
      "metadata": {
        "id": "ybh_Er_rJ_c5"
      },
      "execution_count": null,
      "outputs": []
    }
  ],
  "metadata": {
    "colab": {
      "provenance": []
    },
    "kernelspec": {
      "display_name": "Python 3",
      "name": "python3"
    },
    "language_info": {
      "name": "python"
    }
  },
  "nbformat": 4,
  "nbformat_minor": 0
}